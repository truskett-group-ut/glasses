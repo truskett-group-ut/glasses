{
 "cells": [
  {
   "cell_type": "markdown",
   "metadata": {},
   "source": [
    "## Prepare the volume fraction points to visit"
   ]
  },
  {
   "cell_type": "markdown",
   "metadata": {},
   "source": [
    "### Free energy and probability for acceptance"
   ]
  },
  {
   "cell_type": "code",
   "execution_count": 665,
   "metadata": {
    "collapsed": true
   },
   "outputs": [],
   "source": [
    "from numpy import log, array, exp"
   ]
  },
  {
   "cell_type": "code",
   "execution_count": 1717,
   "metadata": {
    "collapsed": true
   },
   "outputs": [],
   "source": [
    "def FreeEnergyCS(eta, s1, s2, s3, N):\n",
    "    e0 = eta/s3\n",
    "    e1 = eta*s1/s3\n",
    "    e2 = eta*s2/s3\n",
    "    e3 = eta*s3/s3\n",
    "    F = ((e2**3.0)/(e0*e3**2.0) - 1.0)*log(1.0 - e3) + (3.0*e1*e2)/(e0*(1.0 - e3)) + (e2**3.0)/(e0*e3*(1.0 - e3)**2.0)\n",
    "    return N*F"
   ]
  },
  {
   "cell_type": "code",
   "execution_count": 1718,
   "metadata": {
    "collapsed": true
   },
   "outputs": [],
   "source": [
    "def ProbCS(eta_cur, eta_new, s1, s2, s3, N):\n",
    "    return exp(FreeEnergyCS(eta_cur, s1, s2, s3, N) - FreeEnergyCS(eta_new, s1, s2, s3, N))"
   ]
  },
  {
   "cell_type": "code",
   "execution_count": 1180,
   "metadata": {
    "collapsed": true
   },
   "outputs": [],
   "source": [
    "ds = array([1.0, 1.4])\n",
    "n = len(ds)\n",
    "s1 = sum(ds)/n\n",
    "s2 = sum(ds**2.0)/n\n",
    "s3 = sum(ds**3.0)/n"
   ]
  },
  {
   "cell_type": "code",
   "execution_count": 1197,
   "metadata": {
    "collapsed": false
   },
   "outputs": [
    {
     "data": {
      "text/plain": [
       "7.3956773345473241"
      ]
     },
     "execution_count": 1197,
     "metadata": {},
     "output_type": "execute_result"
    }
   ],
   "source": [
    "ds = array(ds)\n",
    "n = len(ds)\n",
    "s1 = sum(ds)/n\n",
    "s2 = sum(ds**2.0)/n\n",
    "s3 = sum(ds**3.0)/n\n",
    "FreeEnergyCS(0.6, s1, s2, s3, 1)"
   ]
  },
  {
   "cell_type": "code",
   "execution_count": 1189,
   "metadata": {
    "collapsed": false
   },
   "outputs": [
    {
     "data": {
      "text/plain": [
       "7.8068940549506873"
      ]
     },
     "execution_count": 1189,
     "metadata": {},
     "output_type": "execute_result"
    }
   ],
   "source": [
    "FreeEnergyCS(0.6, s1, s2, s3, 1)"
   ]
  },
  {
   "cell_type": "code",
   "execution_count": 670,
   "metadata": {
    "collapsed": false
   },
   "outputs": [
    {
     "data": {
      "text/plain": [
       "0.041132312963699652"
      ]
     },
     "execution_count": 670,
     "metadata": {},
     "output_type": "execute_result"
    }
   ],
   "source": [
    "ProbCS(0.56, 0.561, s1, s2, s3, 100)"
   ]
  },
  {
   "cell_type": "code",
   "execution_count": 1177,
   "metadata": {
    "collapsed": false
   },
   "outputs": [
    {
     "data": {
      "text/plain": [
       "0.99470903971500224"
      ]
     },
     "execution_count": 1177,
     "metadata": {},
     "output_type": "execute_result"
    }
   ],
   "source": [
    "FreeEnergyCS(0.580241, s1, s2, s3, 1) - FreeEnergyCS(0.55, s1, s2, s3, 1) "
   ]
  },
  {
   "cell_type": "markdown",
   "metadata": {},
   "source": [
    "### Solve for the volume fractions"
   ]
  },
  {
   "cell_type": "code",
   "execution_count": 836,
   "metadata": {
    "collapsed": true
   },
   "outputs": [],
   "source": [
    "from scipy.optimize import fsolve, newton_krylov"
   ]
  },
  {
   "cell_type": "code",
   "execution_count": 835,
   "metadata": {
    "collapsed": true
   },
   "outputs": [],
   "source": [
    "N = 128\n",
    "ds = array([1.0, 1.4])\n",
    "n = len(ds)\n",
    "s1 = sum(ds)/n\n",
    "s2 = sum(ds**2.0)/n\n",
    "s3 = sum(ds**3.0)/n"
   ]
  },
  {
   "cell_type": "code",
   "execution_count": 800,
   "metadata": {
    "collapsed": false
   },
   "outputs": [],
   "source": [
    "desired_acceptance = 0.20\n",
    "eta_current = 0.48\n",
    "etas = [eta_current]\n",
    "accuracy = []\n",
    "while eta_current < 0.65:\n",
    "    func = lambda eta_0: ProbCS(eta_current, eta_0, s1, s2, s3, N) - desired_acceptance\n",
    "    eta_new = newton_krylov(func, eta_current, method='lgmres')\n",
    "    accuracy.append(eta_new-eta_current)\n",
    "    if abs(ProbCS(eta_current, eta_new, s1, s2, s3, N) - desired_acceptance) < 0.0000001:\n",
    "        etas.append(float(eta_new))\n",
    "        eta_current = float(eta_new)\n",
    "    else:\n",
    "        raise ValueError('Solver did not find sufficient solution for neighboring volume fractions')\n",
    "etas = array(etas)\n",
    "num_etas = len(etas)"
   ]
  },
  {
   "cell_type": "code",
   "execution_count": 801,
   "metadata": {
    "collapsed": false
   },
   "outputs": [
    {
     "data": {
      "text/plain": [
       "475"
      ]
     },
     "execution_count": 801,
     "metadata": {},
     "output_type": "execute_result"
    }
   ],
   "source": [
    "num_etas"
   ]
  },
  {
   "cell_type": "code",
   "execution_count": null,
   "metadata": {
    "collapsed": true
   },
   "outputs": [],
   "source": []
  },
  {
   "cell_type": "markdown",
   "metadata": {},
   "source": [
    "### Write out the volume fractions "
   ]
  },
  {
   "cell_type": "code",
   "execution_count": 837,
   "metadata": {
    "collapsed": true
   },
   "outputs": [],
   "source": [
    "etas_file = open('extended_states.txt', 'w')\n",
    "etas_file.write(('acceptance = %f\\n' % desired_acceptance))\n",
    "etas_string = 'etas = (%s' % etas[0]\n",
    "for eta in etas[1:]:\n",
    "    etas_string = etas_string + ',' + str(eta)\n",
    "etas_string = etas_string + ')'\n",
    "etas_file.write(etas_string)"
   ]
  },
  {
   "cell_type": "code",
   "execution_count": 838,
   "metadata": {
    "collapsed": false
   },
   "outputs": [
    {
     "data": {
      "text/plain": [
       "0.61160917114449909"
      ]
     },
     "execution_count": 838,
     "metadata": {},
     "output_type": "execute_result"
    }
   ],
   "source": [
    "max(trajectory)"
   ]
  },
  {
   "cell_type": "markdown",
   "metadata": {
    "collapsed": true
   },
   "source": [
    "### Analyze the results "
   ]
  },
  {
   "cell_type": "code",
   "execution_count": 40,
   "metadata": {
    "collapsed": true
   },
   "outputs": [],
   "source": [
    "import re"
   ]
  },
  {
   "cell_type": "code",
   "execution_count": 1229,
   "metadata": {
    "collapsed": false
   },
   "outputs": [],
   "source": [
    "hist = 0.0*etas\n",
    "trajectory = []\n",
    "\n",
    "for i in range(68, 136):\n",
    "    filename = 'C:/Users/rbj428/Documents/research_projects/poly_hs_sim/poly_phase_trans/bin_%i/production__eta_stats.dat' % i\n",
    "    eta_stats = open(filename, 'r')\n",
    "    for line in eta_stats:\n",
    "        try:\n",
    "            bin_num = int(re.search(r'[^,]+,([0-9]+),[^,]+,[^,]+', line).group(1))\n",
    "            hist[bin_num] = hist[bin_num] + 1\n",
    "            trajectory.append(etas[bin_num])\n",
    "        except:\n",
    "            print line\n",
    "            break\n",
    "hist_s = Smoother(hist, half_window = 6)\n",
    "hist_s = hist_s/sum(hist_s)\n",
    "hist = hist/sum(hist)\n",
    "eta_stats.close()"
   ]
  },
  {
   "cell_type": "code",
   "execution_count": 822,
   "metadata": {
    "collapsed": true
   },
   "outputs": [],
   "source": [
    "hist = 0.0*etas\n",
    "trajectory = []\n",
    "\n",
    "for i in range(68):\n",
    "    filename = 'C:/Users/rbj428/Documents/research_projects/binary_hs_sim/trial_2_w_swap_eased/bin_%i/production__eta_stats.dat' % i\n",
    "    eta_stats = open(filename, 'r')\n",
    "    for line in eta_stats:\n",
    "        try:\n",
    "            bin_num = int(re.search(r'[^,]+,([0-9]+),[^,]+,[^,]+', line).group(1))\n",
    "            hist[bin_num] = hist[bin_num] + 1\n",
    "            trajectory.append(etas[bin_num])\n",
    "        except:\n",
    "            print line\n",
    "            break\n",
    "hist_s = Smoother(hist, half_window = 6)\n",
    "hist_s = hist_s/sum(hist_s)\n",
    "hist = hist/sum(hist)\n",
    "eta_stats.close()"
   ]
  },
  {
   "cell_type": "code",
   "execution_count": 602,
   "metadata": {
    "collapsed": true
   },
   "outputs": [],
   "source": [
    "hist = 0.0*etas\n",
    "trajectory = []\n",
    "\n",
    "for i in range(68):\n",
    "    filename = 'C:/Users/rbj428/Documents/research_projects/mono_hs_sim/mono_%i/production__eta_stats.dat' % i\n",
    "    eta_stats = open(filename, 'r')\n",
    "    for line in eta_stats:\n",
    "        try:\n",
    "            bin_num = int(re.search(r'[^,]+,([0-9]+),[^,]+,[^,]+', line).group(1))\n",
    "            hist[bin_num] = hist[bin_num] + 1\n",
    "            trajectory.append(etas[bin_num])\n",
    "        except:\n",
    "            print line\n",
    "            break\n",
    "hist_s = Smoother(hist, half_window = 6)\n",
    "hist_s = hist_s/sum(hist_s)\n",
    "hist = hist/sum(hist)\n",
    "eta_stats.close()"
   ]
  },
  {
   "cell_type": "code",
   "execution_count": 658,
   "metadata": {
    "collapsed": true
   },
   "outputs": [],
   "source": [
    "hist = 0.0*etas\n",
    "trajectory = []\n",
    "\n",
    "for i in range(68, 136):\n",
    "    filename = 'C:/Users/rbj428/Documents/research_projects/poly_hs_sim/poly_2_wo_swap/bin_%i/production__eta_stats.dat' % i\n",
    "    eta_stats = open(filename, 'r')\n",
    "    for line in eta_stats:\n",
    "        try:\n",
    "            bin_num = int(re.search(r'[^,]+,([0-9]+),[^,]+,[^,]+', line).group(1))\n",
    "            hist[bin_num] = hist[bin_num] + 1\n",
    "            trajectory.append(etas[bin_num])\n",
    "        except:\n",
    "            print line\n",
    "            break\n",
    "hist_s = Smoother(hist, half_window = 6)\n",
    "hist_s = hist_s/sum(hist_s)\n",
    "hist = hist/sum(hist)\n",
    "eta_stats.close()"
   ]
  },
  {
   "cell_type": "code",
   "execution_count": 654,
   "metadata": {
    "collapsed": true
   },
   "outputs": [],
   "source": [
    "hist = 0.0*etas\n",
    "trajectory = []\n",
    "\n",
    "for i in range(68):\n",
    "    filename = 'C:/Users/rbj428/Documents/research_projects/poly_hs_sim/poly_2/bin_%i/production__eta_stats.dat' % i\n",
    "    eta_stats = open(filename, 'r')\n",
    "    for line in eta_stats:\n",
    "        try:\n",
    "            bin_num = int(re.search(r'[^,]+,([0-9]+),[^,]+,[^,]+', line).group(1))\n",
    "            hist[bin_num] = hist[bin_num] + 1\n",
    "            trajectory.append(etas[bin_num])\n",
    "        except:\n",
    "            print line\n",
    "            break\n",
    "hist_s = Smoother(hist, half_window = 6)\n",
    "hist_s = hist_s/sum(hist_s)\n",
    "hist = hist/sum(hist)\n",
    "eta_stats.close()"
   ]
  },
  {
   "cell_type": "code",
   "execution_count": 209,
   "metadata": {
    "collapsed": false
   },
   "outputs": [],
   "source": [
    "hist = 0.0*etas\n",
    "trajectory = []\n",
    "\n",
    "for i in range(68):\n",
    "    filename = 'C:/Users/rbj428/Documents/research_projects/poly_hs_sim/poly/bin_%i/production__eta_stats.dat' % i\n",
    "    eta_stats = open(filename, 'r')\n",
    "    for line in eta_stats:\n",
    "        try:\n",
    "            bin_num = int(re.search(r'[^,]+,([0-9]+),[^,]+,[^,]+', line).group(1))\n",
    "            hist[bin_num] = hist[bin_num] + 1\n",
    "            trajectory.append(etas[bin_num])\n",
    "        except:\n",
    "            print line\n",
    "            break\n",
    "hist_s = Smoother(hist, half_window = 6)\n",
    "hist_s = hist_s/sum(hist_s)\n",
    "hist = hist/sum(hist)\n",
    "eta_stats.close()"
   ]
  },
  {
   "cell_type": "code",
   "execution_count": 678,
   "metadata": {
    "collapsed": false
   },
   "outputs": [],
   "source": [
    "hist = 0.0*etas\n",
    "trajectory = []\n",
    "\n",
    "for i in range(68):\n",
    "    filename = 'C:/Users/rbj428/Documents/research_projects/binary_hs_sim/trial_1/bin_%i/production__eta_stats.dat' % i\n",
    "    eta_stats = open(filename, 'r')\n",
    "    for line in eta_stats:\n",
    "        try:\n",
    "            bin_num = int(re.search(r'[^,]+,([0-9]+),[^,]+,[^,]+', line).group(1))\n",
    "            hist[bin_num] = hist[bin_num] + 1\n",
    "            trajectory.append(etas[bin_num])\n",
    "        except:\n",
    "            print line\n",
    "            break\n",
    "hist_s = Smoother(hist, half_window = 6)\n",
    "hist_s = hist_s/sum(hist_s)\n",
    "hist = hist/sum(hist)\n",
    "eta_stats.close()"
   ]
  },
  {
   "cell_type": "code",
   "execution_count": 530,
   "metadata": {
    "collapsed": false
   },
   "outputs": [],
   "source": [
    "hist = 0.0*etas\n",
    "trajectory = []\n",
    "trajectory_raw = []\n",
    "\n",
    "for i in range(68):\n",
    "    filename = 'C:/Users/rbj428/Documents/research_projects/binary_hs_sim/trial_2_swap/bin_%i/production__eta_stats.dat' % i\n",
    "    eta_stats = open(filename, 'r')\n",
    "    for line in eta_stats:\n",
    "        try:\n",
    "            search_data = re.search(r'[^,]+,([0-9]+),([0-9\\.]+),[^,]+', line)\n",
    "            bin_num = int(search_data.group(1))\n",
    "            \n",
    "            #int(re.search(r'[^,]+,([0-9]+),[^,]+,[^,]+', line).group(1))\n",
    "            hist[bin_num] = hist[bin_num] + 1\n",
    "            trajectory.append(etas[bin_num])\n",
    "            trajectory_raw.append(float(search_data.group(2)))\n",
    "        except:\n",
    "            print line\n",
    "            break\n",
    "hist_s = Smoother(hist, half_window = 6)\n",
    "hist_s = hist_s/sum(hist_s)\n",
    "hist = hist/sum(hist)\n",
    "eta_stats.close()"
   ]
  },
  {
   "cell_type": "code",
   "execution_count": 408,
   "metadata": {
    "collapsed": true
   },
   "outputs": [],
   "source": [
    "hist = 0.0*etas\n",
    "trajectory = []\n",
    "trajectory_raw = []\n",
    "\n",
    "for i in range(68):\n",
    "    filename = 'C:/Users/rbj428/Documents/research_projects/binary_hs_sim/trial_3/bin_%i/production__eta_stats.dat' % i\n",
    "    eta_stats = open(filename, 'r')\n",
    "    for line in eta_stats:\n",
    "        try:\n",
    "            search_data = re.search(r'[^,]+,([0-9]+),([0-9\\.]+),[^,]+', line)\n",
    "            bin_num = int(search_data.group(1))\n",
    "            \n",
    "            #int(re.search(r'[^,]+,([0-9]+),[^,]+,[^,]+', line).group(1))\n",
    "            hist[bin_num] = hist[bin_num] + 1\n",
    "            trajectory.append(etas[bin_num])\n",
    "            trajectory_raw.append(float(search_data.group(2)))\n",
    "        except:\n",
    "            print line\n",
    "            break\n",
    "hist_s = Smoother(hist, half_window = 6)\n",
    "hist_s = hist_s/sum(hist_s)\n",
    "hist = hist/sum(hist)\n",
    "eta_stats.close()"
   ]
  },
  {
   "cell_type": "code",
   "execution_count": 87,
   "metadata": {
    "collapsed": true
   },
   "outputs": [],
   "source": [
    "def Smoother(hist, half_window = 4):\n",
    "    hist = array(hist)\n",
    "    hist_s = 0.0*hist\n",
    "    for i in range(half_window, len(hist)-half_window):\n",
    "        hist_s[i] = sum(hist[i-half_window:i+half_window])/float(2*half_window+1)\n",
    "    hist_s[:half_window] = hist_s[:half_window] + hist_s[half_window]\n",
    "    return hist_s"
   ]
  },
  {
   "cell_type": "code",
   "execution_count": 88,
   "metadata": {
    "collapsed": false
   },
   "outputs": [],
   "source": [
    "import matplotlib.pyplot as plt\n",
    "from numpy import arange\n",
    "%matplotlib inline"
   ]
  },
  {
   "cell_type": "code",
   "execution_count": 89,
   "metadata": {
    "collapsed": true
   },
   "outputs": [],
   "source": [
    "from numpy import array, log"
   ]
  },
  {
   "cell_type": "markdown",
   "metadata": {},
   "source": [
    "### Free energy corrections"
   ]
  },
  {
   "cell_type": "code",
   "execution_count": 1231,
   "metadata": {
    "collapsed": false
   },
   "outputs": [],
   "source": [
    "df = -log(array(hist)/hist[0])/float(N)\n",
    "#df_s = -log(array(hist_s)/hist_s[0])/float(N)  #used this for step 2 update\n",
    "df_s = Smoother(df, half_window=8) #used this for step 3 update"
   ]
  },
  {
   "cell_type": "code",
   "execution_count": 1237,
   "metadata": {
    "collapsed": false
   },
   "outputs": [
    {
     "name": "stderr",
     "output_type": "stream",
     "text": [
      "C:\\Users\\rbj428\\AppData\\Local\\Continuum\\Anaconda2_3\\lib\\site-packages\\ipykernel\\__main__.py:15: MatplotlibDeprecationWarning: The set_axis_bgcolor function was deprecated in version 2.0. Use set_facecolor instead.\n"
     ]
    },
    {
     "data": {
      "image/png": "[encoded data removed]",
      "text/plain": [
       "<matplotlib.figure.Figure at 0x27e36da0>"
      ]
     },
     "metadata": {},
     "output_type": "display_data"
    }
   ],
   "source": [
    "#things to plot\n",
    "#plt.plot(etas, df, c=\"b\", linestyle = '-', linewidth = 1, marker='o')\n",
    "#plt.plot(etas, df_s, c=\"r\", linestyle = '-', linewidth = 1, marker='o')\n",
    "#plt.plot(etas, df_pred, c=\"r\", linestyle = '-', linewidth = 3)#, marker='o')\n",
    "#plt.plot(etas, df_optimal, c=\"g\", linestyle = '-', linewidth = 3)#, marker='o')\n",
    "#plt.plot(etas, df_pred - df_optimal, c=\"y\", linestyle = '-', linewidth = 3)#, marker='o')\n",
    "#plt.plot(etas_2, 2.0*hist_2, c=\"g\", linestyle = '-', linewidth = 1, marker='o')\n",
    "\n",
    "plt.plot(etas, hist, c=\"b\", linestyle = '-', linewidth = 1, marker='o')\n",
    "#plt.plot(etas, hist_s, c=\"r\", linestyle = '-', linewidth = 1, marker='o')\n",
    "\n",
    "#backround grid details\n",
    "axes = plt.gca()\n",
    "axes.grid(b = True, which = 'both', axis = 'both', color = 'gray', linestyle = '-', alpha = 0.5, linewidth = 0.5) \n",
    "axes.set_axis_bgcolor('white')  \n",
    "\n",
    "#font scpecifications\n",
    "title_font = {'family' : 'arial', 'color'  : 'black', 'weight' : 'heavy','size': 20}\n",
    "axis_label_font = {'family' : 'arial', 'color'  : 'black', 'weight' : 'normal','size': 20}\n",
    "\n",
    "major_ticks = arange(0.55, 0.63, 0.02)  \n",
    "axes.set_xticks(major_ticks)                                                       \n",
    "\n",
    "#figure size and tick style\n",
    "plt.rcParams[\"figure.figsize\"] = [6,6]\n",
    "plt.rc('axes',edgecolor='black',linewidth=1)\n",
    "plt.tick_params(which='both', axis='both', color='black', length=4, width=0.5)\n",
    "plt.rcParams['xtick.direction'] = 'in'\n",
    "plt.rcParams['ytick.direction'] = 'in'\n",
    "\n",
    "#axis range and labels (also specify if log or not)\n",
    "plt.xlim(0.55, 0.63)\n",
    "#plt.ylim(0.035, 0.10)\n",
    "plt.ylim(5, 13)\n",
    "plt.ylim(0.0, 0.012)\n",
    "#plt.ylim(-0.002, 0.005)\n",
    "#plt.yscale('log')\n",
    "plt.xlabel(r'volume fraction', y=3, fontsize=20, fontdict = axis_label_font)\n",
    "plt.ylabel(r'dF', fontsize=20, fontdict = axis_label_font)\n",
    "\n",
    "#title and axis labels\n",
    "plt.tick_params(axis='both', labelsize=20)\n",
    "#plt.title('Logistic Regression Fit', y=1.05, fontdict = title_font)\n",
    "\n",
    "plt.show()"
   ]
  },
  {
   "cell_type": "code",
   "execution_count": 832,
   "metadata": {
    "collapsed": false
   },
   "outputs": [
    {
     "name": "stderr",
     "output_type": "stream",
     "text": [
      "C:\\Users\\rbj428\\AppData\\Local\\Continuum\\Anaconda2_3\\lib\\site-packages\\ipykernel\\__main__.py:15: MatplotlibDeprecationWarning: The set_axis_bgcolor function was deprecated in version 2.0. Use set_facecolor instead.\n"
     ]
    },
    {
     "data": {
      "image/png": "[encoded data removed]",
      "text/plain": [
       "<matplotlib.figure.Figure at 0x2f04b860>"
      ]
     },
     "metadata": {},
     "output_type": "display_data"
    }
   ],
   "source": [
    "#things to plot\n",
    "plt.plot(etas, df, c=\"b\", linestyle = '-', linewidth = 1, marker='o')\n",
    "plt.plot(etas, df_s, c=\"r\", linestyle = '-', linewidth = 1, marker='o')\n",
    "#plt.plot(etas, df_pred, c=\"r\", linestyle = '-', linewidth = 3)#, marker='o')\n",
    "#plt.plot(etas, df_optimal, c=\"g\", linestyle = '-', linewidth = 3)#, marker='o')\n",
    "#plt.plot(etas, df_pred - df_optimal, c=\"y\", linestyle = '-', linewidth = 3)#, marker='o')\n",
    "#plt.plot(etas_2, 2.0*hist_2, c=\"g\", linestyle = '-', linewidth = 1, marker='o')\n",
    "\n",
    "#plt.plot(etas, hist, c=\"b\", linestyle = '-', linewidth = 1, marker='o')\n",
    "#plt.plot(etas, hist_s, c=\"r\", linestyle = '-', linewidth = 1, marker='o')\n",
    "\n",
    "#backround grid details\n",
    "axes = plt.gca()\n",
    "axes.grid(b = True, which = 'both', axis = 'both', color = 'gray', linestyle = '-', alpha = 0.5, linewidth = 0.5) \n",
    "axes.set_axis_bgcolor('white')  \n",
    "\n",
    "#font scpecifications\n",
    "title_font = {'family' : 'arial', 'color'  : 'black', 'weight' : 'heavy','size': 20}\n",
    "axis_label_font = {'family' : 'arial', 'color'  : 'black', 'weight' : 'normal','size': 20}\n",
    "\n",
    "major_ticks = arange(0.49, 0.65, 0.05)  \n",
    "axes.set_xticks(major_ticks)                                                       \n",
    "\n",
    "#figure size and tick style\n",
    "plt.rcParams[\"figure.figsize\"] = [6,6]\n",
    "plt.rc('axes',edgecolor='black',linewidth=1)\n",
    "plt.tick_params(which='both', axis='both', color='black', length=4, width=0.5)\n",
    "plt.rcParams['xtick.direction'] = 'in'\n",
    "plt.rcParams['ytick.direction'] = 'in'\n",
    "\n",
    "#axis range and labels (also specify if log or not)\n",
    "plt.xlim(0.48, 0.62)\n",
    "#plt.ylim(0.035, 0.10)\n",
    "plt.ylim(5, 13)\n",
    "plt.ylim(0.0, 0.01)\n",
    "plt.ylim(0.00001, 0.02)\n",
    "#plt.yscale('log')\n",
    "plt.xlabel(r'volume fraction', y=3, fontsize=20, fontdict = axis_label_font)\n",
    "plt.ylabel(r'dF', fontsize=20, fontdict = axis_label_font)\n",
    "\n",
    "#title and axis labels\n",
    "plt.tick_params(axis='both', labelsize=20)\n",
    "#plt.title('Logistic Regression Fit', y=1.05, fontdict = title_font)\n",
    "\n",
    "plt.show()"
   ]
  },
  {
   "cell_type": "code",
   "execution_count": 815,
   "metadata": {
    "collapsed": true
   },
   "outputs": [],
   "source": [
    "df_optimal = ExpFit(etas, 4.937383325306175e-15, 49.0)"
   ]
  },
  {
   "cell_type": "code",
   "execution_count": 780,
   "metadata": {
    "collapsed": false
   },
   "outputs": [
    {
     "data": {
      "text/plain": [
       "4.937383325306175e-15"
      ]
     },
     "execution_count": 780,
     "metadata": {},
     "output_type": "execute_result"
    }
   ],
   "source": [
    "exp(-9.4219408952803789 - 49.0*0.48)"
   ]
  },
  {
   "cell_type": "code",
   "execution_count": null,
   "metadata": {
    "collapsed": true
   },
   "outputs": [],
   "source": [
    "3*"
   ]
  },
  {
   "cell_type": "code",
   "execution_count": 74,
   "metadata": {
    "collapsed": false
   },
   "outputs": [
    {
     "name": "stderr",
     "output_type": "stream",
     "text": [
      "C:\\Users\\rbj428\\AppData\\Local\\Continuum\\Anaconda2_3\\lib\\site-packages\\ipykernel\\__main__.py:13: MatplotlibDeprecationWarning: The set_axis_bgcolor function was deprecated in version 2.0. Use set_facecolor instead.\n"
     ]
    },
    {
     "data": {
      "image/png": "[encoded data removed]",
      "text/plain": [
       "<matplotlib.figure.Figure at 0x28c548d0>"
      ]
     },
     "metadata": {},
     "output_type": "display_data"
    }
   ],
   "source": [
    "#things to plot\n",
    "#plt.plot(etas, df, c=\"b\", linestyle = '-', linewidth = 1, marker='o')\n",
    "plt.plot(etas, df_s, c=\"r\", linestyle = '-', linewidth = 1, marker='o')\n",
    "#plt.plot(etas, akima_corr_2.__call__(etas), c=\"g\", linestyle = '-', linewidth = 3)#, marker='o')\n",
    "#plt.plot(etas_2, 2.0*hist_2, c=\"g\", linestyle = '-', linewidth = 1, marker='o')\n",
    "\n",
    "#plt.plot(etas, hist, c=\"b\", linestyle = '-', linewidth = 1, marker='o')\n",
    "#plt.plot(etas, hist_s, c=\"r\", linestyle = '-', linewidth = 1, marker='o')\n",
    "\n",
    "#backround grid details\n",
    "axes = plt.gca()\n",
    "axes.grid(b = True, which = 'both', axis = 'both', color = 'gray', linestyle = '-', alpha = 0.5, linewidth = 0.5) \n",
    "axes.set_axis_bgcolor('white')  \n",
    "\n",
    "#font scpecifications\n",
    "title_font = {'family' : 'arial', 'color'  : 'black', 'weight' : 'heavy','size': 20}\n",
    "axis_label_font = {'family' : 'arial', 'color'  : 'black', 'weight' : 'normal','size': 20}\n",
    "\n",
    "major_ticks = arange(0.49, 0.65, 0.03)  \n",
    "axes.set_xticks(major_ticks)                                                       \n",
    "\n",
    "#figure size and tick style\n",
    "plt.rcParams[\"figure.figsize\"] = [6,6]\n",
    "plt.rc('axes',edgecolor='black',linewidth=1)\n",
    "plt.tick_params(which='both', axis='both', color='black', length=4, width=0.5)\n",
    "plt.rcParams['xtick.direction'] = 'in'\n",
    "plt.rcParams['ytick.direction'] = 'in'\n",
    "\n",
    "#axis range and labels (also specify if log or not)\n",
    "plt.xlim(0.48, 0.61)\n",
    "#plt.ylim(0.035, 0.10)\n",
    "#plt.ylim(5, 13)\n",
    "#plt.ylim(0.0, 0.06)\n",
    "plt.ylim(-0.01, 0.1)\n",
    "plt.ylim(-0.01, 0.02)\n",
    "#plt.yscale('log')\n",
    "plt.xlabel(r'volume fraction', y=3, fontsize=20, fontdict = axis_label_font)\n",
    "plt.ylabel(r'dF', fontsize=20, fontdict = axis_label_font)\n",
    "\n",
    "#title and axis labels\n",
    "plt.tick_params(axis='both', labelsize=20)\n",
    "#plt.title('Logistic Regression Fit', y=1.05, fontdict = title_font)\n",
    "\n",
    "plt.show()"
   ]
  },
  {
   "cell_type": "code",
   "execution_count": 548,
   "metadata": {
    "collapsed": false
   },
   "outputs": [
    {
     "name": "stderr",
     "output_type": "stream",
     "text": [
      "C:\\Users\\rbj428\\AppData\\Local\\Continuum\\Anaconda2_3\\lib\\site-packages\\ipykernel\\__main__.py:13: MatplotlibDeprecationWarning: The set_axis_bgcolor function was deprecated in version 2.0. Use set_facecolor instead.\n"
     ]
    },
    {
     "data": {
      "image/png": "[encoded data removed]",
      "text/plain": [
       "<matplotlib.figure.Figure at 0x149e5dd8>"
      ]
     },
     "metadata": {},
     "output_type": "display_data"
    }
   ],
   "source": [
    "#things to plot\n",
    "plt.plot(etas, df, c=\"b\", linestyle = '-', linewidth = 1, marker='o')\n",
    "plt.plot(etas, df_s, c=\"r\", linestyle = '-', linewidth = 1, marker='o')\n",
    "#plt.plot(etas, akima_corr_2.__call__(etas), c=\"g\", linestyle = '-', linewidth = 3)#, marker='o')\n",
    "#plt.plot(etas_2, 2.0*hist_2, c=\"g\", linestyle = '-', linewidth = 1, marker='o')\n",
    "\n",
    "#plt.plot(etas, hist, c=\"b\", linestyle = '-', linewidth = 1, marker='o')\n",
    "#plt.plot(etas, hist_s, c=\"r\", linestyle = '-', linewidth = 1, marker='o')\n",
    "\n",
    "#backround grid details\n",
    "axes = plt.gca()\n",
    "axes.grid(b = True, which = 'both', axis = 'both', color = 'gray', linestyle = '-', alpha = 0.5, linewidth = 0.5) \n",
    "axes.set_axis_bgcolor('white')  \n",
    "\n",
    "#font scpecifications\n",
    "title_font = {'family' : 'arial', 'color'  : 'black', 'weight' : 'heavy','size': 20}\n",
    "axis_label_font = {'family' : 'arial', 'color'  : 'black', 'weight' : 'normal','size': 20}\n",
    "\n",
    "major_ticks = arange(0.38, 0.65, 0.05)  \n",
    "axes.set_xticks(major_ticks)                                                       \n",
    "\n",
    "#figure size and tick style\n",
    "plt.rcParams[\"figure.figsize\"] = [6,6]\n",
    "plt.rc('axes',edgecolor='black',linewidth=1)\n",
    "plt.tick_params(which='both', axis='both', color='black', length=4, width=0.5)\n",
    "plt.rcParams['xtick.direction'] = 'in'\n",
    "plt.rcParams['ytick.direction'] = 'in'\n",
    "\n",
    "#axis range and labels (also specify if log or not)\n",
    "plt.xlim(0.53, 0.595)\n",
    "#plt.ylim(0.035, 0.10)\n",
    "#plt.ylim(5, 13)\n",
    "#plt.ylim(0.0, 0.06)\n",
    "plt.ylim(-0.01, 0.1)\n",
    "plt.ylim(-0.001, 0.005)\n",
    "#plt.yscale('log')\n",
    "plt.xlabel(r'volume fraction', y=3, fontsize=20, fontdict = axis_label_font)\n",
    "plt.ylabel(r'dF', fontsize=20, fontdict = axis_label_font)\n",
    "\n",
    "#title and axis labels\n",
    "plt.tick_params(axis='both', labelsize=20)\n",
    "#plt.title('Logistic Regression Fit', y=1.05, fontdict = title_font)\n",
    "\n",
    "plt.show()"
   ]
  },
  {
   "cell_type": "code",
   "execution_count": 542,
   "metadata": {
    "collapsed": false
   },
   "outputs": [
    {
     "data": {
      "text/plain": [
       "0.61717268558420135"
      ]
     },
     "execution_count": 542,
     "metadata": {},
     "output_type": "execute_result"
    }
   ],
   "source": [
    "max(trajectory)"
   ]
  },
  {
   "cell_type": "code",
   "execution_count": 833,
   "metadata": {
    "collapsed": false
   },
   "outputs": [
    {
     "data": {
      "text/plain": [
       "(0, 1, 2)"
      ]
     },
     "execution_count": 833,
     "metadata": {},
     "output_type": "execute_result"
    }
   ],
   "source": [
    "(0,1,2)"
   ]
  },
  {
   "cell_type": "code",
   "execution_count": null,
   "metadata": {
    "collapsed": true
   },
   "outputs": [],
   "source": []
  },
  {
   "cell_type": "code",
   "execution_count": null,
   "metadata": {
    "collapsed": true
   },
   "outputs": [],
   "source": []
  },
  {
   "cell_type": "code",
   "execution_count": 872,
   "metadata": {
    "collapsed": false
   },
   "outputs": [
    {
     "data": {
      "text/plain": [
       "0.21524034317051757"
      ]
     },
     "execution_count": 872,
     "metadata": {},
     "output_type": "execute_result"
    }
   ],
   "source": [
    "exp(-0.012*128)"
   ]
  },
  {
   "cell_type": "code",
   "execution_count": 418,
   "metadata": {
    "collapsed": false
   },
   "outputs": [
    {
     "name": "stderr",
     "output_type": "stream",
     "text": [
      "C:\\Users\\rbj428\\AppData\\Local\\Continuum\\Anaconda2_3\\lib\\site-packages\\ipykernel\\__main__.py:13: MatplotlibDeprecationWarning: The set_axis_bgcolor function was deprecated in version 2.0. Use set_facecolor instead.\n"
     ]
    },
    {
     "data": {
      "image/png": "[encoded data removed]",
      "text/plain": [
       "<matplotlib.figure.Figure at 0x2b4408d0>"
      ]
     },
     "metadata": {},
     "output_type": "display_data"
    }
   ],
   "source": [
    "#things to plot\n",
    "plt.plot(etas, df, c=\"b\", linestyle = '-', linewidth = 1, marker='o')\n",
    "plt.plot(etas, df_s, c=\"r\", linestyle = '-', linewidth = 3,)# marker='o')\n",
    "#plt.plot(etas, akima_corr_2.__call__(etas), c=\"g\", linestyle = '-', linewidth = 3)#, marker='o')\n",
    "#plt.plot(etas_2, 2.0*hist_2, c=\"g\", linestyle = '-', linewidth = 1, marker='o')\n",
    "\n",
    "#plt.plot(etas, hist, c=\"b\", linestyle = '-', linewidth = 1, marker='o')\n",
    "#plt.plot(etas, hist_s, c=\"r\", linestyle = '-', linewidth = 1, marker='o')\n",
    "\n",
    "#backround grid details\n",
    "axes = plt.gca()\n",
    "axes.grid(b = True, which = 'both', axis = 'both', color = 'gray', linestyle = '-', alpha = 0.5, linewidth = 0.5) \n",
    "axes.set_axis_bgcolor('white')  \n",
    "\n",
    "#font scpecifications\n",
    "title_font = {'family' : 'arial', 'color'  : 'black', 'weight' : 'heavy','size': 20}\n",
    "axis_label_font = {'family' : 'arial', 'color'  : 'black', 'weight' : 'normal','size': 20}\n",
    "\n",
    "major_ticks = arange(0.49, 0.65, 0.03)  \n",
    "axes.set_xticks(major_ticks)                                                       \n",
    "\n",
    "#figure size and tick style\n",
    "plt.rcParams[\"figure.figsize\"] = [6,6]\n",
    "plt.rc('axes',edgecolor='black',linewidth=1)\n",
    "plt.tick_params(which='both', axis='both', color='black', length=4, width=0.5)\n",
    "plt.rcParams['xtick.direction'] = 'in'\n",
    "plt.rcParams['ytick.direction'] = 'in'\n",
    "\n",
    "#axis range and labels (also specify if log or not)\n",
    "plt.xlim(0.49, 0.64)\n",
    "#plt.ylim(0.035, 0.10)\n",
    "#plt.ylim(5, 13)\n",
    "#plt.ylim(0.0, 0.06)\n",
    "plt.ylim(-0.02, 0.04)\n",
    "plt.ylim(-0.001, 0.1)\n",
    "#plt.ylim(-0.01, 0.06)\n",
    "#plt.yscale('log')\n",
    "plt.xlabel(r'volume fraction', y=3, fontsize=20, fontdict = axis_label_font)\n",
    "plt.ylabel(r'dF', fontsize=20, fontdict = axis_label_font)\n",
    "\n",
    "#title and axis labels\n",
    "plt.tick_params(axis='both', labelsize=20)\n",
    "#plt.title('Logistic Regression Fit', y=1.05, fontdict = title_font)\n",
    "\n",
    "plt.show()"
   ]
  },
  {
   "cell_type": "code",
   "execution_count": 218,
   "metadata": {
    "collapsed": true
   },
   "outputs": [],
   "source": [
    "etas_temp = etas\n",
    "df_temp = df"
   ]
  },
  {
   "cell_type": "code",
   "execution_count": 377,
   "metadata": {
    "collapsed": false
   },
   "outputs": [
    {
     "data": {
      "text/plain": [
       "0.0016615572731739339"
      ]
     },
     "execution_count": 377,
     "metadata": {},
     "output_type": "execute_result"
    }
   ],
   "source": [
    "exp(-0.05*128)"
   ]
  },
  {
   "cell_type": "code",
   "execution_count": null,
   "metadata": {
    "collapsed": true
   },
   "outputs": [],
   "source": []
  },
  {
   "cell_type": "code",
   "execution_count": null,
   "metadata": {
    "collapsed": true
   },
   "outputs": [],
   "source": [
    "exp(-9.4219408952803789 - z*eta) = ln(A) + z*eta"
   ]
  },
  {
   "cell_type": "code",
   "execution_count": null,
   "metadata": {
    "collapsed": true
   },
   "outputs": [],
   "source": [
    "exp(-9.4219408952803789 - z*eta)"
   ]
  },
  {
   "cell_type": "markdown",
   "metadata": {},
   "source": [
    "## Fit the data"
   ]
  },
  {
   "cell_type": "markdown",
   "metadata": {},
   "source": [
    "### First fit"
   ]
  },
  {
   "cell_type": "code",
   "execution_count": 681,
   "metadata": {
    "collapsed": true
   },
   "outputs": [],
   "source": [
    "from numpy import isnan, isinf\n",
    "from scipy.optimize import curve_fit"
   ]
  },
  {
   "cell_type": "code",
   "execution_count": 812,
   "metadata": {
    "collapsed": false
   },
   "outputs": [],
   "source": [
    "def ExpFit(eta, A, z):\n",
    "    return A*exp(z*(eta))"
   ]
  },
  {
   "cell_type": "code",
   "execution_count": 683,
   "metadata": {
    "collapsed": false
   },
   "outputs": [],
   "source": [
    "for i in range(len(df)):\n",
    "    if isinf(df[i]):\n",
    "        first_inf = i\n",
    "        break\n",
    "\n",
    "for i in range(len(df_s)):\n",
    "    if isinf(df_s[i]):\n",
    "        first_inf_s = i\n",
    "        break"
   ]
  },
  {
   "cell_type": "code",
   "execution_count": 684,
   "metadata": {
    "collapsed": false
   },
   "outputs": [],
   "source": [
    "df_clean = df[:first_inf]\n",
    "df_clean_s = df_s[:first_inf_s]"
   ]
  },
  {
   "cell_type": "code",
   "execution_count": 685,
   "metadata": {
    "collapsed": false
   },
   "outputs": [],
   "source": [
    "popt, pcov = curve_fit(ExpFit, etas[:first_inf], df_clean)"
   ]
  },
  {
   "cell_type": "code",
   "execution_count": 686,
   "metadata": {
    "collapsed": false
   },
   "outputs": [
    {
     "data": {
      "text/plain": [
       "array([  8.44025263e-16,   5.26800174e+01])"
      ]
     },
     "execution_count": 686,
     "metadata": {},
     "output_type": "execute_result"
    }
   ],
   "source": [
    "popt"
   ]
  },
  {
   "cell_type": "code",
   "execution_count": 687,
   "metadata": {
    "collapsed": false
   },
   "outputs": [
    {
     "data": {
      "text/plain": [
       "0.12915546317137222"
      ]
     },
     "execution_count": 687,
     "metadata": {},
     "output_type": "execute_result"
    }
   ],
   "source": [
    "ExpFit(0.62, popt[0], popt[1])"
   ]
  },
  {
   "cell_type": "code",
   "execution_count": 813,
   "metadata": {
    "collapsed": false
   },
   "outputs": [],
   "source": [
    "df_pred = ExpFit(etas, 8.44025263e-16, 5.26800174e+01)"
   ]
  },
  {
   "cell_type": "code",
   "execution_count": 695,
   "metadata": {
    "collapsed": true
   },
   "outputs": [],
   "source": [
    "df_optimal = ExpFit(etas, 8.44025263e-16, 5.26800174e+01)"
   ]
  },
  {
   "cell_type": "code",
   "execution_count": 737,
   "metadata": {
    "collapsed": false
   },
   "outputs": [
    {
     "data": {
      "text/plain": [
       "-9.4219408952803789"
      ]
     },
     "execution_count": 737,
     "metadata": {},
     "output_type": "execute_result"
    }
   ],
   "source": [
    "log(ExpFit(0.48, 8.44025263e-16, 5.26800174e+01))"
   ]
  },
  {
   "cell_type": "code",
   "execution_count": null,
   "metadata": {
    "collapsed": true
   },
   "outputs": [],
   "source": [
    "ExpFit(etas, 4.937383325306175e-15, 49.0)"
   ]
  },
  {
   "cell_type": "code",
   "execution_count": 1054,
   "metadata": {
    "collapsed": true
   },
   "outputs": [],
   "source": [
    "def FreeEnergyBinWithCorr1(eta, N):\n",
    "    ds = array([1.0, 1.4])\n",
    "    n = len(ds)\n",
    "    s1 = sum(ds)/n\n",
    "    s2 = sum(ds**2.0)/n\n",
    "    s3 = sum(ds**3.0)/n\n",
    "    \n",
    "    #F = FreeEnergyCS(eta, s1, s2, s3, N) + N*ExpFit(eta, 8.44025263e-16, 5.26800174e+01)\n",
    "    F = FreeEnergyCS(eta, s1, s2, s3, N) + N*ExpFit(eta, 8.44025263e-16, 5.26800174e+01) + (0.0 + ((2.0)/(0.62-0.55))*(eta-0.55))\n",
    "    #F = FreeEnergyCS(eta, s1, s2, s3, N) + N*ExpFit(eta, 8.44025263e-16, 5.26800174e+01) + N*(0.0 + ((2.3)/(0.62-0.48))*(eta-0.48))\n",
    "    #F = FreeEnergyCS(eta, s1, s2, s3, N) + N*ExpFit(eta, 8.44025263e-16, 5.26800174e+01) + N*(0.0 + ((2.5)/(0.62-0.48))*(eta-0.48))\n",
    "    #F = FreeEnergyCS(eta, s1, s2, s3, N) + N*ExpFit(eta, 8.44025263e-16, 5.26800174e+01) + N*(0.0 + ((10.0)/(0.62-0.48))*(eta-0.48))\n",
    "    #F = FreeEnergyCS(eta, s1, s2, s3, N) + N*ExpFit(eta, 8.44025263e-16, 5.26800174e+01) + N*(0.0 + ((100.0)/(0.62-0.48))*(eta-0.48))\n",
    "    #F = FreeEnergyCS(eta, s1, s2, s3, N) + N*ExpFit(eta, 4.937383325306175e-15, 49.0)\n",
    "    return F"
   ]
  },
  {
   "cell_type": "code",
   "execution_count": 1055,
   "metadata": {
    "collapsed": true
   },
   "outputs": [],
   "source": [
    "def ProbBinWithCorr1(eta_cur, eta_new, N):\n",
    "    return exp(FreeEnergyBinWithCorr1(eta_cur, N) - FreeEnergyBinWithCorr1(eta_new, N))"
   ]
  },
  {
   "cell_type": "code",
   "execution_count": 1053,
   "metadata": {
    "collapsed": false
   },
   "outputs": [
    {
     "data": {
      "text/plain": [
       "0.0020679554830569432"
      ]
     },
     "execution_count": 1053,
     "metadata": {},
     "output_type": "execute_result"
    }
   ],
   "source": [
    "ProbBinWithCorr1(0.61, 0.611, 128)"
   ]
  },
  {
   "cell_type": "code",
   "execution_count": 1050,
   "metadata": {
    "collapsed": false
   },
   "outputs": [
    {
     "data": {
      "text/plain": [
       "0.0020097071225393683"
      ]
     },
     "execution_count": 1050,
     "metadata": {},
     "output_type": "execute_result"
    }
   ],
   "source": [
    "ProbBinWithCorr1(0.61, 0.611, 128)"
   ]
  },
  {
   "cell_type": "code",
   "execution_count": 1007,
   "metadata": {
    "collapsed": true
   },
   "outputs": [],
   "source": [
    "from numpy import arange"
   ]
  },
  {
   "cell_type": "code",
   "execution_count": 788,
   "metadata": {
    "collapsed": true
   },
   "outputs": [],
   "source": [
    "F_CS = []\n",
    "F_updated = []\n",
    "for eta in arange(0.001, 0.66, 0.001):\n",
    "    F_CS.append(FreeEnergyCS(eta, s1, s2, s3, 1))\n",
    "    F_updated.append(FreeEnergyBinWithCorr1(eta, 1))"
   ]
  },
  {
   "cell_type": "code",
   "execution_count": 531,
   "metadata": {
    "collapsed": false
   },
   "outputs": [
    {
     "name": "stderr",
     "output_type": "stream",
     "text": [
      "C:\\Users\\rbj428\\AppData\\Local\\Continuum\\Anaconda2_3\\lib\\site-packages\\ipykernel\\__main__.py:11: MatplotlibDeprecationWarning: The set_axis_bgcolor function was deprecated in version 2.0. Use set_facecolor instead.\n"
     ]
    },
    {
     "data": {
      "image/png": "[encoded data removed]",
      "text/plain": [
       "<matplotlib.figure.Figure at 0xd15ff28>"
      ]
     },
     "metadata": {},
     "output_type": "display_data"
    }
   ],
   "source": [
    "#things to plot\n",
    "plt.plot(arange(0.001, 0.66, 0.001), N*array(F_updated) - N*array(F_CS), c=\"b\", linestyle = '-', linewidth = 3)#, marker='o')\n",
    "#plt.plot(arange(0.001, 0.66, 0.001), F_updated, c=\"r\", linestyle = '-', linewidth = 3)#, marker='o')\n",
    "\n",
    "#plt.plot(etas, hist, c=\"b\", linestyle = '-', linewidth = 1, marker='o')\n",
    "#plt.plot(etas, hist_s, c=\"r\", linestyle = '-', linewidth = 1, marker='o')\n",
    "\n",
    "#backround grid details\n",
    "axes = plt.gca()\n",
    "axes.grid(b = True, which = 'both', axis = 'both', color = 'gray', linestyle = '-', alpha = 0.5, linewidth = 0.5) \n",
    "axes.set_axis_bgcolor('white')  \n",
    "\n",
    "#font scpecifications\n",
    "title_font = {'family' : 'arial', 'color'  : 'black', 'weight' : 'heavy','size': 20}\n",
    "axis_label_font = {'family' : 'arial', 'color'  : 'black', 'weight' : 'normal','size': 20}\n",
    "\n",
    "#major_ticks = arange(0.49, 0.65, 0.05)  \n",
    "#axes.set_xticks(major_ticks)                                                       \n",
    "\n",
    "#figure size and tick style\n",
    "plt.rcParams[\"figure.figsize\"] = [6,6]\n",
    "plt.rc('axes',edgecolor='black',linewidth=1)\n",
    "plt.tick_params(which='both', axis='both', color='black', length=4, width=0.5)\n",
    "plt.rcParams['xtick.direction'] = 'in'\n",
    "plt.rcParams['ytick.direction'] = 'in'\n",
    "\n",
    "#axis range and labels (also specify if log or not)\n",
    "plt.xlim(0.48, 0.65)\n",
    "\n",
    "#plt.ylim(0, 0.125)\n",
    "plt.ylim(0,20)\n",
    "\n",
    "#plt.yscale('log')\n",
    "plt.xlabel(r'volume fraction', y=3, fontsize=20, fontdict = axis_label_font)\n",
    "plt.ylabel(r'dF', fontsize=20, fontdict = axis_label_font)\n",
    "\n",
    "#title and axis labels\n",
    "plt.tick_params(axis='both', labelsize=20)\n",
    "#plt.title('Logistic Regression Fit', y=1.05, fontdict = title_font)\n",
    "\n",
    "plt.show()"
   ]
  },
  {
   "cell_type": "code",
   "execution_count": 105,
   "metadata": {
    "collapsed": false
   },
   "outputs": [
    {
     "data": {
      "text/plain": [
       "0.0390625"
      ]
     },
     "execution_count": 105,
     "metadata": {},
     "output_type": "execute_result"
    }
   ],
   "source": [
    "5.0/128"
   ]
  },
  {
   "cell_type": "code",
   "execution_count": 1056,
   "metadata": {
    "collapsed": false
   },
   "outputs": [],
   "source": [
    "desired_acceptance = 0.10\n",
    "eta_current = 0.55\n",
    "etas = [eta_current]\n",
    "accuracy = []\n",
    "while eta_current < 0.62: #0.65\n",
    "    func = lambda eta_0: ProbBinWithCorr1(eta_current, eta_0, N) - desired_acceptance\n",
    "    eta_new = newton_krylov(func, eta_current, method='lgmres')\n",
    "    accuracy.append(eta_new-eta_current)\n",
    "    if abs(ProbBinWithCorr1(eta_current, eta_new, N) - desired_acceptance) < 0.000001:\n",
    "        etas.append(float(eta_new))\n",
    "        eta_current = float(eta_new)\n",
    "    else:\n",
    "        raise ValueError('Solver did not find sufficient solution for neighboring volume fractions')\n",
    "etas = array(etas)\n",
    "num_etas = len(etas)"
   ]
  },
  {
   "cell_type": "code",
   "execution_count": 1057,
   "metadata": {
    "collapsed": false
   },
   "outputs": [
    {
     "data": {
      "text/plain": [
       "156"
      ]
     },
     "execution_count": 1057,
     "metadata": {},
     "output_type": "execute_result"
    }
   ],
   "source": [
    "len(etas)"
   ]
  },
  {
   "cell_type": "code",
   "execution_count": 1041,
   "metadata": {
    "collapsed": false
   },
   "outputs": [
    {
     "data": {
      "text/plain": [
       "155"
      ]
     },
     "execution_count": 1041,
     "metadata": {},
     "output_type": "execute_result"
    }
   ],
   "source": [
    "len(etas)"
   ]
  },
  {
   "cell_type": "code",
   "execution_count": 965,
   "metadata": {
    "collapsed": false
   },
   "outputs": [
    {
     "data": {
      "text/plain": [
       "{1, 2, 3, 5, 6}"
      ]
     },
     "execution_count": 965,
     "metadata": {},
     "output_type": "execute_result"
    }
   ],
   "source": [
    "set([1,2,3,4,5,6,0,0,0,0,0])-set([0,4])"
   ]
  },
  {
   "cell_type": "code",
   "execution_count": 1138,
   "metadata": {
    "collapsed": true
   },
   "outputs": [],
   "source": [
    "start = 0.14\n",
    "slope = (0.07-0.14)/(0.58-0.48)\n",
    "dr_max_gen = lambda x: 0.14 + slope*(x - 0.48)\n",
    "dr_maxs = array([dr_max_gen(x) for x in etas])"
   ]
  },
  {
   "cell_type": "code",
   "execution_count": 1058,
   "metadata": {
    "collapsed": false
   },
   "outputs": [],
   "source": [
    "etas_file = open('extended_states_corr1.txt', 'w')\n",
    "etas_file.write(('acceptance = %f\\n' % desired_acceptance))\n",
    "\n",
    "#generate etas\n",
    "etas_string = 'etas = (%s' % etas[0]\n",
    "for eta in etas[1:]:\n",
    "    etas_string = etas_string + ',' + str(eta)\n",
    "etas_string = etas_string + ')\\n'\n",
    "etas_file.write(etas_string)\n",
    "\n",
    "#generate dr_max values\n",
    "dr_maxs_string = 'dr_maxs = (%s' % dr_maxs[0]\n",
    "for dr_max in dr_maxs[1:]:\n",
    "    dr_maxs_string = dr_maxs_string + ',' + str(dr_max)\n",
    "dr_maxs_string = dr_maxs_string + ')'\n",
    "etas_file.write(dr_maxs_string)\n",
    "\n",
    "etas_file.close()"
   ]
  },
  {
   "cell_type": "code",
   "execution_count": 528,
   "metadata": {
    "collapsed": false
   },
   "outputs": [
    {
     "data": {
      "text/plain": [
       "0.6500745403360052"
      ]
     },
     "execution_count": 528,
     "metadata": {},
     "output_type": "execute_result"
    }
   ],
   "source": [
    "etas[-1]"
   ]
  },
  {
   "cell_type": "code",
   "execution_count": 867,
   "metadata": {
    "collapsed": false
   },
   "outputs": [
    {
     "data": {
      "text/plain": [
       "array([ 0.16      ,  0.15950795,  0.15901744,  0.15852845,  0.15804098,\n",
       "        0.15755503,  0.15707058,  0.15658764,  0.15610618,  0.15562621,\n",
       "        0.15514771,  0.15467068,  0.15419512,  0.15372101,  0.15324835,\n",
       "        0.15277713,  0.15230735,  0.151839  ,  0.15137206,  0.15090654,\n",
       "        0.15044243,  0.14997972,  0.14951841,  0.14905848,  0.14859994,\n",
       "        0.14814277,  0.14768697,  0.14723253,  0.14677945,  0.14632772,\n",
       "        0.14587733,  0.14542828,  0.14498056,  0.14453417,  0.14408909,\n",
       "        0.14364533,  0.14320288,  0.14276172,  0.14232187,  0.1418833 ,\n",
       "        0.14144601,  0.14101   ,  0.14057527,  0.1401418 ,  0.13970959,\n",
       "        0.13927864,  0.13884893,  0.13842047,  0.13799325,  0.13756726,\n",
       "        0.1371425 ,  0.13671896,  0.13629664,  0.13587552,  0.13545562,\n",
       "        0.13503691,  0.1346194 ,  0.13420308,  0.13378794,  0.13337399,\n",
       "        0.13296121,  0.1325496 ,  0.13213915,  0.13172986,  0.13132173,\n",
       "        0.13091475,  0.13050891,  0.13010422,  0.12970065,  0.12929822,\n",
       "        0.12889692,  0.12849673,  0.12809766,  0.12769971,  0.12730285,\n",
       "        0.12690711,  0.12651246,  0.1261189 ,  0.12572643,  0.12533504,\n",
       "        0.12494474,  0.12455551,  0.12416735,  0.12378026,  0.12339423,\n",
       "        0.12300926,  0.12262534,  0.12224247,  0.12186064,  0.12147986,\n",
       "        0.12110011,  0.1207214 ,  0.12034371,  0.11996705,  0.11959141,\n",
       "        0.11921678,  0.11884317,  0.11847056,  0.11809896,  0.11772836,\n",
       "        0.11735876,  0.11699015,  0.11662253,  0.11625589,  0.11589024,\n",
       "        0.11552556,  0.11516186,  0.11479912,  0.11443736,  0.11407655,\n",
       "        0.11371671,  0.11335782,  0.11299988,  0.11264289,  0.11228685,\n",
       "        0.11193175,  0.11157758,  0.11122435,  0.11087205,  0.11052068,\n",
       "        0.11017023,  0.1098207 ,  0.1094721 ,  0.1091244 ,  0.10877762,\n",
       "        0.10843174,  0.10808677,  0.1077427 ,  0.10739953,  0.10705725,\n",
       "        0.10671586,  0.10637537,  0.10603575,  0.10569703,  0.10535918,\n",
       "        0.1050222 ,  0.1046861 ,  0.10435087,  0.10401651,  0.10368301,\n",
       "        0.10335038,  0.1030186 ,  0.10268768,  0.10235761,  0.10202839,\n",
       "        0.10170002,  0.10137249,  0.10104581,  0.10071996,  0.10039495,\n",
       "        0.10007077,  0.09974743,  0.09942491,  0.09910322,  0.09878235,\n",
       "        0.0984623 ,  0.09814307,  0.09782465,  0.09750705,  0.09719025,\n",
       "        0.09687427,  0.09655909,  0.09624471,  0.09593113,  0.09561835,\n",
       "        0.09530636,  0.09499517,  0.09468477,  0.09437516,  0.09406633,\n",
       "        0.09375828,  0.09345102,  0.09314454,  0.09283883,  0.0925339 ,\n",
       "        0.09222974,  0.09192635,  0.09162372,  0.09132187,  0.09102077,\n",
       "        0.09072044,  0.09042087,  0.09012205,  0.08982399,  0.08952669,\n",
       "        0.08923013,  0.08893432,  0.08863926,  0.08834495,  0.08805138,\n",
       "        0.08775854,  0.08746645,  0.0871751 ,  0.08688448,  0.08659459,\n",
       "        0.08630544,  0.08601702,  0.08572932,  0.08544235,  0.0851561 ,\n",
       "        0.08487058,  0.08458578,  0.08430169,  0.08401833,  0.08373567,\n",
       "        0.08345374,  0.08317251,  0.082892  ,  0.08261219,  0.08233309,\n",
       "        0.08205469,  0.081777  ,  0.08150002,  0.08122373,  0.08094814,\n",
       "        0.08067325,  0.08039905,  0.08012555,  0.07985274,  0.07958063,\n",
       "        0.0793092 ,  0.07903846,  0.07876841,  0.07849904,  0.07823036,\n",
       "        0.07796236,  0.07769504,  0.0774284 ,  0.07716244,  0.07689716,\n",
       "        0.07663255,  0.07636861,  0.07610535,  0.07584276,  0.07558085,\n",
       "        0.07531959,  0.07505901,  0.0747991 ,  0.07453985,  0.07428126,\n",
       "        0.07402333,  0.07376607,  0.07350947,  0.07325353,  0.07299824,\n",
       "        0.07274361,  0.07248964,  0.07223632,  0.07198365,  0.07173164,\n",
       "        0.07148027,  0.07122956,  0.0709795 ,  0.07073008,  0.07048131,\n",
       "        0.07023318,  0.0699857 ,  0.06973886,  0.06949267,  0.06924711,\n",
       "        0.0690022 ,  0.06875792,  0.06851428,  0.06827128,  0.06802892,\n",
       "        0.06778719,  0.06754609,  0.06730563,  0.0670658 ,  0.0668266 ,\n",
       "        0.06658803,  0.06635009,  0.06611278,  0.0658761 ,  0.06564004,\n",
       "        0.06540461,  0.0651698 ,  0.06493562,  0.06470206,  0.06446912,\n",
       "        0.0642368 ,  0.0640051 ,  0.06377402,  0.06354356,  0.06331372,\n",
       "        0.06308449,  0.06285588,  0.06262788,  0.0624005 ,  0.06217373,\n",
       "        0.06194758,  0.06172203,  0.0614971 ,  0.06127278,  0.06104906,\n",
       "        0.06082596,  0.06060346,  0.06038157,  0.06016028,  0.0599396 ,\n",
       "        0.05971952,  0.05950005,  0.05928118,  0.05906291,  0.05884524,\n",
       "        0.05862817,  0.05841171,  0.05819584,  0.05798056,  0.05776589,\n",
       "        0.05755181,  0.05733833,  0.05712544,  0.05691315,  0.05670145,\n",
       "        0.05649034,  0.05627983,  0.0560699 ,  0.05586057,  0.05565183,\n",
       "        0.05544367,  0.0552361 ,  0.05502912,  0.05482273,  0.05461692,\n",
       "        0.05441169,  0.05420705,  0.054003  ,  0.05379952,  0.05359663,\n",
       "        0.05339432,  0.05319259,  0.05299144,  0.05279086,  0.05259087,\n",
       "        0.05239145,  0.05219261,  0.05199434,  0.05179665,  0.05159953,\n",
       "        0.05140299,  0.05120702,  0.05101162,  0.05081679,  0.05062253,\n",
       "        0.05042884,  0.05023571,  0.05004316,  0.04985117,  0.04965975,\n",
       "        0.04946889,  0.0492786 ,  0.04908887,  0.0488997 ,  0.0487111 ,\n",
       "        0.04852306,  0.04833557,  0.04814865,  0.04796228,  0.04777647,\n",
       "        0.04759122,  0.04740652,  0.04722238,  0.04703879,  0.04685576,\n",
       "        0.04667328,  0.04649135,  0.04630996,  0.04612913,  0.04594885,\n",
       "        0.04576912,  0.04558993,  0.04541129,  0.04523319,  0.04505564,\n",
       "        0.04487863,  0.04470216,  0.04452624,  0.04435085,  0.04417601,\n",
       "        0.0440017 ,  0.04382793,  0.0436547 ,  0.043482  ,  0.04330983,\n",
       "        0.0431382 ,  0.04296711,  0.04279654,  0.04262651,  0.042457  ,\n",
       "        0.04228802,  0.04211957,  0.04195165,  0.04178425,  0.04161738,\n",
       "        0.04145103,  0.0412852 ,  0.04111989,  0.04095511,  0.04079084,\n",
       "        0.04062709,  0.04046386,  0.04030114,  0.04013894,  0.03997725,\n",
       "        0.03981608,  0.03965541,  0.03949526,  0.03933562,  0.03917648,\n",
       "        0.03901785,  0.03885973,  0.03870211,  0.038545  ,  0.03838839,\n",
       "        0.03823228,  0.03807667,  0.03792155,  0.03776694,  0.03761282,\n",
       "        0.0374592 ,  0.03730608,  0.03715344,  0.0370013 ,  0.03684965,\n",
       "        0.03669849,  0.03654781,  0.03639763,  0.03624793,  0.03609871,\n",
       "        0.03594998,  0.03580173,  0.03565396,  0.03550667,  0.03535986,\n",
       "        0.03521352,  0.03506766,  0.03492228,  0.03477737,  0.03463293,\n",
       "        0.03448897,  0.03434547,  0.03420244,  0.03405988,  0.03391778,\n",
       "        0.03377615,  0.03363498,  0.03349427,  0.03335403,  0.03321424,\n",
       "        0.03307491,  0.03293604,  0.03279762,  0.03265966,  0.03252215,\n",
       "        0.03238509,  0.03224848,  0.03211232,  0.03197661,  0.03184134,\n",
       "        0.03170652,  0.03157214,  0.0314382 ,  0.03130471,  0.03117165,\n",
       "        0.03103903,  0.03090685,  0.0307751 ,  0.03064379,  0.03051291,\n",
       "        0.03038246,  0.03025244,  0.03012285,  0.02999368,  0.02986494,\n",
       "        0.02973663,  0.02960874,  0.02948127,  0.02935422,  0.02922759,\n",
       "        0.02910137,  0.02897558,  0.0288502 ,  0.02872523,  0.02860067,\n",
       "        0.02847652,  0.02835279,  0.02822946,  0.02810653,  0.02798402,\n",
       "        0.0278619 ,  0.02774019,  0.02761888,  0.02749797,  0.02737746,\n",
       "        0.02725734,  0.02713762,  0.02701829,  0.02689936,  0.02678081,\n",
       "        0.02666266,  0.0265449 ,  0.02642752,  0.02631053,  0.02619392,\n",
       "        0.02607769,  0.02596185,  0.02584639,  0.02573131,  0.0256166 ,\n",
       "        0.02550227,  0.02538831,  0.02527473,  0.02516152,  0.02504868,\n",
       "        0.02493621,  0.02482411,  0.02471237,  0.024601  ,  0.02448999,\n",
       "        0.02437935,  0.02426907,  0.02415914,  0.02404958,  0.02394037])"
      ]
     },
     "execution_count": 867,
     "metadata": {},
     "output_type": "execute_result"
    }
   ],
   "source": [
    "dr_maxs"
   ]
  },
  {
   "cell_type": "markdown",
   "metadata": {},
   "source": [
    "### Second fit"
   ]
  },
  {
   "cell_type": "code",
   "execution_count": 74,
   "metadata": {
    "collapsed": true
   },
   "outputs": [],
   "source": [
    "from scipy.interpolate import Akima1DInterpolator"
   ]
  },
  {
   "cell_type": "code",
   "execution_count": 97,
   "metadata": {
    "collapsed": true
   },
   "outputs": [],
   "source": [
    "#find the index of eta=0.61 for max fit\n",
    "for i in range(len(etas)):\n",
    "    if etas[i] > 0.615:\n",
    "        index_eta_615 = i\n",
    "        break"
   ]
  },
  {
   "cell_type": "code",
   "execution_count": 98,
   "metadata": {
    "collapsed": false
   },
   "outputs": [
    {
     "data": {
      "text/plain": [
       "0.036727302299372495"
      ]
     },
     "execution_count": 98,
     "metadata": {},
     "output_type": "execute_result"
    }
   ],
   "source": [
    "df_clean_s[index_eta_615]"
   ]
  },
  {
   "cell_type": "code",
   "execution_count": 45,
   "metadata": {
    "collapsed": true
   },
   "outputs": [],
   "source": [
    "akima_step_2 = Akima1DInterpolator(etas[:index_eta_615+1], df_clean_s[:index_eta_615+1])"
   ]
  },
  {
   "cell_type": "code",
   "execution_count": 46,
   "metadata": {
    "collapsed": false
   },
   "outputs": [
    {
     "data": {
      "text/plain": [
       "array(0.03669655046021158)"
      ]
     },
     "execution_count": 46,
     "metadata": {},
     "output_type": "execute_result"
    }
   ],
   "source": [
    "akima_step_2.__call__(0.615, extrapolate=True)"
   ]
  },
  {
   "cell_type": "code",
   "execution_count": 393,
   "metadata": {
    "collapsed": true
   },
   "outputs": [],
   "source": [
    "from numpy import cumsum, zeros, array, nan_to_num"
   ]
  },
  {
   "cell_type": "code",
   "execution_count": 394,
   "metadata": {
    "collapsed": true
   },
   "outputs": [],
   "source": [
    "class AkimaModified:\n",
    "    def __init__(self, x, y):\n",
    "        self.akima = Akima1DInterpolator(x, y)\n",
    "        self.x0, self.x1 = x[-2], x[-1]\n",
    "        self.f0, self.f1 = y[-2], y[-1]\n",
    "        \n",
    "    def __call__(self, x):\n",
    "        f = self.akima.__call__(x)\n",
    "        f = nan_to_num(f)\n",
    "        m = (self.f1 - self.f0)/(self.x1 - self.x0)\n",
    "        f = f + (x > self.x1)*(m*(x - self.x1) + self.f1)\n",
    "        return f"
   ]
  },
  {
   "cell_type": "code",
   "execution_count": 100,
   "metadata": {
    "collapsed": true
   },
   "outputs": [],
   "source": [
    "akima_corr_2 = AkimaModified(etas[:index_eta_615+1], df_clean_s[:index_eta_615+1])"
   ]
  },
  {
   "cell_type": "code",
   "execution_count": 103,
   "metadata": {
    "collapsed": false
   },
   "outputs": [
    {
     "data": {
      "text/plain": [
       "0.020389446853090628"
      ]
     },
     "execution_count": 103,
     "metadata": {},
     "output_type": "execute_result"
    }
   ],
   "source": [
    "akima_corr_2.__call__(0.61)"
   ]
  },
  {
   "cell_type": "code",
   "execution_count": null,
   "metadata": {
    "collapsed": true
   },
   "outputs": [],
   "source": []
  },
  {
   "cell_type": "code",
   "execution_count": 113,
   "metadata": {
    "collapsed": true
   },
   "outputs": [],
   "source": [
    "def FreeEnergyBinWithCorr2(eta, N):   \n",
    "    F = FreeEnergyBinWithCorr1(eta, N) + float(N)*akima_corr_2(eta)\n",
    "    return F"
   ]
  },
  {
   "cell_type": "code",
   "execution_count": 114,
   "metadata": {
    "collapsed": true
   },
   "outputs": [],
   "source": [
    "def ProbBinWithCorr2(eta_cur, eta_new, N):\n",
    "    return exp(FreeEnergyBinWithCorr2(eta_cur, N) - FreeEnergyBinWithCorr2(eta_new, N))"
   ]
  },
  {
   "cell_type": "code",
   "execution_count": 115,
   "metadata": {
    "collapsed": false
   },
   "outputs": [
    {
     "data": {
      "text/plain": [
       "1136.2113455379033"
      ]
     },
     "execution_count": 115,
     "metadata": {},
     "output_type": "execute_result"
    }
   ],
   "source": [
    "FreeEnergyBinWithCorr2(0.62,128)"
   ]
  },
  {
   "cell_type": "code",
   "execution_count": 116,
   "metadata": {
    "collapsed": false
   },
   "outputs": [
    {
     "data": {
      "text/plain": [
       "1128.6118859365333"
      ]
     },
     "execution_count": 116,
     "metadata": {},
     "output_type": "execute_result"
    }
   ],
   "source": [
    "FreeEnergyBinWithCorr1(0.62,128)"
   ]
  },
  {
   "cell_type": "code",
   "execution_count": 136,
   "metadata": {
    "collapsed": false
   },
   "outputs": [
    {
     "data": {
      "text/plain": [
       "0.57307653080936993"
      ]
     },
     "execution_count": 136,
     "metadata": {},
     "output_type": "execute_result"
    }
   ],
   "source": [
    "ProbBinWithCorr1(0.60, 0.6001, 128)"
   ]
  },
  {
   "cell_type": "code",
   "execution_count": 137,
   "metadata": {
    "collapsed": false
   },
   "outputs": [
    {
     "data": {
      "text/plain": [
       "0.56532756802509876"
      ]
     },
     "execution_count": 137,
     "metadata": {},
     "output_type": "execute_result"
    }
   ],
   "source": [
    "ProbBinWithCorr2(0.60, 0.6001, 128)"
   ]
  },
  {
   "cell_type": "code",
   "execution_count": 138,
   "metadata": {
    "collapsed": false
   },
   "outputs": [
    {
     "data": {
      "text/plain": [
       "0.5907931598961802"
      ]
     },
     "execution_count": 138,
     "metadata": {},
     "output_type": "execute_result"
    }
   ],
   "source": [
    "ProbCS(0.60, 0.6001, s1, s2, s3, 128)"
   ]
  },
  {
   "cell_type": "code",
   "execution_count": 426,
   "metadata": {
    "collapsed": false
   },
   "outputs": [
    {
     "data": {
      "text/plain": [
       "0.56144719065031945"
      ]
     },
     "execution_count": 426,
     "metadata": {},
     "output_type": "execute_result"
    }
   ],
   "source": [
    "ProbBinWithCorr3(0.60, 0.6001, 128)"
   ]
  },
  {
   "cell_type": "code",
   "execution_count": 407,
   "metadata": {
    "collapsed": false
   },
   "outputs": [],
   "source": [
    "desired_acceptance = 0.20\n",
    "eta_current = 0.48\n",
    "etas = [eta_current]\n",
    "accuracy = []\n",
    "while eta_current < 0.65:\n",
    "    func = lambda eta_0: ProbBinWithCorr2(eta_current, eta_0, N) - desired_acceptance\n",
    "    eta_new = newton_krylov(func, eta_current, method='lgmres')\n",
    "    accuracy.append(eta_new-eta_current)\n",
    "    if abs(ProbBinWithCorr2(eta_current, eta_new, N) - desired_acceptance) < 0.000001:\n",
    "        etas.append(float(eta_new))\n",
    "        eta_current = float(eta_new)\n",
    "    else:\n",
    "        raise ValueError('Solver did not find sufficient solution for neighboring volume fractions')\n",
    "etas = array(etas)\n",
    "num_etas = len(etas)"
   ]
  },
  {
   "cell_type": "code",
   "execution_count": 328,
   "metadata": {
    "collapsed": true
   },
   "outputs": [],
   "source": [
    "etas_file = open('extended_states_corr2.txt', 'w')\n",
    "etas_file.write(('acceptance = %f\\n' % desired_acceptance))\n",
    "etas_string = 'etas = (%s' % etas[0]\n",
    "for eta in etas[1:]:\n",
    "    etas_string = etas_string + ',' + str(eta)\n",
    "etas_string = etas_string + ')'\n",
    "etas_file.write(etas_string)\n",
    "etas_file.close()"
   ]
  },
  {
   "cell_type": "code",
   "execution_count": 384,
   "metadata": {
    "collapsed": false
   },
   "outputs": [
    {
     "data": {
      "text/plain": [
       "540"
      ]
     },
     "execution_count": 384,
     "metadata": {},
     "output_type": "execute_result"
    }
   ],
   "source": [
    "len(etas)"
   ]
  },
  {
   "cell_type": "code",
   "execution_count": null,
   "metadata": {
    "collapsed": true
   },
   "outputs": [],
   "source": []
  },
  {
   "cell_type": "markdown",
   "metadata": {},
   "source": [
    "### Third fit"
   ]
  },
  {
   "cell_type": "code",
   "execution_count": 414,
   "metadata": {
    "collapsed": true
   },
   "outputs": [],
   "source": [
    "from scipy.interpolate import Akima1DInterpolator"
   ]
  },
  {
   "cell_type": "code",
   "execution_count": 415,
   "metadata": {
    "collapsed": true
   },
   "outputs": [],
   "source": [
    "#find the index of eta=0.61 for max fit\n",
    "for i in range(len(etas)):\n",
    "    if etas[i] > 0.62:\n",
    "        index_eta_62 = i\n",
    "        break"
   ]
  },
  {
   "cell_type": "code",
   "execution_count": 416,
   "metadata": {
    "collapsed": false
   },
   "outputs": [
    {
     "data": {
      "text/plain": [
       "0.62010318290461064"
      ]
     },
     "execution_count": 416,
     "metadata": {},
     "output_type": "execute_result"
    }
   ],
   "source": [
    "etas[index_eta_62]"
   ]
  },
  {
   "cell_type": "code",
   "execution_count": 419,
   "metadata": {
    "collapsed": true
   },
   "outputs": [],
   "source": [
    "akima_corr_3 = AkimaModified(etas[:index_eta_62+1], df_s[:index_eta_62+1])"
   ]
  },
  {
   "cell_type": "code",
   "execution_count": 420,
   "metadata": {
    "collapsed": false
   },
   "outputs": [
    {
     "data": {
      "text/plain": [
       "0.015792031859513871"
      ]
     },
     "execution_count": 420,
     "metadata": {},
     "output_type": "execute_result"
    }
   ],
   "source": [
    "akima_corr_3.__call__(0.61)"
   ]
  },
  {
   "cell_type": "code",
   "execution_count": 421,
   "metadata": {
    "collapsed": true
   },
   "outputs": [],
   "source": [
    "def FreeEnergyBinWithCorr3(eta, N):   \n",
    "    F = FreeEnergyBinWithCorr2(eta, N) + float(N)*akima_corr_3(eta)\n",
    "    return F"
   ]
  },
  {
   "cell_type": "code",
   "execution_count": 422,
   "metadata": {
    "collapsed": true
   },
   "outputs": [],
   "source": [
    "def ProbBinWithCorr3(eta_cur, eta_new, N):\n",
    "    return exp(FreeEnergyBinWithCorr3(eta_cur, N) - FreeEnergyBinWithCorr3(eta_new, N))"
   ]
  },
  {
   "cell_type": "code",
   "execution_count": 423,
   "metadata": {
    "collapsed": true
   },
   "outputs": [],
   "source": [
    "desired_acceptance = 0.20\n",
    "eta_current = 0.48\n",
    "etas = [eta_current]\n",
    "accuracy = []\n",
    "while eta_current < 0.65:\n",
    "    func = lambda eta_0: ProbBinWithCorr3(eta_current, eta_0, N) - desired_acceptance\n",
    "    eta_new = newton_krylov(func, eta_current, method='lgmres')\n",
    "    accuracy.append(eta_new-eta_current)\n",
    "    if abs(ProbBinWithCorr3(eta_current, eta_new, N) - desired_acceptance) < 0.000001:\n",
    "        etas.append(float(eta_new))\n",
    "        eta_current = float(eta_new)\n",
    "    else:\n",
    "        raise ValueError('Solver did not find sufficient solution for neighboring volume fractions')\n",
    "etas = array(etas)\n",
    "num_etas = len(etas)"
   ]
  },
  {
   "cell_type": "code",
   "execution_count": 424,
   "metadata": {
    "collapsed": false
   },
   "outputs": [
    {
     "data": {
      "text/plain": [
       "559"
      ]
     },
     "execution_count": 424,
     "metadata": {},
     "output_type": "execute_result"
    }
   ],
   "source": [
    "len(etas)"
   ]
  },
  {
   "cell_type": "code",
   "execution_count": null,
   "metadata": {
    "collapsed": true
   },
   "outputs": [],
   "source": []
  },
  {
   "cell_type": "code",
   "execution_count": null,
   "metadata": {
    "collapsed": true
   },
   "outputs": [],
   "source": []
  },
  {
   "cell_type": "code",
   "execution_count": null,
   "metadata": {
    "collapsed": true
   },
   "outputs": [],
   "source": []
  },
  {
   "cell_type": "code",
   "execution_count": null,
   "metadata": {
    "collapsed": true
   },
   "outputs": [],
   "source": []
  },
  {
   "cell_type": "code",
   "execution_count": null,
   "metadata": {
    "collapsed": true
   },
   "outputs": [],
   "source": []
  },
  {
   "cell_type": "code",
   "execution_count": null,
   "metadata": {
    "collapsed": true
   },
   "outputs": [],
   "source": []
  },
  {
   "cell_type": "code",
   "execution_count": 428,
   "metadata": {
    "collapsed": false
   },
   "outputs": [
    {
     "data": {
      "text/plain": [
       "(0.55, 0.68)"
      ]
     },
     "execution_count": 428,
     "metadata": {},
     "output_type": "execute_result"
    },
    {
     "data": {
      "image/png": "[encoded data removed]",
      "text/plain": [
       "<matplotlib.figure.Figure at 0x420649e8>"
      ]
     },
     "metadata": {},
     "output_type": "display_data"
    }
   ],
   "source": [
    "#etas_2, accuracy_2 = etas, accuracy\n",
    "plt.scatter(etas_0[1:], accuracy_0)\n",
    "plt.scatter(etas_1[1:], accuracy_1)\n",
    "plt.scatter(etas_2[1:], accuracy_2)\n",
    "plt.scatter(etas[1:], accuracy)\n",
    "plt.ylim(0.0000, 0.0004)\n",
    "plt.xlim(0.55, 0.68)"
   ]
  },
  {
   "cell_type": "code",
   "execution_count": 182,
   "metadata": {
    "collapsed": false
   },
   "outputs": [
    {
     "data": {
      "text/plain": [
       "(0.47, 0.669)"
      ]
     },
     "execution_count": 182,
     "metadata": {},
     "output_type": "execute_result"
    },
    {
     "data": {
      "image/png": "[encoded data removed]",
      "text/plain": [
       "<matplotlib.figure.Figure at 0x3f643240>"
      ]
     },
     "metadata": {},
     "output_type": "display_data"
    }
   ],
   "source": [
    "plt.scatter(etas[1:], accuracy)\n",
    "plt.ylim(0, 0.0007)\n",
    "plt.xlim(0.47, 0.669)"
   ]
  },
  {
   "cell_type": "code",
   "execution_count": 123,
   "metadata": {
    "collapsed": false
   },
   "outputs": [
    {
     "data": {
      "text/plain": [
       "array([ 0.48      ,  0.48061506,  0.4812282 ,  0.48183944,  0.48244877,\n",
       "        0.48305621,  0.48366177,  0.48426581,  0.48486791,  0.48546714,\n",
       "        0.48606476,  0.48666108,  0.4872547 ,  0.4878466 ,  0.48843681,\n",
       "        0.48902547,  0.48961269,  0.49019779,  0.49078107,  0.49136286,\n",
       "        0.49194266,  0.49252152,  0.49309861,  0.49367335,  0.49424698,\n",
       "        0.49481902,  0.49538899,  0.49595727,  0.49652296,  0.49708738,\n",
       "        0.49765055,  0.49821156,  0.49877133,  0.499329  ,  0.49988502,\n",
       "        0.50043944,  0.50099215,  0.50154283,  0.50209237,  0.50263974,\n",
       "        0.5031867 ,  0.50373132,  0.50427401,  0.50481559,  0.50535521,\n",
       "        0.50589405,  0.50643089,  0.5069662 ,  0.5075    ,  0.50803237,\n",
       "        0.50856333,  0.5090931 ,  0.50962099,  0.51014756,  0.51067289,\n",
       "        0.51119623,  0.51171825,  0.51223835,  0.51275732,  0.51327473,\n",
       "        0.51379065,  0.51430509,  0.51481798,  0.51532946,  0.51583896,\n",
       "        0.51634748,  0.51685422,  0.51735985,  0.51786378,  0.51836657,\n",
       "        0.51886788,  0.51936786,  0.51986645,  0.52036379,  0.52086026,\n",
       "        0.52135477,  0.52184826,  0.5223401 ,  0.52283062,  0.5233196 ,\n",
       "        0.52380742,  0.52429345,  0.52477829,  0.52526166,  0.52574407,\n",
       "        0.52622502,  0.5267038 ,  0.52718244,  0.52765916,  0.52813479,\n",
       "        0.52860929,  0.5290827 ,  0.52955497,  0.53002596,  0.53049546,\n",
       "        0.53096405,  0.53143084,  0.53189634,  0.53236123,  0.53282424,\n",
       "        0.53328621,  0.53374675,  0.5342064 ,  0.5346645 ,  0.5351213 ,\n",
       "        0.53557658,  0.53603115,  0.53648458,  0.53693668,  0.53738777,\n",
       "        0.53783744,  0.53828582,  0.53873323,  0.53917981,  0.53962463,\n",
       "        0.5400684 ,  0.54051107,  0.54095296,  0.54139345,  0.5418328 ,\n",
       "        0.54227107,  0.54270803,  0.5431439 ,  0.54357827,  0.54401209,\n",
       "        0.54444436,  0.54487561,  0.5453058 ,  0.54573472,  0.54616278,\n",
       "        0.54658919,  0.54701427,  0.54743867,  0.54786207,  0.54828434,\n",
       "        0.54870588,  0.54912608,  0.54954521,  0.54996336,  0.55038014,\n",
       "        0.55079601,  0.55121072,  0.55162488,  0.55203783,  0.55244966,\n",
       "        0.55286019,  0.55326989,  0.55367853,  0.55408596,  0.55449269,\n",
       "        0.55489816,  0.55530298,  0.555707  ,  0.5561098 ,  0.55651175,\n",
       "        0.55691281,  0.55731264,  0.55771174,  0.55810948,  0.55850642,\n",
       "        0.55890232,  0.5592972 ,  0.55969091,  0.56008366,  0.5604753 ,\n",
       "        0.56086583,  0.5612554 ,  0.56164374,  0.56203108,  0.56241769,\n",
       "        0.56280341,  0.56318793,  0.56357171,  0.56395442,  0.56433625,\n",
       "        0.5647168 ,  0.5650966 ,  0.56547555,  0.56585321,  0.56623024,\n",
       "        0.56660637,  0.56698121,  0.56735521,  0.56772801,  0.56809979,\n",
       "        0.56847049,  0.56884056,  0.56921001,  0.56957825,  0.56994566,\n",
       "        0.570312  ,  0.57067727,  0.57104195,  0.57140576,  0.57176854,\n",
       "        0.57213081,  0.57249227,  0.57285317,  0.57321309,  0.57357239,\n",
       "        0.57393057,  0.57428785,  0.5746444 ,  0.57500021,  0.57535479,\n",
       "        0.57570876,  0.5760617 ,  0.576414  ,  0.57676508,  0.57711534,\n",
       "        0.57746451,  0.57781274,  0.57816012,  0.5785067 ,  0.57885219,\n",
       "        0.5791968 ,  0.57954058,  0.57988328,  0.58022534,  0.58056639,\n",
       "        0.58090681,  0.58124609,  0.58158469,  0.58192227,  0.58225899,\n",
       "        0.58259463,  0.58292947,  0.58326312,  0.58359596,  0.58392783,\n",
       "        0.58425885,  0.58458856,  0.58491716,  0.58524499,  0.58557174,\n",
       "        0.58589761,  0.58622279,  0.58654726,  0.58687096,  0.58719407,\n",
       "        0.58751623,  0.58783756,  0.58815783,  0.58847741,  0.58879626,\n",
       "        0.58911407,  0.58943104,  0.58974703,  0.59006184,  0.59037546,\n",
       "        0.59068829,  0.59100003,  0.59131088,  0.59162082,  0.59192985,\n",
       "        0.59223781,  0.59254488,  0.59285082,  0.59315598,  0.59346005,\n",
       "        0.5937633 ,  0.59406576,  0.59436702,  0.59466749,  0.59496669,\n",
       "        0.59526496,  0.59556204,  0.59585823,  0.59615351,  0.59644812,\n",
       "        0.59674157,  0.59703418,  0.59732579,  0.59761646,  0.59790631,\n",
       "        0.5981951 ,  0.59848311,  0.59876998,  0.59905614,  0.59934157,\n",
       "        0.59962589,  0.59990889,  0.60019107,  0.60047217,  0.60075226,\n",
       "        0.60103146,  0.60130994,  0.6015876 ,  0.60186439,  0.60214053,\n",
       "        0.60241576,  0.60268975,  0.60296301,  0.60323557,  0.60350729,\n",
       "        0.60377796,  0.60404754,  0.60431622,  0.60458412,  0.6048506 ,\n",
       "        0.60511619,  0.60538064,  0.60564405,  0.60590694,  0.60616884,\n",
       "        0.60642992,  0.6066903 ,  0.60695   ,  0.60720967,  0.60746873,\n",
       "        0.60772687,  0.60798422,  0.60824068,  0.60849665,  0.60875162,\n",
       "        0.60900559,  0.60925839,  0.60951003,  0.60976106,  0.61001115,\n",
       "        0.61025963,  0.6105074 ,  0.61075365,  0.61099841,  0.61124253,\n",
       "        0.61148601,  0.61172857,  0.61197102,  0.61221298,  0.61245411,\n",
       "        0.61269367,  0.61293192,  0.61316987,  0.61340707,  0.61364257,\n",
       "        0.61387732,  0.61411152,  0.61434291,  0.61457099,  0.6147975 ,\n",
       "        0.61502503,  0.6152519 ,  0.61547822,  0.61570398,  0.61592919,\n",
       "        0.61615384,  0.61637794,  0.61660148,  0.61682447,  0.61704691,\n",
       "        0.6172688 ,  0.61749013,  0.61771091,  0.61793114,  0.61815082,\n",
       "        0.61836994,  0.61858852,  0.61880655,  0.61902403,  0.61924095,\n",
       "        0.61945733,  0.61967316,  0.61988845,  0.62010318,  0.62031737,\n",
       "        0.62053101,  0.62074411,  0.62095666,  0.62116866,  0.62138012,\n",
       "        0.62159103,  0.62180141,  0.62201123,  0.62222052,  0.62242926,\n",
       "        0.62263746,  0.62284511,  0.62305223,  0.62325881,  0.62346484,\n",
       "        0.62367034,  0.62387529,  0.62407971,  0.62428359,  0.62448694,\n",
       "        0.62468974,  0.62489201,  0.62509374,  0.62529494,  0.6254956 ,\n",
       "        0.62569573,  0.62589533,  0.62609439,  0.62629292,  0.62649092,\n",
       "        0.62668839,  0.62688532,  0.62708173,  0.62727761,  0.62747295,\n",
       "        0.62766777,  0.62786207,  0.62805583,  0.62824907,  0.62844179,\n",
       "        0.62863397,  0.62882564,  0.62901678,  0.6292074 ,  0.6293975 ,\n",
       "        0.62958707,  0.62977613,  0.62996466,  0.63015268,  0.63034017,\n",
       "        0.63052715,  0.63071361,  0.63089956,  0.63108499,  0.6312699 ,\n",
       "        0.63145431,  0.63163819,  0.63182157,  0.63200443,  0.63218679,\n",
       "        0.63236863,  0.63254996,  0.63273079,  0.63291111,  0.63309092,\n",
       "        0.63327022,  0.63344902,  0.63362732,  0.63380511,  0.6339824 ,\n",
       "        0.63415919,  0.63433547,  0.63451126,  0.63468655,  0.63486134,\n",
       "        0.63503563,  0.63520943,  0.63538273,  0.63555553,  0.63572785,\n",
       "        0.63589966,  0.63607099,  0.63624183,  0.63641218,  0.63658204,\n",
       "        0.63675141,  0.63692029,  0.63708869,  0.6372566 ,  0.63742403,\n",
       "        0.63759097,  0.63775744,  0.63792342,  0.63808892,  0.63825394,\n",
       "        0.63841849,  0.63858255,  0.63874614,  0.63890926,  0.6390719 ,\n",
       "        0.63923407,  0.63939577,  0.639557  ,  0.63971775,  0.63987804,\n",
       "        0.64003786,  0.64019722,  0.6403561 ,  0.64051453,  0.64067249,\n",
       "        0.64082999,  0.64098702,  0.6411436 ,  0.64129972,  0.64145538,\n",
       "        0.64161058,  0.64176533,  0.64191962,  0.64207346,  0.64222685,\n",
       "        0.64237978,  0.64253227,  0.6426843 ,  0.64283589,  0.64298704,\n",
       "        0.64313773,  0.64328798,  0.64343779,  0.64358716,  0.64373608,\n",
       "        0.64388457,  0.64403262,  0.64418023,  0.6443274 ,  0.64447414,\n",
       "        0.64462044,  0.64476631,  0.64491175,  0.64505676,  0.64520134,\n",
       "        0.6453455 ,  0.64548922,  0.64563252,  0.6457754 ,  0.64591785,\n",
       "        0.64605988,  0.64620149,  0.64634268,  0.64648345,  0.6466238 ,\n",
       "        0.64676374,  0.64690326,  0.64704237,  0.64718106,  0.64731935,\n",
       "        0.64745722,  0.64759469,  0.64773175,  0.6478684 ,  0.64800464,\n",
       "        0.64814049,  0.64827593,  0.64841096,  0.6485456 ,  0.64867984,\n",
       "        0.64881368,  0.64894713,  0.64908018,  0.64921283,  0.64934509,\n",
       "        0.64947696,  0.64960844,  0.64973953,  0.64987023,  0.65000055])"
      ]
     },
     "execution_count": 123,
     "metadata": {},
     "output_type": "execute_result"
    }
   ],
   "source": [
    "etas"
   ]
  },
  {
   "cell_type": "code",
   "execution_count": null,
   "metadata": {
    "collapsed": true
   },
   "outputs": [],
   "source": []
  },
  {
   "cell_type": "code",
   "execution_count": 279,
   "metadata": {
    "collapsed": false
   },
   "outputs": [
    {
     "data": {
      "text/plain": [
       "540"
      ]
     },
     "execution_count": 279,
     "metadata": {},
     "output_type": "execute_result"
    }
   ],
   "source": [
    "num_etas"
   ]
  },
  {
   "cell_type": "code",
   "execution_count": 71,
   "metadata": {
    "collapsed": false
   },
   "outputs": [
    {
     "data": {
      "text/plain": [
       "array([ 0.48      ,  0.48061506,  0.4812282 ,  0.48183944,  0.48244877,\n",
       "        0.48305621,  0.48366177,  0.48426581,  0.48486791,  0.48546714,\n",
       "        0.48606476,  0.48666108,  0.4872547 ,  0.4878466 ,  0.48843681,\n",
       "        0.48902547,  0.48961269,  0.49019779,  0.49078107,  0.49136286,\n",
       "        0.49194266,  0.49252152,  0.49309861,  0.49367335,  0.49424698,\n",
       "        0.49481902,  0.49538899,  0.49595727,  0.49652296,  0.49708738,\n",
       "        0.49765055,  0.49821156,  0.49877133,  0.499329  ,  0.49988502,\n",
       "        0.50043944,  0.50099215,  0.50154283,  0.50209237,  0.50263974,\n",
       "        0.5031867 ,  0.50373132,  0.50427401,  0.50481559,  0.50535521,\n",
       "        0.50589405,  0.50643089,  0.5069662 ,  0.5075    ,  0.50803237,\n",
       "        0.50856333,  0.5090931 ,  0.50962099,  0.51014756,  0.51067289,\n",
       "        0.51119623,  0.51171825,  0.51223835,  0.51275732,  0.51327473,\n",
       "        0.51379065,  0.51430509,  0.51481798,  0.51532946,  0.51583896,\n",
       "        0.51634748,  0.51685422,  0.51735985,  0.51786378,  0.51836657,\n",
       "        0.51886788,  0.51936786,  0.51986645,  0.52036379,  0.52086026,\n",
       "        0.52135477,  0.52184826,  0.5223401 ,  0.52283062,  0.5233196 ,\n",
       "        0.52380742,  0.52429345,  0.52477829,  0.52526166,  0.52574407,\n",
       "        0.52622502,  0.5267038 ,  0.52718244,  0.52765916,  0.52813479,\n",
       "        0.52860929,  0.5290827 ,  0.52955497,  0.53002596,  0.53049546,\n",
       "        0.53096405,  0.53143084,  0.53189634,  0.53236123,  0.53282424,\n",
       "        0.53328621,  0.53374675,  0.5342064 ,  0.5346645 ,  0.5351213 ,\n",
       "        0.53557658,  0.53603115,  0.53648458,  0.53693668,  0.53738777,\n",
       "        0.53783744,  0.53828582,  0.53873323,  0.53917981,  0.53962463,\n",
       "        0.5400684 ,  0.54051107,  0.54095296,  0.54139345,  0.5418328 ,\n",
       "        0.54227107,  0.54270803,  0.5431439 ,  0.54357827,  0.54401209,\n",
       "        0.54444436,  0.54487561,  0.5453058 ,  0.54573472,  0.54616278,\n",
       "        0.54658919,  0.54701427,  0.54743867,  0.54786207,  0.54828434,\n",
       "        0.54870588,  0.54912608,  0.54954521,  0.54996336,  0.55038014,\n",
       "        0.55079601,  0.55121072,  0.55162488,  0.55203783,  0.55244966,\n",
       "        0.55286019,  0.55326989,  0.55367853,  0.55408596,  0.55449269,\n",
       "        0.55489816,  0.55530298,  0.555707  ,  0.5561098 ,  0.55651175,\n",
       "        0.55691281,  0.55731264,  0.55771174,  0.55810948,  0.55850642,\n",
       "        0.55890232,  0.5592972 ,  0.55969091,  0.56008366,  0.5604753 ,\n",
       "        0.56086583,  0.5612554 ,  0.56164374,  0.56203108,  0.56241769,\n",
       "        0.56280341,  0.56318793,  0.56357171,  0.56395442,  0.56433625,\n",
       "        0.5647168 ,  0.5650966 ,  0.56547555,  0.56585321,  0.56623024,\n",
       "        0.56660637,  0.56698121,  0.56735521,  0.56772801,  0.56809979,\n",
       "        0.56847049,  0.56884056,  0.56921001,  0.56957825,  0.56994566,\n",
       "        0.570312  ,  0.57067727,  0.57104195,  0.57140576,  0.57176854,\n",
       "        0.57213081,  0.57249227,  0.57285317,  0.57321309,  0.57357239,\n",
       "        0.57393057,  0.57428785,  0.5746444 ,  0.57500021,  0.57535479,\n",
       "        0.57570876,  0.5760617 ,  0.576414  ,  0.57676508,  0.57711534,\n",
       "        0.57746451,  0.57781274,  0.57816012,  0.5785067 ,  0.57885219,\n",
       "        0.5791968 ,  0.57954058,  0.57988328,  0.58022534,  0.58056639,\n",
       "        0.58090681,  0.58124609,  0.58158469,  0.58192227,  0.58225899,\n",
       "        0.58259463,  0.58292947,  0.58326312,  0.58359596,  0.58392783,\n",
       "        0.58425885,  0.58458856,  0.58491716,  0.58524499,  0.58557174,\n",
       "        0.58589761,  0.58622279,  0.58654726,  0.58687096,  0.58719407,\n",
       "        0.58751623,  0.58783756,  0.58815783,  0.58847741,  0.58879626,\n",
       "        0.58911407,  0.58943104,  0.58974703,  0.59006184,  0.59037546,\n",
       "        0.59068829,  0.59100003,  0.59131088,  0.59162082,  0.59192985,\n",
       "        0.59223781,  0.59254488,  0.59285082,  0.59315598,  0.59346005,\n",
       "        0.5937633 ,  0.59406576,  0.59436702,  0.59466749,  0.59496669,\n",
       "        0.59526496,  0.59556204,  0.59585823,  0.59615351,  0.59644812,\n",
       "        0.59674157,  0.59703418,  0.59732579,  0.59761646,  0.59790631,\n",
       "        0.5981951 ,  0.59848311,  0.59876998,  0.59905614,  0.59934157,\n",
       "        0.59962589,  0.59990889,  0.60019107,  0.60047217,  0.60075226,\n",
       "        0.60103146,  0.60130994,  0.6015876 ,  0.60186439,  0.60214053,\n",
       "        0.60241576,  0.60268975,  0.60296301,  0.60323557,  0.60350729,\n",
       "        0.60377796,  0.60404754,  0.60431622,  0.60458412,  0.6048506 ,\n",
       "        0.60511619,  0.60538064,  0.60564405,  0.60590694,  0.60616884,\n",
       "        0.60642992,  0.6066903 ,  0.60695   ,  0.60720967,  0.60746873,\n",
       "        0.60772687,  0.60798422,  0.60824068,  0.60849665,  0.60875162,\n",
       "        0.60900559,  0.60925839,  0.60951003,  0.60976106,  0.61001115,\n",
       "        0.61025963,  0.6105074 ,  0.61075365,  0.61099841,  0.61124253,\n",
       "        0.61148601,  0.61172857,  0.61197102,  0.61221298,  0.61245411,\n",
       "        0.61269367,  0.61293192,  0.61316987,  0.61340707,  0.61364257,\n",
       "        0.61387732,  0.61411152,  0.61434291,  0.61457099,  0.6147975 ,\n",
       "        0.61502503,  0.6152519 ,  0.61547822,  0.61570398,  0.61592919,\n",
       "        0.61615384,  0.61637794,  0.61660148,  0.61682447,  0.61704691,\n",
       "        0.6172688 ,  0.61749013,  0.61771091,  0.61793114,  0.61815082,\n",
       "        0.61836994,  0.61858852,  0.61880655,  0.61902403,  0.61924095,\n",
       "        0.61945733,  0.61967316,  0.61988845,  0.62010318,  0.62031737,\n",
       "        0.62053101,  0.62074411,  0.62095666,  0.62116866,  0.62138012,\n",
       "        0.62159103,  0.62180141,  0.62201123,  0.62222052,  0.62242926,\n",
       "        0.62263746,  0.62284511,  0.62305223,  0.62325881,  0.62346484,\n",
       "        0.62367034,  0.62387529,  0.62407971,  0.62428359,  0.62448694,\n",
       "        0.62468974,  0.62489201,  0.62509374,  0.62529494,  0.6254956 ,\n",
       "        0.62569573,  0.62589533,  0.62609439,  0.62629292,  0.62649092,\n",
       "        0.62668839,  0.62688532,  0.62708173,  0.62727761,  0.62747295,\n",
       "        0.62766777,  0.62786207,  0.62805583,  0.62824907,  0.62844179,\n",
       "        0.62863397,  0.62882564,  0.62901678,  0.6292074 ,  0.6293975 ,\n",
       "        0.62958707,  0.62977613,  0.62996466,  0.63015268,  0.63034017,\n",
       "        0.63052715,  0.63071361,  0.63089956,  0.63108499,  0.6312699 ,\n",
       "        0.63145431,  0.63163819,  0.63182157,  0.63200443,  0.63218679,\n",
       "        0.63236863,  0.63254996,  0.63273079,  0.63291111,  0.63309092,\n",
       "        0.63327022,  0.63344902,  0.63362732,  0.63380511,  0.6339824 ,\n",
       "        0.63415919,  0.63433547,  0.63451126,  0.63468655,  0.63486134,\n",
       "        0.63503563,  0.63520943,  0.63538273,  0.63555553,  0.63572785,\n",
       "        0.63589966,  0.63607099,  0.63624183,  0.63641218,  0.63658204,\n",
       "        0.63675141,  0.63692029,  0.63708869,  0.6372566 ,  0.63742403,\n",
       "        0.63759097,  0.63775744,  0.63792342,  0.63808892,  0.63825394,\n",
       "        0.63841849,  0.63858255,  0.63874614,  0.63890926,  0.6390719 ,\n",
       "        0.63923407,  0.63939577,  0.639557  ,  0.63971775,  0.63987804,\n",
       "        0.64003786,  0.64019722,  0.6403561 ,  0.64051453,  0.64067249,\n",
       "        0.64082999,  0.64098702,  0.6411436 ,  0.64129972,  0.64145538,\n",
       "        0.64161058,  0.64176533,  0.64191962,  0.64207346,  0.64222685,\n",
       "        0.64237978,  0.64253227,  0.6426843 ,  0.64283589,  0.64298704,\n",
       "        0.64313773,  0.64328798,  0.64343779,  0.64358716,  0.64373608,\n",
       "        0.64388457,  0.64403262,  0.64418023,  0.6443274 ,  0.64447414,\n",
       "        0.64462044,  0.64476631,  0.64491175,  0.64505676,  0.64520134,\n",
       "        0.6453455 ,  0.64548922,  0.64563252,  0.6457754 ,  0.64591785,\n",
       "        0.64605988,  0.64620149,  0.64634268,  0.64648345,  0.6466238 ,\n",
       "        0.64676374,  0.64690326,  0.64704237,  0.64718106,  0.64731935,\n",
       "        0.64745722,  0.64759469,  0.64773175,  0.6478684 ,  0.64800464,\n",
       "        0.64814049,  0.64827593,  0.64841096,  0.6485456 ,  0.64867984,\n",
       "        0.64881368,  0.64894713,  0.64908018,  0.64921283,  0.64934509,\n",
       "        0.64947696,  0.64960844,  0.64973953,  0.64987023,  0.65000055])"
      ]
     },
     "execution_count": 71,
     "metadata": {},
     "output_type": "execute_result"
    }
   ],
   "source": [
    "etas"
   ]
  },
  {
   "cell_type": "code",
   "execution_count": null,
   "metadata": {
    "collapsed": true
   },
   "outputs": [],
   "source": []
  },
  {
   "cell_type": "code",
   "execution_count": null,
   "metadata": {
    "collapsed": true
   },
   "outputs": [],
   "source": []
  },
  {
   "cell_type": "code",
   "execution_count": 336,
   "metadata": {
    "collapsed": false
   },
   "outputs": [
    {
     "data": {
      "text/plain": [
       "540"
      ]
     },
     "execution_count": 336,
     "metadata": {},
     "output_type": "execute_result"
    }
   ],
   "source": [
    "len(etas)"
   ]
  },
  {
   "cell_type": "code",
   "execution_count": null,
   "metadata": {
    "collapsed": true
   },
   "outputs": [],
   "source": []
  },
  {
   "cell_type": "code",
   "execution_count": null,
   "metadata": {
    "collapsed": true
   },
   "outputs": [],
   "source": []
  },
  {
   "cell_type": "code",
   "execution_count": null,
   "metadata": {
    "collapsed": true
   },
   "outputs": [],
   "source": []
  },
  {
   "cell_type": "code",
   "execution_count": null,
   "metadata": {
    "collapsed": true
   },
   "outputs": [],
   "source": []
  },
  {
   "cell_type": "code",
   "execution_count": null,
   "metadata": {
    "collapsed": true
   },
   "outputs": [],
   "source": []
  },
  {
   "cell_type": "code",
   "execution_count": null,
   "metadata": {
    "collapsed": true
   },
   "outputs": [],
   "source": [
    "major_ticks = np.arange(0.49, 0.62, 0.02)                                              \n",
    "minor_ticks = np.arange(0, 101, 5) "
   ]
  },
  {
   "cell_type": "code",
   "execution_count": 827,
   "metadata": {
    "collapsed": false
   },
   "outputs": [
    {
     "data": {
      "text/plain": [
       "(0.48, 0.62)"
      ]
     },
     "execution_count": 827,
     "metadata": {},
     "output_type": "execute_result"
    },
    {
     "data": {
      "image/png": "[encoded data removed]",
      "text/plain": [
       "<matplotlib.figure.Figure at 0x24529be0>"
      ]
     },
     "metadata": {},
     "output_type": "display_data"
    }
   ],
   "source": [
    "plt.plot(range(len(trajectory)), trajectory)\n",
    "plt.ylim(0.48, 0.62)\n",
    "#plt.xlim(2.12e5, 2.121e6)\n",
    "#plt.xscale('log')"
   ]
  },
  {
   "cell_type": "code",
   "execution_count": 434,
   "metadata": {
    "collapsed": false
   },
   "outputs": [
    {
     "data": {
      "text/plain": [
       "0.6610354452496926"
      ]
     },
     "execution_count": 434,
     "metadata": {},
     "output_type": "execute_result"
    }
   ],
   "source": [
    "max(trajectory)"
   ]
  },
  {
   "cell_type": "code",
   "execution_count": null,
   "metadata": {
    "collapsed": true
   },
   "outputs": [],
   "source": []
  },
  {
   "cell_type": "code",
   "execution_count": null,
   "metadata": {
    "collapsed": true
   },
   "outputs": [],
   "source": []
  },
  {
   "cell_type": "code",
   "execution_count": null,
   "metadata": {
    "collapsed": true
   },
   "outputs": [],
   "source": []
  },
  {
   "cell_type": "code",
   "execution_count": null,
   "metadata": {
    "collapsed": true
   },
   "outputs": [],
   "source": []
  },
  {
   "cell_type": "code",
   "execution_count": 610,
   "metadata": {
    "collapsed": false
   },
   "outputs": [
    {
     "data": {
      "text/plain": [
       "(0.55, 0.65)"
      ]
     },
     "execution_count": 610,
     "metadata": {},
     "output_type": "execute_result"
    },
    {
     "data": {
      "image/png": "[encoded data removed]",
      "text/plain": [
       "<matplotlib.figure.Figure at 0x30025f28>"
      ]
     },
     "metadata": {},
     "output_type": "display_data"
    }
   ],
   "source": [
    "plt.plot(range(len(trajectory_raw)), trajectory_raw)\n",
    "plt.ylim(0.55, 0.65)\n",
    "#plt.xlim(2.12e5, 2.121e6)\n",
    "#plt.xscale('log')"
   ]
  },
  {
   "cell_type": "code",
   "execution_count": 306,
   "metadata": {
    "collapsed": false
   },
   "outputs": [
    {
     "data": {
      "text/plain": [
       "[0.566224,\n",
       " 0.569569,\n",
       " 0.570302,\n",
       " 0.569936,\n",
       " 0.569201,\n",
       " 0.571031,\n",
       " 0.571757,\n",
       " 0.571394,\n",
       " 0.572479,\n",
       " 0.571031,\n",
       " 0.573197,\n",
       " 0.573555,\n",
       " 0.573197,\n",
       " 0.573912,\n",
       " 0.571394,\n",
       " 0.572118,\n",
       " 0.570302,\n",
       " 0.571031,\n",
       " 0.570302,\n",
       " 0.569936,\n",
       " 0.569201,\n",
       " 0.569201,\n",
       " 0.569569,\n",
       " 0.569201,\n",
       " 0.56772,\n",
       " 0.56772,\n",
       " 0.565848,\n",
       " 0.565848,\n",
       " 0.565092,\n",
       " 0.563951,\n",
       " 0.564333,\n",
       " 0.562417,\n",
       " 0.562031,\n",
       " 0.562417,\n",
       " 0.56547,\n",
       " 0.56547,\n",
       " 0.562802,\n",
       " 0.565848,\n",
       " 0.565848,\n",
       " 0.565848,\n",
       " 0.565848,\n",
       " 0.566599,\n",
       " 0.566974,\n",
       " 0.56772,\n",
       " 0.568462,\n",
       " 0.56772,\n",
       " 0.56772,\n",
       " 0.56772,\n",
       " 0.568462,\n",
       " 0.568092,\n",
       " 0.568462,\n",
       " 0.570302,\n",
       " 0.570667,\n",
       " 0.571031,\n",
       " 0.571757,\n",
       " 0.568832,\n",
       " 0.568462,\n",
       " 0.56772,\n",
       " 0.568092,\n",
       " 0.567347,\n",
       " 0.568462,\n",
       " 0.566224,\n",
       " 0.567347,\n",
       " 0.568092,\n",
       " 0.565848,\n",
       " 0.566224,\n",
       " 0.564713,\n",
       " 0.564333,\n",
       " 0.564713,\n",
       " 0.565092,\n",
       " 0.566224,\n",
       " 0.566599,\n",
       " 0.564713,\n",
       " 0.563951,\n",
       " 0.563569,\n",
       " 0.564333,\n",
       " 0.565092,\n",
       " 0.564333,\n",
       " 0.564713,\n",
       " 0.565092,\n",
       " 0.564333,\n",
       " 0.565092,\n",
       " 0.562417,\n",
       " 0.563951,\n",
       " 0.566224,\n",
       " 0.56772,\n",
       " 0.567347,\n",
       " 0.568092,\n",
       " 0.56772,\n",
       " 0.566974,\n",
       " 0.566599,\n",
       " 0.565848,\n",
       " 0.562802,\n",
       " 0.561256,\n",
       " 0.561644,\n",
       " 0.562802,\n",
       " 0.561256,\n",
       " 0.562031,\n",
       " 0.560086,\n",
       " 0.559694,\n",
       " 0.559694,\n",
       " 0.561256,\n",
       " 0.562031,\n",
       " 0.563186,\n",
       " 0.563186,\n",
       " 0.563569,\n",
       " 0.564713,\n",
       " 0.563569,\n",
       " 0.563569,\n",
       " 0.562802,\n",
       " 0.564713,\n",
       " 0.564333,\n",
       " 0.564713,\n",
       " 0.564713,\n",
       " 0.566974,\n",
       " 0.566599,\n",
       " 0.564713,\n",
       " 0.56547,\n",
       " 0.565092,\n",
       " 0.564333,\n",
       " 0.564333,\n",
       " 0.565848,\n",
       " 0.56547,\n",
       " 0.56547,\n",
       " 0.566224,\n",
       " 0.566599,\n",
       " 0.565848,\n",
       " 0.563951,\n",
       " 0.56547,\n",
       " 0.564713,\n",
       " 0.562417,\n",
       " 0.562417,\n",
       " 0.562802,\n",
       " 0.562417,\n",
       " 0.562031,\n",
       " 0.559694,\n",
       " 0.561256,\n",
       " 0.562031,\n",
       " 0.561644,\n",
       " 0.562802,\n",
       " 0.564333,\n",
       " 0.563951,\n",
       " 0.563569,\n",
       " 0.564333,\n",
       " 0.564713,\n",
       " 0.563951,\n",
       " 0.563951,\n",
       " 0.562802,\n",
       " 0.562802,\n",
       " 0.564713,\n",
       " 0.563569,\n",
       " 0.562802,\n",
       " 0.561644,\n",
       " 0.561256,\n",
       " 0.561256,\n",
       " 0.562417,\n",
       " 0.562802,\n",
       " 0.560867,\n",
       " 0.562417,\n",
       " 0.562802,\n",
       " 0.561644,\n",
       " 0.560477,\n",
       " 0.559301,\n",
       " 0.558512,\n",
       " 0.556922,\n",
       " 0.557719,\n",
       " 0.555316,\n",
       " 0.555719,\n",
       " 0.554506,\n",
       " 0.553284,\n",
       " 0.553693,\n",
       " 0.553284,\n",
       " 0.554912,\n",
       " 0.558116,\n",
       " 0.557321,\n",
       " 0.558907,\n",
       " 0.557321,\n",
       " 0.556522,\n",
       " 0.556922,\n",
       " 0.555316,\n",
       " 0.555316,\n",
       " 0.556522,\n",
       " 0.555316,\n",
       " 0.556121,\n",
       " 0.5541,\n",
       " 0.554506,\n",
       " 0.556121,\n",
       " 0.555316,\n",
       " 0.554506,\n",
       " 0.5541,\n",
       " 0.553693,\n",
       " 0.556121,\n",
       " 0.558116,\n",
       " 0.556522,\n",
       " 0.556121,\n",
       " 0.556522,\n",
       " 0.555316,\n",
       " 0.555719,\n",
       " 0.5541,\n",
       " 0.554912,\n",
       " 0.552053,\n",
       " 0.55164,\n",
       " 0.552053,\n",
       " 0.552053,\n",
       " 0.553693,\n",
       " 0.556121,\n",
       " 0.556121,\n",
       " 0.556922,\n",
       " 0.555316,\n",
       " 0.553284,\n",
       " 0.553693,\n",
       " 0.552053,\n",
       " 0.553284,\n",
       " 0.553284,\n",
       " 0.552465,\n",
       " 0.552875,\n",
       " 0.5541,\n",
       " 0.552875,\n",
       " 0.552875,\n",
       " 0.55164,\n",
       " 0.550812,\n",
       " 0.552465,\n",
       " 0.554912,\n",
       " 0.553693,\n",
       " 0.553693,\n",
       " 0.552465,\n",
       " 0.552465,\n",
       " 0.552875,\n",
       " 0.554912,\n",
       " 0.552465,\n",
       " 0.554506,\n",
       " 0.553284,\n",
       " 0.5541,\n",
       " 0.5541,\n",
       " 0.555316,\n",
       " 0.552465,\n",
       " 0.551227,\n",
       " 0.551227,\n",
       " 0.552875,\n",
       " 0.552053,\n",
       " 0.551227,\n",
       " 0.548722,\n",
       " 0.548301,\n",
       " 0.548722,\n",
       " 0.547031,\n",
       " 0.547455,\n",
       " 0.547879,\n",
       " 0.547031,\n",
       " 0.547455,\n",
       " 0.547879,\n",
       " 0.547455,\n",
       " 0.545751,\n",
       " 0.546605,\n",
       " 0.547455,\n",
       " 0.548301,\n",
       " 0.548722,\n",
       " 0.547879,\n",
       " 0.548722,\n",
       " 0.549979,\n",
       " 0.547879,\n",
       " 0.547455,\n",
       " 0.546605,\n",
       " 0.545322,\n",
       " 0.544892,\n",
       " 0.545322,\n",
       " 0.546178,\n",
       " 0.548301,\n",
       " 0.547031,\n",
       " 0.547879,\n",
       " 0.547879,\n",
       " 0.545751,\n",
       " 0.547031,\n",
       " 0.547879,\n",
       " 0.551227,\n",
       " 0.550812,\n",
       " 0.548722,\n",
       " 0.548722,\n",
       " 0.549561,\n",
       " 0.548301,\n",
       " 0.549142,\n",
       " 0.549142,\n",
       " 0.547879,\n",
       " 0.548301,\n",
       " 0.548722,\n",
       " 0.548301,\n",
       " 0.548722,\n",
       " 0.547879,\n",
       " 0.54446,\n",
       " 0.545322,\n",
       " 0.545322,\n",
       " 0.546178,\n",
       " 0.546605,\n",
       " 0.547879,\n",
       " 0.549142,\n",
       " 0.548301,\n",
       " 0.549561,\n",
       " 0.547879,\n",
       " 0.550812,\n",
       " 0.552465,\n",
       " 0.552875,\n",
       " 0.552875,\n",
       " 0.554506,\n",
       " 0.555316,\n",
       " 0.555719,\n",
       " 0.557321,\n",
       " 0.558116,\n",
       " 0.560086,\n",
       " 0.559301,\n",
       " 0.559694,\n",
       " 0.558512,\n",
       " 0.558116,\n",
       " 0.555719,\n",
       " 0.556922,\n",
       " 0.556121,\n",
       " 0.555316,\n",
       " 0.554912,\n",
       " 0.5541,\n",
       " 0.552875,\n",
       " 0.551227,\n",
       " 0.549142,\n",
       " 0.547455,\n",
       " 0.548301,\n",
       " 0.549979,\n",
       " 0.550396,\n",
       " 0.547455,\n",
       " 0.548722,\n",
       " 0.548301,\n",
       " 0.548301,\n",
       " 0.547879,\n",
       " 0.547455,\n",
       " 0.549561,\n",
       " 0.549979,\n",
       " 0.550396,\n",
       " 0.550396,\n",
       " 0.549561,\n",
       " 0.549142,\n",
       " 0.550812,\n",
       " 0.548722,\n",
       " 0.549561,\n",
       " 0.545751,\n",
       " 0.547031,\n",
       " 0.545751,\n",
       " 0.544892,\n",
       " 0.545751,\n",
       " 0.544028,\n",
       " 0.545322,\n",
       " 0.547031,\n",
       " 0.547879,\n",
       " 0.549979,\n",
       " 0.55164,\n",
       " 0.553693,\n",
       " 0.552053,\n",
       " 0.55164,\n",
       " 0.55164,\n",
       " 0.550812,\n",
       " 0.551227,\n",
       " 0.550396,\n",
       " 0.548301,\n",
       " 0.549979,\n",
       " 0.549561,\n",
       " 0.549561,\n",
       " 0.550396,\n",
       " 0.55164,\n",
       " 0.549979,\n",
       " 0.546178,\n",
       " 0.545751,\n",
       " 0.547879,\n",
       " 0.547455,\n",
       " 0.549561,\n",
       " 0.552053,\n",
       " 0.553284,\n",
       " 0.554506,\n",
       " 0.5541,\n",
       " 0.5541,\n",
       " 0.5541,\n",
       " 0.550396,\n",
       " 0.549142,\n",
       " 0.549142,\n",
       " 0.549561,\n",
       " 0.549979,\n",
       " 0.552053,\n",
       " 0.5541,\n",
       " 0.555316,\n",
       " 0.5541,\n",
       " 0.5541,\n",
       " 0.554912,\n",
       " 0.552875,\n",
       " 0.552465,\n",
       " 0.550396,\n",
       " 0.55164,\n",
       " 0.551227,\n",
       " 0.551227,\n",
       " 0.551227,\n",
       " 0.549561,\n",
       " 0.550812,\n",
       " 0.549979,\n",
       " 0.549979,\n",
       " 0.549142,\n",
       " 0.550396,\n",
       " 0.551227,\n",
       " 0.552875,\n",
       " 0.553284,\n",
       " 0.5541,\n",
       " 0.553693,\n",
       " 0.5541,\n",
       " 0.555316,\n",
       " 0.553284,\n",
       " 0.553284,\n",
       " 0.554912,\n",
       " 0.554912,\n",
       " 0.554912,\n",
       " 0.554912,\n",
       " 0.556522,\n",
       " 0.555719,\n",
       " 0.557719,\n",
       " 0.559301,\n",
       " 0.562417,\n",
       " 0.560477,\n",
       " 0.558907,\n",
       " 0.556922,\n",
       " 0.557719,\n",
       " 0.558116,\n",
       " 0.558116,\n",
       " 0.559694,\n",
       " 0.560086,\n",
       " 0.559694,\n",
       " 0.558907,\n",
       " 0.558512,\n",
       " 0.558512,\n",
       " 0.559301,\n",
       " 0.559694,\n",
       " 0.559694,\n",
       " 0.560867,\n",
       " 0.559301,\n",
       " 0.557321,\n",
       " 0.558512,\n",
       " 0.557719,\n",
       " 0.555719,\n",
       " 0.554912,\n",
       " 0.553693,\n",
       " 0.553693,\n",
       " 0.55164,\n",
       " 0.554506,\n",
       " 0.5541,\n",
       " 0.554506,\n",
       " 0.554912,\n",
       " 0.554912,\n",
       " 0.556522,\n",
       " 0.556121,\n",
       " 0.555719,\n",
       " 0.557321,\n",
       " 0.556522,\n",
       " 0.557321,\n",
       " 0.558512,\n",
       " 0.557719,\n",
       " 0.558512,\n",
       " 0.557719,\n",
       " 0.558512,\n",
       " 0.556522,\n",
       " 0.556922,\n",
       " 0.558116,\n",
       " 0.556522,\n",
       " 0.558116,\n",
       " 0.556522,\n",
       " 0.557719,\n",
       " 0.558512,\n",
       " 0.557719,\n",
       " 0.557719,\n",
       " 0.556522,\n",
       " 0.557321,\n",
       " 0.558512,\n",
       " 0.556922,\n",
       " 0.556121,\n",
       " 0.554506,\n",
       " 0.554912,\n",
       " 0.552875,\n",
       " 0.555719,\n",
       " 0.557321,\n",
       " 0.558116,\n",
       " 0.558512,\n",
       " 0.557719,\n",
       " 0.558512,\n",
       " 0.560477,\n",
       " 0.560867,\n",
       " 0.561256,\n",
       " 0.560086,\n",
       " 0.560867,\n",
       " 0.560086,\n",
       " 0.558907,\n",
       " 0.556922,\n",
       " 0.556922,\n",
       " 0.557321,\n",
       " 0.557719,\n",
       " 0.560086,\n",
       " 0.557719,\n",
       " 0.556522,\n",
       " 0.557321,\n",
       " 0.555719,\n",
       " 0.556922,\n",
       " 0.558512,\n",
       " 0.558512,\n",
       " 0.559694,\n",
       " 0.560086,\n",
       " 0.560086,\n",
       " 0.560477,\n",
       " 0.560477,\n",
       " 0.562417,\n",
       " 0.565092,\n",
       " 0.565092,\n",
       " 0.565092,\n",
       " 0.56547,\n",
       " 0.56547,\n",
       " 0.565092,\n",
       " 0.56547,\n",
       " 0.564333,\n",
       " 0.562802,\n",
       " 0.561644,\n",
       " 0.561256,\n",
       " 0.561644,\n",
       " 0.562031,\n",
       " 0.561644,\n",
       " 0.560867,\n",
       " 0.562417,\n",
       " 0.563186,\n",
       " 0.563186,\n",
       " 0.562417,\n",
       " 0.562031,\n",
       " 0.560477,\n",
       " 0.562031,\n",
       " 0.562802,\n",
       " 0.562031,\n",
       " 0.563569,\n",
       " 0.562417,\n",
       " 0.564713,\n",
       " 0.565848,\n",
       " 0.565848,\n",
       " 0.56547,\n",
       " 0.565848,\n",
       " 0.56772,\n",
       " 0.566224,\n",
       " 0.566224,\n",
       " 0.566599,\n",
       " 0.566599,\n",
       " 0.56772,\n",
       " 0.566974,\n",
       " 0.567347,\n",
       " 0.568092,\n",
       " 0.565848,\n",
       " 0.566224,\n",
       " 0.565848,\n",
       " 0.566224,\n",
       " 0.562802,\n",
       " 0.562417,\n",
       " 0.562417,\n",
       " 0.563951,\n",
       " 0.564713,\n",
       " 0.56547,\n",
       " 0.564333,\n",
       " 0.565848,\n",
       " 0.566599,\n",
       " 0.567347,\n",
       " 0.566599,\n",
       " 0.568092,\n",
       " 0.568832,\n",
       " 0.569201,\n",
       " 0.567347,\n",
       " 0.568832,\n",
       " 0.569569,\n",
       " 0.568462,\n",
       " 0.568462,\n",
       " 0.569201,\n",
       " 0.569201,\n",
       " 0.570302,\n",
       " 0.568092,\n",
       " 0.569569,\n",
       " 0.568092,\n",
       " 0.569936,\n",
       " 0.571031,\n",
       " 0.569936,\n",
       " 0.570302,\n",
       " 0.569936,\n",
       " 0.570667,\n",
       " 0.569936,\n",
       " 0.570667,\n",
       " 0.568462,\n",
       " 0.568462,\n",
       " 0.568832,\n",
       " 0.568462,\n",
       " 0.568832,\n",
       " 0.568462,\n",
       " 0.56772,\n",
       " 0.566974,\n",
       " 0.566224,\n",
       " 0.567347,\n",
       " 0.567347,\n",
       " 0.566599,\n",
       " 0.566974,\n",
       " 0.566974,\n",
       " 0.566599,\n",
       " 0.565848,\n",
       " 0.564713,\n",
       " 0.565092,\n",
       " 0.564713,\n",
       " 0.562802,\n",
       " 0.560867,\n",
       " 0.561644,\n",
       " 0.562417,\n",
       " 0.561256,\n",
       " 0.558116,\n",
       " 0.558116,\n",
       " 0.559694,\n",
       " 0.557719,\n",
       " 0.557719,\n",
       " 0.556121,\n",
       " 0.554912,\n",
       " 0.554912,\n",
       " 0.553693,\n",
       " 0.554912,\n",
       " 0.555316,\n",
       " 0.555316,\n",
       " 0.555719,\n",
       " 0.556121,\n",
       " 0.552465,\n",
       " 0.553284,\n",
       " 0.552053,\n",
       " 0.552465,\n",
       " 0.554506,\n",
       " 0.5541,\n",
       " 0.552875,\n",
       " 0.553693,\n",
       " 0.554912,\n",
       " 0.557719,\n",
       " 0.559301,\n",
       " 0.560477,\n",
       " 0.558116,\n",
       " 0.561256,\n",
       " 0.560477,\n",
       " 0.560086,\n",
       " 0.560867,\n",
       " 0.560477,\n",
       " 0.560086,\n",
       " 0.559301,\n",
       " 0.558907,\n",
       " 0.558907,\n",
       " 0.557321,\n",
       " 0.558116,\n",
       " 0.559301,\n",
       " 0.560477,\n",
       " 0.561256,\n",
       " 0.561644,\n",
       " 0.563951,\n",
       " 0.563186,\n",
       " 0.562802,\n",
       " 0.563569,\n",
       " 0.564713,\n",
       " 0.564713,\n",
       " 0.564333,\n",
       " 0.562417,\n",
       " 0.562802,\n",
       " 0.563569,\n",
       " 0.563569,\n",
       " 0.563951,\n",
       " 0.564713,\n",
       " 0.563186,\n",
       " 0.560477,\n",
       " 0.560477,\n",
       " 0.561644,\n",
       " 0.560867,\n",
       " 0.562417,\n",
       " 0.562031,\n",
       " 0.562031,\n",
       " 0.562417,\n",
       " 0.563951,\n",
       " 0.564333,\n",
       " 0.564333,\n",
       " 0.565092,\n",
       " 0.562417,\n",
       " 0.563569,\n",
       " 0.566224,\n",
       " 0.566224,\n",
       " 0.563951,\n",
       " 0.562417,\n",
       " 0.563186,\n",
       " 0.562417,\n",
       " 0.563186,\n",
       " 0.56547,\n",
       " 0.563951,\n",
       " 0.563569,\n",
       " 0.563569,\n",
       " 0.563186,\n",
       " 0.562031,\n",
       " 0.561256,\n",
       " 0.560477,\n",
       " 0.558907,\n",
       " 0.558907,\n",
       " 0.558116,\n",
       " 0.556922,\n",
       " 0.555316,\n",
       " 0.555719,\n",
       " 0.558116,\n",
       " 0.558512,\n",
       " 0.560477,\n",
       " 0.560867,\n",
       " 0.560867,\n",
       " 0.559301,\n",
       " 0.560477,\n",
       " 0.560086,\n",
       " 0.558907,\n",
       " 0.558512,\n",
       " 0.559301,\n",
       " 0.559694,\n",
       " 0.559694,\n",
       " 0.561256,\n",
       " 0.562031,\n",
       " 0.563951,\n",
       " 0.563951,\n",
       " 0.564713,\n",
       " 0.563186,\n",
       " 0.562802,\n",
       " 0.561256,\n",
       " 0.560086,\n",
       " 0.561256,\n",
       " 0.559301,\n",
       " 0.558907,\n",
       " 0.560086,\n",
       " 0.559694,\n",
       " 0.559694,\n",
       " 0.560867,\n",
       " 0.562031,\n",
       " 0.559694,\n",
       " 0.559301,\n",
       " 0.558907,\n",
       " 0.560867,\n",
       " 0.562802,\n",
       " 0.564333,\n",
       " 0.564333,\n",
       " 0.56547,\n",
       " 0.563951,\n",
       " 0.562802,\n",
       " 0.563186,\n",
       " 0.561256,\n",
       " 0.563569,\n",
       " 0.564713,\n",
       " 0.565092,\n",
       " 0.565848,\n",
       " 0.565092,\n",
       " 0.565848,\n",
       " 0.563951,\n",
       " 0.566224,\n",
       " 0.56772,\n",
       " 0.565848,\n",
       " 0.565848,\n",
       " 0.565848,\n",
       " 0.56547,\n",
       " 0.565848,\n",
       " 0.566224,\n",
       " 0.566599,\n",
       " 0.567347,\n",
       " 0.565848,\n",
       " 0.568832,\n",
       " 0.568092,\n",
       " 0.569936,\n",
       " 0.569201,\n",
       " 0.566599,\n",
       " 0.566599,\n",
       " 0.567347,\n",
       " 0.566224,\n",
       " 0.564713,\n",
       " 0.563951,\n",
       " 0.561644,\n",
       " 0.562417,\n",
       " 0.562417,\n",
       " 0.565848,\n",
       " 0.565848,\n",
       " 0.567347,\n",
       " 0.567347,\n",
       " 0.566974,\n",
       " 0.566224,\n",
       " 0.56547,\n",
       " 0.564713,\n",
       " 0.56547,\n",
       " 0.565848,\n",
       " 0.566974,\n",
       " 0.569569,\n",
       " 0.56772,\n",
       " 0.567347,\n",
       " 0.564713,\n",
       " 0.565848,\n",
       " 0.566224,\n",
       " 0.563186,\n",
       " 0.562417,\n",
       " 0.562031,\n",
       " 0.560867,\n",
       " 0.562031,\n",
       " 0.560867,\n",
       " 0.559301,\n",
       " 0.560086,\n",
       " 0.559694,\n",
       " 0.557719,\n",
       " 0.558907,\n",
       " 0.558116,\n",
       " 0.557719,\n",
       " 0.558116,\n",
       " 0.556922,\n",
       " 0.558116,\n",
       " 0.558116,\n",
       " 0.558116,\n",
       " 0.557719,\n",
       " 0.559301,\n",
       " 0.559694,\n",
       " 0.559301,\n",
       " 0.557719,\n",
       " 0.556121,\n",
       " 0.558907,\n",
       " 0.559694,\n",
       " 0.559301,\n",
       " 0.561256,\n",
       " 0.560867,\n",
       " 0.560867,\n",
       " 0.560477,\n",
       " 0.562031,\n",
       " 0.563186,\n",
       " 0.564333,\n",
       " 0.564333,\n",
       " 0.564333,\n",
       " 0.564713,\n",
       " 0.564713,\n",
       " 0.563951,\n",
       " 0.563951,\n",
       " 0.563951,\n",
       " 0.563186,\n",
       " 0.563569,\n",
       " 0.564713,\n",
       " 0.566599,\n",
       " 0.568092,\n",
       " 0.568092,\n",
       " 0.568092,\n",
       " 0.569201,\n",
       " 0.569201,\n",
       " 0.567347,\n",
       " 0.566599,\n",
       " 0.567347,\n",
       " 0.568832,\n",
       " 0.567347,\n",
       " 0.567347,\n",
       " 0.564333,\n",
       " 0.562417,\n",
       " 0.562802,\n",
       " 0.563186,\n",
       " 0.562031,\n",
       " 0.561644,\n",
       " 0.562417,\n",
       " 0.561644,\n",
       " 0.560477,\n",
       " 0.560477,\n",
       " 0.562031,\n",
       " 0.562417,\n",
       " 0.561256,\n",
       " 0.561644,\n",
       " 0.563569,\n",
       " 0.564333,\n",
       " 0.566599,\n",
       " 0.567347,\n",
       " 0.565848,\n",
       " 0.564333,\n",
       " 0.563951,\n",
       " 0.563951,\n",
       " 0.563569,\n",
       " 0.563569,\n",
       " 0.563186,\n",
       " 0.563569,\n",
       " 0.564333,\n",
       " 0.561644,\n",
       " 0.562417,\n",
       " 0.562417,\n",
       " 0.562417,\n",
       " 0.563951,\n",
       " 0.563951,\n",
       " 0.562802,\n",
       " 0.561256,\n",
       " 0.560086,\n",
       " 0.558116,\n",
       " 0.558907,\n",
       " 0.557719,\n",
       " 0.558116,\n",
       " 0.557719,\n",
       " 0.556922,\n",
       " 0.557719,\n",
       " 0.558907,\n",
       " 0.558116,\n",
       " 0.556121,\n",
       " 0.554912,\n",
       " 0.555316,\n",
       " 0.555316,\n",
       " 0.554506,\n",
       " 0.553693,\n",
       " 0.554912,\n",
       " 0.555316,\n",
       " 0.554912,\n",
       " 0.553693,\n",
       " 0.555316,\n",
       " 0.556522,\n",
       " 0.556522,\n",
       " 0.556922,\n",
       " 0.558116,\n",
       " 0.557719,\n",
       " 0.556922,\n",
       " 0.560867,\n",
       " 0.559694,\n",
       " 0.562031,\n",
       " 0.558907,\n",
       " 0.558512,\n",
       " 0.558907,\n",
       " 0.560477,\n",
       " 0.561644,\n",
       " 0.562417,\n",
       " 0.565092,\n",
       " 0.564333,\n",
       " 0.563186,\n",
       " 0.563186,\n",
       " 0.561256,\n",
       " 0.562031,\n",
       " 0.562031,\n",
       " 0.561256,\n",
       " 0.560086,\n",
       " 0.560867,\n",
       " 0.562417,\n",
       " 0.562802,\n",
       " 0.563186,\n",
       " 0.562802,\n",
       " 0.563569,\n",
       " 0.563951,\n",
       " 0.564333,\n",
       " 0.563569,\n",
       " 0.562417,\n",
       " 0.563186,\n",
       " 0.563569,\n",
       " 0.563186,\n",
       " 0.562802,\n",
       " 0.562802,\n",
       " 0.560477,\n",
       " 0.561644,\n",
       " 0.562031,\n",
       " 0.561256,\n",
       " 0.559694,\n",
       " 0.557321,\n",
       " 0.555316,\n",
       " 0.554506,\n",
       " 0.5541,\n",
       " 0.553284,\n",
       " 0.553284,\n",
       " 0.554506,\n",
       " 0.555719,\n",
       " 0.555316,\n",
       " 0.556121,\n",
       " 0.554506,\n",
       " 0.552875,\n",
       " 0.553693,\n",
       " 0.553693,\n",
       " 0.555316,\n",
       " 0.554506,\n",
       " 0.553284,\n",
       " 0.550396,\n",
       " 0.551227,\n",
       " 0.552053,\n",
       " 0.550396,\n",
       " 0.547879,\n",
       " 0.546605,\n",
       " 0.547455,\n",
       " 0.548301,\n",
       " 0.546605,\n",
       " 0.544892,\n",
       " 0.54446,\n",
       " 0.544892,\n",
       " 0.544028,\n",
       " 0.544892,\n",
       " 0.545322,\n",
       " 0.544028,\n",
       " 0.54446,\n",
       " 0.547455,\n",
       " 0.547879,\n",
       " 0.550812,\n",
       " 0.548301,\n",
       " 0.547031,\n",
       " 0.547455,\n",
       " 0.548722,\n",
       " 0.549142,\n",
       " 0.552053,\n",
       " 0.553284,\n",
       " 0.553693,\n",
       " 0.555719,\n",
       " 0.556522,\n",
       " 0.557321,\n",
       " 0.556922,\n",
       " 0.560867,\n",
       " 0.561256,\n",
       " 0.560086,\n",
       " 0.559694,\n",
       " 0.560867,\n",
       " 0.560867,\n",
       " ...]"
      ]
     },
     "execution_count": 306,
     "metadata": {},
     "output_type": "execute_result"
    }
   ],
   "source": [
    "trajectory_raw[10000:]"
   ]
  },
  {
   "cell_type": "code",
   "execution_count": null,
   "metadata": {
    "collapsed": true
   },
   "outputs": [],
   "source": []
  },
  {
   "cell_type": "code",
   "execution_count": 1741,
   "metadata": {
    "collapsed": true
   },
   "outputs": [],
   "source": [
    "from itertools import combinations"
   ]
  },
  {
   "cell_type": "code",
   "execution_count": 1742,
   "metadata": {
    "collapsed": true
   },
   "outputs": [],
   "source": [
    "from scipy.optimize import fsolve, newton_krylov"
   ]
  },
  {
   "cell_type": "code",
   "execution_count": 2000,
   "metadata": {
    "collapsed": true
   },
   "outputs": [],
   "source": [
    "def CPD(d_min, d_max, d):\n",
    "    A = (2.0*(d_max**2.0)*(d_min**2.0))/(d_max**2.0 - d_min**2.0)\n",
    "    return (1.0/2.0)*A*(1.0/(d_min**2.0) - 1.0/(d**2.0))"
   ]
  },
  {
   "cell_type": "code",
   "execution_count": 2034,
   "metadata": {
    "collapsed": false
   },
   "outputs": [],
   "source": [
    "N=128 #128\n",
    "d_min = 1.0\n",
    "#d_max = d_min/0.4492\n",
    "#d_max = d_min/0.35\n",
    "d_max = d_min/0.52\n",
    "#d_max = d_min/0.2\n",
    "\n",
    "ds = []\n",
    "\n",
    "#first point\n",
    "total_prob = (1.0/float(N))/2.0\n",
    "func = lambda d: CPD(d_min, d_max, d) - total_prob\n",
    "d_new = newton_krylov(func, d_min, method='lgmres')\n",
    "ds = [float(d_new)]\n",
    "\n",
    "#rest of the points\n",
    "for i in range(1,N):\n",
    "    total_prob = (1.0/float(N))/2.0 + float(i)*(1.0/float(N))\n",
    "    func = lambda d: (CPD(d_min, d_max, d) - total_prob)**2.0\n",
    "    d_new = newton_krylov(func, d_new, method='lgmres')\n",
    "    if abs(func(d_new)) < 0.00001:\n",
    "        ds.append(float(d_new))\n",
    "    else:\n",
    "        raise ValueError('Solver did not find sufficient solution for neighboring volume fractions')"
   ]
  },
  {
   "cell_type": "code",
   "execution_count": 1874,
   "metadata": {
    "collapsed": false,
    "scrolled": true
   },
   "outputs": [
    {
     "data": {
      "text/plain": [
       "128"
      ]
     },
     "execution_count": 1874,
     "metadata": {},
     "output_type": "execute_result"
    }
   ],
   "source": [
    "len(ds)"
   ]
  },
  {
   "cell_type": "code",
   "execution_count": 2002,
   "metadata": {
    "collapsed": false
   },
   "outputs": [],
   "source": [
    "letter_combos = combinations('ABCDEFGHIJKLMNOPQRSTUVWXYZ', 3)\n",
    "system_stats = \"\"\n",
    "for d in ds:\n",
    "    atom = ''.join(next(letter_combos))\n",
    "    system_stats = system_stats + (\"(%s,%f,%i) \" % (atom,d,1))"
   ]
  },
  {
   "cell_type": "code",
   "execution_count": 2035,
   "metadata": {
    "collapsed": false
   },
   "outputs": [
    {
     "data": {
      "text/plain": [
       "'(ABC,1.001718,1) (ABD,1.004309,1) (ABE,1.007577,1) (ABF,1.011630,1) (ABG,1.014741,1) (ABH,1.018813,1) (ABI,1.021984,1) (ABJ,1.026142,1) (ABK,1.029381,1) (ABL,1.033630,1) (ABM,1.036941,1) (ABN,1.041285,1) (ABO,1.044670,1) (ABP,1.049112,1) (ABQ,1.052574,1) (ABR,1.057119,1) (ABS,1.060661,1) (ABT,1.065311,1) (ABU,1.068937,1) (ABV,1.073698,1) (ABW,1.077410,1) (ABX,1.082285,1) (ABY,1.086088,1) (ABZ,1.091082,1) (ACD,1.094978,1) (ACE,1.100097,1) (ACF,1.104091,1) (ACG,1.109339,1) (ACH,1.113435,1) (ACI,1.118818,1) (ACJ,1.123020,1) (ACK,1.128544,1) (ACL,1.132857,1) (ACM,1.138529,1) (ACN,1.142957,1) (ACO,1.148783,1) (ACP,1.153333,1) (ACQ,1.159319,1) (ACR,1.163996,1) (ACS,1.170151,1) (ACT,1.174960,1) (ACU,1.181292,1) (ACV,1.186240,1) (ACW,1.192757,1) (ACX,1.197852,1) (ACY,1.204563,1) (ACZ,1.209811,1) (ADE,1.216727,1) (ADF,1.222136,1) (ADG,1.229266,1) (ADH,1.234845,1) (ADI,1.242202,1) (ADJ,1.247959,1) (ADK,1.255554,1) (ADL,1.261500,1) (ADM,1.269347,1) (ADN,1.275492,1) (ADO,1.283604,1) (ADP,1.289959,1) (ADQ,1.298353,1) (ADR,1.304931,1) (ADS,1.313622,1) (ADT,1.320436,1) (ADU,1.329443,1) (ADV,1.336507,1) (ADW,1.345849,1) (ADX,1.353180,1) (ADY,1.362879,1) (ADZ,1.370492,1) (AEF,1.380571,1) (AEG,1.388486,1) (AEH,1.398971,1) (AEI,1.407209,1) (AEJ,1.418127,1) (AEK,1.426709,1) (AEL,1.438092,1) (AEM,1.447044,1) (AEN,1.458924,1) (AEO,1.468273,1) (AEP,1.480689,1) (AEQ,1.490465,1) (AER,1.503458,1) (AES,1.513695,1) (AET,1.527310,1) (AEU,1.538045,1) (AEV,1.552335,1) (AEW,1.563610,1) (AEX,1.578632,1) (AEY,1.590494,1) (AEZ,1.606312,1) (AFG,1.618813,1) (AFH,1.635501,1) (AFI,1.648701,1) (AFJ,1.666341,1) (AFK,1.680307,1) (AFL,1.698994,1) (AFM,1.713804,1) (AFN,1.733645,1) (AFO,1.749387,1) (AFP,1.770506,1) (AFQ,1.787282,1) (AFR,1.809823,1) (AFS,1.827752,1) (AFT,1.851880,1) (AFU,1.871100,1) (AFV,1.897013,1) (AFW,1.917687,1) (AFX,1.945614,1) (AFY,1.967935,1) (AFZ,1.998153,1) (AGH,2.022350,1) (AGI,2.055190,1) (AGJ,2.081544,1) (AGK,2.117407,1) (AGL,2.146258,1) (AGM,2.185639,1) (AGN,2.217407,1) (AGO,2.260921,1) (AGP,2.296132,1) (AGQ,2.344557,1) (AGR,2.383883,1) (AGS,2.438216,1) (AGT,2.482524,1) (AGU,2.544072,1) (AGV,2.594511,1) (AGW,2.665026,1) (AGX,2.723152,1) (AGY,2.805042,1) '"
      ]
     },
     "execution_count": 2035,
     "metadata": {},
     "output_type": "execute_result"
    }
   ],
   "source": [
    "system_stats"
   ]
  },
  {
   "cell_type": "code",
   "execution_count": null,
   "metadata": {
    "collapsed": true
   },
   "outputs": [],
   "source": []
  },
  {
   "cell_type": "code",
   "execution_count": 2036,
   "metadata": {
    "collapsed": false
   },
   "outputs": [
    {
     "name": "stdout",
     "output_type": "stream",
     "text": [
      "[1.0014280531756807, 1.003579331461546, 1.0062890304581387, 1.0096422463166561, 1.012211829574048, 1.015568461824309, 1.0181775248480476, 1.021592247152557, 1.0242479213910127, 1.0277242485581737, 1.0304281371876467, 1.0339680031165044, 1.0367215893543364, 1.040326955359776, 1.043131780671561, 1.0468046919764638, 1.0496623654204442, 1.0534049577511815, 1.0563171600123709, 1.0601316648196915, 1.0631001523913546, 1.0669889024722015, 1.0700155120465011, 1.0739809475295155, 1.0770676008760924, 1.0811122756772877, 1.0842609846673654, 1.0883875733730382, 1.0916004455403172, 1.095811750859358, 1.0990909953651233, 1.1033899561077491, 1.1067378900389249, 1.1111275897431847, 1.11454664507224, 1.1190303212983201, 1.1225230522280474, 1.1271041066506766, 1.1306731977145055, 1.1353552068480874, 1.1390034815308616, 1.1437902085687792, 1.1475206386894286, 1.1524160462041826, 1.156231762134903, 1.1612400258079616, 1.1651443274926665, 1.1702698510894143, 1.1742662200278495, 1.1795136517503368, 1.1836057640328148, 1.1889800141849882, 1.1931717547581306, 1.1986780150528695, 1.2029734931504856, 1.2086172578137553, 1.2130208239937037, 1.2188079127606057, 1.2233241773041417, 1.2292607607610995, 1.233894614026018, 1.2399872410984991, 1.2447438758290166, 1.2509995043084794, 1.2558844399744633, 1.2623104698390715, 1.2673295797096422, 1.2739338899295363, 1.2790934306698547, 1.2858844198299828, 1.2911910642608773, 1.2981776955451256, 1.3036385689817591, 1.310830419808087, 1.3164531403798398, 1.3238604576056694, 1.3296531807226966, 1.3372869421275735, 1.343258410374364, 1.351130393058926, 1.3572899917298356, 1.3654128483611827, 1.3717706673647863, 1.3801580119741599, 1.386724915394829, 1.3953914191027867, 1.402179123340777, 1.4111406225087146, 1.4181617841088399, 1.42743540183733, 1.434703716886388, 1.4443080008802975, 1.4518383172592457, 1.4617933957821476, 1.46960184091605, 1.4799296001692686, 1.4880337262325654, 1.4987580130994547, 1.5071769631487677, 1.518323816655034, 1.5270785148709047, 1.5386764324298412, 1.547789803028268, 1.5598700468472262, 1.5693672666320189, 1.581964218806765, 1.5918730101619887, 1.6050245844531028, 1.615375555889984, 1.6291236781745546, 1.6399507227365635, 1.6543418939052341, 1.6656826561103002, 1.6807686146465717, 1.692665042503698, 1.7085035477954433, 1.7210025455644056, 1.7376583103572756, 1.7508125190720203, 1.768358323107447, 1.782227053854978, 1.800745084697938, 1.8153954469926663, 1.834978923496569, 1.8504871943322807, 1.8712423461755179, 1.8876956452475198, 1.9097441436005986]\n"
     ]
    }
   ],
   "source": [
    "print ds"
   ]
  },
  {
   "cell_type": "code",
   "execution_count": null,
   "metadata": {
    "collapsed": true
   },
   "outputs": [],
   "source": []
  },
  {
   "cell_type": "code",
   "execution_count": null,
   "metadata": {
    "collapsed": true
   },
   "outputs": [],
   "source": []
  },
  {
   "cell_type": "code",
   "execution_count": null,
   "metadata": {
    "collapsed": true
   },
   "outputs": [],
   "source": []
  },
  {
   "cell_type": "code",
   "execution_count": 1168,
   "metadata": {
    "collapsed": false
   },
   "outputs": [
    {
     "data": {
      "text/plain": [
       "0.0073099423644477314"
      ]
     },
     "execution_count": 1168,
     "metadata": {},
     "output_type": "execute_result"
    }
   ],
   "source": [
    "ProbCS(0.01, 0.02, s1, s2, s3, 128)"
   ]
  },
  {
   "cell_type": "code",
   "execution_count": 1172,
   "metadata": {
    "collapsed": false
   },
   "outputs": [
    {
     "data": {
      "text/plain": [
       "-2.3025850929940455"
      ]
     },
     "execution_count": 1172,
     "metadata": {},
     "output_type": "execute_result"
    }
   ],
   "source": [
    "log(0.1)"
   ]
  },
  {
   "cell_type": "code",
   "execution_count": null,
   "metadata": {
    "collapsed": true
   },
   "outputs": [],
   "source": []
  },
  {
   "cell_type": "code",
   "execution_count": null,
   "metadata": {
    "collapsed": true
   },
   "outputs": [],
   "source": []
  },
  {
   "cell_type": "code",
   "execution_count": 1614,
   "metadata": {
    "collapsed": true
   },
   "outputs": [],
   "source": [
    "start = 0.14\n",
    "slope = (0.08-0.16)/(0.58-0.48)\n",
    "dr_max_gen = lambda x: 0.14 + slope*(x - 0.48)\n",
    "dr_maxs = array([dr_max_gen(x) for x in etas])"
   ]
  },
  {
   "cell_type": "code",
   "execution_count": 1159,
   "metadata": {
    "collapsed": true
   },
   "outputs": [],
   "source": [
    "slope = (0.07-0.14)/(0.58-0.48)\n",
    "dr_max_gen = lambda x: 0.12 + slope*(x - 0.56)\n",
    "dr_maxs = array([dr_max_gen(x) for x in etas])"
   ]
  },
  {
   "cell_type": "code",
   "execution_count": 1160,
   "metadata": {
    "collapsed": true
   },
   "outputs": [],
   "source": [
    "from scipy.optimize import fsolve, newton_krylov"
   ]
  },
  {
   "cell_type": "code",
   "execution_count": 1611,
   "metadata": {
    "collapsed": false
   },
   "outputs": [],
   "source": [
    "ds = array(ds)\n",
    "n = len(ds)\n",
    "s1 = sum(ds)/n\n",
    "s2 = sum(ds**2.0)/n\n",
    "s3 = sum(ds**3.0)/n"
   ]
  },
  {
   "cell_type": "code",
   "execution_count": 1612,
   "metadata": {
    "collapsed": false
   },
   "outputs": [],
   "source": [
    "desired_acceptance = 0.10\n",
    "eta_current = 0.55\n",
    "etas = [eta_current]\n",
    "while eta_current < 0.67:\n",
    "    func = lambda eta_0: ProbCS(eta_current, eta_0, s1, s2, s3, N) - desired_acceptance\n",
    "    eta_new = newton_krylov(func, eta_current, method='lgmres')\n",
    "    if abs(ProbCS(eta_current, eta_new, s1, s2, s3, N) - desired_acceptance) < 0.000001:\n",
    "        etas.append(float(eta_new))\n",
    "        eta_current = float(eta_new)\n",
    "    else:\n",
    "        raise ValueError('Solver did not find sufficient solution for neighboring volume fractions')\n",
    "etas = array(etas)\n",
    "num_etas = len(etas)"
   ]
  },
  {
   "cell_type": "code",
   "execution_count": 1615,
   "metadata": {
    "collapsed": true
   },
   "outputs": [],
   "source": [
    "etas_file = open('extended_states.txt', 'w')\n",
    "etas_file.write(('acceptance = %f\\n' % desired_acceptance))\n",
    "etas_string = 'etas = (%s' % etas[0]\n",
    "for eta in etas[1:]:\n",
    "    etas_string = etas_string + ',' + str(eta)\n",
    "etas_string = etas_string + ')\\n'\n",
    "etas_file.write(etas_string)\n",
    "\n",
    "\n",
    "\n",
    "#generate dr_max values\n",
    "dr_maxs_string = 'dr_maxs = (%s' % dr_maxs[0]\n",
    "for dr_max in dr_maxs[1:]:\n",
    "    dr_maxs_string = dr_maxs_string + ',' + str(dr_max)\n",
    "dr_maxs_string = dr_maxs_string + ')'\n",
    "etas_file.write(dr_maxs_string)\n",
    "\n",
    "\n",
    "\n",
    "etas_file.close()"
   ]
  },
  {
   "cell_type": "code",
   "execution_count": 634,
   "metadata": {
    "collapsed": false
   },
   "outputs": [
    {
     "data": {
      "text/plain": [
       "0.48065109967158476"
      ]
     },
     "execution_count": 634,
     "metadata": {},
     "output_type": "execute_result"
    }
   ],
   "source": [
    "etas[1]"
   ]
  },
  {
   "cell_type": "code",
   "execution_count": 1077,
   "metadata": {
    "collapsed": false
   },
   "outputs": [
    {
     "data": {
      "text/plain": [
       "327"
      ]
     },
     "execution_count": 1077,
     "metadata": {},
     "output_type": "execute_result"
    }
   ],
   "source": [
    "len(etas)"
   ]
  },
  {
   "cell_type": "code",
   "execution_count": null,
   "metadata": {
    "collapsed": true
   },
   "outputs": [],
   "source": []
  },
  {
   "cell_type": "code",
   "execution_count": 109,
   "metadata": {
    "collapsed": true
   },
   "outputs": [],
   "source": [
    "def Smoother(hist, half_window = 5):\n",
    "    hist = array(hist)\n",
    "    hist_s = 0.0*hist\n",
    "    for i in range(half_window, len(hist)-half_window):\n",
    "        hist_s[i] = sum(hist[i-half_window:i+half_window])/float(2*half_window+1)\n",
    "    return hist_s"
   ]
  },
  {
   "cell_type": "code",
   "execution_count": 110,
   "metadata": {
    "collapsed": false
   },
   "outputs": [
    {
     "data": {
      "text/plain": [
       "array([  0.00000000e+00,   0.00000000e+00,   0.00000000e+00,\n",
       "         0.00000000e+00,   0.00000000e+00,   5.69856699e-03,\n",
       "         5.72895976e-03,   5.74932446e-03,   5.78773968e-03,\n",
       "         5.82499782e-03,   5.87367253e-03,   5.88570622e-03,\n",
       "         5.89203162e-03,   5.91285915e-03,   5.90838509e-03,\n",
       "         5.90198255e-03,   5.89689138e-03,   5.88478055e-03,\n",
       "         5.85616198e-03,   5.83533445e-03,   5.79900198e-03,\n",
       "         5.78511695e-03,   5.76575506e-03,   5.74778168e-03,\n",
       "         5.73335668e-03,   5.72587420e-03,   5.71600040e-03,\n",
       "         5.69239587e-03,   5.67287970e-03,   5.65089508e-03,\n",
       "         5.64372115e-03,   5.62759910e-03,   5.59219230e-03,\n",
       "         5.56951343e-03,   5.55531985e-03,   5.51983591e-03,\n",
       "         5.50070544e-03,   5.50872789e-03,   5.48782322e-03,\n",
       "         5.48473766e-03,   5.48157496e-03,   5.47602095e-03,\n",
       "         5.47671521e-03,   5.46576147e-03,   5.45557912e-03,\n",
       "         5.46923272e-03,   5.46776708e-03,   5.46969556e-03,\n",
       "         5.48651186e-03,   5.49700276e-03,   5.49083164e-03,\n",
       "         5.48905745e-03,   5.48358058e-03,   5.46637858e-03,\n",
       "         5.44501107e-03,   5.40343315e-03,   5.37404319e-03,\n",
       "         5.33107676e-03,   5.32220577e-03,   5.29204442e-03,\n",
       "         5.25594337e-03,   5.22254218e-03,   5.20672868e-03,\n",
       "         5.20356598e-03,   5.20703724e-03,   5.21860809e-03,\n",
       "         5.22902185e-03,   5.23650434e-03,   5.21984231e-03,\n",
       "         5.21004566e-03,   5.21374833e-03,   5.19994045e-03,\n",
       "         5.17301894e-03,   5.16044528e-03,   5.13036106e-03,\n",
       "         5.10235961e-03,   5.06594999e-03,   5.03763998e-03,\n",
       "         5.01719814e-03,   5.00354454e-03,   4.97801153e-03,\n",
       "         4.96775204e-03,   4.96289228e-03,   4.92146863e-03,\n",
       "         4.89462426e-03,   4.87973643e-03,   4.85960315e-03,\n",
       "         4.84733805e-03,   4.81987656e-03,   4.78115278e-03,\n",
       "         4.75160854e-03,   4.71658743e-03,   4.68750603e-03,\n",
       "         4.67246392e-03,   4.66181874e-03,   4.63165739e-03,\n",
       "         4.60496729e-03,   4.57673441e-03,   4.55012146e-03,\n",
       "         4.54217614e-03,   4.52265997e-03,   4.51625743e-03,\n",
       "         4.50306666e-03,   4.49211292e-03,   4.47028258e-03,\n",
       "         4.46017737e-03,   4.45786320e-03,   4.44181829e-03,\n",
       "         4.44420960e-03,   4.43179022e-03,   4.42762471e-03,\n",
       "         4.41003702e-03,   4.39707767e-03,   4.40031750e-03,\n",
       "         4.39190935e-03,   4.39113796e-03,   4.39198649e-03,\n",
       "         4.39229505e-03,   4.38581537e-03,   4.36444787e-03,\n",
       "         4.34986859e-03,   4.33706352e-03,   4.32117288e-03,\n",
       "         4.28484041e-03,   4.27072397e-03,   4.23670567e-03,\n",
       "         4.18803096e-03,   4.14822723e-03,   4.10564650e-03,\n",
       "         4.08157913e-03,   4.05558328e-03,   4.03159305e-03,\n",
       "         4.01238544e-03,   3.99772903e-03,   3.96795337e-03,\n",
       "         3.94064616e-03,   3.90955914e-03,   3.88317760e-03,\n",
       "         3.84545663e-03,   3.81930650e-03,   3.77726575e-03,\n",
       "         3.71717446e-03,   3.66564560e-03,   3.59861181e-03,\n",
       "         3.54731437e-03,   3.50141666e-03,   3.45798740e-03,\n",
       "         3.40861843e-03,   3.36781190e-03,   3.32191419e-03,\n",
       "         3.27979629e-03,   3.25349189e-03,   3.21391958e-03,\n",
       "         3.19602333e-03,   3.16732762e-03,   3.13624060e-03,\n",
       "         3.10183660e-03,   3.07352659e-03,   3.04120534e-03,\n",
       "         3.00865268e-03,   2.98311967e-03,   2.95673813e-03,\n",
       "         2.93876474e-03,   2.89888388e-03,   2.86293710e-03,\n",
       "         2.83262147e-03,   2.81217963e-03,   2.77723566e-03,\n",
       "         2.73550346e-03,   2.68497741e-03,   2.64455657e-03,\n",
       "         2.60236153e-03,   2.55846944e-03,   2.53509632e-03,\n",
       "         2.51110609e-03,   2.46952816e-03,   2.44252951e-03,\n",
       "         2.43011013e-03,   2.42517323e-03,   2.42131628e-03,\n",
       "         2.40889690e-03,   2.40357431e-03,   2.39177204e-03,\n",
       "         2.36839893e-03,   2.35204546e-03,   2.34124600e-03,\n",
       "         2.30699628e-03,   2.27891768e-03,   2.24150526e-03,\n",
       "         2.21466089e-03,   2.18434526e-03,   2.14276733e-03,\n",
       "         2.11268312e-03,   2.08730439e-03,   2.05266897e-03,\n",
       "         2.02397326e-03,   2.00808263e-03,   1.97660991e-03,\n",
       "         1.95516527e-03,   1.92176408e-03,   1.88589444e-03,\n",
       "         1.84925341e-03,   1.80613271e-03,   1.77003165e-03,\n",
       "         1.73408487e-03,   1.68224746e-03,   1.62686165e-03,\n",
       "         1.57463855e-03,   1.52094980e-03,   1.45800437e-03,\n",
       "         1.40400706e-03,   1.35502379e-03,   1.30195216e-03,\n",
       "         1.23831248e-03,   1.17798977e-03,   1.12399247e-03,\n",
       "         1.06991802e-03,   1.01669211e-03,   9.66088921e-04,\n",
       "         9.32070619e-04,   8.87407134e-04,   8.36958224e-04,\n",
       "         7.85120811e-04,   7.40843021e-04,   6.88542775e-04,\n",
       "         6.47504823e-04,   6.07238262e-04,   5.68823036e-04,\n",
       "         5.27090833e-04,   4.86130021e-04,   4.54117333e-04,\n",
       "         4.28661461e-04,   4.04054118e-04,   3.77595438e-04,\n",
       "         3.60779135e-04,   3.43345719e-04,   3.27840779e-04,\n",
       "         3.17195596e-04,   3.06781830e-04,   2.95828091e-04,\n",
       "         2.78626093e-04,   2.64355376e-04,   2.48464741e-04,\n",
       "         2.30491352e-04,   2.09509542e-04,   1.88990567e-04,\n",
       "         1.66928811e-04,   1.39775880e-04,   1.19488322e-04,\n",
       "         9.82750947e-05,   8.01474281e-05,   6.42567927e-05,\n",
       "         5.19145516e-05,   4.41235119e-05,   3.71038623e-05,\n",
       "         3.12412978e-05,   2.68443744e-05,   2.29874240e-05,\n",
       "         1.88219177e-05,   1.51963843e-05,   1.23422411e-05,\n",
       "         9.95093188e-06,   8.48529075e-06,   6.71109359e-06,\n",
       "         6.55681558e-06,   6.24825955e-06,   5.09117445e-06,\n",
       "         3.93408935e-06,   3.08556027e-06,   2.46844822e-06,\n",
       "         2.39130921e-06,   2.39130921e-06,   1.92847517e-06,\n",
       "         1.61991914e-06,   1.00280709e-06,   5.39973048e-07,\n",
       "         0.00000000e+00,   0.00000000e+00,   0.00000000e+00,\n",
       "         0.00000000e+00,   0.00000000e+00,   0.00000000e+00,\n",
       "         0.00000000e+00,   0.00000000e+00,   0.00000000e+00,\n",
       "         0.00000000e+00,   0.00000000e+00,   0.00000000e+00,\n",
       "         0.00000000e+00,   0.00000000e+00,   0.00000000e+00,\n",
       "         0.00000000e+00,   0.00000000e+00,   0.00000000e+00,\n",
       "         0.00000000e+00,   0.00000000e+00,   0.00000000e+00,\n",
       "         0.00000000e+00,   0.00000000e+00,   0.00000000e+00,\n",
       "         0.00000000e+00,   0.00000000e+00,   0.00000000e+00,\n",
       "         0.00000000e+00,   0.00000000e+00,   0.00000000e+00,\n",
       "         0.00000000e+00,   0.00000000e+00,   0.00000000e+00,\n",
       "         0.00000000e+00,   0.00000000e+00,   0.00000000e+00,\n",
       "         0.00000000e+00,   0.00000000e+00,   0.00000000e+00,\n",
       "         0.00000000e+00,   0.00000000e+00,   0.00000000e+00,\n",
       "         0.00000000e+00,   0.00000000e+00,   0.00000000e+00,\n",
       "         0.00000000e+00,   0.00000000e+00,   0.00000000e+00,\n",
       "         0.00000000e+00,   0.00000000e+00,   0.00000000e+00,\n",
       "         0.00000000e+00,   0.00000000e+00,   0.00000000e+00,\n",
       "         0.00000000e+00,   0.00000000e+00,   0.00000000e+00,\n",
       "         0.00000000e+00,   0.00000000e+00,   0.00000000e+00,\n",
       "         0.00000000e+00,   0.00000000e+00,   0.00000000e+00,\n",
       "         0.00000000e+00,   0.00000000e+00,   0.00000000e+00,\n",
       "         0.00000000e+00,   0.00000000e+00,   0.00000000e+00,\n",
       "         0.00000000e+00,   0.00000000e+00,   0.00000000e+00,\n",
       "         0.00000000e+00,   0.00000000e+00,   0.00000000e+00,\n",
       "         0.00000000e+00,   0.00000000e+00,   0.00000000e+00,\n",
       "         0.00000000e+00,   0.00000000e+00,   0.00000000e+00,\n",
       "         0.00000000e+00,   0.00000000e+00,   0.00000000e+00,\n",
       "         0.00000000e+00,   0.00000000e+00,   0.00000000e+00,\n",
       "         0.00000000e+00,   0.00000000e+00,   0.00000000e+00,\n",
       "         0.00000000e+00,   0.00000000e+00,   0.00000000e+00,\n",
       "         0.00000000e+00,   0.00000000e+00,   0.00000000e+00,\n",
       "         0.00000000e+00,   0.00000000e+00,   0.00000000e+00,\n",
       "         0.00000000e+00,   0.00000000e+00,   0.00000000e+00,\n",
       "         0.00000000e+00,   0.00000000e+00,   0.00000000e+00,\n",
       "         0.00000000e+00,   0.00000000e+00,   0.00000000e+00,\n",
       "         0.00000000e+00,   0.00000000e+00,   0.00000000e+00,\n",
       "         0.00000000e+00,   0.00000000e+00,   0.00000000e+00,\n",
       "         0.00000000e+00,   0.00000000e+00,   0.00000000e+00,\n",
       "         0.00000000e+00,   0.00000000e+00,   0.00000000e+00,\n",
       "         0.00000000e+00,   0.00000000e+00,   0.00000000e+00,\n",
       "         0.00000000e+00,   0.00000000e+00,   0.00000000e+00,\n",
       "         0.00000000e+00,   0.00000000e+00,   0.00000000e+00,\n",
       "         0.00000000e+00,   0.00000000e+00,   0.00000000e+00,\n",
       "         0.00000000e+00,   0.00000000e+00,   0.00000000e+00,\n",
       "         0.00000000e+00,   0.00000000e+00,   0.00000000e+00,\n",
       "         0.00000000e+00,   0.00000000e+00,   0.00000000e+00,\n",
       "         0.00000000e+00,   0.00000000e+00,   0.00000000e+00,\n",
       "         0.00000000e+00,   0.00000000e+00,   0.00000000e+00,\n",
       "         0.00000000e+00,   0.00000000e+00,   0.00000000e+00,\n",
       "         0.00000000e+00,   0.00000000e+00,   0.00000000e+00,\n",
       "         0.00000000e+00,   0.00000000e+00,   0.00000000e+00,\n",
       "         0.00000000e+00,   0.00000000e+00,   0.00000000e+00,\n",
       "         0.00000000e+00,   0.00000000e+00,   0.00000000e+00,\n",
       "         0.00000000e+00,   0.00000000e+00,   0.00000000e+00,\n",
       "         0.00000000e+00,   0.00000000e+00,   0.00000000e+00,\n",
       "         0.00000000e+00,   0.00000000e+00,   0.00000000e+00,\n",
       "         0.00000000e+00,   0.00000000e+00,   0.00000000e+00,\n",
       "         0.00000000e+00,   0.00000000e+00,   0.00000000e+00,\n",
       "         0.00000000e+00,   0.00000000e+00,   0.00000000e+00,\n",
       "         0.00000000e+00,   0.00000000e+00,   0.00000000e+00,\n",
       "         0.00000000e+00,   0.00000000e+00,   0.00000000e+00,\n",
       "         0.00000000e+00,   0.00000000e+00,   0.00000000e+00,\n",
       "         0.00000000e+00,   0.00000000e+00,   0.00000000e+00,\n",
       "         0.00000000e+00,   0.00000000e+00,   0.00000000e+00,\n",
       "         0.00000000e+00,   0.00000000e+00,   0.00000000e+00,\n",
       "         0.00000000e+00])"
      ]
     },
     "execution_count": 110,
     "metadata": {},
     "output_type": "execute_result"
    }
   ],
   "source": [
    "Smoother(hist)"
   ]
  },
  {
   "cell_type": "code",
   "execution_count": 268,
   "metadata": {
    "collapsed": false
   },
   "outputs": [
    {
     "data": {
      "text/plain": [
       "0.62180140514755855"
      ]
     },
     "execution_count": 268,
     "metadata": {},
     "output_type": "execute_result"
    }
   ],
   "source": [
    "max(trajectory)"
   ]
  },
  {
   "cell_type": "code",
   "execution_count": 203,
   "metadata": {
    "collapsed": false
   },
   "outputs": [
    {
     "data": {
      "text/plain": [
       "5.714285714285714"
      ]
     },
     "execution_count": 203,
     "metadata": {},
     "output_type": "execute_result"
    }
   ],
   "source": [
    "0.4/7*100"
   ]
  },
  {
   "cell_type": "code",
   "execution_count": 72,
   "metadata": {
    "collapsed": false
   },
   "outputs": [
    {
     "data": {
      "text/plain": [
       "[0.583547,\n",
       " 0.583214,\n",
       " 0.582881,\n",
       " 0.582881,\n",
       " 0.582881,\n",
       " 0.583879,\n",
       " 0.582547,\n",
       " 0.581876,\n",
       " 0.582547,\n",
       " 0.581876,\n",
       " 0.581539,\n",
       " 0.581539,\n",
       " 0.581202,\n",
       " 0.580184,\n",
       " 0.579501,\n",
       " 0.580524,\n",
       " 0.579843,\n",
       " 0.580524,\n",
       " 0.581539,\n",
       " 0.581202,\n",
       " 0.581539,\n",
       " 0.581876,\n",
       " 0.582212,\n",
       " 0.582212,\n",
       " 0.582547,\n",
       " 0.582547,\n",
       " 0.584209,\n",
       " 0.584209,\n",
       " 0.583879,\n",
       " 0.583547,\n",
       " 0.583214,\n",
       " 0.582547,\n",
       " 0.583879,\n",
       " 0.583879,\n",
       " 0.584209,\n",
       " 0.584539,\n",
       " 0.584868,\n",
       " 0.585197,\n",
       " 0.586176,\n",
       " 0.587148,\n",
       " 0.587471,\n",
       " 0.587471,\n",
       " 0.586501,\n",
       " 0.586501,\n",
       " 0.587471,\n",
       " 0.587792,\n",
       " 0.588433,\n",
       " 0.588433,\n",
       " 0.587148,\n",
       " 0.584539,\n",
       " 0.585197,\n",
       " 0.584539,\n",
       " 0.583547,\n",
       " 0.583547,\n",
       " 0.583214,\n",
       " 0.582212,\n",
       " 0.582547,\n",
       " 0.582212,\n",
       " 0.581876,\n",
       " 0.581539,\n",
       " 0.581539,\n",
       " 0.580524,\n",
       " 0.581539,\n",
       " 0.582881,\n",
       " 0.582881,\n",
       " 0.583879,\n",
       " 0.583214,\n",
       " 0.582881,\n",
       " 0.581539,\n",
       " 0.581539,\n",
       " 0.582547,\n",
       " 0.582212,\n",
       " 0.582547,\n",
       " 0.582881,\n",
       " 0.582881,\n",
       " 0.583547,\n",
       " 0.582881,\n",
       " 0.584209,\n",
       " 0.583879,\n",
       " 0.584209,\n",
       " 0.584209,\n",
       " 0.583879,\n",
       " 0.583547,\n",
       " 0.584539,\n",
       " 0.583879,\n",
       " 0.583547,\n",
       " 0.583879,\n",
       " 0.583547,\n",
       " 0.585197,\n",
       " 0.584539,\n",
       " 0.584209,\n",
       " 0.583547,\n",
       " 0.583547,\n",
       " 0.583214,\n",
       " 0.583547,\n",
       " 0.583547,\n",
       " 0.583547,\n",
       " 0.584868,\n",
       " 0.584868,\n",
       " 0.584868,\n",
       " 0.584539,\n",
       " 0.585197,\n",
       " 0.584209,\n",
       " 0.584868,\n",
       " 0.584868,\n",
       " 0.585851,\n",
       " 0.585851,\n",
       " 0.584868,\n",
       " 0.584539,\n",
       " 0.584539,\n",
       " 0.584868,\n",
       " 0.583214,\n",
       " 0.584209,\n",
       " 0.585197,\n",
       " 0.585524,\n",
       " 0.586176,\n",
       " 0.586501,\n",
       " 0.587471,\n",
       " 0.586501,\n",
       " 0.587148,\n",
       " 0.587471,\n",
       " 0.587148,\n",
       " 0.585524,\n",
       " 0.585524,\n",
       " 0.585851,\n",
       " 0.587148,\n",
       " 0.588113,\n",
       " 0.58907,\n",
       " 0.587792,\n",
       " 0.586825,\n",
       " 0.585197,\n",
       " 0.584539,\n",
       " 0.584209,\n",
       " 0.584209,\n",
       " 0.582881,\n",
       " 0.580524,\n",
       " 0.57847,\n",
       " 0.578815,\n",
       " 0.57847,\n",
       " 0.577432,\n",
       " 0.579501,\n",
       " 0.579501,\n",
       " 0.580524,\n",
       " 0.580184,\n",
       " 0.578815,\n",
       " 0.579501,\n",
       " 0.579501,\n",
       " 0.579158,\n",
       " 0.579501,\n",
       " 0.579843,\n",
       " 0.579843,\n",
       " 0.579501,\n",
       " 0.580524,\n",
       " 0.581202,\n",
       " 0.579843,\n",
       " 0.580184,\n",
       " 0.579843,\n",
       " 0.580864,\n",
       " 0.580524,\n",
       " 0.580184,\n",
       " 0.579158,\n",
       " 0.579501,\n",
       " 0.578125,\n",
       " 0.579843,\n",
       " 0.578815,\n",
       " 0.578815,\n",
       " 0.578815,\n",
       " 0.578125,\n",
       " 0.577432,\n",
       " 0.578815,\n",
       " 0.579501,\n",
       " 0.577779,\n",
       " 0.577432,\n",
       " 0.577779,\n",
       " 0.580184,\n",
       " 0.580184,\n",
       " 0.580864,\n",
       " 0.578815,\n",
       " 0.578815,\n",
       " 0.578815,\n",
       " 0.578815,\n",
       " 0.577432,\n",
       " 0.577779,\n",
       " 0.577084,\n",
       " 0.577432,\n",
       " 0.578815,\n",
       " 0.577779,\n",
       " 0.577432,\n",
       " 0.57847,\n",
       " 0.57847,\n",
       " 0.577084,\n",
       " 0.578815,\n",
       " 0.579158,\n",
       " 0.579843,\n",
       " 0.579158,\n",
       " 0.579501,\n",
       " 0.580524,\n",
       " 0.579501,\n",
       " 0.579843,\n",
       " 0.581876,\n",
       " 0.581539,\n",
       " 0.583214,\n",
       " 0.583879,\n",
       " 0.584209,\n",
       " 0.584539,\n",
       " 0.585524,\n",
       " 0.585524,\n",
       " 0.584209,\n",
       " 0.584209,\n",
       " 0.584868,\n",
       " 0.584209,\n",
       " 0.584539,\n",
       " 0.583547,\n",
       " 0.583879,\n",
       " 0.584539,\n",
       " 0.584539,\n",
       " 0.584868,\n",
       " 0.584868,\n",
       " 0.585524,\n",
       " 0.585197,\n",
       " 0.585524,\n",
       " 0.585851,\n",
       " 0.586825,\n",
       " 0.587792,\n",
       " 0.587471,\n",
       " 0.587148,\n",
       " 0.587148,\n",
       " 0.586176,\n",
       " 0.587148,\n",
       " 0.587148,\n",
       " 0.586825,\n",
       " 0.588113,\n",
       " 0.587471,\n",
       " 0.588113,\n",
       " 0.588113,\n",
       " 0.588113,\n",
       " 0.588752,\n",
       " 0.59002,\n",
       " 0.590335,\n",
       " 0.589705,\n",
       " 0.589388,\n",
       " 0.590335,\n",
       " 0.590963,\n",
       " 0.59065,\n",
       " 0.590963,\n",
       " 0.590335,\n",
       " 0.590335,\n",
       " 0.59065,\n",
       " 0.591587,\n",
       " 0.591898,\n",
       " 0.591587,\n",
       " 0.59065,\n",
       " 0.590963,\n",
       " 0.591276,\n",
       " 0.590335,\n",
       " 0.59065,\n",
       " 0.59002,\n",
       " 0.59065,\n",
       " 0.591276,\n",
       " 0.592209,\n",
       " 0.592518,\n",
       " 0.592209,\n",
       " 0.591276,\n",
       " 0.591276,\n",
       " 0.592209,\n",
       " 0.590963,\n",
       " 0.59065,\n",
       " 0.59065,\n",
       " 0.590963,\n",
       " 0.590335,\n",
       " 0.589705,\n",
       " 0.589705,\n",
       " 0.58907,\n",
       " 0.588752,\n",
       " 0.589388,\n",
       " 0.588113,\n",
       " 0.588113,\n",
       " 0.587148,\n",
       " 0.588752,\n",
       " 0.588433,\n",
       " 0.587792,\n",
       " 0.587792,\n",
       " 0.584868,\n",
       " 0.584539,\n",
       " 0.584539,\n",
       " 0.583879,\n",
       " 0.584868,\n",
       " 0.584868,\n",
       " 0.585197,\n",
       " 0.584868,\n",
       " 0.585524,\n",
       " 0.584868,\n",
       " 0.583547,\n",
       " 0.583547,\n",
       " 0.581876,\n",
       " 0.582212,\n",
       " 0.580524,\n",
       " 0.580524,\n",
       " 0.579843,\n",
       " 0.579501,\n",
       " 0.579158,\n",
       " 0.57847,\n",
       " 0.57847,\n",
       " 0.579158,\n",
       " 0.579158,\n",
       " 0.579158,\n",
       " 0.577084,\n",
       " 0.578125,\n",
       " 0.578815,\n",
       " 0.578815,\n",
       " 0.578125,\n",
       " 0.578125,\n",
       " 0.578125,\n",
       " 0.57847,\n",
       " 0.579158,\n",
       " 0.578125,\n",
       " 0.578125,\n",
       " 0.579843,\n",
       " 0.579501,\n",
       " 0.57847,\n",
       " 0.579158,\n",
       " 0.581202,\n",
       " 0.581202,\n",
       " 0.582212,\n",
       " 0.581202,\n",
       " 0.580864,\n",
       " 0.580864,\n",
       " 0.581876,\n",
       " 0.582881,\n",
       " 0.582881,\n",
       " 0.583547,\n",
       " 0.584868,\n",
       " 0.586176,\n",
       " 0.586825,\n",
       " 0.586825,\n",
       " 0.586176,\n",
       " 0.586501,\n",
       " 0.586825,\n",
       " 0.587148,\n",
       " 0.587792,\n",
       " 0.588433,\n",
       " 0.58907,\n",
       " 0.589388,\n",
       " 0.589388,\n",
       " 0.588113,\n",
       " 0.58907,\n",
       " 0.589705,\n",
       " 0.589388,\n",
       " 0.588752,\n",
       " 0.588433,\n",
       " 0.588752,\n",
       " 0.588113,\n",
       " 0.588113,\n",
       " 0.587792,\n",
       " 0.587148,\n",
       " 0.587148,\n",
       " 0.588113,\n",
       " 0.586176,\n",
       " 0.586176,\n",
       " 0.586501,\n",
       " 0.587792,\n",
       " 0.587792,\n",
       " 0.588752,\n",
       " 0.588752,\n",
       " 0.588433,\n",
       " 0.588113,\n",
       " 0.587792,\n",
       " 0.588113,\n",
       " 0.588113,\n",
       " 0.588113,\n",
       " 0.586825,\n",
       " 0.587792,\n",
       " 0.588113,\n",
       " 0.588113,\n",
       " 0.589388,\n",
       " 0.59065,\n",
       " 0.591587,\n",
       " 0.592209,\n",
       " 0.591276,\n",
       " 0.591276,\n",
       " 0.591276,\n",
       " 0.590335,\n",
       " 0.59065,\n",
       " 0.589705,\n",
       " 0.58907,\n",
       " 0.588752,\n",
       " 0.589388,\n",
       " 0.589705,\n",
       " 0.589705,\n",
       " 0.589705,\n",
       " 0.589388,\n",
       " 0.589388,\n",
       " 0.587471,\n",
       " 0.587471,\n",
       " 0.588433,\n",
       " 0.587792,\n",
       " 0.588752,\n",
       " 0.589705,\n",
       " 0.59002,\n",
       " 0.587471,\n",
       " 0.586501,\n",
       " 0.586825,\n",
       " 0.586825,\n",
       " 0.586825,\n",
       " 0.585197,\n",
       " 0.585524,\n",
       " 0.585851,\n",
       " 0.584539,\n",
       " 0.584539,\n",
       " 0.582547,\n",
       " 0.582881,\n",
       " 0.582547,\n",
       " 0.581539,\n",
       " 0.580864,\n",
       " 0.580524,\n",
       " 0.580864,\n",
       " 0.581202,\n",
       " 0.581202,\n",
       " 0.578125,\n",
       " 0.579501,\n",
       " 0.579158,\n",
       " 0.577432,\n",
       " 0.577779,\n",
       " 0.579843,\n",
       " 0.580184,\n",
       " 0.579843,\n",
       " 0.580524,\n",
       " 0.579158,\n",
       " 0.578815,\n",
       " 0.579501,\n",
       " 0.581539,\n",
       " 0.581539,\n",
       " 0.581876,\n",
       " 0.581539,\n",
       " 0.583214,\n",
       " 0.583547,\n",
       " 0.582547,\n",
       " 0.581539,\n",
       " 0.582881,\n",
       " 0.582881,\n",
       " 0.581876,\n",
       " 0.581539,\n",
       " 0.581539,\n",
       " 0.581202,\n",
       " 0.581202,\n",
       " 0.579158,\n",
       " 0.578815,\n",
       " 0.578815,\n",
       " 0.579501,\n",
       " 0.580524,\n",
       " 0.581202,\n",
       " 0.580864,\n",
       " 0.579843,\n",
       " 0.579843,\n",
       " 0.579843,\n",
       " 0.578815,\n",
       " 0.579843,\n",
       " 0.580524,\n",
       " 0.580524,\n",
       " 0.580524,\n",
       " 0.580524,\n",
       " 0.580524,\n",
       " 0.581539,\n",
       " 0.581876,\n",
       " 0.581539,\n",
       " 0.579843,\n",
       " 0.578125,\n",
       " 0.577084,\n",
       " 0.576735,\n",
       " 0.576034,\n",
       " 0.574977,\n",
       " 0.57533,\n",
       " 0.574623,\n",
       " 0.573555,\n",
       " 0.573197,\n",
       " 0.573555,\n",
       " 0.573197,\n",
       " 0.574268,\n",
       " 0.573912,\n",
       " 0.573912,\n",
       " 0.573912,\n",
       " 0.574623,\n",
       " 0.573912,\n",
       " 0.573912,\n",
       " 0.572838,\n",
       " 0.572479,\n",
       " 0.571757,\n",
       " 0.573555,\n",
       " 0.572838,\n",
       " 0.573197,\n",
       " 0.572479,\n",
       " 0.575683,\n",
       " 0.576735,\n",
       " 0.577432,\n",
       " 0.576034,\n",
       " 0.576735,\n",
       " 0.577084,\n",
       " 0.574623,\n",
       " 0.576034,\n",
       " 0.578125,\n",
       " 0.578815,\n",
       " 0.580184,\n",
       " 0.579843,\n",
       " 0.580184,\n",
       " 0.580184,\n",
       " 0.579843,\n",
       " 0.57847,\n",
       " 0.577779,\n",
       " 0.577084,\n",
       " 0.577084,\n",
       " 0.574268,\n",
       " 0.574268,\n",
       " 0.574977,\n",
       " 0.574268,\n",
       " 0.574623,\n",
       " 0.574268,\n",
       " 0.573555,\n",
       " 0.574268,\n",
       " 0.574623,\n",
       " 0.575683,\n",
       " 0.577084,\n",
       " 0.577084,\n",
       " 0.577432,\n",
       " 0.57847,\n",
       " 0.577432,\n",
       " 0.576735,\n",
       " 0.574268,\n",
       " 0.57533,\n",
       " 0.57533,\n",
       " 0.57533,\n",
       " 0.57533,\n",
       " 0.575683,\n",
       " 0.574977,\n",
       " 0.576034,\n",
       " 0.575683,\n",
       " 0.577084,\n",
       " 0.577432,\n",
       " 0.576385,\n",
       " 0.577084,\n",
       " 0.577432,\n",
       " 0.577084,\n",
       " 0.577432,\n",
       " 0.577779,\n",
       " 0.577084,\n",
       " 0.57533,\n",
       " 0.57533,\n",
       " 0.574977,\n",
       " 0.57533,\n",
       " 0.577084,\n",
       " 0.576385,\n",
       " 0.576034,\n",
       " 0.575683,\n",
       " 0.57533,\n",
       " 0.575683,\n",
       " 0.577084,\n",
       " 0.576735,\n",
       " 0.576034,\n",
       " 0.577432,\n",
       " 0.578125,\n",
       " 0.579158,\n",
       " 0.580184,\n",
       " 0.580184,\n",
       " 0.580184,\n",
       " 0.579501,\n",
       " 0.579843,\n",
       " 0.581202,\n",
       " 0.582212,\n",
       " 0.582547,\n",
       " 0.581876,\n",
       " 0.582212,\n",
       " 0.583214,\n",
       " 0.583547,\n",
       " 0.583547,\n",
       " 0.583214,\n",
       " 0.582881,\n",
       " 0.583879,\n",
       " 0.583547,\n",
       " 0.584209,\n",
       " 0.585197,\n",
       " 0.586176,\n",
       " 0.585851,\n",
       " 0.585524,\n",
       " 0.585197,\n",
       " 0.584209,\n",
       " 0.583879,\n",
       " 0.583214,\n",
       " 0.583547,\n",
       " 0.582547,\n",
       " 0.582547,\n",
       " 0.582212,\n",
       " 0.583214,\n",
       " 0.582881,\n",
       " 0.582547,\n",
       " 0.582547,\n",
       " 0.582547,\n",
       " 0.583214,\n",
       " 0.584539,\n",
       " 0.586176,\n",
       " 0.587148,\n",
       " 0.584868,\n",
       " 0.584868,\n",
       " 0.583214,\n",
       " 0.584868,\n",
       " 0.584868,\n",
       " 0.584539,\n",
       " 0.584868,\n",
       " 0.585524,\n",
       " 0.585197,\n",
       " 0.584539,\n",
       " 0.584539,\n",
       " 0.586176,\n",
       " 0.586176,\n",
       " 0.586501,\n",
       " 0.585524,\n",
       " 0.587148,\n",
       " 0.586825,\n",
       " 0.587792,\n",
       " 0.587792,\n",
       " 0.588433,\n",
       " 0.58907,\n",
       " 0.588752,\n",
       " 0.58907,\n",
       " 0.590335,\n",
       " 0.590335,\n",
       " 0.589705,\n",
       " 0.588752,\n",
       " 0.588113,\n",
       " 0.588113,\n",
       " 0.587148,\n",
       " 0.587148,\n",
       " 0.586501,\n",
       " 0.585524,\n",
       " 0.586825,\n",
       " 0.586176,\n",
       " 0.586825,\n",
       " 0.586501,\n",
       " 0.585851,\n",
       " 0.585197,\n",
       " 0.584868,\n",
       " 0.583879,\n",
       " 0.583214,\n",
       " 0.583547,\n",
       " 0.583879,\n",
       " 0.582881,\n",
       " 0.583547,\n",
       " 0.584539,\n",
       " 0.583547,\n",
       " 0.584209,\n",
       " 0.584209,\n",
       " 0.584868,\n",
       " 0.584539,\n",
       " 0.584209,\n",
       " 0.584209,\n",
       " 0.583879,\n",
       " 0.583547,\n",
       " 0.583879,\n",
       " 0.585851,\n",
       " 0.585851,\n",
       " 0.585197,\n",
       " 0.585197,\n",
       " 0.585524,\n",
       " 0.585524,\n",
       " 0.586176,\n",
       " 0.587148,\n",
       " 0.587792,\n",
       " 0.588433,\n",
       " 0.58907,\n",
       " 0.588752,\n",
       " 0.588752,\n",
       " 0.58907,\n",
       " 0.59002,\n",
       " 0.59002,\n",
       " 0.59002,\n",
       " 0.59002,\n",
       " 0.59002,\n",
       " 0.589705,\n",
       " 0.589388,\n",
       " 0.590335,\n",
       " 0.59065,\n",
       " 0.590335,\n",
       " 0.590335,\n",
       " 0.590335,\n",
       " 0.589705,\n",
       " 0.590963,\n",
       " 0.590335,\n",
       " 0.590963,\n",
       " 0.59065,\n",
       " 0.590335,\n",
       " 0.589388,\n",
       " 0.588433,\n",
       " 0.589705,\n",
       " 0.589388,\n",
       " 0.589705,\n",
       " 0.589388,\n",
       " 0.588433,\n",
       " 0.588752,\n",
       " 0.588113,\n",
       " 0.59002,\n",
       " 0.59002,\n",
       " 0.59065,\n",
       " 0.589705,\n",
       " 0.589388,\n",
       " 0.58907,\n",
       " 0.589705,\n",
       " 0.589705,\n",
       " 0.589705,\n",
       " 0.58907,\n",
       " 0.589388,\n",
       " 0.589388,\n",
       " 0.589705,\n",
       " 0.590335,\n",
       " 0.58907,\n",
       " 0.588752,\n",
       " 0.589388,\n",
       " 0.588433,\n",
       " 0.58907,\n",
       " 0.588752,\n",
       " 0.589705,\n",
       " 0.589388,\n",
       " 0.587792,\n",
       " 0.587792,\n",
       " 0.587148,\n",
       " 0.587792,\n",
       " 0.587471,\n",
       " 0.585851,\n",
       " 0.585851,\n",
       " 0.585197,\n",
       " 0.585851,\n",
       " 0.585197,\n",
       " 0.585851,\n",
       " 0.584868,\n",
       " 0.584209,\n",
       " 0.583879,\n",
       " 0.584539,\n",
       " 0.582212,\n",
       " 0.583214,\n",
       " 0.580864,\n",
       " 0.581876,\n",
       " 0.579501,\n",
       " 0.579843,\n",
       " 0.581539,\n",
       " 0.580184,\n",
       " 0.581539,\n",
       " 0.581539,\n",
       " 0.581876,\n",
       " 0.583214,\n",
       " 0.582881,\n",
       " 0.582881,\n",
       " 0.583214,\n",
       " 0.583214,\n",
       " 0.582547,\n",
       " 0.582547,\n",
       " 0.582212,\n",
       " 0.581539,\n",
       " 0.581539,\n",
       " 0.581202,\n",
       " 0.581539,\n",
       " 0.581202,\n",
       " 0.580524,\n",
       " 0.580864,\n",
       " 0.579843,\n",
       " 0.580184,\n",
       " 0.580524,\n",
       " 0.580864,\n",
       " 0.580864,\n",
       " 0.581539,\n",
       " 0.581876,\n",
       " 0.582881,\n",
       " 0.581539,\n",
       " 0.582212,\n",
       " 0.584209,\n",
       " 0.585197,\n",
       " 0.585197,\n",
       " 0.584209,\n",
       " 0.584209,\n",
       " 0.582881,\n",
       " 0.582547,\n",
       " 0.582212,\n",
       " 0.581876,\n",
       " 0.582212,\n",
       " 0.582212,\n",
       " 0.582212,\n",
       " 0.581202,\n",
       " 0.583214,\n",
       " 0.584539,\n",
       " 0.584209,\n",
       " 0.585197,\n",
       " 0.583879,\n",
       " 0.584209,\n",
       " 0.584209,\n",
       " 0.581876,\n",
       " 0.582212,\n",
       " 0.582212,\n",
       " 0.582881,\n",
       " 0.581876,\n",
       " 0.579843,\n",
       " 0.579501,\n",
       " 0.578125,\n",
       " 0.578125,\n",
       " 0.577084,\n",
       " 0.577084,\n",
       " 0.577084,\n",
       " 0.576735,\n",
       " 0.577084,\n",
       " 0.577779,\n",
       " 0.576385,\n",
       " 0.57533,\n",
       " 0.574977,\n",
       " 0.574268,\n",
       " 0.576034,\n",
       " 0.576385,\n",
       " 0.576735,\n",
       " 0.577432,\n",
       " 0.577084,\n",
       " 0.577084,\n",
       " 0.577432,\n",
       " 0.577432,\n",
       " 0.577779,\n",
       " 0.577779,\n",
       " 0.577779,\n",
       " 0.578815,\n",
       " 0.579501,\n",
       " 0.579158,\n",
       " 0.579843,\n",
       " 0.577432,\n",
       " 0.579501,\n",
       " 0.57847,\n",
       " 0.579501,\n",
       " 0.579158,\n",
       " 0.578815,\n",
       " 0.579843,\n",
       " 0.579501,\n",
       " 0.581876,\n",
       " 0.581539,\n",
       " 0.581876,\n",
       " 0.582547,\n",
       " 0.583547,\n",
       " 0.583214,\n",
       " 0.582881,\n",
       " 0.583547,\n",
       " 0.582881,\n",
       " 0.583214,\n",
       " 0.584209,\n",
       " 0.583879,\n",
       " 0.583214,\n",
       " 0.582881,\n",
       " 0.583214,\n",
       " 0.581876,\n",
       " 0.582212,\n",
       " 0.582547,\n",
       " 0.582881,\n",
       " 0.581539,\n",
       " 0.581876,\n",
       " 0.580524,\n",
       " 0.582547,\n",
       " 0.581539,\n",
       " 0.581876,\n",
       " 0.582212,\n",
       " 0.582212,\n",
       " 0.581876,\n",
       " 0.580864,\n",
       " 0.581539,\n",
       " 0.581539,\n",
       " 0.582881,\n",
       " 0.582881,\n",
       " 0.585524,\n",
       " 0.586501,\n",
       " 0.586176,\n",
       " 0.586825,\n",
       " 0.587471,\n",
       " 0.586825,\n",
       " 0.586501,\n",
       " 0.586176,\n",
       " 0.585524,\n",
       " 0.584868,\n",
       " 0.585524,\n",
       " 0.583879,\n",
       " 0.583879,\n",
       " 0.582881,\n",
       " 0.583547,\n",
       " 0.583547,\n",
       " 0.583547,\n",
       " 0.582212,\n",
       " 0.582881,\n",
       " 0.583547,\n",
       " 0.583547,\n",
       " 0.582881,\n",
       " 0.583547,\n",
       " 0.582881,\n",
       " 0.581539,\n",
       " 0.581876,\n",
       " 0.582547,\n",
       " 0.582212,\n",
       " 0.582881,\n",
       " 0.583214,\n",
       " 0.583214,\n",
       " 0.582212,\n",
       " 0.582547,\n",
       " 0.582547,\n",
       " 0.582547,\n",
       " 0.582212,\n",
       " 0.581539,\n",
       " 0.584209,\n",
       " 0.584868,\n",
       " 0.583879,\n",
       " 0.583547,\n",
       " 0.583547,\n",
       " 0.583879,\n",
       " 0.584539,\n",
       " 0.583547,\n",
       " 0.585524,\n",
       " 0.585851,\n",
       " 0.586501,\n",
       " 0.586825,\n",
       " 0.586825,\n",
       " 0.586501,\n",
       " 0.588113,\n",
       " 0.586501,\n",
       " 0.585197,\n",
       " 0.585524,\n",
       " 0.584868,\n",
       " 0.584539,\n",
       " 0.585197,\n",
       " 0.584539,\n",
       " 0.585197,\n",
       " 0.584209,\n",
       " 0.584209,\n",
       " 0.584539,\n",
       " 0.584539,\n",
       " 0.583879,\n",
       " 0.584209,\n",
       " 0.584209,\n",
       " 0.584539,\n",
       " 0.583547,\n",
       " 0.583547,\n",
       " 0.582212,\n",
       " 0.581539,\n",
       " 0.581876,\n",
       " 0.582547,\n",
       " 0.583214,\n",
       " 0.581876,\n",
       " 0.581539,\n",
       " 0.582881,\n",
       " 0.582881,\n",
       " 0.580864,\n",
       " 0.579158,\n",
       " 0.580864,\n",
       " 0.580524,\n",
       " 0.580184,\n",
       " 0.579843,\n",
       " 0.581876,\n",
       " 0.581539,\n",
       " 0.582212,\n",
       " 0.583879,\n",
       " 0.584209,\n",
       " 0.582547,\n",
       " 0.581539,\n",
       " 0.581876,\n",
       " 0.580524,\n",
       " 0.580184,\n",
       " 0.578815,\n",
       " 0.577432,\n",
       " 0.57847,\n",
       " 0.577779,\n",
       " 0.577779,\n",
       " 0.577084,\n",
       " 0.577432,\n",
       " 0.576034,\n",
       " 0.576735,\n",
       " 0.575683,\n",
       " 0.57533,\n",
       " 0.57533,\n",
       " 0.574623,\n",
       " 0.573555,\n",
       " 0.574268,\n",
       " 0.574268,\n",
       " 0.57533,\n",
       " 0.576385,\n",
       " 0.576034,\n",
       " 0.575683,\n",
       " 0.573912,\n",
       " 0.573555,\n",
       " 0.574977,\n",
       " 0.57533,\n",
       " 0.573197,\n",
       " 0.574623,\n",
       " 0.57533,\n",
       " 0.576385,\n",
       " 0.577084,\n",
       " 0.576735,\n",
       " 0.576385,\n",
       " 0.577084,\n",
       " 0.57847,\n",
       " 0.578125,\n",
       " 0.577084,\n",
       " 0.578125,\n",
       " 0.578125,\n",
       " 0.57847,\n",
       " 0.577084,\n",
       " 0.578815,\n",
       " ...]"
      ]
     },
     "execution_count": 72,
     "metadata": {},
     "output_type": "execute_result"
    }
   ],
   "source": [
    "trajectory_raw"
   ]
  },
  {
   "cell_type": "code",
   "execution_count": null,
   "metadata": {
    "collapsed": true
   },
   "outputs": [],
   "source": []
  },
  {
   "cell_type": "code",
   "execution_count": null,
   "metadata": {
    "collapsed": true
   },
   "outputs": [],
   "source": []
  },
  {
   "cell_type": "code",
   "execution_count": null,
   "metadata": {
    "collapsed": true
   },
   "outputs": [],
   "source": []
  },
  {
   "cell_type": "code",
   "execution_count": null,
   "metadata": {
    "collapsed": true
   },
   "outputs": [],
   "source": []
  },
  {
   "cell_type": "code",
   "execution_count": null,
   "metadata": {
    "collapsed": true
   },
   "outputs": [],
   "source": []
  },
  {
   "cell_type": "code",
   "execution_count": 430,
   "metadata": {
    "collapsed": true
   },
   "outputs": [],
   "source": [
    "def Diff(eta):\n",
    "    return FreeEnergyBinWithCorr3(eta, 1) - FreeEnergyCS(eta, s1, s2, s3, 1)"
   ]
  },
  {
   "cell_type": "code",
   "execution_count": 431,
   "metadata": {
    "collapsed": true
   },
   "outputs": [],
   "source": [
    "diff = []\n",
    "for eta in etas:\n",
    "    diff.append(Diff(eta))"
   ]
  },
  {
   "cell_type": "code",
   "execution_count": 433,
   "metadata": {
    "collapsed": false
   },
   "outputs": [
    {
     "data": {
      "text/plain": [
       "[-2.2099658743002237e-05,\n",
       " -1.9434501725257292e-05,\n",
       " -1.6690305425726137e-05,\n",
       " -1.3864995127121915e-05,\n",
       " -1.095644911242033e-05,\n",
       " -7.9624977873393732e-06,\n",
       " -4.880922783279118e-06,\n",
       " -9.0592206198891745e-06,\n",
       " -1.1747905463543873e-05,\n",
       " 1.2942698450757462e-06,\n",
       " 1.0180733854170398e-05,\n",
       " 1.0679605733976416e-05,\n",
       " 2.9201874490958346e-05,\n",
       " 5.6465567642938197e-05,\n",
       " 7.9569009577618033e-05,\n",
       " 9.528616199361295e-05,\n",
       " 0.00010270853147797965,\n",
       " 0.00011441468093220664,\n",
       " 0.00013398206192594131,\n",
       " 0.00014249809146793524,\n",
       " 0.00016344121963118852,\n",
       " 0.00016549285821909621,\n",
       " 0.00016887678468879841,\n",
       " 0.00018961747442602928,\n",
       " 0.00019399357470817336,\n",
       " 0.0001942081060244405,\n",
       " 0.00020238062016897373,\n",
       " 0.00021056655381546108,\n",
       " 0.00023651374267252834,\n",
       " 0.00024623837342652166,\n",
       " 0.00025291373626767921,\n",
       " 0.00026575946050932941,\n",
       " 0.00027455882490823313,\n",
       " 0.00028987921915746284,\n",
       " 0.00030400510386741075,\n",
       " 0.0003189001713987949,\n",
       " 0.00032261475558659214,\n",
       " 0.00034465485465862145,\n",
       " 0.00035542582182834792,\n",
       " 0.00037492143738404593,\n",
       " 0.00036855746057096184,\n",
       " 0.0003811538727767072,\n",
       " 0.00040445674274014465,\n",
       " 0.00041309259466526527,\n",
       " 0.00042686620327092584,\n",
       " 0.00042950604667613135,\n",
       " 0.00044397682981678344,\n",
       " 0.00046393424543822448,\n",
       " 0.00047640725223274671,\n",
       " 0.00049165120558924968,\n",
       " 0.00050091529914197963,\n",
       " 0.00049589486423684548,\n",
       " 0.00050818698163279663,\n",
       " 0.000509748041322311,\n",
       " 0.00051045122468984516,\n",
       " 0.00052080370696394596,\n",
       " 0.00053012651371542319,\n",
       " 0.00054623322903246674,\n",
       " 0.00055233113100339182,\n",
       " 0.00056521881922666495,\n",
       " 0.00057634129696904068,\n",
       " 0.0005831186335916172,\n",
       " 0.00059436779968535802,\n",
       " 0.00060894658907084676,\n",
       " 0.00063518085866398621,\n",
       " 0.00064609323981379418,\n",
       " 0.00066976303099330892,\n",
       " 0.0006931788402111394,\n",
       " 0.00072044498095458209,\n",
       " 0.00074064258610473388,\n",
       " 0.00075705212177101799,\n",
       " 0.0007807369634731387,\n",
       " 0.00079614963977547859,\n",
       " 0.00080692196602427657,\n",
       " 0.00080811022762983242,\n",
       " 0.00082018016044838049,\n",
       " 0.00082882731935640663,\n",
       " 0.00084604251119646534,\n",
       " 0.00085420417275816618,\n",
       " 0.00086409304920742613,\n",
       " 0.00086878318079541828,\n",
       " 0.00088954232853577508,\n",
       " 0.00090530955132894775,\n",
       " 0.00092072443709945162,\n",
       " 0.0009341934838849042,\n",
       " 0.00095387164732319007,\n",
       " 0.0009986872819709447,\n",
       " 0.0010098433344767344,\n",
       " 0.0010423425915320195,\n",
       " 0.0010756636992512725,\n",
       " 0.0010996565655760904,\n",
       " 0.001125693349033341,\n",
       " 0.0011465489684736596,\n",
       " 0.0011777882678893903,\n",
       " 0.0012104543407538415,\n",
       " 0.0012344524783234334,\n",
       " 0.0012796575048446002,\n",
       " 0.0013252272474426618,\n",
       " 0.0013588301622053933,\n",
       " 0.0014132863104272531,\n",
       " 0.0014562739822920889,\n",
       " 0.0015022440845386953,\n",
       " 0.0015450149824376425,\n",
       " 0.0015965785503446739,\n",
       " 0.0016471715997496972,\n",
       " 0.0017031359054229256,\n",
       " 0.0017506895576371306,\n",
       " 0.0017997340554432029,\n",
       " 0.0018521435879002013,\n",
       " 0.001896416032138859,\n",
       " 0.0019471264819115319,\n",
       " 0.0019977962113300052,\n",
       " 0.0020468855729260937,\n",
       " 0.0020862464201201192,\n",
       " 0.0021354148677490414,\n",
       " 0.002188428970463896,\n",
       " 0.0022341237840075578,\n",
       " 0.0022784711512642275,\n",
       " 0.0023248848943362432,\n",
       " 0.0023743882508817649,\n",
       " 0.0024296417329612296,\n",
       " 0.0024884370285125357,\n",
       " 0.0025412912019318057,\n",
       " 0.0026100682073293413,\n",
       " 0.0026597026733661266,\n",
       " 0.0027175524142775132,\n",
       " 0.0027839530538047441,\n",
       " 0.0028525343794516544,\n",
       " 0.0029167932373397321,\n",
       " 0.0029789874148820061,\n",
       " 0.0030592773263302675,\n",
       " 0.0031443603899790062,\n",
       " 0.0032245177144751835,\n",
       " 0.0032990875933656127,\n",
       " 0.0033741894000245409,\n",
       " 0.0034363049924435174,\n",
       " 0.0035086084086621838,\n",
       " 0.0035861439167943487,\n",
       " 0.0036654825030764115,\n",
       " 0.0037474146867797486,\n",
       " 0.0038316615247859787,\n",
       " 0.0039193421496754866,\n",
       " 0.0039886280524852324,\n",
       " 0.0040681241590769801,\n",
       " 0.0041578660619583374,\n",
       " 0.0042544568684306228,\n",
       " 0.0043454846853334672,\n",
       " 0.0044325316143449811,\n",
       " 0.0045325461580212334,\n",
       " 0.0046230156211732876,\n",
       " 0.004724016036443679,\n",
       " 0.0048174480393319286,\n",
       " 0.0049021158302791079,\n",
       " 0.0049894357754904917,\n",
       " 0.0050753707639081824,\n",
       " 0.005157912216080085,\n",
       " 0.0052441297120875419,\n",
       " 0.0053244071949167804,\n",
       " 0.0054181589882835723,\n",
       " 0.0055023619359424458,\n",
       " 0.0055845478735019327,\n",
       " 0.0056704043667759052,\n",
       " 0.0057610429548642372,\n",
       " 0.0058552149124997399,\n",
       " 0.0059496375017138448,\n",
       " 0.0060476542273049105,\n",
       " 0.0061480295423939069,\n",
       " 0.0062539147642999282,\n",
       " 0.006361116210411133,\n",
       " 0.0064673989362491469,\n",
       " 0.0065614507855649151,\n",
       " 0.006666553889100868,\n",
       " 0.0067687464882828507,\n",
       " 0.0068750937255392941,\n",
       " 0.006976902795513773,\n",
       " 0.0070871117239263981,\n",
       " 0.0071972977114445058,\n",
       " 0.0073003021076623043,\n",
       " 0.0074198744649089932,\n",
       " 0.0075318581596492962,\n",
       " 0.0076345409068965253,\n",
       " 0.0077546715488852058,\n",
       " 0.007872776488012434,\n",
       " 0.0080073012384502817,\n",
       " 0.008149037658495395,\n",
       " 0.0082932850543855352,\n",
       " 0.0084382362895141227,\n",
       " 0.008565452321596112,\n",
       " 0.0087081150558177001,\n",
       " 0.008851058759850261,\n",
       " 0.0090051326303299817,\n",
       " 0.009167863868388082,\n",
       " 0.0093225915833672346,\n",
       " 0.0094760927067358836,\n",
       " 0.009640225159895266,\n",
       " 0.0097923569392595056,\n",
       " 0.0099556092082995207,\n",
       " 0.010110734645347286,\n",
       " 0.010269520459201154,\n",
       " 0.010413911121727182,\n",
       " 0.010577976847501169,\n",
       " 0.010744670823447322,\n",
       " 0.010906473925498261,\n",
       " 0.011075887357949732,\n",
       " 0.011261925097851844,\n",
       " 0.011445158418347035,\n",
       " 0.011640853488906977,\n",
       " 0.011832133364522157,\n",
       " 0.012036996971679592,\n",
       " 0.012249139098493345,\n",
       " 0.012465928481872446,\n",
       " 0.012692314324290521,\n",
       " 0.012919568610173293,\n",
       " 0.013145877922055682,\n",
       " 0.013390837227635899,\n",
       " 0.013643593016431588,\n",
       " 0.013884513820451083,\n",
       " 0.014148912087541099,\n",
       " 0.014409924507132743,\n",
       " 0.014677988997125802,\n",
       " 0.014945810525380132,\n",
       " 0.015230571341799504,\n",
       " 0.015511278097656067,\n",
       " 0.015803113516745348,\n",
       " 0.016102483643316567,\n",
       " 0.016411541013860997,\n",
       " 0.016721691191659893,\n",
       " 0.017048602374798882,\n",
       " 0.017375845201259565,\n",
       " 0.0177051965496835,\n",
       " 0.018043015850020439,\n",
       " 0.018406117989907322,\n",
       " 0.01879769015076338,\n",
       " 0.019188953616080973,\n",
       " 0.019605215937760434,\n",
       " 0.02002888135623504,\n",
       " 0.020450513125206626,\n",
       " 0.020879646241533045,\n",
       " 0.021313906483230838,\n",
       " 0.021754937474931069,\n",
       " 0.022199373885547935,\n",
       " 0.022660498473714874,\n",
       " 0.023146589010986318,\n",
       " 0.023643006812615219,\n",
       " 0.0241453640484659,\n",
       " 0.024673263513530053,\n",
       " 0.025198578607398936,\n",
       " 0.025747048643702364,\n",
       " 0.026309860940113339,\n",
       " 0.026893844301742575,\n",
       " 0.027477179031264676,\n",
       " 0.028080612333212684,\n",
       " 0.028692979368143412,\n",
       " 0.029310658529319689,\n",
       " 0.029945635939197857,\n",
       " 0.030594312017209191,\n",
       " 0.031265250171621517,\n",
       " 0.031948247346161196,\n",
       " 0.032641889297625681,\n",
       " 0.033345289153982272,\n",
       " 0.034062913194091493,\n",
       " 0.034785919890351735,\n",
       " 0.035540023725780578,\n",
       " 0.036298698503419935,\n",
       " 0.03708344874740277,\n",
       " 0.037884267569975094,\n",
       " 0.038708486444240187,\n",
       " 0.039548751322039166,\n",
       " 0.040405128626900932,\n",
       " 0.041272571547832371,\n",
       " 0.042155013869479063,\n",
       " 0.043055283769884767,\n",
       " 0.04396758621280572,\n",
       " 0.044904240211807611,\n",
       " 0.045849759601003903,\n",
       " 0.046823779154129497,\n",
       " 0.047809253599295332,\n",
       " 0.048809858777899784,\n",
       " 0.049832756222851771,\n",
       " 0.050867957932696939,\n",
       " 0.051917680816394807,\n",
       " 0.053008052021241703,\n",
       " 0.054114678393421656,\n",
       " 0.055238087959675219,\n",
       " 0.05638821816093742,\n",
       " 0.057553402311713242,\n",
       " 0.058733164386583603,\n",
       " 0.05992234642240124,\n",
       " 0.061138484201872068,\n",
       " 0.062363025678401129,\n",
       " 0.06359478777322991,\n",
       " 0.06486355073629646,\n",
       " 0.066150343378663656,\n",
       " 0.067457315753912894,\n",
       " 0.068774895817997006,\n",
       " 0.070109172429685174,\n",
       " 0.071468887948892501,\n",
       " 0.072864226953926803,\n",
       " 0.074289500793898178,\n",
       " 0.075744608703621097,\n",
       " 0.077232269156095157,\n",
       " 0.078747309730006876,\n",
       " 0.080295876650193776,\n",
       " 0.081862079526768383,\n",
       " 0.08344774470737093,\n",
       " 0.085070726652919149,\n",
       " 0.086729131274118743,\n",
       " 0.08839757058512987,\n",
       " 0.090096791949385135,\n",
       " 0.091802477007634664,\n",
       " 0.093514969129557812,\n",
       " 0.095259105747008022,\n",
       " 0.097028750373715056,\n",
       " 0.098812281697380655,\n",
       " 0.10059499425756258,\n",
       " 0.10240957071782475,\n",
       " 0.10426292220619438,\n",
       " 0.10615849355807505,\n",
       " 0.10808001460440408,\n",
       " 0.1100504719258204,\n",
       " 0.11200812756102074,\n",
       " 0.11403498038816728,\n",
       " 0.11607558582888977,\n",
       " 0.11814663300961747,\n",
       " 0.1202737918726946,\n",
       " 0.12242185731637889,\n",
       " 0.12460166120818705,\n",
       " 0.12681730058151963,\n",
       " 0.12906637028815027,\n",
       " 0.1313180481087155,\n",
       " 0.13359082319552051,\n",
       " 0.13590012667983942,\n",
       " 0.13822335396303664,\n",
       " 0.14057008509186808,\n",
       " 0.14289527215087539,\n",
       " 0.1453105466030653,\n",
       " 0.14774335109436265,\n",
       " 0.15018617019369707,\n",
       " 0.1526372464682435,\n",
       " 0.15519108597018771,\n",
       " 0.15788563157095403,\n",
       " 0.16066303633050083,\n",
       " 0.16338492142473449,\n",
       " 0.16614421818336744,\n",
       " 0.16894530146004705,\n",
       " 0.17173592464494902,\n",
       " 0.17459581649429268,\n",
       " 0.1774536390306487,\n",
       " 0.18028725243341448,\n",
       " 0.18318974910267549,\n",
       " 0.18612583946898908,\n",
       " 0.18904647561115873,\n",
       " 0.1918459788589697,\n",
       " 0.19468009549433773,\n",
       " 0.19755798025676796,\n",
       " 0.20056952796519845,\n",
       " 0.20355254946665191,\n",
       " 0.20660695750664182,\n",
       " 0.20969525224410646,\n",
       " 0.21275740071083327,\n",
       " 0.21582747112289802,\n",
       " 0.21895313703249286,\n",
       " 0.22223918674534104,\n",
       " 0.2253795089422912,\n",
       " 0.22838213202591007,\n",
       " 0.23154422152984289,\n",
       " 0.23485182151804906,\n",
       " 0.23828119391459346,\n",
       " 0.24170188911567791,\n",
       " 0.2451290652276068,\n",
       " 0.24856277599036147,\n",
       " 0.25200307505739872,\n",
       " 0.25545001599172501,\n",
       " 0.25890365226202405,\n",
       " 0.2623640372387257,\n",
       " 0.26583122419010685,\n",
       " 0.26930526627841012,\n",
       " 0.27278621655592872,\n",
       " 0.27627412796112871,\n",
       " 0.2797690533147108,\n",
       " 0.28327104531577874,\n",
       " 0.28678015653792421,\n",
       " 0.29029643942534378,\n",
       " 0.29381994628899299,\n",
       " 0.29735072930271755,\n",
       " 0.30088884049938969,\n",
       " 0.30443433176707657,\n",
       " 0.30798725484519096,\n",
       " 0.31154766132069334,\n",
       " 0.31511560262425675,\n",
       " 0.31869113002648852,\n",
       " 0.32227429463411639,\n",
       " 0.32586514738626526,\n",
       " 0.32946373905067894,\n",
       " 0.3330701202199613,\n",
       " 0.3366843413078886,\n",
       " 0.34030645254567382,\n",
       " 0.34393650397832687,\n",
       " 0.34757454546093847,\n",
       " 0.35122062665506348,\n",
       " 0.35487479702508296,\n",
       " 0.3585371058346194,\n",
       " 0.36220760214292369,\n",
       " 0.36588633480134547,\n",
       " 0.36957335244978751,\n",
       " 0.3732687035131903,\n",
       " 0.37697243619806109,\n",
       " 0.38068459848900105,\n",
       " 0.38440523814528405,\n",
       " 0.38813440269745314,\n",
       " 0.39187213944393484,\n",
       " 0.39561849544770844,\n",
       " 0.39937351753297712,\n",
       " 0.40313725228188346,\n",
       " 0.40690974603125341,\n",
       " 0.41069104486937213,\n",
       " 0.41448119463279554,\n",
       " 0.41828024090320071,\n",
       " 0.42208822900424359,\n",
       " 0.4259052039984752,\n",
       " 0.42973121068428988,\n",
       " 0.43356629359290366,\n",
       " 0.43741049698537537,\n",
       " 0.44126386484964009,\n",
       " 0.44512644089762077,\n",
       " 0.44899826856234704,\n",
       " 0.45287939099513075,\n",
       " 0.45676985106274337,\n",
       " 0.46066969134468927,\n",
       " 0.46457895413048256,\n",
       " 0.46849768141697901,\n",
       " 0.47242591490569907,\n",
       " 0.47636369600031436,\n",
       " 0.48031106580399374,\n",
       " 0.48426806511700349,\n",
       " 0.48823473443415999,\n",
       " 0.492211113942437,\n",
       " 0.49619724351857641,\n",
       " 0.50019316272676839,\n",
       " 0.50419891081635626,\n",
       " 0.50821452671955569,\n",
       " 0.51224004904930354,\n",
       " 0.51627551609706579,\n",
       " 0.52032096583073617,\n",
       " 0.52437643589257554,\n",
       " 0.52844196359717444,\n",
       " 0.5325175859295026,\n",
       " 0.53660333954295858,\n",
       " 0.54069926075752583,\n",
       " 0.54480538555789515,\n",
       " 0.54892174959173268,\n",
       " 0.55304838816786805,\n",
       " 0.55718533625466904,\n",
       " 0.56133262847836463,\n",
       " 0.56549029912149962,\n",
       " 0.56965838212131814,\n",
       " 0.57383691106829993,\n",
       " 0.57802591920470903,\n",
       " 0.58222543942321359,\n",
       " 0.58643550426549851,\n",
       " 0.59065614592098825,\n",
       " 0.59488739622555897,\n",
       " 0.59912928666037502,\n",
       " 0.60338184835068276,\n",
       " 0.6076451120647377,\n",
       " 0.61191910821273332,\n",
       " 0.61620386684579209,\n",
       " 0.62049941765498673,\n",
       " 0.62480578997044489,\n",
       " 0.62912301276047167,\n",
       " 0.63345111463072357,\n",
       " 0.63779012382345179,\n",
       " 0.64214006821678282,\n",
       " 0.6465009753240345,\n",
       " 0.65087287229310675,\n",
       " 0.65525578590587052,\n",
       " 0.65964974257767572,\n",
       " 0.66405476835684318,\n",
       " 0.66847088892423479,\n",
       " 0.67289812959287332,\n",
       " 0.67733651530760675,\n",
       " 0.68178607064479202,\n",
       " 0.68624681981204283,\n",
       " 0.69071878664807862,\n",
       " 0.69520199462249543,\n",
       " 0.69969646683571263,\n",
       " 0.70420222601888938,\n",
       " 0.7087192945338785,\n",
       " 0.71324769437331348,\n",
       " 0.71778744716061205,\n",
       " 0.72233857415012714,\n",
       " 0.72690109622729437,\n",
       " 0.7314750339088345,\n",
       " 0.73606040734298794,\n",
       " 0.74065723630982916,\n",
       " 0.74526554022156155,\n",
       " 0.7498853381229118,\n",
       " 0.75451664869154556,\n",
       " 0.75915949023850615,\n",
       " 0.76381388070872447,\n",
       " 0.7684798376815376,\n",
       " 0.77315737837128928,\n",
       " 0.77784651962793916,\n",
       " 0.78254727793769518,\n",
       " 0.78725966942372594,\n",
       " 0.79198370984691024,\n",
       " 0.79671941460657791,\n",
       " 0.80146679874134641,\n",
       " 0.80622587692993264,\n",
       " 0.81099666349207133,\n",
       " 0.81577917238940145,\n",
       " 0.82057341722643962,\n",
       " 0.82537941125156955,\n",
       " 0.83019716735803506,\n",
       " 0.83502669808505203,\n",
       " 0.83986801561886715,\n",
       " 0.8447211317938752,\n",
       " 0.84958605809378973,\n",
       " 0.85446280565284383,\n",
       " 0.85935138525697852,\n",
       " 0.86425180734512352,\n",
       " 0.86916408201049578,\n",
       " 0.87408821900185529,\n",
       " 0.8790242277249245,\n",
       " 0.88397211724367786,\n",
       " 0.88893189628182334,\n",
       " 0.89390357322418268,\n",
       " 0.89888715611816572,\n",
       " 0.90388265267521817,\n",
       " 0.9088900702724132,\n",
       " 0.9139094159539134,\n",
       " 0.91894069643255705,\n",
       " 0.92398391809145153,\n",
       " 0.92903908698558091,\n",
       " 0.93410620884343842,\n",
       " 0.93918528906868559,\n",
       " 0.94427633274183975,\n",
       " 0.94937934462197937,\n",
       " 0.95449432914846355,\n",
       " 0.95962129044267463,\n",
       " 0.96476023230980879,\n",
       " 0.96991115824062391,\n",
       " 0.97507407141329949,\n",
       " 0.98024897469520944,\n",
       " 0.98543587064481741,\n",
       " 0.99063476151351004,\n",
       " 0.99584564924747987,\n",
       " 1.0010685354896243,\n",
       " 1.0063034215814941,\n",
       " 1.0115503085651731,\n",
       " 1.0168091971852675,\n",
       " 1.0220800878908474,\n",
       " 1.0273629808374025,\n",
       " 1.0326578758888925,\n",
       " 1.0379647726196879,\n",
       " 1.0432836703166419,\n",
       " 1.0486145679810708,\n",
       " 1.0539574643308214,\n",
       " 1.0593123578023267]"
      ]
     },
     "execution_count": 433,
     "metadata": {},
     "output_type": "execute_result"
    }
   ],
   "source": [
    "diff"
   ]
  },
  {
   "cell_type": "code",
   "execution_count": 443,
   "metadata": {
    "collapsed": false
   },
   "outputs": [
    {
     "data": {
      "text/plain": [
       "(0.0001, 0.2)"
      ]
     },
     "execution_count": 443,
     "metadata": {},
     "output_type": "execute_result"
    },
    {
     "data": {
      "image/png": "[encoded data removed]",
      "text/plain": [
       "<matplotlib.figure.Figure at 0x407fb7b8>"
      ]
     },
     "metadata": {},
     "output_type": "display_data"
    }
   ],
   "source": [
    "plt.plot(etas, diff)\n",
    "plt.ylim(0.0001, 0.2)\n",
    "#plt.yscale('log')"
   ]
  },
  {
   "cell_type": "code",
   "execution_count": 21,
   "metadata": {
    "collapsed": true
   },
   "outputs": [],
   "source": [
    "from numpy import sqrt"
   ]
  },
  {
   "cell_type": "code",
   "execution_count": 1968,
   "metadata": {
    "collapsed": false
   },
   "outputs": [
    {
     "data": {
      "text/plain": [
       "0.22898716572151359"
      ]
     },
     "execution_count": 1968,
     "metadata": {},
     "output_type": "execute_result"
    }
   ],
   "source": [
    "sqrt(( sum(ds**2.0)/len(ds) - (sum(ds)/len(ds))**2.0 ))/((sum(ds)/len(ds)))"
   ]
  },
  {
   "cell_type": "code",
   "execution_count": 24,
   "metadata": {
    "collapsed": false
   },
   "outputs": [
    {
     "data": {
      "text/plain": [
       "1.998121414369709"
      ]
     },
     "execution_count": 24,
     "metadata": {},
     "output_type": "execute_result"
    }
   ],
   "source": [
    "sum(ds**2.0)/len(ds) "
   ]
  },
  {
   "cell_type": "code",
   "execution_count": 26,
   "metadata": {
    "collapsed": false
   },
   "outputs": [
    {
     "data": {
      "text/plain": [
       "1.898569681377448"
      ]
     },
     "execution_count": 26,
     "metadata": {},
     "output_type": "execute_result"
    }
   ],
   "source": [
    "(sum(ds)/len(ds))**2.0"
   ]
  },
  {
   "cell_type": "code",
   "execution_count": null,
   "metadata": {
    "collapsed": true
   },
   "outputs": [],
   "source": []
  },
  {
   "cell_type": "code",
   "execution_count": null,
   "metadata": {
    "collapsed": true
   },
   "outputs": [],
   "source": []
  },
  {
   "cell_type": "code",
   "execution_count": null,
   "metadata": {
    "collapsed": true
   },
   "outputs": [],
   "source": []
  },
  {
   "cell_type": "code",
   "execution_count": null,
   "metadata": {
    "collapsed": true
   },
   "outputs": [],
   "source": []
  },
  {
   "cell_type": "code",
   "execution_count": 120,
   "metadata": {
    "collapsed": true
   },
   "outputs": [],
   "source": [
    "### First correction"
   ]
  },
  {
   "cell_type": "code",
   "execution_count": 317,
   "metadata": {
    "collapsed": false
   },
   "outputs": [
    {
     "name": "stderr",
     "output_type": "stream",
     "text": [
      "C:\\Users\\rbj428\\AppData\\Local\\Continuum\\Anaconda2_3\\lib\\site-packages\\ipykernel\\__main__.py:13: MatplotlibDeprecationWarning: The set_axis_bgcolor function was deprecated in version 2.0. Use set_facecolor instead.\n"
     ]
    },
    {
     "data": {
      "image/png": "[encoded data removed]",
      "text/plain": [
       "<matplotlib.figure.Figure at 0x270295c0>"
      ]
     },
     "metadata": {},
     "output_type": "display_data"
    }
   ],
   "source": [
    "#things to plot\n",
    "plt.plot(etas, df, c=\"b\", linestyle = '-', linewidth = 1, marker='o')\n",
    "#plt.plot(etas, df_s, c=\"r\", linestyle = '-', linewidth = 1, marker='o')\n",
    "plt.plot(etas, df_pred, c=\"r\", linestyle = '-', linewidth = 3)#, marker='o')\n",
    "#plt.plot(etas_2, 2.0*hist_2, c=\"g\", linestyle = '-', linewidth = 1, marker='o')\n",
    "\n",
    "#plt.plot(etas, hist, c=\"b\", linestyle = '-', linewidth = 1, marker='o')\n",
    "#plt.plot(etas, hist_s, c=\"r\", linestyle = '-', linewidth = 1, marker='o')\n",
    "\n",
    "#backround grid details\n",
    "axes = plt.gca()\n",
    "axes.grid(b = True, which = 'both', axis = 'both', color = 'gray', linestyle = '-', alpha = 0.5, linewidth = 0.5) \n",
    "axes.set_axis_bgcolor('white')  \n",
    "\n",
    "#font scpecifications\n",
    "title_font = {'family' : 'arial', 'color'  : 'black', 'weight' : 'heavy','size': 20}\n",
    "axis_label_font = {'family' : 'arial', 'color'  : 'black', 'weight' : 'normal','size': 20}\n",
    "\n",
    "major_ticks = arange(0.49, 0.65, 0.05)  \n",
    "axes.set_xticks(major_ticks)                                                       \n",
    "\n",
    "#figure size and tick style\n",
    "plt.rcParams[\"figure.figsize\"] = [6,6]\n",
    "plt.rc('axes',edgecolor='black',linewidth=1)\n",
    "plt.tick_params(which='both', axis='both', color='black', length=4, width=0.5)\n",
    "plt.rcParams['xtick.direction'] = 'in'\n",
    "plt.rcParams['ytick.direction'] = 'in'\n",
    "\n",
    "#axis range and labels (also specify if log or not)\n",
    "plt.xlim(0.48, 0.68)\n",
    "#plt.ylim(0.035, 0.10)\n",
    "plt.ylim(5, 13)\n",
    "plt.ylim(0.0, 0.04)\n",
    "plt.ylim(0.0000001, 0.1)\n",
    "\n",
    "#plt.yscale('log')\n",
    "plt.xlabel(r'volume fraction', y=3, fontsize=20, fontdict = axis_label_font)\n",
    "plt.ylabel(r'dF', fontsize=20, fontdict = axis_label_font)\n",
    "\n",
    "#title and axis labels\n",
    "plt.tick_params(axis='both', labelsize=20)\n",
    "#plt.title('Logistic Regression Fit', y=1.05, fontdict = title_font)\n",
    "\n",
    "plt.show()"
   ]
  },
  {
   "cell_type": "code",
   "execution_count": 1106,
   "metadata": {
    "collapsed": true
   },
   "outputs": [],
   "source": [
    "def QuadFit(eta, a, b, c):\n",
    "    return a*eta**2.0 + b*eta + c\n",
    "    return a*eta+b"
   ]
  },
  {
   "cell_type": "code",
   "execution_count": 289,
   "metadata": {
    "collapsed": true
   },
   "outputs": [],
   "source": [
    "index_max = 110\n",
    "popt, pcov = curve_fit(QuadFit, etas[:index_max], df[:index_max])"
   ]
  },
  {
   "cell_type": "code",
   "execution_count": 290,
   "metadata": {
    "collapsed": false
   },
   "outputs": [],
   "source": [
    "df_pred = QuadFit(etas, popt[0], popt[1], popt[2])"
   ]
  },
  {
   "cell_type": "code",
   "execution_count": 283,
   "metadata": {
    "collapsed": false
   },
   "outputs": [
    {
     "data": {
      "text/plain": [
       "0.540852880415849"
      ]
     },
     "execution_count": 283,
     "metadata": {},
     "output_type": "execute_result"
    }
   ],
   "source": [
    "etas[110]"
   ]
  },
  {
   "cell_type": "code",
   "execution_count": 275,
   "metadata": {
    "collapsed": false
   },
   "outputs": [
    {
     "data": {
      "text/plain": [
       "array([ 0.9605024 , -0.5656655 ,  0.05024441])"
      ]
     },
     "execution_count": 275,
     "metadata": {},
     "output_type": "execute_result"
    }
   ],
   "source": [
    "popt"
   ]
  },
  {
   "cell_type": "code",
   "execution_count": 276,
   "metadata": {
    "collapsed": false
   },
   "outputs": [
    {
     "data": {
      "text/plain": [
       "array([  2.47283269e-05,   2.57198383e-04,   4.89718682e-04,\n",
       "         7.22285211e-04,   9.54894014e-04,   1.18754118e-03,\n",
       "         1.42022287e-03,   1.65293526e-03,   1.88567461e-03,\n",
       "         2.11843721e-03,   2.35121941e-03,   2.58401760e-03,\n",
       "         2.81682822e-03,   3.04964776e-03,   3.28247275e-03,\n",
       "         3.51529978e-03,   3.74812547e-03,   3.98094649e-03,\n",
       "         4.21375956e-03,   4.44656142e-03,   4.67934889e-03,\n",
       "         4.91211881e-03,   5.14486806e-03,   5.37759357e-03,\n",
       "         5.61029231e-03,   5.84296129e-03,   6.07559755e-03,\n",
       "         6.30819818e-03,   6.54076031e-03,   6.77328111e-03,\n",
       "         7.00575777e-03,   7.23818754e-03,   7.47056769e-03,\n",
       "         7.70289554e-03,   7.93516844e-03,   8.16738378e-03,\n",
       "         8.39953897e-03,   8.63163147e-03,   8.86365878e-03,\n",
       "         9.09561840e-03,   9.32750791e-03,   9.55932490e-03,\n",
       "         9.79106698e-03,   1.00227318e-02,   1.02543171e-02,\n",
       "         1.04858205e-02,   1.07172398e-02,   1.09485729e-02,\n",
       "         1.11798174e-02,   1.14109713e-02,   1.16420323e-02,\n",
       "         1.18729985e-02,   1.21038677e-02,   1.23346380e-02,\n",
       "         1.25653072e-02,   1.27958733e-02,   1.30263346e-02,\n",
       "         1.32566889e-02,   1.34869344e-02,   1.37170693e-02,\n",
       "         1.39470916e-02,   1.41769995e-02,   1.44067913e-02,\n",
       "         1.46364652e-02,   1.48660193e-02,   1.50954521e-02,\n",
       "         1.53247617e-02,   1.55539465e-02,   1.57830049e-02,\n",
       "         1.60119352e-02,   1.62407358e-02,   1.64694051e-02,\n",
       "         1.66979415e-02,   1.69263436e-02,   1.71546098e-02,\n",
       "         1.73827386e-02,   1.76107286e-02,   1.78385782e-02,\n",
       "         1.80662860e-02,   1.82938507e-02,   1.85212709e-02,\n",
       "         1.87485450e-02,   1.89756720e-02,   1.92026503e-02,\n",
       "         1.94294787e-02,   1.96561558e-02,   1.98826805e-02,\n",
       "         2.01090514e-02,   2.03352674e-02,   2.05613271e-02,\n",
       "         2.07872295e-02,   2.10129733e-02,   2.12385573e-02,\n",
       "         2.14639805e-02,   2.16892416e-02,   2.19143396e-02,\n",
       "         2.21392734e-02,   2.23640419e-02,   2.25886440e-02,\n",
       "         2.28130787e-02,   2.30373450e-02,   2.32614418e-02,\n",
       "         2.34853682e-02,   2.37091232e-02,   2.39327057e-02,\n",
       "         2.41561150e-02,   2.43793499e-02,   2.46024096e-02,\n",
       "         2.48252932e-02,   2.50479999e-02,   2.52705286e-02,\n",
       "         2.54928786e-02,   2.57150490e-02,   2.59370390e-02,\n",
       "         2.61588477e-02,   2.63804743e-02,   2.66019181e-02,\n",
       "         2.68231783e-02,   2.70442540e-02,   2.72651446e-02,\n",
       "         2.74858492e-02,   2.77063672e-02,   2.79266979e-02,\n",
       "         2.81468405e-02,   2.83667943e-02,   2.85865587e-02,\n",
       "         2.88061329e-02,   2.90255164e-02,   2.92447085e-02,\n",
       "         2.94637085e-02,   2.96825158e-02,   2.99011298e-02,\n",
       "         3.01195499e-02,   3.03377755e-02,   3.05558060e-02,\n",
       "         3.07736409e-02,   3.09912796e-02,   3.12087215e-02,\n",
       "         3.14259661e-02,   3.16430129e-02,   3.18598614e-02,\n",
       "         3.20765110e-02,   3.22929612e-02,   3.25092116e-02,\n",
       "         3.27252617e-02,   3.29411109e-02,   3.31567589e-02,\n",
       "         3.33722052e-02,   3.35874493e-02,   3.38024909e-02,\n",
       "         3.40173294e-02,   3.42319645e-02,   3.44463957e-02,\n",
       "         3.46606227e-02,   3.48746451e-02,   3.50884625e-02,\n",
       "         3.53020744e-02,   3.55154806e-02,   3.57286807e-02,\n",
       "         3.59416743e-02,   3.61544611e-02,   3.63670408e-02,\n",
       "         3.65794130e-02,   3.67915774e-02,   3.70035336e-02,\n",
       "         3.72152815e-02,   3.74268207e-02,   3.76381509e-02,\n",
       "         3.78492718e-02,   3.80601831e-02,   3.82708847e-02,\n",
       "         3.84813761e-02,   3.86916572e-02,   3.89017277e-02,\n",
       "         3.91115874e-02,   3.93212360e-02,   3.95306733e-02,\n",
       "         3.97398991e-02,   3.99489132e-02,   4.01577154e-02,\n",
       "         4.03663054e-02,   4.05746830e-02,   4.07828481e-02,\n",
       "         4.09908005e-02,   4.11985400e-02,   4.14060665e-02,\n",
       "         4.16133797e-02,   4.18204795e-02,   4.20273657e-02,\n",
       "         4.22340383e-02,   4.24404970e-02,   4.26467417e-02,\n",
       "         4.28527723e-02,   4.30585886e-02,   4.32641905e-02,\n",
       "         4.34695780e-02,   4.36747508e-02,   4.38797089e-02,\n",
       "         4.40844523e-02,   4.42889806e-02,   4.44932940e-02,\n",
       "         4.46973923e-02,   4.49012754e-02,   4.51049432e-02,\n",
       "         4.53083957e-02,   4.55116328e-02,   4.57146544e-02,\n",
       "         4.59174604e-02,   4.61200509e-02,   4.63224257e-02,\n",
       "         4.65245849e-02,   4.67265283e-02,   4.69282559e-02,\n",
       "         4.71297677e-02,   4.73310637e-02,   4.75321438e-02,\n",
       "         4.77330080e-02,   4.79336563e-02,   4.81340886e-02,\n",
       "         4.83343051e-02,   4.85343056e-02,   4.87340901e-02,\n",
       "         4.89336587e-02,   4.91330113e-02,   4.93321480e-02,\n",
       "         4.95310688e-02,   4.97297737e-02,   4.99282626e-02,\n",
       "         5.01265357e-02,   5.03245930e-02,   5.05224344e-02,\n",
       "         5.07200600e-02,   5.09174699e-02,   5.11146641e-02,\n",
       "         5.13116426e-02,   5.15084055e-02,   5.17049527e-02,\n",
       "         5.19012845e-02,   5.20974007e-02,   5.22933016e-02,\n",
       "         5.24889871e-02,   5.26844573e-02,   5.28797122e-02,\n",
       "         5.30747520e-02,   5.32695767e-02,   5.34641863e-02,\n",
       "         5.36585811e-02,   5.38527609e-02,   5.40467260e-02,\n",
       "         5.42404764e-02,   5.44340121e-02,   5.46273334e-02,\n",
       "         5.48204402e-02,   5.50133327e-02,   5.52060110e-02,\n",
       "         5.53984751e-02,   5.55907252e-02,   5.57827613e-02,\n",
       "         5.59745837e-02,   5.61661923e-02,   5.63575873e-02,\n",
       "         5.65487688e-02,   5.67397370e-02,   5.69304919e-02,\n",
       "         5.71210337e-02,   5.73113625e-02,   5.75014784e-02,\n",
       "         5.76913816e-02,   5.78810721e-02,   5.80705501e-02,\n",
       "         5.82598158e-02,   5.84488692e-02,   5.86377106e-02,\n",
       "         5.88263400e-02,   5.90147576e-02,   5.92029635e-02,\n",
       "         5.93909579e-02,   5.95787409e-02,   5.97663127e-02,\n",
       "         5.99536735e-02,   6.01408233e-02,   6.03277623e-02,\n",
       "         6.05144907e-02,   6.07010087e-02,   6.08873163e-02,\n",
       "         6.10734139e-02,   6.12593014e-02,   6.14449791e-02,\n",
       "         6.16304472e-02,   6.18157058e-02,   6.20007551e-02,\n",
       "         6.21855952e-02,   6.23702264e-02,   6.25546488e-02,\n",
       "         6.27388625e-02,   6.29228678e-02,   6.31066648e-02,\n",
       "         6.32902538e-02,   6.34736348e-02,   6.36568080e-02,\n",
       "         6.38397737e-02,   6.40225321e-02,   6.42050833e-02,\n",
       "         6.43874274e-02,   6.45695648e-02,   6.47514955e-02,\n",
       "         6.49332198e-02,   6.51147379e-02,   6.52960499e-02,\n",
       "         6.54771561e-02,   6.56580566e-02,   6.58387516e-02,\n",
       "         6.60192414e-02,   6.61995261e-02,   6.63796059e-02,\n",
       "         6.65594810e-02,   6.67391517e-02,   6.69186181e-02,\n",
       "         6.70978805e-02,   6.72769390e-02,   6.74557938e-02,\n",
       "         6.76344452e-02,   6.78128933e-02,   6.79911384e-02,\n",
       "         6.81691807e-02,   6.83470204e-02,   6.85246576e-02,\n",
       "         6.87020927e-02,   6.88793258e-02,   6.90563571e-02,\n",
       "         6.92331868e-02,   6.94098153e-02,   6.95862425e-02,\n",
       "         6.97624689e-02,   6.99384946e-02,   7.01143198e-02,\n",
       "         7.02899448e-02,   7.04653697e-02,   7.06405948e-02,\n",
       "         7.08156203e-02,   7.09904465e-02,   7.11650735e-02,\n",
       "         7.13395015e-02,   7.15137309e-02,   7.16877618e-02,\n",
       "         7.18615944e-02,   7.20352290e-02,   7.22086658e-02,\n",
       "         7.23819050e-02,   7.25549469e-02,   7.27277916e-02,\n",
       "         7.29004394e-02,   7.30728906e-02,   7.32451454e-02,\n",
       "         7.34172039e-02,   7.35890665e-02,   7.37607333e-02,\n",
       "         7.39322046e-02,   7.41034806e-02,   7.42745616e-02,\n",
       "         7.44454478e-02,   7.46161394e-02,   7.47866366e-02,\n",
       "         7.49569397e-02,   7.51270490e-02,   7.52969646e-02,\n",
       "         7.54666868e-02,   7.56362158e-02,   7.58055519e-02,\n",
       "         7.59746953e-02,   7.61436462e-02,   7.63124050e-02,\n",
       "         7.64809717e-02,   7.66493467e-02,   7.68175301e-02,\n",
       "         7.69855223e-02,   7.71533235e-02,   7.73209339e-02,\n",
       "         7.74883537e-02,   7.76555833e-02,   7.78226227e-02,\n",
       "         7.79894724e-02,   7.81561324e-02,   7.83226031e-02,\n",
       "         7.84888847e-02,   7.86549774e-02,   7.88208815e-02,\n",
       "         7.89865973e-02,   7.91521248e-02,   7.93174646e-02,\n",
       "         7.94826166e-02,   7.96475813e-02,   7.98123587e-02,\n",
       "         7.99769493e-02,   8.01413532e-02,   8.03055707e-02,\n",
       "         8.04696019e-02,   8.06334473e-02,   8.07971069e-02,\n",
       "         8.09605811e-02,   8.11238701e-02,   8.12869741e-02,\n",
       "         8.14498934e-02,   8.16126282e-02,   8.17751788e-02,\n",
       "         8.19375454e-02,   8.20997283e-02,   8.22617276e-02,\n",
       "         8.24235438e-02,   8.25851769e-02,   8.27466273e-02,\n",
       "         8.29078952e-02,   8.30689808e-02,   8.32298844e-02,\n",
       "         8.33906063e-02,   8.35511466e-02,   8.37115056e-02,\n",
       "         8.38716836e-02,   8.40316809e-02,   8.41914976e-02,\n",
       "         8.43511340e-02,   8.45105904e-02,   8.46698669e-02,\n",
       "         8.48289640e-02,   8.49878817e-02,   8.51466204e-02,\n",
       "         8.53051802e-02,   8.54635616e-02,   8.56217645e-02,\n",
       "         8.57797895e-02,   8.59376366e-02,   8.60953061e-02,\n",
       "         8.62527983e-02,   8.64101134e-02,   8.65672517e-02,\n",
       "         8.67242134e-02,   8.68809988e-02,   8.70376081e-02,\n",
       "         8.71940415e-02,   8.73502993e-02,   8.75063818e-02,\n",
       "         8.76622891e-02,   8.78180216e-02,   8.79735795e-02,\n",
       "         8.81289630e-02,   8.82841724e-02,   8.84392080e-02,\n",
       "         8.85940698e-02,   8.87487583e-02,   8.89032737e-02,\n",
       "         8.90576162e-02,   8.92117860e-02,   8.93657834e-02,\n",
       "         8.95196087e-02,   8.96732620e-02,   8.98267437e-02,\n",
       "         8.99800540e-02,   9.01331931e-02,   9.02861612e-02,\n",
       "         9.04389587e-02,   9.05915857e-02,   9.07440425e-02,\n",
       "         9.08963294e-02,   9.10484466e-02,   9.12003943e-02,\n",
       "         9.13521728e-02,   9.15037823e-02,   9.16552230e-02,\n",
       "         9.18064953e-02,   9.19575994e-02,   9.21085354e-02,\n",
       "         9.22593037e-02,   9.24099044e-02,   9.25603379e-02,\n",
       "         9.27106044e-02,   9.28607040e-02,   9.30106372e-02,\n",
       "         9.31604040e-02,   9.33100047e-02,   9.34594397e-02,\n",
       "         9.36087090e-02,   9.37578130e-02,   9.39067519e-02,\n",
       "         9.40555260e-02,   9.42041354e-02,   9.43525805e-02,\n",
       "         9.45008614e-02,   9.46489785e-02,   9.47969319e-02,\n",
       "         9.49447219e-02,   9.50923487e-02,   9.52398125e-02,\n",
       "         9.53871137e-02,   9.55342524e-02,   9.56812289e-02,\n",
       "         9.58280434e-02,   9.59746962e-02,   9.61211875e-02,\n",
       "         9.62675175e-02,   9.64136865e-02,   9.65596947e-02,\n",
       "         9.67055424e-02,   9.68512297e-02,   9.69967570e-02,\n",
       "         9.71421244e-02,   9.72873322e-02,   9.74323807e-02,\n",
       "         9.75772700e-02,   9.77220004e-02,   9.78665722e-02,\n",
       "         9.80109855e-02,   9.81552407e-02,   9.82993379e-02,\n",
       "         9.84432773e-02,   9.85870593e-02,   9.87306840e-02,\n",
       "         9.88741518e-02,   9.90174627e-02,   9.91606171e-02,\n",
       "         9.93036151e-02,   9.94464571e-02,   9.95891432e-02,\n",
       "         9.97316737e-02,   9.98740488e-02,   1.00016269e-01,\n",
       "         1.00158334e-01,   1.00300244e-01,   1.00442000e-01,\n",
       "         1.00583602e-01,   1.00725049e-01,   1.00866343e-01,\n",
       "         1.01007483e-01,   1.01148471e-01,   1.01289304e-01,\n",
       "         1.01429986e-01,   1.01570514e-01,   1.01710890e-01,\n",
       "         1.01851114e-01,   1.01991186e-01,   1.02131106e-01,\n",
       "         1.02270875e-01,   1.02410492e-01,   1.02549959e-01,\n",
       "         1.02689274e-01,   1.02828440e-01,   1.02967454e-01,\n",
       "         1.03106319e-01,   1.03245034e-01,   1.03383599e-01,\n",
       "         1.03522014e-01,   1.03660281e-01,   1.03798398e-01,\n",
       "         1.03936367e-01,   1.04074187e-01,   1.04211858e-01,\n",
       "         1.04349382e-01,   1.04486758e-01,   1.04623986e-01,\n",
       "         1.04761066e-01,   1.04898000e-01,   1.05034786e-01,\n",
       "         1.05171426e-01,   1.05307919e-01,   1.05444266e-01,\n",
       "         1.05580466e-01,   1.05716521e-01,   1.05852430e-01,\n",
       "         1.05988194e-01,   1.06123812e-01,   1.06259286e-01,\n",
       "         1.06394615e-01,   1.06529799e-01,   1.06664838e-01,\n",
       "         1.06799734e-01,   1.06934486e-01,   1.07069093e-01,\n",
       "         1.07203558e-01,   1.07337879e-01,   1.07472057e-01,\n",
       "         1.07606093e-01,   1.07739985e-01,   1.07873736e-01,\n",
       "         1.08007344e-01,   1.08140810e-01,   1.08274134e-01,\n",
       "         1.08407317e-01,   1.08540359e-01,   1.08673259e-01,\n",
       "         1.08806019e-01,   1.08938637e-01,   1.09071116e-01,\n",
       "         1.09203454e-01,   1.09335652e-01,   1.09467710e-01,\n",
       "         1.09599629e-01,   1.09731408e-01])"
      ]
     },
     "execution_count": 276,
     "metadata": {},
     "output_type": "execute_result"
    }
   ],
   "source": [
    "df_pred"
   ]
  },
  {
   "cell_type": "code",
   "execution_count": 1107,
   "metadata": {
    "collapsed": true
   },
   "outputs": [],
   "source": [
    "def FreeEnergyPolyWithCorr1(eta, ds, N):\n",
    "    n = len(ds)\n",
    "    s1 = sum(ds)/n\n",
    "    s2 = sum(ds**2.0)/n\n",
    "    s3 = sum(ds**3.0)/n\n",
    "    \n",
    "    F = FreeEnergyCS(eta, s1, s2, s3, N) + N*QuadFit(eta, 0.9605024, -0.5656655, 0.05024441)\n",
    "    return F"
   ]
  },
  {
   "cell_type": "code",
   "execution_count": 1108,
   "metadata": {
    "collapsed": false
   },
   "outputs": [],
   "source": [
    "def ProbPolyCorr1(eta_cur, eta_new, ds, N):\n",
    "    return exp(FreeEnergyPolyWithCorr1(eta_cur, ds, N) - FreeEnergyPolyWithCorr1(eta_new, ds, N))"
   ]
  },
  {
   "cell_type": "code",
   "execution_count": 1118,
   "metadata": {
    "collapsed": false
   },
   "outputs": [],
   "source": [
    "desired_acceptance = 0.10\n",
    "eta_current = 0.55\n",
    "etas = [eta_current]\n",
    "while eta_current < 0.605:\n",
    "    func = lambda eta_0: ProbPolyCorr1(eta_current, eta_0, ds, N) - desired_acceptance\n",
    "    eta_new = newton_krylov(func, eta_current, method='lgmres')\n",
    "    if abs(ProbPolyCorr1(eta_current, eta_new, ds, N) - desired_acceptance) < 0.000001:\n",
    "        etas.append(float(eta_new))\n",
    "        eta_current = float(eta_new)\n",
    "    else:\n",
    "        raise ValueError('Solver did not find sufficient solution for neighboring volume fractions')\n",
    "etas = array(etas)\n",
    "num_etas = len(etas)"
   ]
  },
  {
   "cell_type": "code",
   "execution_count": 1119,
   "metadata": {
    "collapsed": false
   },
   "outputs": [
    {
     "data": {
      "text/plain": [
       "106"
      ]
     },
     "execution_count": 1119,
     "metadata": {},
     "output_type": "execute_result"
    }
   ],
   "source": [
    "len(etas)"
   ]
  },
  {
   "cell_type": "code",
   "execution_count": 1121,
   "metadata": {
    "collapsed": true
   },
   "outputs": [],
   "source": [
    "etas_file = open('extended_states_poly_2.txt', 'w')\n",
    "etas_file.write(('acceptance = %f\\n' % desired_acceptance))\n",
    "etas_string = 'etas = (%s' % etas[0]\n",
    "for eta in etas[1:]:\n",
    "    etas_string = etas_string + ',' + str(eta)\n",
    "etas_string = etas_string + ')\\n'\n",
    "etas_file.write(etas_string)\n",
    "\n",
    "\n",
    "#generate dr_max values\n",
    "dr_maxs_string = 'dr_maxs = (%s' % dr_maxs[0]\n",
    "for dr_max in dr_maxs[1:]:\n",
    "    dr_maxs_string = dr_maxs_string + ',' + str(dr_max)\n",
    "dr_maxs_string = dr_maxs_string + ')'\n",
    "etas_file.write(dr_maxs_string)\n",
    "\n",
    "\n",
    "\n",
    "\n",
    "etas_file.close()"
   ]
  },
  {
   "cell_type": "code",
   "execution_count": 315,
   "metadata": {
    "collapsed": false
   },
   "outputs": [
    {
     "data": {
      "text/plain": [
       "0.68005272422837348"
      ]
     },
     "execution_count": 315,
     "metadata": {},
     "output_type": "execute_result"
    }
   ],
   "source": [
    "etas[-1]"
   ]
  },
  {
   "cell_type": "code",
   "execution_count": 565,
   "metadata": {
    "collapsed": false
   },
   "outputs": [
    {
     "data": {
      "text/plain": [
       "[1.0015626774918234,\n",
       " 1.0039177113177415,\n",
       " 1.0068861987625313,\n",
       " 1.0105632153470625,\n",
       " 1.0133830910251176,\n",
       " 1.0170700733210793,\n",
       " 1.0199381500527265,\n",
       " 1.0236954158520462,\n",
       " 1.026619830822572,\n",
       " 1.0304516551920695,\n",
       " 1.0334344974311804,\n",
       " 1.0373434448047096,\n",
       " 1.0403866932376598,\n",
       " 1.0443753879685131,\n",
       " 1.0474811095473815,\n",
       " 1.0515523006082579,\n",
       " 1.054722662422244,\n",
       " 1.058879233238859,\n",
       " 1.0621165091082003,\n",
       " 1.0663614862211812,\n",
       " 1.0696680634900435,\n",
       " 1.0740046257823768,\n",
       " 1.0773830128409105,\n",
       " 1.0818145015344804,\n",
       " 1.0852673356972526,\n",
       " 1.0897972652213543,\n",
       " 1.0933273214200463,\n",
       " 1.0979593910785146,\n",
       " 1.1015695912714047,\n",
       " 1.1063076979600384,\n",
       " 1.1100011212253666,\n",
       " 1.1148493732496076,\n",
       " 1.1186292668835578,\n",
       " 1.1235919988248544,\n",
       " 1.127461790331638,\n",
       " 1.1325435794306646,\n",
       " 1.1365068896072046,\n",
       " 1.141712573464998,\n",
       " 1.1457732305134656,\n",
       " 1.1511079264968713,\n",
       " 1.1552699818114807,\n",
       " 1.1607391080913665,\n",
       " 1.1650068529366342,\n",
       " 1.1706161518123517,\n",
       " 1.1749941361905816,\n",
       " 1.1807496991687174,\n",
       " 1.1852427521097713,\n",
       " 1.191151048001335,\n",
       " 1.1957642999066829,\n",
       " 1.2018322051693613,\n",
       " 1.2065711125478433,\n",
       " 1.2128059449958344,\n",
       " 1.2176763174592862,\n",
       " 1.2240858734667237,\n",
       " 1.2290939038389423,\n",
       " 1.2356864991746546,\n",
       " 1.2408387964701297,\n",
       " 1.2476233117638211,\n",
       " 1.2529269378934087,\n",
       " 1.2599128688888244,\n",
       " 1.265375379390728,\n",
       " 1.2725728928711013,\n",
       " 1.2782023821361903,\n",
       " 1.2856223780931264,\n",
       " 1.2914275298645082,\n",
       " 1.2990817109577688,\n",
       " 1.3050718544949098,\n",
       " 1.312972803679918,\n",
       " 1.319157977122048,\n",
       " 1.3273192446467441,\n",
       " 1.3337102653919488,\n",
       " 1.3421464664532587,\n",
       " 1.3487550110804796,\n",
       " 1.3574819360049595,\n",
       " 1.3643206297612507,\n",
       " 1.3733553683631288,\n",
       " 1.3804378867718685,\n",
       " 1.3897989690809207,\n",
       " 1.3971401528866132,\n",
       " 1.4068477090379294,\n",
       " 1.4144636951632004,\n",
       " 1.42453963761994,\n",
       " 1.432448008357923,\n",
       " 1.4429162399371376,\n",
       " 1.451136193750766,\n",
       " 1.4620228463404306,\n",
       " 1.4705753940738542,\n",
       " 1.4819091030584306,\n",
       " 1.4908172938902857,\n",
       " 1.502629515526331,\n",
       " 1.5119186984971,\n",
       " 1.524244076987287,\n",
       " 1.5339422047710085,\n",
       " 1.5468190005180522,\n",
       " 1.5569569835950585,\n",
       " 1.5704275729480635,\n",
       " 1.5810396942590934,\n",
       " 1.5951511572939978,\n",
       " 1.6062755609367192,\n",
       " 1.621080374154693,\n",
       " 1.6327596426017563,\n",
       " 1.6483165013509635,\n",
       " 1.6605983425674795,\n",
       " 1.6769731417054992,\n",
       " 1.689911210407246,\n",
       " 1.7071782206291297,\n",
       " 1.7208331062168463,\n",
       " 1.7390763945610601,\n",
       " 1.7535168177679823,\n",
       " 1.772831973644805,\n",
       " 1.788136245025801,\n",
       " 1.8086324930820092,\n",
       " 1.824890305397105,\n",
       " 1.8466931121406764,\n",
       " 1.8640077586325905,\n",
       " 1.8872620750208235,\n",
       " 1.905753221158737,\n",
       " 1.9306275528080483,\n",
       " 1.9504347290773687,\n",
       " 1.9771262963685645,\n",
       " 1.9984133501956645,\n",
       " 2.0271546998727907,\n",
       " 2.0501155272228218,\n",
       " 2.081183105081138,\n",
       " 2.1060491265257384,\n",
       " 2.1397745359830975,\n",
       " 2.1668245763130054,\n",
       " 2.2036095804957276]"
      ]
     },
     "execution_count": 565,
     "metadata": {},
     "output_type": "execute_result"
    }
   ],
   "source": [
    "ds"
   ]
  },
  {
   "cell_type": "code",
   "execution_count": null,
   "metadata": {
    "collapsed": true
   },
   "outputs": [],
   "source": []
  },
  {
   "cell_type": "code",
   "execution_count": null,
   "metadata": {
    "collapsed": true
   },
   "outputs": [],
   "source": []
  },
  {
   "cell_type": "code",
   "execution_count": null,
   "metadata": {
    "collapsed": true
   },
   "outputs": [],
   "source": []
  },
  {
   "cell_type": "code",
   "execution_count": null,
   "metadata": {
    "collapsed": true
   },
   "outputs": [],
   "source": []
  },
  {
   "cell_type": "code",
   "execution_count": 474,
   "metadata": {
    "collapsed": false
   },
   "outputs": [
    {
     "name": "stderr",
     "output_type": "stream",
     "text": [
      "C:\\Users\\rbj428\\AppData\\Local\\Continuum\\Anaconda2_3\\lib\\site-packages\\ipykernel\\__main__.py:13: MatplotlibDeprecationWarning: The set_axis_bgcolor function was deprecated in version 2.0. Use set_facecolor instead.\n"
     ]
    },
    {
     "data": {
      "image/png": "[encoded data removed]",
      "text/plain": [
       "<matplotlib.figure.Figure at 0x6594e48>"
      ]
     },
     "metadata": {},
     "output_type": "display_data"
    }
   ],
   "source": [
    "#things to plot\n",
    "#plt.plot(etas, df, c=\"b\", linestyle = '-', linewidth = 1, marker='o')\n",
    "#plt.plot(etas, df_s, c=\"r\", linestyle = '-', linewidth = 1, marker='o')\n",
    "#plt.plot(etas, df_pred, c=\"r\", linestyle = '-', linewidth = 3)#, marker='o')\n",
    "#plt.plot(etas_2, 2.0*hist_2, c=\"g\", linestyle = '-', linewidth = 1, marker='o')\n",
    "\n",
    "plt.plot(etas, hist, c=\"b\", linestyle = '-', linewidth = 1, marker='o')\n",
    "#plt.plot(etas, hist_s, c=\"r\", linestyle = '-', linewidth = 1, marker='o')\n",
    "\n",
    "#backround grid details\n",
    "axes = plt.gca()\n",
    "axes.grid(b = True, which = 'both', axis = 'both', color = 'gray', linestyle = '-', alpha = 0.5, linewidth = 0.5) \n",
    "axes.set_axis_bgcolor('white')  \n",
    "\n",
    "#font scpecifications\n",
    "title_font = {'family' : 'arial', 'color'  : 'black', 'weight' : 'heavy','size': 20}\n",
    "axis_label_font = {'family' : 'arial', 'color'  : 'black', 'weight' : 'normal','size': 20}\n",
    "\n",
    "major_ticks = arange(0.49, 0.65, 0.05)  \n",
    "axes.set_xticks(major_ticks)                                                       \n",
    "\n",
    "#figure size and tick style\n",
    "plt.rcParams[\"figure.figsize\"] = [6,6]\n",
    "plt.rc('axes',edgecolor='black',linewidth=1)\n",
    "plt.tick_params(which='both', axis='both', color='black', length=4, width=0.5)\n",
    "plt.rcParams['xtick.direction'] = 'in'\n",
    "plt.rcParams['ytick.direction'] = 'in'\n",
    "\n",
    "#axis range and labels (also specify if log or not)\n",
    "plt.xlim(0.48, 0.68)\n",
    "#plt.ylim(0.035, 0.10)\n",
    "plt.ylim(5, 13)\n",
    "plt.ylim(0.0, 0.04)\n",
    "plt.ylim(0.000005, 0.006)\n",
    "\n",
    "#plt.yscale('log')\n",
    "plt.xlabel(r'volume fraction', y=3, fontsize=20, fontdict = axis_label_font)\n",
    "plt.ylabel(r'dF', fontsize=20, fontdict = axis_label_font)\n",
    "\n",
    "#title and axis labels\n",
    "plt.tick_params(axis='both', labelsize=20)\n",
    "#plt.title('Logistic Regression Fit', y=1.05, fontdict = title_font)\n",
    "\n",
    "plt.show()"
   ]
  },
  {
   "cell_type": "code",
   "execution_count": 367,
   "metadata": {
    "collapsed": false
   },
   "outputs": [
    {
     "data": {
      "text/plain": [
       "0.6610354452496926"
      ]
     },
     "execution_count": 367,
     "metadata": {},
     "output_type": "execute_result"
    }
   ],
   "source": [
    "max(trajectory)"
   ]
  },
  {
   "cell_type": "code",
   "execution_count": 657,
   "metadata": {
    "collapsed": false
   },
   "outputs": [
    {
     "name": "stderr",
     "output_type": "stream",
     "text": [
      "C:\\Users\\rbj428\\AppData\\Local\\Continuum\\Anaconda2_3\\lib\\site-packages\\ipykernel\\__main__.py:13: MatplotlibDeprecationWarning: The set_axis_bgcolor function was deprecated in version 2.0. Use set_facecolor instead.\n"
     ]
    },
    {
     "data": {
      "image/png": "[encoded data removed]",
      "text/plain": [
       "<matplotlib.figure.Figure at 0x27357400>"
      ]
     },
     "metadata": {},
     "output_type": "display_data"
    }
   ],
   "source": [
    "#things to plot\n",
    "plt.plot(etas, df, c=\"b\", linestyle = '-', linewidth = 1, marker='o')\n",
    "plt.plot(etas, df_s, c=\"r\", linestyle = '-', linewidth = 3)#, marker='o')\n",
    "#plt.plot(etas, df_pred, c=\"r\", linestyle = '-', linewidth = 3)#, marker='o')\n",
    "#plt.plot(etas_2, 2.0*hist_2, c=\"g\", linestyle = '-', linewidth = 1, marker='o')\n",
    "\n",
    "#plt.plot(etas, hist, c=\"b\", linestyle = '-', linewidth = 1, marker='o')\n",
    "#plt.plot(etas, hist_s, c=\"r\", linestyle = '-', linewidth = 3)#, marker='o')\n",
    "\n",
    "#backround grid details\n",
    "axes = plt.gca()\n",
    "axes.grid(b = True, which = 'both', axis = 'both', color = 'gray', linestyle = '-', alpha = 0.5, linewidth = 0.5) \n",
    "axes.set_axis_bgcolor('white')  \n",
    "\n",
    "#font scpecifications\n",
    "title_font = {'family' : 'arial', 'color'  : 'black', 'weight' : 'heavy','size': 20}\n",
    "axis_label_font = {'family' : 'arial', 'color'  : 'black', 'weight' : 'normal','size': 20}\n",
    "\n",
    "major_ticks = arange(0.49, 0.65, 0.05)  \n",
    "axes.set_xticks(major_ticks)                                                       \n",
    "\n",
    "#figure size and tick style\n",
    "plt.rcParams[\"figure.figsize\"] = [6,6]\n",
    "plt.rc('axes',edgecolor='black',linewidth=1)\n",
    "plt.tick_params(which='both', axis='both', color='black', length=4, width=0.5)\n",
    "plt.rcParams['xtick.direction'] = 'in'\n",
    "plt.rcParams['ytick.direction'] = 'in'\n",
    "\n",
    "#axis range and labels (also specify if log or not)\n",
    "plt.xlim(0.48, 0.66)\n",
    "#plt.ylim(0.035, 0.10)\n",
    "plt.ylim(5, 13)\n",
    "plt.ylim(0.0, 0.00)\n",
    "plt.ylim(-0.004, 0.004)\n",
    "\n",
    "#plt.yscale('log')\n",
    "plt.xlabel(r'volume fraction', y=3, fontsize=20, fontdict = axis_label_font)\n",
    "plt.ylabel(r'dF', fontsize=20, fontdict = axis_label_font)\n",
    "\n",
    "#title and axis labels\n",
    "plt.tick_params(axis='both', labelsize=20)\n",
    "#plt.title('Logistic Regression Fit', y=1.05, fontdict = title_font)\n",
    "\n",
    "plt.show()"
   ]
  },
  {
   "cell_type": "code",
   "execution_count": 664,
   "metadata": {
    "collapsed": false
   },
   "outputs": [
    {
     "name": "stderr",
     "output_type": "stream",
     "text": [
      "C:\\Users\\rbj428\\AppData\\Local\\Continuum\\Anaconda2_3\\lib\\site-packages\\ipykernel\\__main__.py:13: MatplotlibDeprecationWarning: The set_axis_bgcolor function was deprecated in version 2.0. Use set_facecolor instead.\n"
     ]
    },
    {
     "data": {
      "image/png": "[encoded data removed]",
      "text/plain": [
       "<matplotlib.figure.Figure at 0x28dd1748>"
      ]
     },
     "metadata": {},
     "output_type": "display_data"
    }
   ],
   "source": [
    "#things to plot\n",
    "plt.plot(etas, df, c=\"b\", linestyle = '-', linewidth = 1, marker='o')\n",
    "plt.plot(etas, df_s, c=\"r\", linestyle = '-', linewidth = 3)#, marker='o')\n",
    "#plt.plot(etas, df_pred, c=\"r\", linestyle = '-', linewidth = 3)#, marker='o')\n",
    "#plt.plot(etas_2, 2.0*hist_2, c=\"g\", linestyle = '-', linewidth = 1, marker='o')\n",
    "\n",
    "#plt.plot(etas, hist, c=\"b\", linestyle = '-', linewidth = 1, marker='o')\n",
    "#plt.plot(etas, hist_s, c=\"r\", linestyle = '-', linewidth = 3)#, marker='o')\n",
    "\n",
    "#backround grid details\n",
    "axes = plt.gca()\n",
    "axes.grid(b = True, which = 'both', axis = 'both', color = 'gray', linestyle = '-', alpha = 0.5, linewidth = 0.5) \n",
    "axes.set_axis_bgcolor('white')  \n",
    "\n",
    "#font scpecifications\n",
    "title_font = {'family' : 'arial', 'color'  : 'black', 'weight' : 'heavy','size': 20}\n",
    "axis_label_font = {'family' : 'arial', 'color'  : 'black', 'weight' : 'normal','size': 20}\n",
    "\n",
    "major_ticks = arange(0.39, 0.65, 0.05)  \n",
    "axes.set_xticks(major_ticks)                                                       \n",
    "\n",
    "#figure size and tick style\n",
    "plt.rcParams[\"figure.figsize\"] = [6,6]\n",
    "plt.rc('axes',edgecolor='black',linewidth=1)\n",
    "plt.tick_params(which='both', axis='both', color='black', length=4, width=0.5)\n",
    "plt.rcParams['xtick.direction'] = 'in'\n",
    "plt.rcParams['ytick.direction'] = 'in'\n",
    "\n",
    "#axis range and labels (also specify if log or not)\n",
    "plt.xlim(0.48, 0.66)\n",
    "#plt.ylim(0.035, 0.10)\n",
    "plt.ylim(5, 13)\n",
    "plt.ylim(-0.0, 0.00)\n",
    "plt.ylim(-0.004, 0.01)\n",
    "\n",
    "#plt.yscale('log')\n",
    "plt.xlabel(r'volume fraction', y=3, fontsize=20, fontdict = axis_label_font)\n",
    "plt.ylabel(r'dF', fontsize=20, fontdict = axis_label_font)\n",
    "\n",
    "#title and axis labels\n",
    "plt.tick_params(axis='both', labelsize=20)\n",
    "#plt.title('Logistic Regression Fit', y=1.05, fontdict = title_font)\n",
    "\n",
    "plt.show()"
   ]
  },
  {
   "cell_type": "code",
   "execution_count": 648,
   "metadata": {
    "collapsed": false
   },
   "outputs": [
    {
     "name": "stderr",
     "output_type": "stream",
     "text": [
      "C:\\Users\\rbj428\\AppData\\Local\\Continuum\\Anaconda2_3\\lib\\site-packages\\ipykernel\\__main__.py:13: MatplotlibDeprecationWarning: The set_axis_bgcolor function was deprecated in version 2.0. Use set_facecolor instead.\n"
     ]
    },
    {
     "data": {
      "image/png": "[encoded data removed]",
      "text/plain": [
       "<matplotlib.figure.Figure at 0x309350f0>"
      ]
     },
     "metadata": {},
     "output_type": "display_data"
    }
   ],
   "source": [
    "#things to plot\n",
    "plt.plot(etas, df, c=\"b\", linestyle = '-', linewidth = 1, marker='o')\n",
    "plt.plot(etas, df_s, c=\"r\", linestyle = '-', linewidth = 3)#, marker='o')\n",
    "#plt.plot(etas, df_pred, c=\"r\", linestyle = '-', linewidth = 3)#, marker='o')\n",
    "#plt.plot(etas_2, 2.0*hist_2, c=\"g\", linestyle = '-', linewidth = 1, marker='o')\n",
    "\n",
    "#plt.plot(etas, hist, c=\"b\", linestyle = '-', linewidth = 1, marker='o')\n",
    "#plt.plot(etas, hist_s, c=\"r\", linestyle = '-', linewidth = 3)#, marker='o')\n",
    "\n",
    "#backround grid details\n",
    "axes = plt.gca()\n",
    "axes.grid(b = True, which = 'both', axis = 'both', color = 'gray', linestyle = '-', alpha = 0.5, linewidth = 0.5) \n",
    "axes.set_axis_bgcolor('white')  \n",
    "\n",
    "#font scpecifications\n",
    "title_font = {'family' : 'arial', 'color'  : 'black', 'weight' : 'heavy','size': 20}\n",
    "axis_label_font = {'family' : 'arial', 'color'  : 'black', 'weight' : 'normal','size': 20}\n",
    "\n",
    "major_ticks = arange(0.39, 0.65, 0.05)  \n",
    "axes.set_xticks(major_ticks)                                                       \n",
    "\n",
    "#figure size and tick style\n",
    "plt.rcParams[\"figure.figsize\"] = [6,6]\n",
    "plt.rc('axes',edgecolor='black',linewidth=1)\n",
    "plt.tick_params(which='both', axis='both', color='black', length=4, width=0.5)\n",
    "plt.rcParams['xtick.direction'] = 'in'\n",
    "plt.rcParams['ytick.direction'] = 'in'\n",
    "\n",
    "#axis range and labels (also specify if log or not)\n",
    "plt.xlim(0.39, 0.66)\n",
    "#plt.ylim(0.035, 0.10)\n",
    "plt.ylim(5, 13)\n",
    "plt.ylim(-0.0, 0.00)\n",
    "plt.ylim(-0.001, 0.002)\n",
    "\n",
    "#plt.yscale('log')\n",
    "plt.xlabel(r'volume fraction', y=3, fontsize=20, fontdict = axis_label_font)\n",
    "plt.ylabel(r'dF', fontsize=20, fontdict = axis_label_font)\n",
    "\n",
    "#title and axis labels\n",
    "plt.tick_params(axis='both', labelsize=20)\n",
    "#plt.title('Logistic Regression Fit', y=1.05, fontdict = title_font)\n",
    "\n",
    "plt.show()"
   ]
  },
  {
   "cell_type": "code",
   "execution_count": 598,
   "metadata": {
    "collapsed": false
   },
   "outputs": [
    {
     "data": {
      "text/plain": [
       "0.61320772631561826"
      ]
     },
     "execution_count": 598,
     "metadata": {},
     "output_type": "execute_result"
    }
   ],
   "source": [
    "max(trajectory)"
   ]
  },
  {
   "cell_type": "code",
   "execution_count": null,
   "metadata": {
    "collapsed": true
   },
   "outputs": [],
   "source": []
  },
  {
   "cell_type": "code",
   "execution_count": null,
   "metadata": {
    "collapsed": true
   },
   "outputs": [],
   "source": []
  },
  {
   "cell_type": "code",
   "execution_count": null,
   "metadata": {
    "collapsed": true
   },
   "outputs": [],
   "source": []
  },
  {
   "cell_type": "code",
   "execution_count": null,
   "metadata": {
    "collapsed": true
   },
   "outputs": [],
   "source": []
  },
  {
   "cell_type": "code",
   "execution_count": 375,
   "metadata": {
    "collapsed": true
   },
   "outputs": [],
   "source": [
    "nums = [1,2,3,3,3,3,4,4,5,2,2,3,2,2,2,2,3,4,4,4,4,5,5,6,6,7]"
   ]
  },
  {
   "cell_type": "code",
   "execution_count": 380,
   "metadata": {
    "collapsed": true
   },
   "outputs": [],
   "source": [
    "num_count = {}"
   ]
  },
  {
   "cell_type": "code",
   "execution_count": 381,
   "metadata": {
    "collapsed": false
   },
   "outputs": [],
   "source": [
    "for num in nums:\n",
    "    if num in num_count:\n",
    "        num_count[num] = num_count[num] + 1\n",
    "    else:\n",
    "        num_count[num] = 1"
   ]
  },
  {
   "cell_type": "code",
   "execution_count": 382,
   "metadata": {
    "collapsed": false
   },
   "outputs": [
    {
     "data": {
      "text/plain": [
       "{1: 1, 2: 7, 3: 6, 4: 6, 5: 3, 6: 2, 7: 1}"
      ]
     },
     "execution_count": 382,
     "metadata": {},
     "output_type": "execute_result"
    }
   ],
   "source": [
    "num_count"
   ]
  },
  {
   "cell_type": "code",
   "execution_count": 385,
   "metadata": {
    "collapsed": false
   },
   "outputs": [
    {
     "data": {
      "text/plain": [
       "{1, 2, 3, 4, 5, 6, 7}"
      ]
     },
     "execution_count": 385,
     "metadata": {},
     "output_type": "execute_result"
    }
   ],
   "source": [
    "set(num_count.keys())"
   ]
  },
  {
   "cell_type": "code",
   "execution_count": 486,
   "metadata": {
    "collapsed": false
   },
   "outputs": [
    {
     "data": {
      "text/plain": [
       "0.66488325458116027"
      ]
     },
     "execution_count": 486,
     "metadata": {},
     "output_type": "execute_result"
    }
   ],
   "source": [
    "max(trajectory)"
   ]
  },
  {
   "cell_type": "code",
   "execution_count": null,
   "metadata": {
    "collapsed": true
   },
   "outputs": [],
   "source": []
  },
  {
   "cell_type": "code",
   "execution_count": null,
   "metadata": {
    "collapsed": true
   },
   "outputs": [],
   "source": []
  },
  {
   "cell_type": "markdown",
   "metadata": {},
   "source": [
    "### Monodisperse hard spheres"
   ]
  },
  {
   "cell_type": "code",
   "execution_count": 599,
   "metadata": {
    "collapsed": true
   },
   "outputs": [],
   "source": [
    "N = 128\n",
    "ds = array([1.0])\n",
    "n = len(ds)\n",
    "s1 = sum(ds)/n\n",
    "s2 = sum(ds**2.0)/n\n",
    "s3 = sum(ds**3.0)/n"
   ]
  },
  {
   "cell_type": "code",
   "execution_count": 600,
   "metadata": {
    "collapsed": true
   },
   "outputs": [],
   "source": [
    "desired_acceptance = 0.20\n",
    "eta_current = 0.38\n",
    "etas = [eta_current]\n",
    "accuracy = []\n",
    "while eta_current < 0.65:\n",
    "    func = lambda eta_0: ProbCS(eta_current, eta_0, s1, s2, s3, N) - desired_acceptance\n",
    "    eta_new = newton_krylov(func, eta_current, method='lgmres')\n",
    "    accuracy.append(eta_new-eta_current)\n",
    "    if abs(ProbCS(eta_current, eta_new, s1, s2, s3, N) - desired_acceptance) < 0.0000001:\n",
    "        etas.append(float(eta_new))\n",
    "        eta_current = float(eta_new)\n",
    "    else:\n",
    "        raise ValueError('Solver did not find sufficient solution for neighboring volume fractions')\n",
    "etas = array(etas)\n",
    "num_etas = len(etas)"
   ]
  },
  {
   "cell_type": "code",
   "execution_count": 601,
   "metadata": {
    "collapsed": false
   },
   "outputs": [
    {
     "data": {
      "text/plain": [
       "642"
      ]
     },
     "execution_count": 601,
     "metadata": {},
     "output_type": "execute_result"
    }
   ],
   "source": [
    "len(etas)"
   ]
  },
  {
   "cell_type": "code",
   "execution_count": 519,
   "metadata": {
    "collapsed": true
   },
   "outputs": [],
   "source": [
    "etas_file = open('extended_states_mono.txt', 'w')\n",
    "etas_file.write(('acceptance = %f\\n' % desired_acceptance))\n",
    "etas_string = 'etas = (%s' % etas[0]\n",
    "for eta in etas[1:]:\n",
    "    etas_string = etas_string + ',' + str(eta)\n",
    "etas_string = etas_string + ')'\n",
    "etas_file.write(etas_string)\n",
    "etas_file.close()"
   ]
  },
  {
   "cell_type": "code",
   "execution_count": 520,
   "metadata": {
    "collapsed": false
   },
   "outputs": [
    {
     "data": {
      "text/plain": [
       "0.65015037078412941"
      ]
     },
     "execution_count": 520,
     "metadata": {},
     "output_type": "execute_result"
    }
   ],
   "source": [
    "etas[-1]"
   ]
  },
  {
   "cell_type": "code",
   "execution_count": 592,
   "metadata": {
    "collapsed": false
   },
   "outputs": [
    {
     "data": {
      "text/plain": [
       "605"
      ]
     },
     "execution_count": 592,
     "metadata": {},
     "output_type": "execute_result"
    }
   ],
   "source": [
    "len(etas)"
   ]
  },
  {
   "cell_type": "code",
   "execution_count": null,
   "metadata": {
    "collapsed": true
   },
   "outputs": [],
   "source": []
  },
  {
   "cell_type": "code",
   "execution_count": null,
   "metadata": {
    "collapsed": true
   },
   "outputs": [],
   "source": []
  },
  {
   "cell_type": "code",
   "execution_count": null,
   "metadata": {
    "collapsed": true
   },
   "outputs": [],
   "source": []
  },
  {
   "cell_type": "code",
   "execution_count": null,
   "metadata": {
    "collapsed": true
   },
   "outputs": [],
   "source": []
  },
  {
   "cell_type": "code",
   "execution_count": null,
   "metadata": {
    "collapsed": true
   },
   "outputs": [],
   "source": []
  },
  {
   "cell_type": "code",
   "execution_count": 624,
   "metadata": {
    "collapsed": false
   },
   "outputs": [
    {
     "name": "stderr",
     "output_type": "stream",
     "text": [
      "C:\\Users\\rbj428\\AppData\\Local\\Continuum\\Anaconda2_3\\lib\\site-packages\\ipykernel\\__main__.py:13: MatplotlibDeprecationWarning: The set_axis_bgcolor function was deprecated in version 2.0. Use set_facecolor instead.\n"
     ]
    },
    {
     "data": {
      "image/png": "[encoded data removed]",
      "text/plain": [
       "<matplotlib.figure.Figure at 0x24128128>"
      ]
     },
     "metadata": {},
     "output_type": "display_data"
    }
   ],
   "source": [
    "#things to plot\n",
    "plt.plot(etas, df, c=\"b\", linestyle = '-', linewidth = 1, marker='o')\n",
    "#plt.plot(etas, df_s, c=\"r\", linestyle = '-', linewidth = 3)#, marker='o')\n",
    "#plt.plot(etas, df_pred, c=\"r\", linestyle = '-', linewidth = 3)#, marker='o')\n",
    "#plt.plot(etas_2, 2.0*hist_2, c=\"g\", linestyle = '-', linewidth = 1, marker='o')\n",
    "\n",
    "#plt.plot(etas, hist, c=\"b\", linestyle = '-', linewidth = 1, marker='o')\n",
    "#plt.plot(etas, hist_s, c=\"r\", linestyle = '-', linewidth = 3)#, marker='o')\n",
    "\n",
    "#backround grid details\n",
    "axes = plt.gca()\n",
    "axes.grid(b = True, which = 'both', axis = 'both', color = 'gray', linestyle = '-', alpha = 0.5, linewidth = 0.5) \n",
    "axes.set_axis_bgcolor('white')  \n",
    "\n",
    "#font scpecifications\n",
    "title_font = {'family' : 'arial', 'color'  : 'black', 'weight' : 'heavy','size': 20}\n",
    "axis_label_font = {'family' : 'arial', 'color'  : 'black', 'weight' : 'normal','size': 20}\n",
    "\n",
    "major_ticks = arange(0.49, 0.65, 0.05)  \n",
    "axes.set_xticks(major_ticks)                                                       \n",
    "\n",
    "#figure size and tick style\n",
    "plt.rcParams[\"figure.figsize\"] = [6,6]\n",
    "plt.rc('axes',edgecolor='black',linewidth=1)\n",
    "plt.tick_params(which='both', axis='both', color='black', length=4, width=0.5)\n",
    "plt.rcParams['xtick.direction'] = 'in'\n",
    "plt.rcParams['ytick.direction'] = 'in'\n",
    "\n",
    "#axis range and labels (also specify if log or not)\n",
    "plt.xlim(0.38, 0.66)\n",
    "#plt.ylim(0.035, 0.10)\n",
    "plt.ylim(5, 13)\n",
    "plt.ylim(0.0, 0.00)\n",
    "plt.ylim(0.000001, 0.05)\n",
    "\n",
    "#plt.yscale('log')\n",
    "plt.xlabel(r'volume fraction', y=3, fontsize=20, fontdict = axis_label_font)\n",
    "plt.ylabel(r'dF', fontsize=20, fontdict = axis_label_font)\n",
    "\n",
    "#title and axis labels\n",
    "plt.tick_params(axis='both', labelsize=20)\n",
    "#plt.title('Logistic Regression Fit', y=1.05, fontdict = title_font)\n",
    "\n",
    "plt.show()"
   ]
  },
  {
   "cell_type": "code",
   "execution_count": 1065,
   "metadata": {
    "collapsed": false
   },
   "outputs": [],
   "source": [
    "#hist = 0.0*etas\n",
    "trajectory_raw = []\n",
    "\n",
    "filename = 'C:/Users/rbj428/Documents/research_projects/binary_hs_sim/production__eta_stats.dat'\n",
    "eta_stats = open(filename, 'r')\n",
    "for line in eta_stats:  \n",
    "    try:\n",
    "        search_data = re.search(r'[^,]+,([0-9]+),([0-9\\.]+),[^,]+', line)\n",
    "        #bin_num = int(search_data.group(1))\n",
    "            \n",
    "        #hist[bin_num] = hist[bin_num] + 1\n",
    "        #trajectory.append(etas[bin_num])\n",
    "        trajectory_raw.append(float(search_data.group(2)))\n",
    "    except:\n",
    "        print line\n",
    "        break\n",
    "#hist_s = Smoother(hist, half_window = 6)\n",
    "#hist_s = hist_s/sum(hist_s)\n",
    "#hist = hist/sum(hist)\n",
    "eta_stats.close()"
   ]
  },
  {
   "cell_type": "code",
   "execution_count": 1066,
   "metadata": {
    "collapsed": false
   },
   "outputs": [
    {
     "data": {
      "text/plain": [
       "[<matplotlib.lines.Line2D at 0x25953d30>]"
      ]
     },
     "execution_count": 1066,
     "metadata": {},
     "output_type": "execute_result"
    },
    {
     "data": {
      "image/png": "[encoded data removed]",
      "text/plain": [
       "<matplotlib.figure.Figure at 0x3569e6d8>"
      ]
     },
     "metadata": {},
     "output_type": "display_data"
    }
   ],
   "source": [
    "plt.plot(trajectory_raw)"
   ]
  },
  {
   "cell_type": "code",
   "execution_count": 1910,
   "metadata": {
    "collapsed": true
   },
   "outputs": [],
   "source": [
    "def CS(eta):\n",
    "    return -(4.0*eta - 3.0*eta**2.0)/(1.0 - eta)**2.0"
   ]
  },
  {
   "cell_type": "code",
   "execution_count": 1912,
   "metadata": {
    "collapsed": false
   },
   "outputs": [
    {
     "data": {
      "text/plain": [
       "-6.382716049382717"
      ]
     },
     "execution_count": 1912,
     "metadata": {},
     "output_type": "execute_result"
    }
   ],
   "source": [
    "CS(0.55)"
   ]
  },
  {
   "cell_type": "code",
   "execution_count": 1913,
   "metadata": {
    "collapsed": false
   },
   "outputs": [
    {
     "data": {
      "text/plain": [
       "-6.3827160493827177"
      ]
     },
     "execution_count": 1913,
     "metadata": {},
     "output_type": "execute_result"
    }
   ],
   "source": [
    "S(0.55, s1, s2, s3)"
   ]
  },
  {
   "cell_type": "code",
   "execution_count": 1281,
   "metadata": {
    "collapsed": true
   },
   "outputs": [],
   "source": [
    "from numpy import pi"
   ]
  },
  {
   "cell_type": "code",
   "execution_count": 2004,
   "metadata": {
    "collapsed": true
   },
   "outputs": [],
   "source": [
    "#ds = array([1.0, 1.4])\n",
    "ds = array(ds)\n",
    "n = len(ds)\n",
    "s1 = sum(ds)/n\n",
    "s2 = sum(ds**2.0)/n\n",
    "s3 = sum(ds**3.0)/n"
   ]
  },
  {
   "cell_type": "code",
   "execution_count": 1984,
   "metadata": {
    "collapsed": true
   },
   "outputs": [],
   "source": [
    "def S(eta, s1, s2, s3):\n",
    "    e0 = eta/s3\n",
    "    e1 = eta*s1/s3\n",
    "    e2 = eta*s2/s3\n",
    "    e3 = eta*s3/s3\n",
    "    F = ((e2**3.0)/(e0*e3**2.0) - 1.0)*log(1.0 - e3) + (3.0*e1*e2)/(e0*(1.0 - e3)) + (e2**3.0)/(e0*e3*(1.0 - e3)**2.0)\n",
    "    F = F #+ QuadFit(eta, 0.9605024, -0.5656655, 0.05024441) #+ ExpFit(eta, 8.44025263e-16, 5.26800174e+01)\n",
    "    return -F"
   ]
  },
  {
   "cell_type": "code",
   "execution_count": 1985,
   "metadata": {
    "collapsed": true
   },
   "outputs": [],
   "source": [
    "def Z(eta, s1, s2, s3):\n",
    "    return (-eta*(S(eta+0.001, s1, s2, s3) - S(eta-0.001, s1, s2, s3))/(0.002))"
   ]
  },
  {
   "cell_type": "code",
   "execution_count": 1880,
   "metadata": {
    "collapsed": true
   },
   "outputs": [],
   "source": [
    "def Y(eta, s1, s2, s3):\n",
    "    return (Z(eta, s1, s2, s3)-1.0)/(4.0*eta)"
   ]
  },
  {
   "cell_type": "code",
   "execution_count": 1881,
   "metadata": {
    "collapsed": true
   },
   "outputs": [],
   "source": [
    "def E(eta, s1, s2, s3):\n",
    "    p = 6.0*eta/(pi*s3)\n",
    "    return S(eta, s1, s2, s3) + 1.0 - log(p) - 3.0*log(sqrt(2.0*pi)/(8.0*0.638*eta*Y(eta, s1, s2, s3)))"
   ]
  },
  {
   "cell_type": "code",
   "execution_count": 1940,
   "metadata": {
    "collapsed": true
   },
   "outputs": [],
   "source": [
    "def A(eta, s1, s2, s3):\n",
    "    return (s1/(8.0*0.638*eta*Y(eta, s1, s2, s3)))**2.0"
   ]
  },
  {
   "cell_type": "code",
   "execution_count": 1883,
   "metadata": {
    "collapsed": true
   },
   "outputs": [],
   "source": [
    "def Lind(eta, s1, s2, s3):\n",
    "    p = 6.0*eta/(pi*s3)\n",
    "    return (p**(1.0/3.0))*sqrt(A(eta, s1, s2, s3))"
   ]
  },
  {
   "cell_type": "code",
   "execution_count": 1907,
   "metadata": {
    "collapsed": false
   },
   "outputs": [
    {
     "data": {
      "text/plain": [
       "7.5016251838609138"
      ]
     },
     "execution_count": 1907,
     "metadata": {},
     "output_type": "execute_result"
    }
   ],
   "source": [
    "Y(0.55, s1, s2, s3)"
   ]
  },
  {
   "cell_type": "code",
   "execution_count": null,
   "metadata": {
    "collapsed": true
   },
   "outputs": [],
   "source": []
  },
  {
   "cell_type": "code",
   "execution_count": 1986,
   "metadata": {
    "collapsed": false
   },
   "outputs": [
    {
     "data": {
      "text/plain": [
       "-7.3956773345473241"
      ]
     },
     "execution_count": 1986,
     "metadata": {},
     "output_type": "execute_result"
    }
   ],
   "source": [
    "S(0.6, s1, s2, s3)"
   ]
  },
  {
   "cell_type": "code",
   "execution_count": 1937,
   "metadata": {
    "collapsed": false
   },
   "outputs": [
    {
     "data": {
      "text/plain": [
       "7.5016251838609138"
      ]
     },
     "execution_count": 1937,
     "metadata": {},
     "output_type": "execute_result"
    }
   ],
   "source": [
    "Y(0.55, s1, s2, s3)"
   ]
  },
  {
   "cell_type": "code",
   "execution_count": 1376,
   "metadata": {
    "collapsed": false
   },
   "outputs": [
    {
     "data": {
      "text/plain": [
       "4.0932784655112187e-05"
      ]
     },
     "execution_count": 1376,
     "metadata": {},
     "output_type": "execute_result"
    }
   ],
   "source": [
    "E(0.67490, s1, s2, s3)"
   ]
  },
  {
   "cell_type": "code",
   "execution_count": 1954,
   "metadata": {
    "collapsed": false
   },
   "outputs": [
    {
     "data": {
      "text/plain": [
       "0.038189410087811008"
      ]
     },
     "execution_count": 1954,
     "metadata": {},
     "output_type": "execute_result"
    }
   ],
   "source": [
    "Lind(0.58, s1, s2, s3)"
   ]
  },
  {
   "cell_type": "code",
   "execution_count": 1983,
   "metadata": {
    "collapsed": false
   },
   "outputs": [
    {
     "data": {
      "text/plain": [
       "15.521661759773941"
      ]
     },
     "execution_count": 1983,
     "metadata": {},
     "output_type": "execute_result"
    }
   ],
   "source": [
    "Z(0.55, s1, s2, s3)"
   ]
  },
  {
   "cell_type": "code",
   "execution_count": 1953,
   "metadata": {
    "collapsed": false
   },
   "outputs": [
    {
     "data": {
      "text/plain": [
       "0.036909074849874449"
      ]
     },
     "execution_count": 1953,
     "metadata": {},
     "output_type": "execute_result"
    }
   ],
   "source": [
    "sqrt(A(0.58, s1, s2, s3))"
   ]
  },
  {
   "cell_type": "code",
   "execution_count": null,
   "metadata": {
    "collapsed": true
   },
   "outputs": [],
   "source": []
  },
  {
   "cell_type": "code",
   "execution_count": 1949,
   "metadata": {
    "collapsed": false
   },
   "outputs": [
    {
     "data": {
      "text/plain": [
       "0.047486622768283478"
      ]
     },
     "execution_count": 1949,
     "metadata": {},
     "output_type": "execute_result"
    }
   ],
   "source": [
    "sqrt(A(0.55, s1, s2, s3))"
   ]
  },
  {
   "cell_type": "code",
   "execution_count": 1971,
   "metadata": {
    "collapsed": false
   },
   "outputs": [
    {
     "data": {
      "text/plain": [
       "15.515765387725633"
      ]
     },
     "execution_count": 1971,
     "metadata": {},
     "output_type": "execute_result"
    }
   ],
   "source": [
    "Z(0.55, s1, s2, s3)"
   ]
  },
  {
   "cell_type": "code",
   "execution_count": 1997,
   "metadata": {
    "collapsed": true
   },
   "outputs": [],
   "source": [
    "Zs = []\n",
    "for x in arange(0.55, 0.68, 0.01):\n",
    "    Zs.append(Z(x, s1, s2, s3))"
   ]
  },
  {
   "cell_type": "code",
   "execution_count": 1998,
   "metadata": {
    "collapsed": false
   },
   "outputs": [
    {
     "data": {
      "text/plain": [
       "[14.29562316849864,\n",
       " 15.441988307211789,\n",
       " 16.700002003780305,\n",
       " 18.083363660622915,\n",
       " 19.607830687960764,\n",
       " 21.29158781243952,\n",
       " 23.155694059309671,\n",
       " 25.224626275751142,\n",
       " 27.526943295411137,\n",
       " 30.096101718117442,\n",
       " 32.97146337240298,\n",
       " 36.199546647120727,\n",
       " 39.835590154334128]"
      ]
     },
     "execution_count": 1998,
     "metadata": {},
     "output_type": "execute_result"
    }
   ],
   "source": [
    "Zs"
   ]
  },
  {
   "cell_type": "code",
   "execution_count": 1994,
   "metadata": {
    "collapsed": false
   },
   "outputs": [
    {
     "data": {
      "text/plain": [
       "0.073134538014308248"
      ]
     },
     "execution_count": 1994,
     "metadata": {},
     "output_type": "execute_result"
    }
   ],
   "source": [
    "E(0.673, s1, s2, s3)"
   ]
  },
  {
   "cell_type": "code",
   "execution_count": 1445,
   "metadata": {
    "collapsed": false
   },
   "outputs": [
    {
     "data": {
      "text/plain": [
       "0.097710890188947727"
      ]
     },
     "execution_count": 1445,
     "metadata": {},
     "output_type": "execute_result"
    }
   ],
   "source": [
    "Lind(0.579, s1, s2, s3)"
   ]
  },
  {
   "cell_type": "code",
   "execution_count": null,
   "metadata": {
    "collapsed": false
   },
   "outputs": [],
   "source": []
  },
  {
   "cell_type": "code",
   "execution_count": 1434,
   "metadata": {
    "collapsed": false
   },
   "outputs": [
    {
     "data": {
      "text/plain": [
       "0.097437625565161515"
      ]
     },
     "execution_count": 1434,
     "metadata": {},
     "output_type": "execute_result"
    }
   ],
   "source": [
    "Lind(0.6, s1, s2, s3)"
   ]
  },
  {
   "cell_type": "code",
   "execution_count": 1448,
   "metadata": {
    "collapsed": false
   },
   "outputs": [
    {
     "data": {
      "text/plain": [
       "array([ 1. ,  1.4])"
      ]
     },
     "execution_count": 1448,
     "metadata": {},
     "output_type": "execute_result"
    }
   ],
   "source": [
    "ds"
   ]
  },
  {
   "cell_type": "code",
   "execution_count": null,
   "metadata": {
    "collapsed": true
   },
   "outputs": [],
   "source": []
  },
  {
   "cell_type": "code",
   "execution_count": 1345,
   "metadata": {
    "collapsed": false
   },
   "outputs": [
    {
     "data": {
      "text/plain": [
       "3.0543736358472757"
      ]
     },
     "execution_count": 1345,
     "metadata": {},
     "output_type": "execute_result"
    }
   ],
   "source": [
    "sum(ds*ds*ds)/len(ds)"
   ]
  },
  {
   "cell_type": "code",
   "execution_count": 1367,
   "metadata": {
    "collapsed": false
   },
   "outputs": [
    {
     "data": {
      "text/plain": [
       "3.0543736358472757"
      ]
     },
     "execution_count": 1367,
     "metadata": {},
     "output_type": "execute_result"
    }
   ],
   "source": [
    "s3"
   ]
  },
  {
   "cell_type": "code",
   "execution_count": 1455,
   "metadata": {
    "collapsed": false
   },
   "outputs": [
    {
     "data": {
      "text/plain": [
       "-7.8519279969318143"
      ]
     },
     "execution_count": 1455,
     "metadata": {},
     "output_type": "execute_result"
    }
   ],
   "source": [
    "S(0.6, s1, s2, s3)"
   ]
  },
  {
   "cell_type": "code",
   "execution_count": 1453,
   "metadata": {
    "collapsed": false
   },
   "outputs": [
    {
     "data": {
      "text/plain": [
       "-7.8068940549506873"
      ]
     },
     "execution_count": 1453,
     "metadata": {},
     "output_type": "execute_result"
    }
   ],
   "source": [
    "S(0.6, s1, s2, s3)"
   ]
  },
  {
   "cell_type": "code",
   "execution_count": 1465,
   "metadata": {
    "collapsed": false
   },
   "outputs": [
    {
     "data": {
      "text/plain": [
       "10.45205486029872"
      ]
     },
     "execution_count": 1465,
     "metadata": {},
     "output_type": "execute_result"
    }
   ],
   "source": [
    "Y(0.6, s1, s2, s3)"
   ]
  },
  {
   "cell_type": "code",
   "execution_count": null,
   "metadata": {
    "collapsed": true
   },
   "outputs": [],
   "source": []
  },
  {
   "cell_type": "code",
   "execution_count": null,
   "metadata": {
    "collapsed": true
   },
   "outputs": [],
   "source": []
  },
  {
   "cell_type": "code",
   "execution_count": null,
   "metadata": {
    "collapsed": true
   },
   "outputs": [],
   "source": []
  },
  {
   "cell_type": "code",
   "execution_count": 1553,
   "metadata": {
    "collapsed": false
   },
   "outputs": [
    {
     "data": {
      "text/plain": [
       "-0.024204911944242014"
      ]
     },
     "execution_count": 1553,
     "metadata": {},
     "output_type": "execute_result"
    }
   ],
   "source": [
    "E(0.65, s1, s2, s3)"
   ]
  },
  {
   "cell_type": "code",
   "execution_count": 1503,
   "metadata": {
    "collapsed": false
   },
   "outputs": [
    {
     "data": {
      "text/plain": [
       "-0.76700574741599503"
      ]
     },
     "execution_count": 1503,
     "metadata": {},
     "output_type": "execute_result"
    }
   ],
   "source": [
    "E(0.68, s1, s2, s3)"
   ]
  },
  {
   "cell_type": "code",
   "execution_count": 1514,
   "metadata": {
    "collapsed": false
   },
   "outputs": [
    {
     "data": {
      "text/plain": [
       "0.034910257301966396"
      ]
     },
     "execution_count": 1514,
     "metadata": {},
     "output_type": "execute_result"
    }
   ],
   "source": [
    "E(0.674, s1, s2, s3)"
   ]
  },
  {
   "cell_type": "code",
   "execution_count": 1525,
   "metadata": {
    "collapsed": false
   },
   "outputs": [
    {
     "data": {
      "text/plain": [
       "-0.037311929588252468"
      ]
     },
     "execution_count": 1525,
     "metadata": {},
     "output_type": "execute_result"
    }
   ],
   "source": [
    "E(0.674, s1, s2, s3)"
   ]
  },
  {
   "cell_type": "code",
   "execution_count": null,
   "metadata": {
    "collapsed": true
   },
   "outputs": [],
   "source": []
  },
  {
   "cell_type": "code",
   "execution_count": 1623,
   "metadata": {
    "collapsed": false
   },
   "outputs": [
    {
     "data": {
      "text/plain": [
       "0.097179529832384259"
      ]
     },
     "execution_count": 1623,
     "metadata": {},
     "output_type": "execute_result"
    }
   ],
   "source": [
    "Lind(0.57, s1, s2, s3)"
   ]
  },
  {
   "cell_type": "code",
   "execution_count": 1631,
   "metadata": {
    "collapsed": false
   },
   "outputs": [
    {
     "data": {
      "text/plain": [
       "-0.0038028209563325532"
      ]
     },
     "execution_count": 1631,
     "metadata": {},
     "output_type": "execute_result"
    }
   ],
   "source": [
    "E(0.675, s1, s2, s3)"
   ]
  },
  {
   "cell_type": "code",
   "execution_count": null,
   "metadata": {
    "collapsed": true
   },
   "outputs": [],
   "source": []
  },
  {
   "cell_type": "code",
   "execution_count": 1599,
   "metadata": {
    "collapsed": false
   },
   "outputs": [
    {
     "data": {
      "text/plain": [
       "0.09854093681056901"
      ]
     },
     "execution_count": 1599,
     "metadata": {},
     "output_type": "execute_result"
    }
   ],
   "source": [
    "Lind(0.575, s1, s2, s3)"
   ]
  },
  {
   "cell_type": "code",
   "execution_count": 1857,
   "metadata": {
    "collapsed": false
   },
   "outputs": [
    {
     "data": {
      "text/plain": [
       "0.0074432272227920038"
      ]
     },
     "execution_count": 1857,
     "metadata": {},
     "output_type": "execute_result"
    }
   ],
   "source": [
    "E(0.649, s1, s2, s3)"
   ]
  },
  {
   "cell_type": "code",
   "execution_count": 1858,
   "metadata": {
    "collapsed": false
   },
   "outputs": [
    {
     "data": {
      "text/plain": [
       "0.0040320934095575793"
      ]
     },
     "execution_count": 1858,
     "metadata": {},
     "output_type": "execute_result"
    }
   ],
   "source": [
    "A(0.649, s1, s2, s3)"
   ]
  },
  {
   "cell_type": "code",
   "execution_count": 1604,
   "metadata": {
    "collapsed": false
   },
   "outputs": [
    {
     "data": {
      "text/plain": [
       "1.6590393542994994"
      ]
     },
     "execution_count": 1604,
     "metadata": {},
     "output_type": "execute_result"
    }
   ],
   "source": [
    "max(ds)"
   ]
  },
  {
   "cell_type": "code",
   "execution_count": 1644,
   "metadata": {
    "collapsed": false
   },
   "outputs": [
    {
     "data": {
      "text/plain": [
       "-0.0052111730400756784"
      ]
     },
     "execution_count": 1644,
     "metadata": {},
     "output_type": "execute_result"
    }
   ],
   "source": [
    "E(0.675, s1, s2, s3)"
   ]
  },
  {
   "cell_type": "code",
   "execution_count": null,
   "metadata": {
    "collapsed": true
   },
   "outputs": [],
   "source": []
  },
  {
   "cell_type": "code",
   "execution_count": 1851,
   "metadata": {
    "collapsed": false
   },
   "outputs": [
    {
     "data": {
      "text/plain": [
       "0.041617036448514"
      ]
     },
     "execution_count": 1851,
     "metadata": {},
     "output_type": "execute_result"
    }
   ],
   "source": [
    "E(0.697, s1, s2, s3)"
   ]
  },
  {
   "cell_type": "code",
   "execution_count": null,
   "metadata": {
    "collapsed": true
   },
   "outputs": [],
   "source": []
  },
  {
   "cell_type": "code",
   "execution_count": 1919,
   "metadata": {
    "collapsed": false
   },
   "outputs": [
    {
     "data": {
      "text/plain": [
       "0.02029481407743533"
      ]
     },
     "execution_count": 1919,
     "metadata": {},
     "output_type": "execute_result"
    }
   ],
   "source": [
    "A(0.55, s1, s2, s3)"
   ]
  },
  {
   "cell_type": "code",
   "execution_count": null,
   "metadata": {
    "collapsed": true
   },
   "outputs": [],
   "source": []
  },
  {
   "cell_type": "code",
   "execution_count": 1917,
   "metadata": {
    "collapsed": false
   },
   "outputs": [
    {
     "data": {
      "text/plain": [
       "0.27468287865650165"
      ]
     },
     "execution_count": 1917,
     "metadata": {},
     "output_type": "execute_result"
    }
   ],
   "source": [
    "E(0.6, s1, s2, s3)"
   ]
  },
  {
   "cell_type": "code",
   "execution_count": null,
   "metadata": {
    "collapsed": true
   },
   "outputs": [],
   "source": []
  },
  {
   "cell_type": "code",
   "execution_count": 2005,
   "metadata": {
    "collapsed": true
   },
   "outputs": [],
   "source": [
    "desired_acceptance = 0.10\n",
    "eta_current = 0.62 #0.55\n",
    "etas = [eta_current]\n",
    "while eta_current < 0.85:\n",
    "    func = lambda eta_0: ProbCS(eta_current, eta_0, s1, s2, s3, N) - desired_acceptance\n",
    "    eta_new = newton_krylov(func, eta_current, method='lgmres')\n",
    "    if abs(ProbCS(eta_current, eta_new, s1, s2, s3, N) - desired_acceptance) < 0.000001:\n",
    "        etas.append(float(eta_new))\n",
    "        eta_current = float(eta_new)\n",
    "    else:\n",
    "        raise ValueError('Solver did not find sufficient solution for neighboring volume fractions')\n",
    "etas = array(etas)\n",
    "num_etas = len(etas)"
   ]
  },
  {
   "cell_type": "code",
   "execution_count": 1840,
   "metadata": {
    "collapsed": false
   },
   "outputs": [
    {
     "name": "stdout",
     "output_type": "stream",
     "text": [
      "[ 0.62        0.62038874  0.62077641 ...,  0.84996706  0.84999616\n",
      "  0.85002525]\n"
     ]
    }
   ],
   "source": [
    "print etas"
   ]
  },
  {
   "cell_type": "code",
   "execution_count": 2031,
   "metadata": {
    "collapsed": true
   },
   "outputs": [],
   "source": [
    "dr_maxs = array([sqrt(1.6*A(x, s1, s2, s3)) for x in etas])"
   ]
  },
  {
   "cell_type": "code",
   "execution_count": 2032,
   "metadata": {
    "collapsed": false
   },
   "outputs": [
    {
     "data": {
      "text/plain": [
       "array([ 0.06048803,  0.06024805,  0.06000959, ...,  0.00323879,\n",
       "        0.00323659,  0.00323438])"
      ]
     },
     "execution_count": 2032,
     "metadata": {},
     "output_type": "execute_result"
    }
   ],
   "source": [
    "dr_maxs"
   ]
  },
  {
   "cell_type": "code",
   "execution_count": 2033,
   "metadata": {
    "collapsed": true
   },
   "outputs": [],
   "source": [
    "#generate etas\n",
    "etas_file = open('extended_states_small_cage_fit.txt', 'w')\n",
    "etas_file.write(('acceptance = %f\\n' % desired_acceptance))\n",
    "etas_string = 'etas = (%s' % etas[0]\n",
    "for eta in etas[1:]:\n",
    "    etas_string = etas_string + ',' + str(eta)\n",
    "etas_string = etas_string + ')\\n'\n",
    "etas_file.write(etas_string)\n",
    "\n",
    "\n",
    "\n",
    "#generate dr_max values\n",
    "dr_maxs_string = 'dr_maxs = (%s' % dr_maxs[0]\n",
    "for dr_max in dr_maxs[1:]:\n",
    "    dr_maxs_string = dr_maxs_string + ',' + str(dr_max)\n",
    "dr_maxs_string = dr_maxs_string + ')'\n",
    "etas_file.write(dr_maxs_string)\n",
    "\n",
    "etas_file.close()"
   ]
  },
  {
   "cell_type": "code",
   "execution_count": null,
   "metadata": {
    "collapsed": true
   },
   "outputs": [],
   "source": []
  },
  {
   "cell_type": "code",
   "execution_count": null,
   "metadata": {
    "collapsed": true
   },
   "outputs": [],
   "source": []
  },
  {
   "cell_type": "code",
   "execution_count": null,
   "metadata": {
    "collapsed": true
   },
   "outputs": [],
   "source": []
  },
  {
   "cell_type": "code",
   "execution_count": null,
   "metadata": {
    "collapsed": true
   },
   "outputs": [],
   "source": []
  },
  {
   "cell_type": "code",
   "execution_count": null,
   "metadata": {
    "collapsed": true
   },
   "outputs": [],
   "source": []
  },
  {
   "cell_type": "code",
   "execution_count": null,
   "metadata": {
    "collapsed": true
   },
   "outputs": [],
   "source": []
  }
 ],
 "metadata": {
  "kernelspec": {
   "display_name": "Python 2",
   "language": "python",
   "name": "python2"
  },
  "language_info": {
   "codemirror_mode": {
    "name": "ipython",
    "version": 2
   },
   "file_extension": ".py",
   "mimetype": "text/x-python",
   "name": "python",
   "nbconvert_exporter": "python",
   "pygments_lexer": "ipython2",
   "version": "2.7.13"
  }
 },
 "nbformat": 4,
 "nbformat_minor": 2
}
