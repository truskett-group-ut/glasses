{
 "cells": [
  {
   "cell_type": "code",
   "execution_count": 625,
   "metadata": {
    "collapsed": true
   },
   "outputs": [],
   "source": [
    "import matplotlib.pyplot as plt\n",
    "from numpy import arange\n",
    "%matplotlib inline"
   ]
  },
  {
   "cell_type": "markdown",
   "metadata": {},
   "source": [
    "## Various model systems"
   ]
  },
  {
   "cell_type": "markdown",
   "metadata": {},
   "source": [
    "### da/db=1.4"
   ]
  },
  {
   "cell_type": "code",
   "execution_count": 1287,
   "metadata": {
    "collapsed": true
   },
   "outputs": [],
   "source": [
    "D = array([1.0,1.4])"
   ]
  },
  {
   "cell_type": "markdown",
   "metadata": {},
   "source": [
    "### dm/dM=0.2"
   ]
  },
  {
   "cell_type": "code",
   "execution_count": 1286,
   "metadata": {
    "collapsed": true
   },
   "outputs": [],
   "source": [
    "D = array([1.0018802899292356, 1.0047166860695353, 1.0082980269464472, 1.0127443389839113, 1.0161603924947276, 1.0206366628935135, 1.0241251970078462, 1.0287055922369295, 1.032277506988976, 1.0369686142836396, 1.0406275579843243, 1.0454339918516435, 1.049183565795721, 1.0541101328634255, 1.0579541415502627, 1.0630059309639504, 1.066948405954656, 1.0721308138563281, 1.0761760318100253, 1.0814947855149528, 1.085647287837429, 1.0911084725058875, 1.095373086581055, 1.100983174545946, 1.1053650374754718, 1.111130920385832, 1.1156355049496702, 1.1215645294521313, 1.1261976728583734, 1.1322976798794642, 1.1370656155353105, 1.1433449839656327, 1.1482543767879112, 1.1547220718027398, 1.1597800574366341, 1.1664456843455147, 1.171659912568391, 1.1785337768550805, 1.1839124605311262, 1.1910056347341589, 1.1965576039573793, 1.2038820028219928, 1.2096167660689687, 1.2171852306361384, 1.2231130431563888, 1.230939435484468, 1.2370713764432375, 1.2451706863820975, 1.251518746020437, 1.2599072120879435, 1.2664843903165808, 1.2751796364638346, 1.2820000549169583, 1.291021246552378, 1.298100276088716, 1.3074682976692964, 1.3148227042057081, 1.3245603627827272, 1.3322084743732199, 1.3423407332330253, 1.350302632275806, 1.360856880290727, 1.3691546255947749, 1.3801609889578117, 1.388818872929362, 1.4003105771891686, 1.4093554252876164, 1.4213692174950345, 1.4308307382932741, 1.4434073821428657, 1.4533185783005822, 1.4665034365217515, 1.476901089572486, 1.4907448133473862, 1.501670058961003, 1.5162294077038947, 1.5277284214392501, 1.5430672436162132, 1.555192063475536, 1.571382477250815, 1.584191996753389, 1.6013158192683576, 1.614876993411542, 1.6330274852730162, 1.6474168076813465, 1.666700815573578, 1.6820061385792164, 1.7025467506140786, 1.7188695502263627, 1.740809413278176, 1.7582676305446392, 1.7817731360205418, 1.8005047782714438, 1.8257713956407775, 1.8459391498078805, 1.8731983020201661, 1.8949955118415065, 1.9245235481824563, 1.9481820641327374, 1.980312127885465, 2.0061127574500106, 2.0412507247539606, 2.0695373742292387, 2.1081836204114603, 2.1393827655797897, 2.1821624575292438, 2.2168105008200887, 2.264516662287764, 2.303299235752363, 2.3569554747472496, 2.4007653955495383, 2.4617198582997784, 2.5117451678666973, 2.5818159014549122, 2.6396783576059333, 2.721386970647134, 2.7893690901042323, 2.8863338870555437, 2.9677701695763385, 3.0854054068723267, 3.1853990021566028, 3.332247852128741, 3.4590888047704014, 3.649600618023419, 3.817869914428564, 4.078916493739191, 4.365586956041712, 4.7157607346695105])"
   ]
  },
  {
   "cell_type": "markdown",
   "metadata": {},
   "source": [
    "### dm/dM=0.3"
   ]
  },
  {
   "cell_type": "code",
   "execution_count": 1258,
   "metadata": {
    "collapsed": true
   },
   "outputs": [],
   "source": [
    "D = array([1.0017182857926734, 1.0043090396479364, 1.0075773776391825, 1.0116303507248632, 1.0147413116592183, 1.018813240290512, 1.021983639244851, 1.026141526681687, 1.029380781022834, 1.0336299371082325, 1.0369408214787257, 1.0412847080044283, 1.0446699098401513, 1.0491121020825773, 1.0525744440739435, 1.0571187067459717, 1.060661163727171, 1.065311466424637, 1.068937176434198, 1.0736977082741759, 1.0774099840392428, 1.082285169597192, 1.0860875114439146, 1.0910820279385018, 1.0949781375819068, 1.1000969338020783, 1.1040907295177764, 1.1093390464365753, 1.113434679602725, 1.1188180728669692, 1.1230199461406116, 1.128544310846103, 1.1328570979981047, 1.1385286958900842, 1.142957363748502, 1.1487828528823931, 1.1533326853017747, 1.1593191531004992, 1.1639957774794223, 1.1701507768624415, 1.1749601934229328, 1.1812917829154612, 1.186240397087686, 1.192757185198987, 1.1978518434425414, 1.2045630377868486, 1.2098110675327232, 1.2167265296461192, 1.2221357834691027, 1.2292660897028307, 1.2348449947662934, 1.242201504321804, 1.24795911767214, 1.2555540486461356, 1.2615001190234796, 1.269346633829467, 1.2754916709965631, 1.2836039723536716, 1.2899593253421475, 1.2983527642392936, 1.304930709526564, 1.313621907617115, 1.3204357487605454, 1.329442736685198, 1.3365069176636082, 1.3458492925820842, 1.3531795266158095, 1.3628786314193382, 1.3704920479636378, 1.3805711766215647, 1.3884864897461675, 1.3989711227835526, 1.4072088249332848, 1.4181269004549735, 1.4267094857933482, 1.4380917127464523, 1.4470439355950626, 1.4589241575936152, 1.4682733329865698, 1.4806889521680116, 1.4904653071208862, 1.5034577794444615, 1.5136948640995083, 1.527310283046523, 1.5380454559134882, 1.5523352409185922, 1.5636102431924783, 1.578631957970459, 1.5904935976130001, 1.606311927366346, 1.618812897664609, 1.6355008232994661, 1.6487006904228312, 1.666340908164397, 1.680307307133218, 1.698993957011313, 1.7138040546047566, 1.733644840148926, 1.7493871330323107, 1.7705059409872916, 1.787282488639524, 1.8098226551591317, 1.8277518740681338, 1.851880294353446, 1.8711004892975502, 1.8970128405455484, 1.917686715253153, 1.9456141675532643, 1.9679346508300277, 1.9981525943327656, 2.0223504621855892, 2.0551900095313695, 2.0815439947504166, 2.1174073610119226, 2.1462577708967743, 2.185639180838105, 2.217406557342636, 2.26092118865728, 2.296132375783003, 2.34455726146797, 2.38388262568077, 2.4382158242890215, 2.482523732897005, 2.544072261683645, 2.5945111541234063, 2.665025788650344, 2.7231519996341333, 2.8050416158452465])"
   ]
  },
  {
   "cell_type": "markdown",
   "metadata": {},
   "source": [
    "### dm/dM=0.4492"
   ]
  },
  {
   "cell_type": "code",
   "execution_count": 1282,
   "metadata": {
    "collapsed": true
   },
   "outputs": [],
   "source": [
    "D = array([1.0015626774918234, 1.0039177113177415, 1.0068861987625313, 1.0105632153470625, 1.0133830910251176, 1.0170700733210793, 1.0199381500527265, 1.0236954158520462, 1.026619830822572, 1.0304516551920695, 1.0334344974311804, 1.0373434448047096, 1.0403866932376598, 1.0443753879685131, 1.0474811095473815, 1.0515523006082579, 1.054722662422244, 1.058879233238859, 1.0621165091082003, 1.0663614862211812, 1.0696680634900435, 1.0740046257823768, 1.0773830128409105, 1.0818145015344804, 1.0852673356972526, 1.0897972652213543, 1.0933273214200463, 1.0979593910785146, 1.1015695912714047, 1.1063076979600384, 1.1100011212253666, 1.1148493732496076, 1.1186292668835578, 1.1235919988248544, 1.127461790331638, 1.1325435794306646, 1.1365068896072046, 1.141712573464998, 1.1457732305134656, 1.1511079264968713, 1.1552699818114807, 1.1607391080913665, 1.1650068529366342, 1.1706161518123517, 1.1749941361905816, 1.1807496991687174, 1.1852427521097713, 1.191151048001335, 1.1957642999066829, 1.2018322051693613, 1.2065711125478433, 1.2128059449958344, 1.2176763174592862, 1.2240858734667237, 1.2290939038389423, 1.2356864991746546, 1.2408387964701297, 1.2476233117638211, 1.2529269378934087, 1.2599128688888244, 1.265375379390728, 1.2725728928711013, 1.2782023821361903, 1.2856223780931264, 1.2914275298645082, 1.2990817109577688, 1.3050718544949098, 1.312972803679918, 1.319157977122048, 1.3273192446467441, 1.3337102653919488, 1.3421464664532587, 1.3487550110804796, 1.3574819360049595, 1.3643206297612507, 1.3733553683631288, 1.3804378867718685, 1.3897989690809207, 1.3971401528866132, 1.4068477090379294, 1.4144636951632004, 1.42453963761994, 1.432448008357923, 1.4429162399371376, 1.451136193750766, 1.4620228463404306, 1.4705753940738542, 1.4819091030584306, 1.4908172938902857, 1.502629515526331, 1.5119186984971, 1.524244076987287, 1.5339422047710085, 1.5468190005180522, 1.5569569835950585, 1.5704275729480635, 1.5810396942590934, 1.5951511572939978, 1.6062755609367192, 1.621080374154693, 1.6327596426017563, 1.6483165013509635, 1.6605983425674795, 1.6769731417054992, 1.689911210407246, 1.7071782206291297, 1.7208331062168463, 1.7390763945610601, 1.7535168177679823, 1.772831973644805, 1.788136245025801, 1.8086324930820092, 1.824890305397105, 1.8466931121406764, 1.8640077586325905, 1.8872620750208235, 1.905753221158737, 1.9306275528080483, 1.9504347290773687, 1.9771262963685645, 1.9984133501956645, 2.0271546998727907, 2.0501155272228218, 2.081183105081138, 2.1060491265257384, 2.1397745359830975, 2.1668245763130054, 2.2036095804957276])"
   ]
  },
  {
   "cell_type": "markdown",
   "metadata": {},
   "source": [
    "### dm/dM=0.52"
   ]
  },
  {
   "cell_type": "code",
   "execution_count": 1097,
   "metadata": {
    "collapsed": true
   },
   "outputs": [],
   "source": [
    "D = array([1.0014280531756807, 1.003579331461546, 1.0062890304581387, 1.0096422463166561, 1.012211829574048, 1.015568461824309, 1.0181775248480476, 1.021592247152557, 1.0242479213910127, 1.0277242485581737, 1.0304281371876467, 1.0339680031165044, 1.0367215893543364, 1.040326955359776, 1.043131780671561, 1.0468046919764638, 1.0496623654204442, 1.0534049577511815, 1.0563171600123709, 1.0601316648196915, 1.0631001523913546, 1.0669889024722015, 1.0700155120465011, 1.0739809475295155, 1.0770676008760924, 1.0811122756772877, 1.0842609846673654, 1.0883875733730382, 1.0916004455403172, 1.095811750859358, 1.0990909953651233, 1.1033899561077491, 1.1067378900389249, 1.1111275897431847, 1.11454664507224, 1.1190303212983201, 1.1225230522280474, 1.1271041066506766, 1.1306731977145055, 1.1353552068480874, 1.1390034815308616, 1.1437902085687792, 1.1475206386894286, 1.1524160462041826, 1.156231762134903, 1.1612400258079616, 1.1651443274926665, 1.1702698510894143, 1.1742662200278495, 1.1795136517503368, 1.1836057640328148, 1.1889800141849882, 1.1931717547581306, 1.1986780150528695, 1.2029734931504856, 1.2086172578137553, 1.2130208239937037, 1.2188079127606057, 1.2233241773041417, 1.2292607607610995, 1.233894614026018, 1.2399872410984991, 1.2447438758290166, 1.2509995043084794, 1.2558844399744633, 1.2623104698390715, 1.2673295797096422, 1.2739338899295363, 1.2790934306698547, 1.2858844198299828, 1.2911910642608773, 1.2981776955451256, 1.3036385689817591, 1.310830419808087, 1.3164531403798398, 1.3238604576056694, 1.3296531807226966, 1.3372869421275735, 1.343258410374364, 1.351130393058926, 1.3572899917298356, 1.3654128483611827, 1.3717706673647863, 1.3801580119741599, 1.386724915394829, 1.3953914191027867, 1.402179123340777, 1.4111406225087146, 1.4181617841088399, 1.42743540183733, 1.434703716886388, 1.4443080008802975, 1.4518383172592457, 1.4617933957821476, 1.46960184091605, 1.4799296001692686, 1.4880337262325654, 1.4987580130994547, 1.5071769631487677, 1.518323816655034, 1.5270785148709047, 1.5386764324298412, 1.547789803028268, 1.5598700468472262, 1.5693672666320189, 1.581964218806765, 1.5918730101619887, 1.6050245844531028, 1.615375555889984, 1.6291236781745546, 1.6399507227365635, 1.6543418939052341, 1.6656826561103002, 1.6807686146465717, 1.692665042503698, 1.7085035477954433, 1.7210025455644056, 1.7376583103572756, 1.7508125190720203, 1.768358323107447, 1.782227053854978, 1.800745084697938, 1.8153954469926663, 1.834978923496569, 1.8504871943322807, 1.8712423461755179, 1.8876956452475198, 1.9097441436005986])"
   ]
  },
  {
   "cell_type": "code",
   "execution_count": null,
   "metadata": {
    "collapsed": true
   },
   "outputs": [],
   "source": []
  },
  {
   "cell_type": "markdown",
   "metadata": {},
   "source": [
    "## Solve for the complexity and cage diameters"
   ]
  },
  {
   "cell_type": "code",
   "execution_count": null,
   "metadata": {
    "collapsed": true
   },
   "outputs": [],
   "source": [
    "from numpy import array, log, pi, transpose, matrix, sum, power, identity, ones, multiply, sqrt, divide"
   ]
  },
  {
   "cell_type": "code",
   "execution_count": 1288,
   "metadata": {
    "collapsed": false
   },
   "outputs": [],
   "source": [
    "#matrix of diameters\n",
    "#D = matrix([1.0, 1.1, 1.2, 1.3, 1.4])\n",
    "init_guess = 0.0*D + 0.004\n",
    "bounds = [(0.000001, 0.4) for d in D]\n",
    "D = matrix(D)\n",
    "D_2 = power(D, 2.0)\n",
    "D_3 = power(D, 3.0)\n",
    "#number of types\n",
    "n = D.size\n",
    "x = 1.0/float(n)\n",
    "I_r = matrix(ones(n))\n",
    "I_c = transpose(I_r)\n",
    "#various averages\n",
    "d_avg = sum(D)/n\n",
    "d_2_avg = sum(D_2)/n\n",
    "d_3_avg = sum(D_3)/n\n",
    "#matrix of diameters\n",
    "Duv = (I_c.dot(D) + transpose(D).dot(I_r))/2.0\n",
    "Duv_2 = multiply(Duv, Duv)\n",
    "DDuv = transpose(D).dot(D)\n",
    "Puv = divide(DDuv, Duv)"
   ]
  },
  {
   "cell_type": "code",
   "execution_count": 1170,
   "metadata": {
    "collapsed": true
   },
   "outputs": [],
   "source": [
    "def SHarm(A):\n",
    "    return x*sum(-(3.0/2.0)*log(2.0*pi*A) - 3.0)"
   ]
  },
  {
   "cell_type": "code",
   "execution_count": 1171,
   "metadata": {
    "collapsed": true
   },
   "outputs": [],
   "source": [
    "def GContactMono(eta):\n",
    "    return (((1.0 + eta + eta**2.0 - eta**3.0)/(1.0 - eta)**3.0) - 1.0)/(4.0*eta)"
   ]
  },
  {
   "cell_type": "code",
   "execution_count": 1172,
   "metadata": {
    "collapsed": true
   },
   "outputs": [],
   "source": [
    "def GContact(eta):\n",
    "    Guv = (1.0/(1.0-eta)) + (GContactMono(eta) - 1.0/(1.0-eta))*(d_2_avg/d_3_avg)*Puv \n",
    "    return Guv"
   ]
  },
  {
   "cell_type": "code",
   "execution_count": 1173,
   "metadata": {
    "collapsed": true
   },
   "outputs": [],
   "source": [
    "def SInter(A, eta):\n",
    "    ApAuv = (I_c.dot(A) + transpose(A).dot(I_r))\n",
    "    Guv = GContact(eta)\n",
    "    return 0.638*4.0*(x**2.0)*eta*(3.0/d_3_avg)*sum(multiply(multiply(Guv, Duv_2), sqrt(2.0*ApAuv)))"
   ]
  },
  {
   "cell_type": "code",
   "execution_count": 1174,
   "metadata": {
    "collapsed": true
   },
   "outputs": [],
   "source": [
    "def SReplica(A, eta):\n",
    "    return SHarm(matrix(A)) + SInter(matrix(A), eta)"
   ]
  },
  {
   "cell_type": "code",
   "execution_count": 1175,
   "metadata": {
    "collapsed": true
   },
   "outputs": [],
   "source": [
    "def SFluid(eta):\n",
    "    e0 = eta/d_3_avg\n",
    "    e1 = eta*d_avg/d_3_avg\n",
    "    e2 = eta*d_2_avg/d_3_avg\n",
    "    e3 = eta*d_3_avg/d_3_avg\n",
    "    F = ((e2**3.0)/(e0*e3**2.0) - 1.0)*log(1.0 - e3) + (3.0*e1*e2)/(e0*(1.0 - e3)) + (e2**3.0)/(e0*e3*(1.0 - e3)**2.0)\n",
    "    return -F"
   ]
  },
  {
   "cell_type": "code",
   "execution_count": 1180,
   "metadata": {
    "collapsed": true
   },
   "outputs": [],
   "source": [
    "def _SConf_(eta, A_opt):\n",
    "    p = 6.0*eta/(pi*d_3_avg)\n",
    "    return SFluid(eta) + 1.0 - log(p) - x*(3.0/2.0)*sum(log(2.0*pi*A_opt))"
   ]
  },
  {
   "cell_type": "code",
   "execution_count": 1247,
   "metadata": {
    "collapsed": true
   },
   "outputs": [],
   "source": [
    "def _Lind_(eta, A_opt):\n",
    "    p = 6.0*eta/(pi*d_3_avg)\n",
    "    return (p**(1.0/3.0))*sum(sqrt(A_opt))/len(A_opt)"
   ]
  },
  {
   "cell_type": "code",
   "execution_count": 1179,
   "metadata": {
    "collapsed": true
   },
   "outputs": [],
   "source": [
    "def ZBerth(eta):\n",
    "    return 1.0/(1.0-eta) + (3.0*d_avg*d_2_avg/d_3_avg)*(eta/(1.0-eta)**2.0) + (d_2_avg**3.0/d_3_avg**2.0)*(((3.0-eta)*eta**2.0)/(1.0-eta)**3.0)"
   ]
  },
  {
   "cell_type": "code",
   "execution_count": 940,
   "metadata": {
    "collapsed": true
   },
   "outputs": [],
   "source": [
    "from scipy.optimize import minimize"
   ]
  },
  {
   "cell_type": "code",
   "execution_count": 1221,
   "metadata": {
    "collapsed": true
   },
   "outputs": [],
   "source": [
    "def Cages(eta):\n",
    "    SReplica_eta_only = lambda x: SReplica(x, eta)\n",
    "    res = minimize(SReplica_eta_only, init_guess, method='L-BFGS-B', options={'gtol': 1e-6, 'disp': True}, bounds=bounds)\n",
    "    return sqrt(res['x'])"
   ]
  },
  {
   "cell_type": "code",
   "execution_count": 1232,
   "metadata": {
    "collapsed": true
   },
   "outputs": [],
   "source": [
    "def Lind(eta):\n",
    "    SReplica_eta_only = lambda x: SReplica(x, eta)\n",
    "    res = minimize(SReplica_eta_only, init_guess, method='L-BFGS-B', options={'gtol': 1e-6, 'disp': True}, bounds=bounds)\n",
    "    return _Lind_(eta, res['x'])"
   ]
  },
  {
   "cell_type": "code",
   "execution_count": 1188,
   "metadata": {
    "collapsed": true
   },
   "outputs": [],
   "source": [
    "def SConf(eta):\n",
    "    SReplica_eta_only = lambda x: SReplica(x, eta)\n",
    "    res = minimize(SReplica_eta_only, init_guess, method='L-BFGS-B', options={'gtol': 1e-6, 'disp': True}, bounds=bounds)\n",
    "    return _SConf_(eta, res['x'])"
   ]
  },
  {
   "cell_type": "code",
   "execution_count": 1191,
   "metadata": {
    "collapsed": true
   },
   "outputs": [],
   "source": [
    "from scipy.optimize import newton_krylov"
   ]
  },
  {
   "cell_type": "code",
   "execution_count": null,
   "metadata": {
    "collapsed": true
   },
   "outputs": [],
   "source": []
  },
  {
   "cell_type": "code",
   "execution_count": null,
   "metadata": {
    "collapsed": true
   },
   "outputs": [],
   "source": []
  },
  {
   "cell_type": "code",
   "execution_count": null,
   "metadata": {
    "collapsed": true
   },
   "outputs": [],
   "source": []
  },
  {
   "cell_type": "markdown",
   "metadata": {},
   "source": [
    "### da/db=1.4"
   ]
  },
  {
   "cell_type": "code",
   "execution_count": 1290,
   "metadata": {
    "collapsed": false
   },
   "outputs": [
    {
     "name": "stdout",
     "output_type": "stream",
     "text": [
      "0:  |F(x)| = 0.686943; step 0.298033; tol 0.341662\n",
      "1:  |F(x)| = 0.229864; step 1; tol 0.10506\n",
      "2:  |F(x)| = 0.0111882; step 1; tol 0.00213215\n",
      "3:  |F(x)| = 1.17377e-05; step 1; tol 9.90591e-07\n",
      "Sconf: 1.17377e-05\n",
      "eta_K: 0.627280\n"
     ]
    }
   ],
   "source": [
    "sol = newton_krylov(SConf, 0.56, method='lgmres', verbose=1, f_tol=0.0001)\n",
    "print('Sconf: %g' % abs(SConf(sol)).max())\n",
    "print('eta_K: %f' % sol)"
   ]
  },
  {
   "cell_type": "code",
   "execution_count": 1291,
   "metadata": {
    "collapsed": false
   },
   "outputs": [
    {
     "name": "stdout",
     "output_type": "stream",
     "text": [
      "0:  |F(x)| = 0.47055; step 0.0225709; tol 0.858383\n",
      "1:  |F(x)| = 0.4379; step 0.0674747; tol 0.779439\n",
      "2:  |F(x)| = 0.382415; step 0.104965; tol 0.686376\n",
      "3:  |F(x)| = 0.345869; step 1; tol 0.7362\n",
      "4:  |F(x)| = 0.0448345; step 1; tol 0.487791\n",
      "5:  |F(x)| = 0.000559608; step 1; tol 0.214146\n",
      "6:  |F(x)| = 2.83064e-06; step 1; tol 2.30274e-05\n",
      "Sconf: 0.999997\n",
      "eta_K: 0.570564\n"
     ]
    }
   ],
   "source": [
    "SG = lambda x: SConf(x) - 1.0\n",
    "sol = newton_krylov(SG, 0.5, method='lgmres', verbose=1, f_tol=0.0001)\n",
    "print('Sconf: %g' % abs(SConf(sol)).max())\n",
    "print('eta_K: %f' % sol)"
   ]
  },
  {
   "cell_type": "markdown",
   "metadata": {},
   "source": [
    "### dm/dM=0.3"
   ]
  },
  {
   "cell_type": "code",
   "execution_count": 1200,
   "metadata": {
    "collapsed": false
   },
   "outputs": [
    {
     "name": "stdout",
     "output_type": "stream",
     "text": [
      "0:  |F(x)| = 0.182783; step 1; tol 0.0727768\n",
      "1:  |F(x)| = 0.0437514; step 1; tol 0.0515647\n",
      "2:  |F(x)| = 0.00720365; step 1; tol 0.0243985\n",
      "3:  |F(x)| = 0.00181781; step 1; tol 0.0573107\n",
      "4:  |F(x)| = 8.33458e-05; step 1; tol 0.00189196\n",
      "Sconf: 8.33458e-05\n",
      "eta_K: 0.651335\n"
     ]
    }
   ],
   "source": [
    "sol = newton_krylov(SConf, 0.62, method='lgmres', verbose=1, f_tol=0.0001)\n",
    "print('Sconf: %g' % abs(SConf(sol)).max())\n",
    "print('eta_K: %f' % sol)"
   ]
  },
  {
   "cell_type": "code",
   "execution_count": 1271,
   "metadata": {
    "collapsed": false
   },
   "outputs": [
    {
     "name": "stdout",
     "output_type": "stream",
     "text": [
      "0:  |F(x)| = 0.107543; step 1; tol 0.0865081\n",
      "1:  |F(x)| = 0.0342495; step 1; tol 0.0912826\n",
      "2:  |F(x)| = 0.0306968; step 1; tol 0.722967\n",
      "3:  |F(x)| = 0.00787169; step 1; tol 0.470413\n",
      "4:  |F(x)| = 0.00268242; step 1; tol 0.19916\n",
      "5:  |F(x)| = 0.00138191; step 1; tol 0.238864\n",
      "6:  |F(x)| = 0.000748028; step 1; tol 0.263703\n",
      "7:  |F(x)| = 0.0086289; step 1; tol 0.9999\n",
      "8:  |F(x)| = 0.00431897; step 1; tol 0.89982\n",
      "9:  |F(x)| = 0.00431366; step 0.00673271; tol 0.897791\n",
      "10:  |F(x)| = 0.00155683; step 0.276659; tol 0.725425\n",
      "11:  |F(x)| = 0.00132013; step 0.0450118; tol 0.647131\n",
      "12:  |F(x)| = 0.000418797; step 1; tol 0.376901\n",
      "13:  |F(x)| = 9.44825e-05; step 1; tol 0.127849\n",
      "Sconf: 1.00009\n",
      "eta_K: 0.593978\n"
     ]
    }
   ],
   "source": [
    "SG = lambda x: SConf(x) - 1.0\n",
    "sol = newton_krylov(SG, 0.55, method='lgmres', verbose=1, f_tol=0.0001)\n",
    "print('Sconf: %g' % abs(SConf(sol)).max())\n",
    "print('eta_K: %f' % sol)"
   ]
  },
  {
   "cell_type": "code",
   "execution_count": 1222,
   "metadata": {
    "collapsed": true
   },
   "outputs": [],
   "source": [
    "cages = Cages(0.651335)"
   ]
  },
  {
   "cell_type": "code",
   "execution_count": 1239,
   "metadata": {
    "collapsed": false
   },
   "outputs": [
    {
     "name": "stderr",
     "output_type": "stream",
     "text": [
      "C:\\Users\\rbj428\\AppData\\Local\\Continuum\\Anaconda2_3\\lib\\site-packages\\ipykernel\\__main__.py:7: MatplotlibDeprecationWarning: The set_axis_bgcolor function was deprecated in version 2.0. Use set_facecolor instead.\n"
     ]
    },
    {
     "data": {
      "image/png": "[encoded data removed]",
      "text/plain": [
       "<matplotlib.figure.Figure at 0x1868e668>"
      ]
     },
     "metadata": {},
     "output_type": "display_data"
    }
   ],
   "source": [
    "#things to plot\n",
    "plt.plot(array(D)[0], cages, c=\"r\", linestyle = '-', linewidth = 1, marker='o')\n",
    "\n",
    "#backround grid details\n",
    "axes = plt.gca()\n",
    "axes.grid(b = True, which = 'both', axis = 'both', color = 'gray', linestyle = '-', alpha = 0.5, linewidth = 0.5) \n",
    "axes.set_axis_bgcolor('white')  \n",
    "\n",
    "#font scpecifications\n",
    "title_font = {'family' : 'arial', 'color'  : 'black', 'weight' : 'heavy','size': 20}\n",
    "axis_label_font = {'family' : 'arial', 'color'  : 'black', 'weight' : 'normal','size': 20}                                                   \n",
    "\n",
    "#figure size and tick style\n",
    "plt.rcParams[\"figure.figsize\"] = [6,6]\n",
    "plt.rc('axes',edgecolor='black',linewidth=1)\n",
    "plt.tick_params(which='both', axis='both', color='black', length=4, width=0.5)\n",
    "plt.rcParams['xtick.direction'] = 'in'\n",
    "plt.rcParams['ytick.direction'] = 'in'\n",
    "\n",
    "#axis range and labels (also specify if log or not)\n",
    "#plt.xlim(0.48, 0.68)\n",
    "#plt.ylim(0.035, 0.10)\n",
    "#plt.ylim(5, 13)\n",
    "#plt.ylim(0.0, 0.04)\n",
    "#plt.ylim(0.0000001, 0.1)\n",
    "\n",
    "#plt.yscale('log')\n",
    "plt.xlabel(r'$d/d_m$', y=3, fontsize=20, fontdict = axis_label_font)\n",
    "plt.ylabel(r'$A/d_m$', fontsize=20, fontdict = axis_label_font)\n",
    "\n",
    "#title and axis labels\n",
    "plt.tick_params(axis='both', labelsize=20)\n",
    "plt.title('Particle cages at $\\eta_K$', y=1.05, fontdict = title_font)\n",
    "\n",
    "plt.show()"
   ]
  },
  {
   "cell_type": "code",
   "execution_count": null,
   "metadata": {
    "collapsed": true
   },
   "outputs": [],
   "source": []
  },
  {
   "cell_type": "markdown",
   "metadata": {},
   "source": [
    "### dm/dM=0.4492"
   ]
  },
  {
   "cell_type": "code",
   "execution_count": 1279,
   "metadata": {
    "collapsed": false
   },
   "outputs": [
    {
     "name": "stdout",
     "output_type": "stream",
     "text": [
      "0:  |F(x)| = 0.0893856; step 1; tol 0.0474286\n",
      "1:  |F(x)| = 0.0164898; step 1; tol 0.0306294\n",
      "2:  |F(x)| = 0.000914338; step 1; tol 0.0027671\n",
      "3:  |F(x)| = 1.85246e-05; step 1; tol 0.000369425\n",
      "Sconf: 1.85246e-05\n",
      "eta_K: 0.637445\n"
     ]
    }
   ],
   "source": [
    "sol = newton_krylov(SConf, 0.62, method='lgmres', verbose=1, f_tol=0.0001)\n",
    "print('Sconf: %g' % abs(SConf(sol)).max())\n",
    "print('eta_K: %f' % sol)"
   ]
  },
  {
   "cell_type": "code",
   "execution_count": 1280,
   "metadata": {
    "collapsed": false
   },
   "outputs": [
    {
     "name": "stdout",
     "output_type": "stream",
     "text": [
      "0:  |F(x)| = 0.458054; step 1; tol 0.9999\n",
      "1:  |F(x)| = 0.233066; step 1; tol 0.89982\n",
      "2:  |F(x)| = 0.1823; step 1; tol 0.728708\n",
      "3:  |F(x)| = 0.0658543; step 1; tol 0.477914\n",
      "4:  |F(x)| = 0.00920951; step 1; tol 0.205562\n",
      "5:  |F(x)| = 0.000294771; step 1; tol 0.00092202\n",
      "6:  |F(x)| = 5.75725e-05; step 1; tol 0.0343323\n",
      "Sconf: 1.00006\n",
      "eta_K: 0.580459\n"
     ]
    }
   ],
   "source": [
    "SG = lambda x: SConf(x) - 1.0\n",
    "sol = newton_krylov(SG, 0.55, method='lgmres', verbose=1, f_tol=0.0001)\n",
    "print('Sconf: %g' % abs(SConf(sol)).max())\n",
    "print('eta_K: %f' % sol)"
   ]
  },
  {
   "cell_type": "code",
   "execution_count": 1284,
   "metadata": {
    "collapsed": true
   },
   "outputs": [],
   "source": [
    "cages = Cages(0.637445)"
   ]
  },
  {
   "cell_type": "code",
   "execution_count": 1285,
   "metadata": {
    "collapsed": false
   },
   "outputs": [
    {
     "name": "stderr",
     "output_type": "stream",
     "text": [
      "C:\\Users\\rbj428\\AppData\\Local\\Continuum\\Anaconda2_3\\lib\\site-packages\\ipykernel\\__main__.py:7: MatplotlibDeprecationWarning: The set_axis_bgcolor function was deprecated in version 2.0. Use set_facecolor instead.\n"
     ]
    },
    {
     "data": {
      "image/png": "[encoded data removed]",
      "text/plain": [
       "<matplotlib.figure.Figure at 0x17802630>"
      ]
     },
     "metadata": {},
     "output_type": "display_data"
    }
   ],
   "source": [
    "#things to plot\n",
    "plt.plot(array(D)[0], cages, c=\"r\", linestyle = '-', linewidth = 1, marker='o')\n",
    "\n",
    "#backround grid details\n",
    "axes = plt.gca()\n",
    "axes.grid(b = True, which = 'both', axis = 'both', color = 'gray', linestyle = '-', alpha = 0.5, linewidth = 0.5) \n",
    "axes.set_axis_bgcolor('white')  \n",
    "\n",
    "#font scpecifications\n",
    "title_font = {'family' : 'arial', 'color'  : 'black', 'weight' : 'heavy','size': 20}\n",
    "axis_label_font = {'family' : 'arial', 'color'  : 'black', 'weight' : 'normal','size': 20}                                                   \n",
    "\n",
    "#figure size and tick style\n",
    "plt.rcParams[\"figure.figsize\"] = [6,6]\n",
    "plt.rc('axes',edgecolor='black',linewidth=1)\n",
    "plt.tick_params(which='both', axis='both', color='black', length=4, width=0.5)\n",
    "plt.rcParams['xtick.direction'] = 'in'\n",
    "plt.rcParams['ytick.direction'] = 'in'\n",
    "\n",
    "#axis range and labels (also specify if log or not)\n",
    "#plt.xlim(0.48, 0.68)\n",
    "#plt.ylim(0.035, 0.10)\n",
    "#plt.ylim(5, 13)\n",
    "#plt.ylim(0.0, 0.04)\n",
    "#plt.ylim(0.0000001, 0.1)\n",
    "\n",
    "#plt.yscale('log')\n",
    "plt.xlabel(r'$d/d_m$', y=3, fontsize=20, fontdict = axis_label_font)\n",
    "plt.ylabel(r'$A/d_m$', fontsize=20, fontdict = axis_label_font)\n",
    "\n",
    "#title and axis labels\n",
    "plt.tick_params(axis='both', labelsize=20)\n",
    "plt.title('Particle cages at $\\eta_K$', y=1.05, fontdict = title_font)\n",
    "\n",
    "plt.show()"
   ]
  },
  {
   "cell_type": "code",
   "execution_count": null,
   "metadata": {
    "collapsed": true
   },
   "outputs": [],
   "source": []
  },
  {
   "cell_type": "code",
   "execution_count": null,
   "metadata": {
    "collapsed": true
   },
   "outputs": [],
   "source": []
  },
  {
   "cell_type": "code",
   "execution_count": null,
   "metadata": {
    "collapsed": true
   },
   "outputs": [],
   "source": []
  },
  {
   "cell_type": "code",
   "execution_count": null,
   "metadata": {
    "collapsed": true
   },
   "outputs": [],
   "source": []
  },
  {
   "cell_type": "code",
   "execution_count": null,
   "metadata": {
    "collapsed": true
   },
   "outputs": [],
   "source": []
  },
  {
   "cell_type": "code",
   "execution_count": null,
   "metadata": {
    "collapsed": true
   },
   "outputs": [],
   "source": []
  },
  {
   "cell_type": "code",
   "execution_count": 1274,
   "metadata": {
    "collapsed": false
   },
   "outputs": [
    {
     "data": {
      "text/plain": [
       "matrix([[ 1.00171829,  1.00430904,  1.00757738,  1.01163035,  1.01474131,\n",
       "          1.01881324,  1.02198364,  1.02614153,  1.02938078,  1.03362994,\n",
       "          1.03694082,  1.04128471,  1.04466991,  1.0491121 ,  1.05257444,\n",
       "          1.05711871,  1.06066116,  1.06531147,  1.06893718,  1.07369771,\n",
       "          1.07740998,  1.08228517,  1.08608751,  1.09108203,  1.09497814,\n",
       "          1.10009693,  1.10409073,  1.10933905,  1.11343468,  1.11881807,\n",
       "          1.12301995,  1.12854431,  1.1328571 ,  1.1385287 ,  1.14295736,\n",
       "          1.14878285,  1.15333269,  1.15931915,  1.16399578,  1.17015078,\n",
       "          1.17496019,  1.18129178,  1.1862404 ,  1.19275719,  1.19785184,\n",
       "          1.20456304,  1.20981107,  1.21672653,  1.22213578,  1.22926609,\n",
       "          1.23484499,  1.2422015 ,  1.24795912,  1.25555405,  1.26150012,\n",
       "          1.26934663,  1.27549167,  1.28360397,  1.28995933,  1.29835276,\n",
       "          1.30493071,  1.31362191,  1.32043575,  1.32944274,  1.33650692,\n",
       "          1.34584929,  1.35317953,  1.36287863,  1.37049205,  1.38057118,\n",
       "          1.38848649,  1.39897112,  1.40720882,  1.4181269 ,  1.42670949,\n",
       "          1.43809171,  1.44704394,  1.45892416,  1.46827333,  1.48068895,\n",
       "          1.49046531,  1.50345778,  1.51369486,  1.52731028,  1.53804546,\n",
       "          1.55233524,  1.56361024,  1.57863196,  1.5904936 ,  1.60631193,\n",
       "          1.6188129 ,  1.63550082,  1.64870069,  1.66634091,  1.68030731,\n",
       "          1.69899396,  1.71380405,  1.73364484,  1.74938713,  1.77050594,\n",
       "          1.78728249,  1.80982266,  1.82775187,  1.85188029,  1.87110049,\n",
       "          1.89701284,  1.91768672,  1.94561417,  1.96793465,  1.99815259,\n",
       "          2.02235046,  2.05519001,  2.08154399,  2.11740736,  2.14625777,\n",
       "          2.18563918,  2.21740656,  2.26092119,  2.29613238,  2.34455726,\n",
       "          2.38388263,  2.43821582,  2.48252373,  2.54407226,  2.59451115,\n",
       "          2.66502579,  2.723152  ,  2.80504162]])"
      ]
     },
     "execution_count": 1274,
     "metadata": {},
     "output_type": "execute_result"
    }
   ],
   "source": [
    "D"
   ]
  },
  {
   "cell_type": "code",
   "execution_count": null,
   "metadata": {
    "collapsed": true
   },
   "outputs": [],
   "source": []
  },
  {
   "cell_type": "code",
   "execution_count": null,
   "metadata": {
    "collapsed": true
   },
   "outputs": [],
   "source": [
    "sol = newton_krylov(Lind, 0.5, method='lgmres', verbose=1, f_tol=0.0001)\n",
    "print('Lind: %g' % abs(Lind(sol)).max())\n",
    "print('eta_G: %f' % sol)"
   ]
  },
  {
   "cell_type": "code",
   "execution_count": null,
   "metadata": {
    "collapsed": true
   },
   "outputs": [],
   "source": []
  },
  {
   "cell_type": "code",
   "execution_count": 1104,
   "metadata": {
    "collapsed": false
   },
   "outputs": [
    {
     "name": "stdout",
     "output_type": "stream",
     "text": [
      "CONVERGENCE: REL_REDUCTION_OF_F_<=_FACTR*EPSMCH\n",
      "True\n"
     ]
    },
    {
     "data": {
      "text/plain": [
       "-0.0024347423315322914"
      ]
     },
     "execution_count": 1104,
     "metadata": {},
     "output_type": "execute_result"
    }
   ],
   "source": [
    "eta = 0.631\n",
    "FReplica = lambda x: SReplica(x, eta)\n",
    "res = minimize(FReplica, init_guess, method='L-BFGS-B', options={'gtol': 1e-6, 'disp': True}, bounds=bounds)\n",
    "print res['message']\n",
    "print res['success']\n",
    "SConf(eta, res['x'])"
   ]
  },
  {
   "cell_type": "code",
   "execution_count": 1168,
   "metadata": {
    "collapsed": false
   },
   "outputs": [
    {
     "name": "stdout",
     "output_type": "stream",
     "text": [
      "CONVERGENCE: REL_REDUCTION_OF_F_<=_FACTR*EPSMCH\n",
      "True\n"
     ]
    },
    {
     "data": {
      "text/plain": [
       "-0.00038441377580511471"
      ]
     },
     "execution_count": 1168,
     "metadata": {},
     "output_type": "execute_result"
    }
   ],
   "source": [
    "eta = 0.63746\n",
    "FReplica = lambda x: SReplica(x, eta)\n",
    "res = minimize(FReplica, init_guess, method='L-BFGS-B', options={'gtol': 1e-6, 'disp': True}, bounds=bounds)\n",
    "print res['message']\n",
    "print res['success']\n",
    "SConf(eta, res['x'])"
   ]
  },
  {
   "cell_type": "code",
   "execution_count": null,
   "metadata": {
    "collapsed": true
   },
   "outputs": [],
   "source": []
  },
  {
   "cell_type": "code",
   "execution_count": 1111,
   "metadata": {
    "collapsed": false
   },
   "outputs": [
    {
     "name": "stdout",
     "output_type": "stream",
     "text": [
      "CONVERGENCE: REL_REDUCTION_OF_F_<=_FACTR*EPSMCH\n",
      "True\n"
     ]
    },
    {
     "data": {
      "text/plain": [
       "-0.0015298606863627384"
      ]
     },
     "execution_count": 1111,
     "metadata": {},
     "output_type": "execute_result"
    }
   ],
   "source": [
    "eta = 0.6514\n",
    "FReplica = lambda x: SReplica(x, eta)\n",
    "res = minimize(FReplica, init_guess, method='L-BFGS-B', options={'gtol': 1e-6, 'disp': True}, bounds=bounds)\n",
    "print res['message']\n",
    "print res['success']\n",
    "SConf(eta, res['x'])"
   ]
  },
  {
   "cell_type": "code",
   "execution_count": 1139,
   "metadata": {
    "collapsed": false
   },
   "outputs": [
    {
     "name": "stdout",
     "output_type": "stream",
     "text": [
      "CONVERGENCE: REL_REDUCTION_OF_F_<=_FACTR*EPSMCH\n",
      "True\n"
     ]
    },
    {
     "data": {
      "text/plain": [
       "-0.0031289182793763359"
      ]
     },
     "execution_count": 1139,
     "metadata": {},
     "output_type": "execute_result"
    }
   ],
   "source": [
    "eta = 0.6934\n",
    "FReplica = lambda x: SReplica(x, eta)\n",
    "res = minimize(FReplica, init_guess, method='L-BFGS-B', options={'gtol': 1e-6, 'disp': True}, bounds=bounds)\n",
    "print res['message']\n",
    "print res['success']\n",
    "SConf(eta, res['x'])"
   ]
  },
  {
   "cell_type": "code",
   "execution_count": null,
   "metadata": {
    "collapsed": true
   },
   "outputs": [],
   "source": []
  },
  {
   "cell_type": "code",
   "execution_count": 1146,
   "metadata": {
    "collapsed": false
   },
   "outputs": [
    {
     "name": "stdout",
     "output_type": "stream",
     "text": [
      "CONVERGENCE: REL_REDUCTION_OF_F_<=_FACTR*EPSMCH\n",
      "True\n"
     ]
    },
    {
     "data": {
      "text/plain": [
       "0.0069016663405028211"
      ]
     },
     "execution_count": 1146,
     "metadata": {},
     "output_type": "execute_result"
    }
   ],
   "source": [
    "eta = 0.627\n",
    "FReplica = lambda x: SReplica(x, eta)\n",
    "res = minimize(FReplica, init_guess, method='L-BFGS-B', options={'gtol': 1e-6, 'disp': True}, bounds=bounds)\n",
    "print res['message']\n",
    "print res['success']\n",
    "SConf(eta, res['x'])"
   ]
  },
  {
   "cell_type": "code",
   "execution_count": null,
   "metadata": {
    "collapsed": true
   },
   "outputs": [],
   "source": []
  },
  {
   "cell_type": "code",
   "execution_count": 1140,
   "metadata": {
    "collapsed": false
   },
   "outputs": [
    {
     "data": {
      "text/plain": [
       "[<matplotlib.lines.Line2D at 0x15aef588>]"
      ]
     },
     "execution_count": 1140,
     "metadata": {},
     "output_type": "execute_result"
    },
    {
     "data": {
      "image/png": "[encoded data removed]",
      "text/plain": [
       "<matplotlib.figure.Figure at 0x15518f28>"
      ]
     },
     "metadata": {},
     "output_type": "display_data"
    }
   ],
   "source": [
    "plt.plot(array(D)[0], sqrt(res['x']))"
   ]
  },
  {
   "cell_type": "code",
   "execution_count": 1251,
   "metadata": {
    "collapsed": false
   },
   "outputs": [
    {
     "data": {
      "text/plain": [
       "-0.05732649146166735"
      ]
     },
     "execution_count": 1251,
     "metadata": {},
     "output_type": "execute_result"
    }
   ],
   "source": [
    "Lind(0.6)"
   ]
  },
  {
   "cell_type": "code",
   "execution_count": null,
   "metadata": {
    "collapsed": true
   },
   "outputs": [],
   "source": []
  },
  {
   "cell_type": "code",
   "execution_count": 1064,
   "metadata": {
    "collapsed": false
   },
   "outputs": [
    {
     "data": {
      "text/plain": [
       "0.17776559436707995"
      ]
     },
     "execution_count": 1064,
     "metadata": {},
     "output_type": "execute_result"
    }
   ],
   "source": [
    "SConf(0.61, res['x'])"
   ]
  },
  {
   "cell_type": "code",
   "execution_count": 1160,
   "metadata": {
    "collapsed": false
   },
   "outputs": [
    {
     "data": {
      "text/plain": [
       "3.7042612749393911e-05"
      ]
     },
     "execution_count": 1160,
     "metadata": {},
     "output_type": "execute_result"
    }
   ],
   "source": [
    "ZBerth(0.00001)-1"
   ]
  },
  {
   "cell_type": "code",
   "execution_count": null,
   "metadata": {
    "collapsed": true
   },
   "outputs": [],
   "source": []
  },
  {
   "cell_type": "code",
   "execution_count": null,
   "metadata": {
    "collapsed": true
   },
   "outputs": [],
   "source": []
  },
  {
   "cell_type": "code",
   "execution_count": null,
   "metadata": {
    "collapsed": true
   },
   "outputs": [],
   "source": []
  },
  {
   "cell_type": "code",
   "execution_count": 1025,
   "metadata": {
    "collapsed": false
   },
   "outputs": [
    {
     "data": {
      "text/plain": [
       "array([ 0.01068997,  0.01064056,  0.01057862,  0.01050245,  0.01044445,\n",
       "        0.01036915,  0.01031101,  0.01023541,  0.01017703,  0.01010111,\n",
       "        0.0100425 ,  0.0099663 ,  0.00990748,  0.00983103,  0.00977203,\n",
       "        0.00969536,  0.0096362 ,  0.00955933,  0.00950003,  0.00942301,\n",
       "        0.00936359,  0.00928642,  0.00922691,  0.00914962,  0.00909003,\n",
       "        0.00901265,  0.00895299,  0.00887553,  0.00881581,  0.00873828,\n",
       "        0.00867852,  0.00860093,  0.00854112,  0.00846347,  0.00840362,\n",
       "        0.00832591,  0.008266  ,  0.00818821,  0.00812825,  0.00805037,\n",
       "        0.00799032,  0.00791233,  0.0078522 ,  0.00777407,  0.00771382,\n",
       "        0.00763553,  0.00757515,  0.00749667,  0.00743613,  0.00735744,\n",
       "        0.00729673,  0.00721781,  0.00715692,  0.00707775,  0.00701668,\n",
       "        0.00693727,  0.00687602,  0.00679639,  0.00673498,  0.00665516,\n",
       "        0.00659362,  0.00651365,  0.00645203,  0.00637201,  0.00631036,\n",
       "        0.00623031,  0.00616865,  0.00608856,  0.00602686,  0.0059467 ,\n",
       "        0.00588492,  0.00580463,  0.00574273,  0.00566222,  0.00560013,\n",
       "        0.00551934,  0.00545701,  0.00537589,  0.00531331,  0.00523187,\n",
       "        0.00516907,  0.00508739,  0.00502444,  0.00494261,  0.00487958,\n",
       "        0.00479767,  0.00473458,  0.00465255,  0.00458932,  0.00450701,\n",
       "        0.00444351,  0.00436076,  0.0042969 ,  0.00421381,  0.00415002,\n",
       "        0.00406714,  0.00400338,  0.00392046,  0.00385659,  0.00377337,\n",
       "        0.00370918,  0.00362544,  0.00356081,  0.00347655,  0.00341161,\n",
       "        0.00332704,  0.00326195,  0.0031772 ,  0.00311196,  0.00302693,\n",
       "        0.00296141,  0.00287596,  0.00281012,  0.00272423,  0.00265806,\n",
       "        0.00257178,  0.00250534,  0.00241854,  0.00235166,  0.00226429,\n",
       "        0.00219705,  0.00210933,  0.00204197,  0.00195324,  0.00188498,\n",
       "        0.0017958 ,  0.00172779,  0.00163676])"
      ]
     },
     "execution_count": 1025,
     "metadata": {},
     "output_type": "execute_result"
    }
   ],
   "source": [
    "matrix(res['x']"
   ]
  },
  {
   "cell_type": "code",
   "execution_count": null,
   "metadata": {
    "collapsed": true
   },
   "outputs": [],
   "source": []
  },
  {
   "cell_type": "code",
   "execution_count": null,
   "metadata": {
    "collapsed": true
   },
   "outputs": [],
   "source": []
  },
  {
   "cell_type": "code",
   "execution_count": null,
   "metadata": {
    "collapsed": true
   },
   "outputs": [],
   "source": []
  },
  {
   "cell_type": "code",
   "execution_count": null,
   "metadata": {
    "collapsed": true
   },
   "outputs": [],
   "source": []
  },
  {
   "cell_type": "code",
   "execution_count": 937,
   "metadata": {
    "collapsed": false
   },
   "outputs": [
    {
     "data": {
      "text/plain": [
       "(31.776147068201951, 31.776147068201951)"
      ]
     },
     "execution_count": 937,
     "metadata": {},
     "output_type": "execute_result"
    }
   ],
   "source": [
    "SInter(0.1, 0.6)"
   ]
  },
  {
   "cell_type": "code",
   "execution_count": null,
   "metadata": {
    "collapsed": true
   },
   "outputs": [],
   "source": []
  },
  {
   "cell_type": "code",
   "execution_count": 957,
   "metadata": {
    "collapsed": false
   },
   "outputs": [
    {
     "data": {
      "text/plain": [
       "matrix([[ 7.95610425]])"
      ]
     },
     "execution_count": 957,
     "metadata": {},
     "output_type": "execute_result"
    }
   ],
   "source": [
    "GContact(0.55)"
   ]
  },
  {
   "cell_type": "code",
   "execution_count": 948,
   "metadata": {
    "collapsed": false
   },
   "outputs": [
    {
     "data": {
      "text/plain": [
       "7.956104252400551"
      ]
     },
     "execution_count": 948,
     "metadata": {},
     "output_type": "execute_result"
    }
   ],
   "source": [
    "GContactMono(0.55)"
   ]
  },
  {
   "cell_type": "code",
   "execution_count": 729,
   "metadata": {
    "collapsed": false
   },
   "outputs": [
    {
     "data": {
      "text/plain": [
       "-3.0524098633073972e-05"
      ]
     },
     "execution_count": 729,
     "metadata": {},
     "output_type": "execute_result"
    }
   ],
   "source": [
    "FReplica([0.001])"
   ]
  },
  {
   "cell_type": "code",
   "execution_count": 626,
   "metadata": {
    "collapsed": false
   },
   "outputs": [],
   "source": [
    "from numpy import arange"
   ]
  },
  {
   "cell_type": "code",
   "execution_count": 964,
   "metadata": {
    "collapsed": false
   },
   "outputs": [],
   "source": [
    "cages = arange(0.00001, 0.4, 0.00001)"
   ]
  },
  {
   "cell_type": "code",
   "execution_count": 965,
   "metadata": {
    "collapsed": true
   },
   "outputs": [],
   "source": [
    "Ss = [SReplica([cage], 0.55) for cage in cages]"
   ]
  },
  {
   "cell_type": "code",
   "execution_count": 959,
   "metadata": {
    "collapsed": false
   },
   "outputs": [
    {
     "name": "stdout",
     "output_type": "stream",
     "text": [
      "0.0001\n",
      "9.06354495835\n",
      "0.0002\n",
      "8.44004668566\n",
      "0.0003\n",
      "8.15122777933\n",
      "0.0004\n",
      "7.98895341667\n",
      "0.0005\n",
      "7.89145099689\n"
     ]
    }
   ],
   "source": [
    "for cage in cages[:5]:\n",
    "    print cage\n",
    "    print SReplica([cage], 0.6)"
   ]
  },
  {
   "cell_type": "code",
   "execution_count": 783,
   "metadata": {
    "collapsed": false
   },
   "outputs": [
    {
     "data": {
      "text/plain": [
       "14.979010862332396"
      ]
     },
     "execution_count": 783,
     "metadata": {},
     "output_type": "execute_result"
    }
   ],
   "source": [
    "SReplica([1e-06], 0.6)"
   ]
  },
  {
   "cell_type": "code",
   "execution_count": 966,
   "metadata": {
    "collapsed": false
   },
   "outputs": [
    {
     "data": {
      "text/plain": [
       "[<matplotlib.lines.Line2D at 0x1312c048>]"
      ]
     },
     "execution_count": 966,
     "metadata": {},
     "output_type": "execute_result"
    },
    {
     "data": {
      "image/png": "[encoded data removed]",
      "text/plain": [
       "<matplotlib.figure.Figure at 0x129dc080>"
      ]
     },
     "metadata": {},
     "output_type": "display_data"
    }
   ],
   "source": [
    "plt.plot(cages, Ss)"
   ]
  },
  {
   "cell_type": "code",
   "execution_count": 668,
   "metadata": {
    "collapsed": false
   },
   "outputs": [
    {
     "data": {
      "text/plain": [
       "[1.6466450252560375e-05,\n",
       " 3.0853459019127434e-05,\n",
       " 4.4455595650371455e-05,\n",
       " 5.7548035269905701e-05,\n",
       " 7.026146769467636e-05,\n",
       " 8.2672867543770286e-05,\n",
       " 9.4833097070429377e-05,\n",
       " 0.00010677830615506059,\n",
       " 0.00011853552404235256,\n",
       " 0.00013012573079392446,\n",
       " 0.00014156568672064963,\n",
       " 0.00015286909074798937,\n",
       " 0.00016404734989381272,\n",
       " 0.00017511011056840092,\n",
       " 0.00018606563730517466,\n",
       " 0.00019692109005701869,\n",
       " 0.00020768273190654009,\n",
       " 0.00021835608774141009,\n",
       " 0.00022894606756525604,\n",
       " 0.00023945706378067317,\n",
       " 0.00024989302897016622,\n",
       " 0.00026025753883046604,\n",
       " 0.00027055384364240559,\n",
       " 0.00028078491077396087,\n",
       " 0.00029095346008820093,\n",
       " 0.00030106199367770727,\n",
       " 0.00031111282101832657,\n",
       " 0.00032110808039181773,\n",
       " 0.00033104975724460186,\n",
       " 0.0003409397000115656,\n",
       " 0.00035077963382792169,\n",
       " 0.00036057117247015265,\n",
       " 0.00037031582880303501,\n",
       " 0.00038001502395932426,\n",
       " 0.00038967009543864727,\n",
       " 0.00039928230428013618,\n",
       " 0.00040885284143756038,\n",
       " 0.00041838283346481005,\n",
       " 0.00042787334760254229,\n",
       " 0.00043732539634281834,\n",
       " 0.00044673994153702617,\n",
       " 0.00045611789810282103,\n",
       " 0.00046546013737784841,\n",
       " 0.00047476749016134588,\n",
       " 0.00048404074947910972,\n",
       " 0.0004932806731025814,\n",
       " 0.00050248798584879325,\n",
       " 0.00051166338168449595,\n",
       " 0.00052080752565487551,\n",
       " 0.00052992105565476924,\n",
       " 0.00053900458405813242,\n",
       " 0.00054805869921966289,\n",
       " 0.00055708396686087749,\n",
       " 0.00056608093135154932,\n",
       " 0.00057505011689619196,\n",
       " 0.000583992028634232,\n",
       " 0.0005929071536615757,\n",
       " 0.00060179596198046644,\n",
       " 0.0006106589073838197,\n",
       " 0.00061949642827958625,\n",
       " 0.00062830894846014728,\n",
       " 0.00063709687782124308,\n",
       " 0.00064586061303451036,\n",
       " 0.00065460053817730922,\n",
       " 0.00066331702532317776,\n",
       " 0.00067201043509594355,\n",
       " 0.00068068111719024518,\n",
       " 0.00068932941086097418,\n",
       " 0.00069795564538391764,\n",
       " 0.00070656014048969525,\n",
       " 0.00071514320677289406,\n",
       " 0.00072370514607814919,\n",
       " 0.00073224625186477283,\n",
       " 0.00074076680955140022,\n",
       " 0.00074926709684200281,\n",
       " 0.00075774738403451233,\n",
       " 0.00076620793431319721,\n",
       " 0.00077464900402585135,\n",
       " 0.00078307084294676271,\n",
       " 0.00079147369452636817,\n",
       " 0.00079985779612842247,\n",
       " 0.00080822337925545316,\n",
       " 0.00081657066976321816,\n",
       " 0.00082489988806482418,\n",
       " 0.00083321124932512775,\n",
       " 0.00084150496364598178,\n",
       " 0.00084978123624286997,\n",
       " 0.00085804026761341712,\n",
       " 0.00086628225369823713,\n",
       " 0.00087450738603455486,\n",
       " 0.0008827158519029971,\n",
       " 0.0008909078344679312,\n",
       " 0.00089908351291170113,\n",
       " 0.00090724306256308998,\n",
       " 0.00091538665502031535,\n",
       " 0.0009235144582688447,\n",
       " 0.00093162663679430225,\n",
       " 0.00093972335169071892,\n",
       " 0.00094780476076436351,\n",
       " 0.0009558710186333793,\n",
       " 0.00096392227682343351,\n",
       " 0.00097195868385957843,\n",
       " 0.00097998038535451141,\n",
       " 0.00098798752409340438,\n",
       " 0.00099598024011547464,\n",
       " 0.0010039586707924423,\n",
       " 0.0010119229509040317,\n",
       " 0.0010198732127106476,\n",
       " 0.0010278095860233607,\n",
       " 0.0010357321982713233,\n",
       " 0.0010436411745667357,\n",
       " 0.0010515366377674671,\n",
       " 0.0010594187085374461,\n",
       " 0.001067287505404907,\n",
       " 0.0010751431448185955,\n",
       " 0.0010829857412020204,\n",
       " 0.0010908154070058316,\n",
       " 0.0010986322527584086,\n",
       " 0.0011064363871147339,\n",
       " 0.0011142279169036246,\n",
       " 0.0011220069471733879,\n",
       " 0.0011297735812359675,\n",
       " 0.0011375279207096434,\n",
       " 0.0011452700655603413,\n",
       " 0.0011530001141416141,\n",
       " 0.0011607181632333351,\n",
       " 0.0011684243080791721,\n",
       " 0.0011761186424228758,\n",
       " 0.0011838012585434349,\n",
       " 0.0011914722472891426,\n",
       " 0.0011991316981106136,\n",
       " 0.001206779699092792,\n",
       " 0.0012144163369859923,\n",
       " 0.0012220416972360034,\n",
       " 0.0012296558640132954,\n",
       " 0.0012372589202413623,\n",
       " 0.0012448509476242283,\n",
       " 0.0012524320266731528,\n",
       " 0.0012600022367325618,\n",
       " 0.0012675616560052308,\n",
       " 0.0012751103615767493,\n",
       " 0.001282648429439294,\n",
       " 0.0012901759345147258,\n",
       " 0.0012976929506770484,\n",
       " 0.0013051995507742367,\n",
       " 0.0013126958066494668,\n",
       " 0.0013201817891617632,\n",
       " 0.0013276575682060828,\n",
       " 0.0013351232127328588,\n",
       " 0.0013425787907670181,\n",
       " 0.0013500243694264911,\n",
       " 0.0013574600149402326,\n",
       " 0.0013648857926657685,\n",
       " 0.0013723017671062817,\n",
       " 0.0013797080019272553,\n",
       " 0.0013871045599726888,\n",
       " 0.0013944915032808938,\n",
       " 0.0014018688930998915,\n",
       " 0.001409236789902417,\n",
       " 0.0014165952534005491,\n",
       " 0.0014239443425599705,\n",
       " 0.0014312841156138801,\n",
       " 0.0014386146300765538,\n",
       " 0.0014459359427565785,\n",
       " 0.0014532481097697609,\n",
       " 0.0014605511865517246,\n",
       " 0.001467845227870201,\n",
       " 0.0014751302878370292,\n",
       " 0.0014824064199198675,\n",
       " 0.0014896736769536296,\n",
       " 0.0014969321111516509,\n",
       " 0.0015041817741165921,\n",
       " 0.0015114227168510934,\n",
       " 0.0015186549897681764,\n",
       " 0.0015258786427014127,\n",
       " 0.0015330937249148566,\n",
       " 0.0015403002851127527,\n",
       " 0.0015474983714490245,\n",
       " 0.0015546880315365501,\n",
       " 0.0015618693124562289,\n",
       " 0.0015690422607658498,\n",
       " 0.0015762069225087594,\n",
       " 0.0015833633432223453,\n",
       " 0.0015905115679463273,\n",
       " 0.0015976516412308721,\n",
       " 0.0016047836071445346,\n",
       " 0.0016119075092820244,\n",
       " 0.0016190233907718056,\n",
       " 0.0016261312942835412,\n",
       " 0.0016332312620353727,\n",
       " 0.0016403233358010501,\n",
       " 0.0016474075569169117,\n",
       " 0.0016544839662887209,\n",
       " 0.001661552604398356,\n",
       " 0.0016686135113103671,\n",
       " 0.0016756667266783958,\n",
       " 0.0016827122897514659,\n",
       " 0.001689750239380144,\n",
       " 0.0016967806140225767,\n",
       " 0.0017038034517504069,\n",
       " 0.0017108187902545721,\n",
       " 0.0017178266668509863,\n",
       " 0.0017248271184861078,\n",
       " 0.0017318201817424028,\n",
       " 0.0017388058928436943,\n",
       " 0.0017457842876604142,\n",
       " 0.0017527554017147465,\n",
       " 0.0017597192701856784,\n",
       " 0.0017666759279139461,\n",
       " 0.0017736254094068925,\n",
       " 0.0017805677488432299,\n",
       " 0.0017875029800777113,\n",
       " 0.0017944311366457166,\n",
       " 0.0018013522517677488,\n",
       " 0.0018082663583538496,\n",
       " 0.001815173489007932,\n",
       " 0.0018220736760320296,\n",
       " 0.0018289669514304726,\n",
       " 0.001835853346913984,\n",
       " 0.0018427328939037003,\n",
       " 0.0018496056235351222,\n",
       " 0.001856471566661992,\n",
       " 0.001863330753860099,\n",
       " 0.0018701832154310212,\n",
       " 0.0018770289814057965,\n",
       " 0.0018838680815485313,\n",
       " 0.0018907005453599414,\n",
       " 0.0018975264020808348,\n",
       " 0.0019043456806955327,\n",
       " 0.0019111584099352262,\n",
       " 0.0019179646182812806,\n",
       " 0.0019247643339684792,\n",
       " 0.0019315575849882119,\n",
       " 0.0019383443990916092,\n",
       " 0.0019451248037926211,\n",
       " 0.0019518988263710483,\n",
       " 0.0019586664938755142,\n",
       " 0.0019654278331263952,\n",
       " 0.0019721828707186958,\n",
       " 0.0019789316330248758,\n",
       " 0.0019856741461976375,\n",
       " 0.0019924104361726549,\n",
       " 0.0019991405286712695,\n",
       " 0.0020058644492031322,\n",
       " 0.0020125822230688088,\n",
       " 0.0020192938753623396,\n",
       " 0.0020259994309737568,\n",
       " 0.0020326989145915643,\n",
       " 0.0020393923507051738,\n",
       " 0.0020460797636073043,\n",
       " 0.0020527611773963434,\n",
       " 0.0020594366159786665,\n",
       " 0.0020661061030709284,\n",
       " 0.0020727696622023064,\n",
       " 0.0020794273167167201,\n",
       " 0.002086079089775008,\n",
       " 0.0020927250043570734,\n",
       " 0.0020993650832639974,\n",
       " 0.0021059993491201155,\n",
       " 0.0021126278243750701,\n",
       " 0.0021192505313058197,\n",
       " 0.0021258674920186303,\n",
       " 0.0021324787284510245,\n",
       " 0.0021390842623737086,\n",
       " 0.0021456841153924687,\n",
       " 0.0021522783089500371,\n",
       " 0.0021588668643279319,\n",
       " 0.0021654498026482658,\n",
       " 0.0021720271448755339,\n",
       " 0.0021785989118183707,\n",
       " 0.0021851651241312801,\n",
       " 0.002191725802316343,\n",
       " 0.0021982809667248997,\n",
       " 0.0022048306375592021,\n",
       " 0.0022113748348740517,\n",
       " 0.0022179135785784028,\n",
       " 0.0022244468884369531,\n",
       " 0.0022309747840717014,\n",
       " 0.0022374972849634896,\n",
       " 0.0022440144104535209,\n",
       " 0.0022505261797448541,\n",
       " 0.0022570326119038813,\n",
       " 0.002263533725861779,\n",
       " 0.0022700295404159431,\n",
       " 0.0022765200742314016,\n",
       " 0.0022830053458422076,\n",
       " 0.0022894853736528148,\n",
       " 0.0022959601759394285,\n",
       " 0.0023024297708513462,\n",
       " 0.0023088941764122712,\n",
       " 0.0023153534105216154,\n",
       " 0.0023218074909557747,\n",
       " 0.002328256435369401,\n",
       " 0.0023347002612966426,\n",
       " 0.0023411389861523759,\n",
       " 0.0023475726272334167,\n",
       " 0.0023540012017197209,\n",
       " 0.0023604247266755607,\n",
       " 0.0023668432190506899,\n",
       " 0.0023732566956814953,\n",
       " 0.0023796651732921276,\n",
       " 0.0023860686684956216,\n",
       " 0.0023924671977949997,\n",
       " 0.0023988607775843607,\n",
       " 0.0024052494241499555,\n",
       " 0.0024116331536712461,\n",
       " 0.002418011982221956,\n",
       " 0.0024243859257710994,\n",
       " 0.0024307550001840031,\n",
       " 0.0024371192212233146,\n",
       " 0.0024434786045499932,\n",
       " 0.0024498331657242904,\n",
       " 0.0024561829202067232,\n",
       " 0.0024625278833590243,\n",
       " 0.0024688680704450881,\n",
       " 0.002475203496631904,\n",
       " 0.0024815341769904723,\n",
       " 0.0024878601264967191,\n",
       " 0.0024941813600323852,\n",
       " 0.0025004978923859203,\n",
       " 0.0025068097382533491,\n",
       " 0.0025131169122391424,\n",
       " 0.0025194194288570655,\n",
       " 0.0025257173025310235,\n",
       " 0.0025320105475958895,\n",
       " 0.0025382991782983313,\n",
       " 0.0025445832087976198,\n",
       " 0.0025508626531664312,\n",
       " 0.0025571375253916413,\n",
       " 0.002563407839375103,\n",
       " 0.0025696736089344252,\n",
       " 0.0025759348478037324,\n",
       " 0.0025821915696344205,\n",
       " 0.0025884437879959005,\n",
       " 0.0025946915163763381,\n",
       " 0.0026009347681833768,\n",
       " 0.0026071735567448615,\n",
       " 0.0026134078953095451,\n",
       " 0.0026196377970477938,\n",
       " 0.0026258632750522774,\n",
       " 0.0026320843423386564,\n",
       " 0.0026383010118462631,\n",
       " 0.0026445132964387618,\n",
       " 0.0026507212089048205,\n",
       " 0.0026569247619587602,\n",
       " 0.0026631239682412019,\n",
       " 0.0026693188403197057,\n",
       " 0.0026755093906894027,\n",
       " 0.0026816956317736187,\n",
       " 0.0026878775759244917,\n",
       " 0.0026940552354235842,\n",
       " 0.0027002286224824816,\n",
       " 0.0027063977492433945,\n",
       " 0.0027125626277797435,\n",
       " 0.0027187232700967437,\n",
       " 0.0027248796881319832,\n",
       " 0.0027310318937559881,\n",
       " 0.0027371798987727933,\n",
       " 0.0027433237149204911,\n",
       " 0.0027494633538717888,\n",
       " 0.0027555988272345519,\n",
       " 0.002761730146552341,\n",
       " 0.0027678573233049461,\n",
       " 0.0027739803689089148,\n",
       " 0.002780099294718071,\n",
       " 0.0027862141120240337,\n",
       " 0.002792324832056724,\n",
       " 0.0027984314659848675,\n",
       " 0.0028045340249165012,\n",
       " 0.0028106325198994594,\n",
       " 0.0028167269619218619,\n",
       " 0.0028228173619126032,\n",
       " 0.0028289037307418241,\n",
       " 0.0028349860792213854,\n",
       " 0.0028410644181053376,\n",
       " 0.0028471387580903803,\n",
       " 0.0028532091098163251,\n",
       " 0.0028592754838665398,\n",
       " 0.0028653378907684034,\n",
       " 0.0028713963409937493,\n",
       " 0.0028774508449592967,\n",
       " 0.0028835014130270944,\n",
       " 0.0028895480555049418,\n",
       " 0.0028955907826468193,\n",
       " 0.002901629604653305,\n",
       " 0.0029076645316719924,\n",
       " 0.0029136955737979059,\n",
       " 0.0029197227410738993,\n",
       " 0.002925746043491067,\n",
       " 0.0029317654909891424,\n",
       " 0.0029377810934568889,\n",
       " 0.0029437928607324946,\n",
       " 0.0029498008026039579,\n",
       " 0.0029558049288094714,\n",
       " 0.0029618052490377974,\n",
       " 0.0029678017729286512,\n",
       " 0.0029737945100730655,\n",
       " 0.0029797834700137594,\n",
       " 0.0029857686622455073,\n",
       " 0.0029917500962154935,\n",
       " 0.0029977277813236715,\n",
       " 0.003003701726923119,\n",
       " 0.0030096719423203843,\n",
       " 0.003015638436775837,\n",
       " 0.0030216012195040062,\n",
       " 0.0030275602996739223,\n",
       " 0.003033515686409455,\n",
       " 0.0030394673887896425,\n",
       " 0.0030454154158490237,\n",
       " 0.0030513597765779643,\n",
       " 0.0030573004799229787,\n",
       " 0.0030632375347870518,\n",
       " 0.0030691709500299544,\n",
       " 0.0030751007344685583,\n",
       " 0.0030810268968771474,\n",
       " 0.0030869494459877223,\n",
       " 0.0030928683904903106,\n",
       " 0.0030987837390332651,\n",
       " 0.0031046955002235629,\n",
       " 0.0031106036826271041,\n",
       " 0.0031165082947690022,\n",
       " 0.0031224093451338768,\n",
       " 0.0031283068421661402,\n",
       " 0.0031342007942702864,\n",
       " 0.0031400912098111661,\n",
       " 0.0031459780971142717,\n",
       " 0.0031518614644660162,\n",
       " 0.0031577413201140016,\n",
       " 0.0031636176722672983,\n",
       " 0.0031694905290967066,\n",
       " 0.0031753598987350317,\n",
       " 0.0031812257892773394,\n",
       " 0.0031870882087812295,\n",
       " 0.0031929471652670819,\n",
       " 0.0031988026667183265,\n",
       " 0.0032046547210816908,\n",
       " 0.0032105033362674514,\n",
       " 0.0032163485201496898,\n",
       " 0.0032221902805665359,\n",
       " 0.0032280286253204165,\n",
       " 0.0032338635621782966,\n",
       " 0.003239695098871921,\n",
       " 0.0032455232430980544,\n",
       " 0.0032513480025187168,\n",
       " 0.0032571693847614214,\n",
       " 0.003262987397419401,\n",
       " 0.0032688020480518463,\n",
       " 0.0032746133441841278,\n",
       " 0.0032804212933080271,\n",
       " 0.0032862259028819578,\n",
       " 0.0032920271803311904,\n",
       " 0.0032978251330480711,\n",
       " 0.0033036197683922412,\n",
       " 0.0033094110936908536,\n",
       " 0.0033151991162387877,\n",
       " 0.0033209838432988609,\n",
       " 0.0033267652821020398,\n",
       " 0.0033325434398476534,\n",
       " 0.0033383183237035929,\n",
       " 0.0033440899408065236,\n",
       " 0.0033498582982620841,\n",
       " 0.0033556234031450931,\n",
       " 0.0033613852624997452,\n",
       " 0.0033671438833398075,\n",
       " 0.0033728992726488258,\n",
       " 0.0033786514373803072,\n",
       " 0.0033844003844579265,\n",
       " 0.0033901461207757025,\n",
       " 0.0033958886531982031,\n",
       " 0.003401627988560725,\n",
       " 0.003407364133669483,\n",
       " 0.0034130970953017946,\n",
       " 0.0034188268802062636,\n",
       " 0.0034245534951029633,\n",
       " 0.0034302769466836151,\n",
       " 0.0034359972416117715,\n",
       " 0.003441714386522987,\n",
       " 0.0034474283880250021,\n",
       " 0.0034531392526979117,\n",
       " 0.0034588469870943401,\n",
       " 0.0034645515977396154,\n",
       " 0.003470253091131934,\n",
       " 0.0034759514737425353,\n",
       " 0.0034816467520158664,\n",
       " 0.0034873389323697465,\n",
       " 0.0034930280211955358,\n",
       " 0.003498714024858296,\n",
       " 0.0035043969496969525,\n",
       " 0.0035100768020244542,\n",
       " 0.0035157535881279378,\n",
       " 0.0035214273142688771,\n",
       " 0.0035270979866832484,\n",
       " 0.0035327656115816818,\n",
       " 0.0035384301951496156,\n",
       " 0.0035440917435474485,\n",
       " 0.0035497502629106953,\n",
       " 0.0035554057593501324,\n",
       " 0.0035610582389519478,\n",
       " 0.0035667077077778967,\n",
       " 0.0035723541718654371,\n",
       " 0.0035779976372278823,\n",
       " 0.0035836381098545435,\n",
       " 0.0035892755957108785,\n",
       " 0.0035949101007386216,\n",
       " 0.0036005416308559387,\n",
       " 0.0036061701919575589,\n",
       " 0.0036117957899149161,\n",
       " 0.0036174184305762854,\n",
       " 0.0036230381197669219,\n",
       " 0.0036286548632891956,\n",
       " 0.0036342686669227236,\n",
       " 0.0036398795364245098,\n",
       " 0.003645487477529072,\n",
       " 0.003651092495948572,\n",
       " 0.0036566945973729508,\n",
       " 0.0036622937874700571,\n",
       " 0.0036678900718857756,\n",
       " 0.0036734834562441501,\n",
       " 0.0036790739461475164,\n",
       " 0.0036846615471766231,\n",
       " 0.0036902462648907616,\n",
       " 0.0036958281048278816,\n",
       " 0.00370140707250472,\n",
       " 0.0037069831734169211,\n",
       " 0.0037125564130391555,\n",
       " 0.0037181267968252451,\n",
       " 0.0037236943302082735,\n",
       " 0.0037292590186007108,\n",
       " 0.0037348208673945306,\n",
       " 0.0037403798819613233,\n",
       " 0.0037459360676524124,\n",
       " 0.0037514894297989675,\n",
       " 0.0037570399737121242,\n",
       " 0.0037625877046830866,\n",
       " 0.0037681326279832487,\n",
       " 0.003773674748864302,\n",
       " 0.0037792140725583447,\n",
       " 0.0037847506042779895,\n",
       " 0.0037902843492164801,\n",
       " 0.0037958153125477881,\n",
       " 0.00380134349942673,\n",
       " 0.003806868914989066,\n",
       " 0.0038123915643516106,\n",
       " 0.0038179114526123359,\n",
       " 0.0038234285848504704,\n",
       " 0.0038289429661266115,\n",
       " 0.0038344546014828181,\n",
       " 0.0038399634959427231,\n",
       " 0.0038454696545116244,\n",
       " 0.0038509730821765877,\n",
       " 0.0038564737839065504,\n",
       " 0.0038619717646524174,\n",
       " 0.0038674670293471556,\n",
       " 0.0038729595829058963,\n",
       " 0.0038784494302260297,\n",
       " 0.0038839365761873003,\n",
       " 0.0038894210256519048,\n",
       " 0.0038949027834645827,\n",
       " 0.003900381854452714,\n",
       " 0.0039058582434264057,\n",
       " 0.0039113319551785956,\n",
       " 0.0039168029944851345,\n",
       " 0.0039222713661048779,\n",
       " 0.0039277370747797854,\n",
       " 0.0039332001252349955,\n",
       " 0.0039386605221789339,\n",
       " 0.0039441182703033829,\n",
       " 0.0039495733742835855,\n",
       " 0.0039550258387783194,\n",
       " 0.003960475668429996,\n",
       " 0.0039659228678647386,\n",
       " 0.0039713674416924647,\n",
       " 0.0039768093945069857,\n",
       " 0.0039822487308860746,\n",
       " 0.0039876854553915625,\n",
       " 0.0039931195725694084,\n",
       " 0.0039985510869498002,\n",
       " 0.0040039800030472169,\n",
       " 0.0040094063253605259,\n",
       " 0.0040148300583730543,\n",
       " 0.0040202512065526759,\n",
       " 0.0040256697743518803,\n",
       " 0.0040310857662078682,\n",
       " 0.0040364991865426171,\n",
       " 0.004041910039762963,\n",
       " 0.0040473183302606784,\n",
       " 0.0040527240624125532,\n",
       " 0.0040581272405804678,\n",
       " 0.0040635278691114642,\n",
       " 0.004068925952337832,\n",
       " 0.0040743214945771749,\n",
       " 0.00407971450013249,\n",
       " 0.0040851049732922393,\n",
       " 0.004090492918330425,\n",
       " 0.0040958783395066605,\n",
       " 0.0041012612410662435,\n",
       " 0.0041066416272402323,\n",
       " 0.0041120195022455105,\n",
       " 0.0041173948702848615,\n",
       " 0.0041227677355470402,\n",
       " 0.0041281381022068402,\n",
       " 0.0041335059744251682,\n",
       " 0.004138871356349107,\n",
       " 0.0041442342521119876,\n",
       " 0.0041495946658334599,\n",
       " 0.0041549526016195571,\n",
       " 0.0041603080635627607,\n",
       " 0.0041656610557420769,\n",
       " 0.0041710115822230888,\n",
       " 0.0041763596470580392,\n",
       " 0.0041817052542858823,\n",
       " 0.0041870484079323568,\n",
       " 0.0041923891120100466,\n",
       " 0.0041977273705184458,\n",
       " 0.0042030631874440281,\n",
       " 0.0042083965667603015,\n",
       " 0.0042137275124278784,\n",
       " 0.0042190560283945321,\n",
       " 0.0042243821185952686,\n",
       " 0.0042297057869523759,\n",
       " 0.0042350270373754965,\n",
       " 0.0042403458737616849,\n",
       " 0.0042456622999954632,\n",
       " 0.004250976319948893,\n",
       " 0.0042562879374816185,\n",
       " 0.0042615971564409442,\n",
       " 0.0042669039806618805,\n",
       " 0.0042722084139672108,\n",
       " 0.0042775104601675473,\n",
       " 0.0042828101230613837,\n",
       " 0.0042881074064351609,\n",
       " 0.0042934023140633231,\n",
       " 0.0042986948497083684,\n",
       " 0.0043039850171209138,\n",
       " 0.0043092728200397439,\n",
       " 0.004314558262191872,\n",
       " 0.0043198413472925927,\n",
       " 0.0043251220790455425,\n",
       " 0.0043304004611427445,\n",
       " 0.0043356764972646723,\n",
       " 0.0043409501910802988,\n",
       " 0.0043462215462471551,\n",
       " 0.0043514905664113765,\n",
       " 0.0043567572552077657,\n",
       " 0.0043620216162598277,\n",
       " 0.0043672836531798518,\n",
       " 0.0043725433695689341,\n",
       " 0.0043778007690170422,\n",
       " 0.004383055855103072,\n",
       " 0.0043883086313948874,\n",
       " 0.0043935591014493836,\n",
       " 0.0043988072688125228,\n",
       " 0.0044040531370193956,\n",
       " 0.0044092967095942714,\n",
       " 0.0044145379900506401,\n",
       " 0.0044197769818912682,\n",
       " 0.0044250136886082444,\n",
       " 0.0044302481136830312,\n",
       " 0.0044354802605865084,\n",
       " 0.0044407101327790313,\n",
       " 0.0044459377337104627,\n",
       " 0.0044511630668202353,\n",
       " 0.0044563861355373918,\n",
       " 0.0044616069432806349,\n",
       " 0.0044668254934583712,\n",
       " 0.0044720417894687598,\n",
       " 0.0044772558346997532,\n",
       " 0.0044824676325291553,\n",
       " 0.0044876771863246517,\n",
       " 0.0044928844994438681,\n",
       " 0.004498089575234409,\n",
       " 0.0045032924170339004,\n",
       " 0.0045084930281700415,\n",
       " 0.0045136914119606386,\n",
       " 0.0045188875717136643,\n",
       " 0.0045240815107272809,\n",
       " 0.0045292732322899081,\n",
       " 0.0045344627396802428,\n",
       " 0.0045396500361673201,\n",
       " 0.0045448351250105398,\n",
       " 0.0045500180094597276,\n",
       " 0.0045551986927551613,\n",
       " 0.0045603771781276203,\n",
       " 0.0045655534687984254,\n",
       " 0.0045707275679794804,\n",
       " 0.0045758994788733139,\n",
       " 0.0045810692046731223,\n",
       " 0.004586236748562806,\n",
       " 0.0045914021137170111,\n",
       " 0.0045965653033011745,\n",
       " 0.0046017263204715577,\n",
       " 0.0046068851683752901,\n",
       " 0.0046120418501504057,\n",
       " 0.0046171963689258869,\n",
       " 0.0046223487278216988,\n",
       " 0.0046274989299488365,\n",
       " 0.004632646978409349,\n",
       " 0.0046377928762963922,\n",
       " 0.004642936626694261,\n",
       " 0.0046480782326784259,\n",
       " 0.0046532176973155736,\n",
       " 0.0046583550236636443,\n",
       " 0.0046634902147718663,\n",
       " 0.004668623273680797,\n",
       " 0.0046737542034223584,\n",
       " 0.0046788830070198734,\n",
       " 0.0046840096874881006,\n",
       " 0.0046891342478332749,\n",
       " 0.00469425669105314,\n",
       " 0.0046993770201369895,\n",
       " 0.0047044952380656899,\n",
       " 0.0047096113478117332,\n",
       " 0.0047147253523392605,\n",
       " 0.004719837254604101,\n",
       " 0.0047249470575538074,\n",
       " 0.0047300547641276882,\n",
       " 0.0047351603772568442,\n",
       " 0.0047402638998642046,\n",
       " 0.0047453653348645559,\n",
       " 0.0047504646851645781,\n",
       " 0.0047555619536628867,\n",
       " 0.004760657143250047,\n",
       " 0.0047657502568086308,\n",
       " 0.0047708412972132311,\n",
       " 0.0047759302673305052,\n",
       " 0.004781017170019203,\n",
       " 0.0047861020081302027,\n",
       " 0.0047911847845065409,\n",
       " 0.0047962655019834471,\n",
       " 0.0048013441633883713,\n",
       " 0.0048064207715410225,\n",
       " 0.0048114953292533978,\n",
       " 0.0048165678393298104,\n",
       " 0.0048216383045669234,\n",
       " 0.004826706727753787,\n",
       " 0.0048317731116718594,\n",
       " 0.004836837459095045,\n",
       " 0.0048418997727897213,\n",
       " 0.0048469600555147716,\n",
       " 0.0048520183100216165,\n",
       " 0.004857074539054239,\n",
       " 0.0048621287453492201,\n",
       " 0.0048671809316357664,\n",
       " 0.0048722311006357431,\n",
       " 0.004877279255063695,\n",
       " 0.0048823253976268827,\n",
       " 0.0048873695310253165,\n",
       " 0.0048924116579517722,\n",
       " 0.0048974517810918359,\n",
       " 0.0049024899031239163,\n",
       " 0.004907526026719288,\n",
       " 0.0049125601545421107,\n",
       " 0.0049175922892494596,\n",
       " 0.0049226224334913598,\n",
       " 0.0049276505899108038,\n",
       " 0.004932676761143789,\n",
       " 0.0049377009498193366,\n",
       " 0.004942723158559527,\n",
       " 0.0049477433899795245,\n",
       " 0.0049527616466876045,\n",
       " 0.0049577779312851775,\n",
       " 0.0049627922463668242,\n",
       " 0.0049678045945203116,\n",
       " 0.0049728149783266331,\n",
       " 0.0049778234003600196,\n",
       " 0.0049828298631879771,\n",
       " 0.0049878343693713131,\n",
       " 0.0049928369214641563,\n",
       " 0.0049978375220139839,\n",
       " 0.0050028361735616556,\n",
       " 0.0050078328786414281,\n",
       " 0.0050128276397809922,\n",
       " 0.0050178204595014838,\n",
       " 0.0050228113403175253,\n",
       " 0.0050278002847372397,\n",
       " 0.0050327872952622794,\n",
       " 0.0050377723743878526,\n",
       " 0.0050427555246027479,\n",
       " 0.0050477367483893537,\n",
       " 0.005052716048223692,\n",
       " 0.005057693426575435,\n",
       " 0.0050626688859079314,\n",
       " 0.0050676424286782333,\n",
       " 0.0050726140573371225,\n",
       " 0.0050775837743291235,\n",
       " 0.0050825515820925411,\n",
       " 0.0050875174830594715,\n",
       " 0.0050924814796558414,\n",
       " 0.0050974435743014104,\n",
       " 0.0051024037694098164,\n",
       " 0.0051073620673885815,\n",
       " 0.0051123184706391468,\n",
       " 0.0051172729815568913,\n",
       " 0.0051222256025311519,\n",
       " 0.0051271763359452506,\n",
       " 0.0051321251841765156,\n",
       " 0.0051370721495963027,\n",
       " 0.0051420172345700184,\n",
       " 0.0051469604414571468,\n",
       " 0.0051519017726112636,\n",
       " 0.0051568412303800628,\n",
       " 0.0051617788171053804,\n",
       " 0.0051667145351232124,\n",
       " 0.0051716483867637409,\n",
       " 0.0051765803743513512,\n",
       " 0.0051815105002046558,\n",
       " 0.0051864387666365171,\n",
       " 0.0051913651759540654,\n",
       " 0.0051962897304587228,\n",
       " 0.0052012124324462231,\n",
       " 0.0052061332842066391,\n",
       " 0.0052110522880243889,\n",
       " 0.0052159694461782723,\n",
       " 0.005220884760941482,\n",
       " 0.0052257982345816287,\n",
       " 0.0052307098693607579,\n",
       " 0.0052356196675353781,\n",
       " 0.005240527631356468,\n",
       " 0.005245433763069512,\n",
       " 0.0052503380649145089,\n",
       " 0.0052552405391259969,\n",
       " 0.0052601411879330713,\n",
       " 0.0052650400135594065,\n",
       " 0.0052699370182232742,\n",
       " 0.0052748322041375672,\n",
       " 0.0052797255735098098,\n",
       " 0.0052846171285421874,\n",
       " 0.0052895068714315608,\n",
       " 0.005294394804369486,\n",
       " 0.0052992809295422305,\n",
       " 0.0053041652491308006,\n",
       " 0.0053090477653109499,\n",
       " 0.0053139284802532086,\n",
       " 0.0053188073961228958,\n",
       " 0.0053236845150801352,\n",
       " 0.0053285598392798861,\n",
       " 0.0053334333708719489,\n",
       " 0.0053383051120009899,\n",
       " 0.0053431750648065598,\n",
       " 0.0053480432314231083,\n",
       " 0.0053529096139800086,\n",
       " 0.0053577742146015675,\n",
       " 0.0053626370354070514,\n",
       " 0.0053674980785107006,\n",
       " 0.0053723573460217411,\n",
       " 0.0053772148400444151,\n",
       " 0.0053820705626779911,\n",
       " 0.0053869245160167766,\n",
       " 0.0053917767021501506,\n",
       " 0.0053966271231625645,\n",
       " 0.0054014757811335704,\n",
       " 0.0054063226781378313,\n",
       " 0.0054111678162451476,\n",
       " 0.0054160111975204619,\n",
       " 0.0054208528240238876,\n",
       " 0.0054256926978107191,\n",
       " 0.0054305308209314489,\n",
       " 0.0054353671954317905,\n",
       " 0.0054402018233526825,\n",
       " 0.0054450347067303215,\n",
       " 0.0054498658475961668,\n",
       " 0.0054546952479769609,\n",
       " 0.0054595229098947443,\n",
       " 0.0054643488353668754,\n",
       " 0.0054691730264060439,\n",
       " 0.0054739954850202849,\n",
       " 0.0054788162132130029,\n",
       " 0.0054836352129829791,\n",
       " 0.0054884524863243892,\n",
       " 0.005493268035226824,\n",
       " 0.0054980818616753024,\n",
       " 0.0055028939676502846,\n",
       " 0.0055077043551276916,\n",
       " 0.0055125130260789204,\n",
       " 0.005517319982470857,\n",
       " 0.0055221252262658924,\n",
       " 0.0055269287594219407,\n",
       " 0.0055317305838924529,\n",
       " 0.0055365307016264275,\n",
       " 0.0055413291145684383,\n",
       " 0.0055461258246586312,\n",
       " 0.0055509208338327598,\n",
       " 0.0055557141440221803,\n",
       " 0.0055605057571538824,\n",
       " 0.0055652956751504933,\n",
       " 0.0055700838999303056,\n",
       " 0.0055748704334072684,\n",
       " 0.0055796552774910312,\n",
       " 0.0055844384340869371,\n",
       " 0.0055892199050960436,\n",
       " 0.0055939996924151431,\n",
       " 0.0055987777979367654,\n",
       " 0.0056035542235492019,\n",
       " 0.0056083289711365177,\n",
       " 0.005613102042578564,\n",
       " 0.0056178734397509889,\n",
       " 0.0056226431645252616,\n",
       " 0.0056274112187686756,\n",
       " 0.0056321776043443666,\n",
       " 0.0056369423231113353,\n",
       " 0.0056417053769244399,\n",
       " 0.0056464667676344327,\n",
       " 0.005651226497087959,\n",
       " 0.0056559845671275786,\n",
       " 0.0056607409795917767,\n",
       " 0.0056654957363149747,\n",
       " 0.0056702488391275454,\n",
       " 0.0056750002898558289,\n",
       " 0.0056797500903221464,\n",
       " 0.0056844982423448062,\n",
       " 0.0056892447477381253,\n",
       " 0.0056939896083124386,\n",
       " 0.0056987328258741119,\n",
       " 0.005703474402225555,\n",
       " 0.0057082143391652355,\n",
       " 0.0057129526384876936,\n",
       " 0.005717689301983549,\n",
       " 0.0057224243314395228,\n",
       " 0.0057271577286384379,\n",
       " 0.005731889495359248,\n",
       " 0.0057366196333770315,\n",
       " 0.0057413481444630182,\n",
       " 0.0057460750303845991,\n",
       " 0.0057508002929053349,\n",
       " 0.0057555239337849689,\n",
       " 0.0057602459547794471,\n",
       " 0.005764966357640915,\n",
       " 0.0057696851441177465,\n",
       " 0.0057744023159545504,\n",
       " 0.0057791178748921737,\n",
       " 0.0057838318226677279,\n",
       " 0.0057885441610145902,\n",
       " 0.0057932548916624213,\n",
       " 0.0057979640163371756,\n",
       " 0.0058026715367611144,\n",
       " 0.0058073774546528135,\n",
       " 0.0058120817717271797,\n",
       " 0.0058167844896954623,\n",
       " 0.0058214856102652606,\n",
       " 0.0058261851351405413,\n",
       " 0.0058308830660216441,\n",
       " 0.0058355794046052959,\n",
       " 0.0058402741525846293,\n",
       " 0.0058449673116491773,\n",
       " 0.0058496588834849048,\n",
       " 0.0058543488697742011,\n",
       " 0.0058590372721959074,\n",
       " 0.0058637240924253181,\n",
       " 0.0058684093321341923,\n",
       " 0.0058730929929907694,\n",
       " 0.0058777750766597784,\n",
       " 0.0058824555848024495,\n",
       " 0.0058871345190765235,\n",
       " 0.0058918118811362623,\n",
       " 0.0058964876726324642,\n",
       " 0.0059011618952124669,\n",
       " 0.0059058345505201698,\n",
       " 0.0059105056401960324,\n",
       " 0.005915175165877095,\n",
       " 0.0059198431291969823,\n",
       " 0.0059245095317859197,\n",
       " 0.005929174375270737,\n",
       " 0.0059338376612748907,\n",
       " 0.0059384993914184583,\n",
       " 0.0059431595673181646,\n",
       " 0.0059478181905873789,\n",
       " 0.0059524752628361387,\n",
       " 0.0059571307856711468,\n",
       " 0.0059617847606957932,\n",
       " 0.005966437189510153,\n",
       " 0.005971088073711008,\n",
       " 0.0059757374148918553,\n",
       " 0.0059803852146429097,\n",
       " 0.0059850314745511198,\n",
       " 0.0059896761962001787,\n",
       " 0.0059943193811705297,\n",
       " 0.0059989610310393826,\n",
       " 0.0060036011473807134,\n",
       " 0.0060082397317652893,\n",
       " 0.0060128767857606661,\n",
       " 0.0060175123109311975,\n",
       " 0.0060221463088380549,\n",
       " 0.0060267787810392333,\n",
       " 0.0060314097290895506,\n",
       " 0.0060360391545406745,\n",
       " 0.0060406670589411189,\n",
       " 0.0060452934438362596,\n",
       " 0.006049918310768343,\n",
       " 0.0060545416612764903,\n",
       " 0.0060591634968967184,\n",
       " 0.0060637838191619393,\n",
       " 0.0060684026296019718,\n",
       " 0.0060730199297435537,\n",
       " 0.0060776357211103447,\n",
       " 0.0060822500052229488,\n",
       " 0.0060868627835989047,\n",
       " 0.0060914740577527153,\n",
       " 0.00609608382919584,\n",
       " 0.0061006920994367084,\n",
       " 0.0061052988699807371,\n",
       " ...]"
      ]
     },
     "execution_count": 668,
     "metadata": {},
     "output_type": "execute_result"
    }
   ],
   "source": [
    "Ss"
   ]
  },
  {
   "cell_type": "code",
   "execution_count": 806,
   "metadata": {
    "collapsed": true
   },
   "outputs": [],
   "source": [
    "first = array([(1,11),(2,22),(3,33),(4,44)])\n",
    "second= array([(5,-55),(6,66),(-4,-44),(-2,-22)])"
   ]
  },
  {
   "cell_type": "code",
   "execution_count": 815,
   "metadata": {
    "collapsed": false
   },
   "outputs": [],
   "source": [
    "from numpy import greater"
   ]
  },
  {
   "cell_type": "code",
   "execution_count": 821,
   "metadata": {
    "collapsed": false
   },
   "outputs": [
    {
     "data": {
      "text/plain": [
       "array([[False, False],\n",
       "       [False, False],\n",
       "       [ True, False],\n",
       "       [ True, False]], dtype=bool)"
      ]
     },
     "execution_count": 821,
     "metadata": {},
     "output_type": "execute_result"
    }
   ],
   "source": [
    "greater(first, second, where=[True,False])"
   ]
  },
  {
   "cell_type": "code",
   "execution_count": 822,
   "metadata": {
    "collapsed": false
   },
   "outputs": [
    {
     "data": {
      "text/plain": [
       "array([[ True, False],\n",
       "       [ True, False],\n",
       "       [False, False],\n",
       "       [False, False]], dtype=bool)"
      ]
     },
     "execution_count": 822,
     "metadata": {},
     "output_type": "execute_result"
    }
   ],
   "source": [
    "greater(second, first, where=[True,False])"
   ]
  },
  {
   "cell_type": "code",
   "execution_count": 820,
   "metadata": {
    "collapsed": false
   },
   "outputs": [
    {
     "data": {
      "text/plain": [
       "array([[False,  True],\n",
       "       [False, False],\n",
       "       [ True,  True],\n",
       "       [ True,  True]], dtype=bool)"
      ]
     },
     "execution_count": 820,
     "metadata": {},
     "output_type": "execute_result"
    }
   ],
   "source": [
    "greater(first, second, where=[True,True])"
   ]
  },
  {
   "cell_type": "code",
   "execution_count": 811,
   "metadata": {
    "collapsed": false
   },
   "outputs": [
    {
     "ename": "ValueError",
     "evalue": "operands could not be broadcast together with shapes (4,2) (4,) ",
     "output_type": "error",
     "traceback": [
      "\u001b[0;31m---------------------------------------------------------------------------\u001b[0m",
      "\u001b[0;31mValueError\u001b[0m                                Traceback (most recent call last)",
      "\u001b[0;32m<ipython-input-811-28bfb2b9221c>\u001b[0m in \u001b[0;36m<module>\u001b[0;34m()\u001b[0m\n\u001b[0;32m----> 1\u001b[0;31m \u001b[0mfirst\u001b[0m \u001b[1;33m*\u001b[0m \u001b[1;33m(\u001b[0m\u001b[0mfirst\u001b[0m \u001b[1;33m>\u001b[0m \u001b[0msecond\u001b[0m\u001b[1;33m)\u001b[0m\u001b[1;33m[\u001b[0m\u001b[1;33m:\u001b[0m\u001b[1;33m,\u001b[0m\u001b[1;36m0\u001b[0m\u001b[1;33m]\u001b[0m \u001b[1;33m+\u001b[0m \u001b[0msecond\u001b[0m\u001b[1;33m*\u001b[0m\u001b[1;33m(\u001b[0m\u001b[0mfirst\u001b[0m \u001b[1;33m<\u001b[0m \u001b[0msecond\u001b[0m\u001b[1;33m)\u001b[0m\u001b[1;33m[\u001b[0m\u001b[1;33m:\u001b[0m\u001b[1;33m,\u001b[0m\u001b[1;36m0\u001b[0m\u001b[1;33m]\u001b[0m\u001b[1;33m\u001b[0m\u001b[0m\n\u001b[0m",
      "\u001b[0;31mValueError\u001b[0m: operands could not be broadcast together with shapes (4,2) (4,) "
     ]
    }
   ],
   "source": [
    "first * (first > second)[:,0] + second*(first < second)[:,0]"
   ]
  },
  {
   "cell_type": "code",
   "execution_count": 983,
   "metadata": {
    "collapsed": false
   },
   "outputs": [
    {
     "data": {
      "text/plain": [
       "[<matplotlib.lines.Line2D at 0x14066a20>]"
      ]
     },
     "execution_count": 983,
     "metadata": {},
     "output_type": "execute_result"
    },
    {
     "data": {
      "image/png": "[encoded data removed]",
      "text/plain": [
       "<matplotlib.figure.Figure at 0x13f0ca90>"
      ]
     },
     "metadata": {},
     "output_type": "display_data"
    }
   ],
   "source": [
    "plt.plot(array(D)[0], sqrt(res['x']))"
   ]
  },
  {
   "cell_type": "code",
   "execution_count": 979,
   "metadata": {
    "collapsed": false
   },
   "outputs": [
    {
     "data": {
      "text/plain": [
       "array([ 1.00171829,  1.00430904,  1.00757738,  1.01163035,  1.01474131,\n",
       "        1.01881324,  1.02198364,  1.02614153,  1.02938078,  1.03362994,\n",
       "        1.03694082,  1.04128471,  1.04466991,  1.0491121 ,  1.05257444,\n",
       "        1.05711871,  1.06066116,  1.06531147,  1.06893718,  1.07369771,\n",
       "        1.07740998,  1.08228517,  1.08608751,  1.09108203,  1.09497814,\n",
       "        1.10009693,  1.10409073,  1.10933905,  1.11343468,  1.11881807,\n",
       "        1.12301995,  1.12854431,  1.1328571 ,  1.1385287 ,  1.14295736,\n",
       "        1.14878285,  1.15333269,  1.15931915,  1.16399578,  1.17015078,\n",
       "        1.17496019,  1.18129178,  1.1862404 ,  1.19275719,  1.19785184,\n",
       "        1.20456304,  1.20981107,  1.21672653,  1.22213578,  1.22926609,\n",
       "        1.23484499,  1.2422015 ,  1.24795912,  1.25555405,  1.26150012,\n",
       "        1.26934663,  1.27549167,  1.28360397,  1.28995933,  1.29835276,\n",
       "        1.30493071,  1.31362191,  1.32043575,  1.32944274,  1.33650692,\n",
       "        1.34584929,  1.35317953,  1.36287863,  1.37049205,  1.38057118,\n",
       "        1.38848649,  1.39897112,  1.40720882,  1.4181269 ,  1.42670949,\n",
       "        1.43809171,  1.44704394,  1.45892416,  1.46827333,  1.48068895,\n",
       "        1.49046531,  1.50345778,  1.51369486,  1.52731028,  1.53804546,\n",
       "        1.55233524,  1.56361024,  1.57863196,  1.5904936 ,  1.60631193,\n",
       "        1.6188129 ,  1.63550082,  1.64870069,  1.66634091,  1.68030731,\n",
       "        1.69899396,  1.71380405,  1.73364484,  1.74938713,  1.77050594,\n",
       "        1.78728249,  1.80982266,  1.82775187,  1.85188029,  1.87110049,\n",
       "        1.89701284,  1.91768672,  1.94561417,  1.96793465,  1.99815259,\n",
       "        2.02235046,  2.05519001,  2.08154399,  2.11740736,  2.14625777,\n",
       "        2.18563918,  2.21740656,  2.26092119,  2.29613238,  2.34455726,\n",
       "        2.38388263,  2.43821582,  2.48252373,  2.54407226,  2.59451115,\n",
       "        2.66502579,  2.723152  ,  2.80504162])"
      ]
     },
     "execution_count": 979,
     "metadata": {},
     "output_type": "execute_result"
    }
   ],
   "source": [
    "array(D)[0]"
   ]
  },
  {
   "cell_type": "code",
   "execution_count": 988,
   "metadata": {
    "collapsed": false
   },
   "outputs": [
    {
     "data": {
      "text/plain": [
       "      fun: 5.0093658044090752\n",
       " hess_inv: <128x128 LbfgsInvHessProduct with dtype=float64>\n",
       "      jac: array([ -2.69295697e-04,  -2.19468888e-04,  -1.62536651e-04,\n",
       "        -1.00541797e-04,  -5.91526828e-05,  -1.27897692e-05,\n",
       "         1.77635684e-05,   5.04485342e-05,   7.08766379e-05,\n",
       "         9.12159237e-05,   1.02406972e-04,   1.11555210e-04,\n",
       "         1.14575016e-04,   1.13864473e-04,   1.09956488e-04,\n",
       "         1.01074704e-04,   9.16600129e-05,   7.63833441e-05,\n",
       "         6.27053964e-05,   4.30766534e-05,   2.68229883e-05,\n",
       "         4.79616347e-06,  -1.25233157e-05,  -3.49054119e-05,\n",
       "        -5.16919840e-05,  -7.22977234e-05,  -8.70414851e-05,\n",
       "        -1.03916875e-04,  -1.15107923e-04,  -1.26654243e-04,\n",
       "        -1.33049127e-04,  -1.37756473e-04,  -1.38378198e-04,\n",
       "        -1.35180755e-04,  -1.29496414e-04,  -1.18127730e-04,\n",
       "        -1.06048503e-04,  -8.65085781e-05,  -6.84785562e-05,\n",
       "        -4.16555679e-05,  -1.86517468e-05,   1.36779477e-05,\n",
       "         3.99680289e-05,   7.53175300e-05,   1.02673425e-04,\n",
       "         1.37845291e-04,   1.63602465e-04,   1.94688710e-04,\n",
       "         2.16004992e-04,   2.39097631e-04,   2.52864396e-04,\n",
       "         2.64321898e-04,   2.67785794e-04,   2.64677169e-04,\n",
       "         2.56328292e-04,   2.37498909e-04,   2.16981988e-04,\n",
       "         1.83320026e-04,   1.52855506e-04,   1.09068310e-04,\n",
       "         7.33635375e-05,   2.70894418e-05,  -3.90798505e-06,\n",
       "        -3.43725048e-05,  -4.84945417e-05,  -5.36459765e-05,\n",
       "        -4.63629135e-05,  -2.25597319e-05,   6.21724894e-06,\n",
       "         5.57776048e-05,   1.00985886e-04,   1.65112368e-04,\n",
       "         2.15294449e-04,   2.76578760e-04,   3.16724424e-04,\n",
       "         3.54738461e-04,   3.70192765e-04,   3.69304587e-04,\n",
       "         3.52251561e-04,   3.10329540e-04,   2.66275890e-04,\n",
       "         2.00017780e-04,   1.48858703e-04,   9.13047415e-05,\n",
       "         5.96855898e-05,   3.97903932e-05,   4.06785716e-05,\n",
       "         5.50670620e-05,   6.55475674e-05,   5.76427794e-05,\n",
       "         1.94511074e-05,  -9.04165631e-05,  -2.22843966e-04,\n",
       "        -4.06430445e-04,  -4.33786340e-04,  -3.92841315e-04,\n",
       "        -3.03579384e-04,  -1.29407596e-04,   2.61124455e-05,\n",
       "         2.14406271e-04,   3.18856053e-04,   3.70370401e-04,\n",
       "         3.38218342e-04,   2.21778151e-04,   1.05693232e-04,\n",
       "        -2.88657986e-05,  -9.13935594e-05,  -1.06403775e-04,\n",
       "        -8.24229573e-05,  -3.94351218e-05,  -1.58095759e-05,\n",
       "        -7.54951657e-06,  -1.77635684e-05,  -4.83169060e-05,\n",
       "        -9.15711951e-05,  -4.92050845e-05,   1.77635684e-06,\n",
       "        -1.56319402e-05,  -9.84989867e-05,  -2.08721929e-04,\n",
       "        -2.14228635e-04,   1.42286183e-04,   8.81605899e-04,\n",
       "         4.75619544e-04,   2.63966626e-04,   5.36282130e-04,\n",
       "         2.94964053e-03,  -2.47712961e-04])\n",
       "  message: 'CONVERGENCE: REL_REDUCTION_OF_F_<=_FACTR*EPSMCH'\n",
       "     nfev: 4773\n",
       "      nit: 28\n",
       "   status: 0\n",
       "  success: True\n",
       "        x: array([ 0.01068997,  0.01064056,  0.01057862,  0.01050245,  0.01044445,\n",
       "        0.01036915,  0.01031101,  0.01023541,  0.01017703,  0.01010111,\n",
       "        0.0100425 ,  0.0099663 ,  0.00990748,  0.00983103,  0.00977203,\n",
       "        0.00969536,  0.0096362 ,  0.00955933,  0.00950003,  0.00942301,\n",
       "        0.00936359,  0.00928642,  0.00922691,  0.00914962,  0.00909003,\n",
       "        0.00901265,  0.00895299,  0.00887553,  0.00881581,  0.00873828,\n",
       "        0.00867852,  0.00860093,  0.00854112,  0.00846347,  0.00840362,\n",
       "        0.00832591,  0.008266  ,  0.00818821,  0.00812825,  0.00805037,\n",
       "        0.00799032,  0.00791233,  0.0078522 ,  0.00777407,  0.00771382,\n",
       "        0.00763553,  0.00757515,  0.00749667,  0.00743613,  0.00735744,\n",
       "        0.00729673,  0.00721781,  0.00715692,  0.00707775,  0.00701668,\n",
       "        0.00693727,  0.00687602,  0.00679639,  0.00673498,  0.00665516,\n",
       "        0.00659362,  0.00651365,  0.00645203,  0.00637201,  0.00631036,\n",
       "        0.00623031,  0.00616865,  0.00608856,  0.00602686,  0.0059467 ,\n",
       "        0.00588492,  0.00580463,  0.00574273,  0.00566222,  0.00560013,\n",
       "        0.00551934,  0.00545701,  0.00537589,  0.00531331,  0.00523187,\n",
       "        0.00516907,  0.00508739,  0.00502444,  0.00494261,  0.00487958,\n",
       "        0.00479767,  0.00473458,  0.00465255,  0.00458932,  0.00450701,\n",
       "        0.00444351,  0.00436076,  0.0042969 ,  0.00421381,  0.00415002,\n",
       "        0.00406714,  0.00400338,  0.00392046,  0.00385659,  0.00377337,\n",
       "        0.00370918,  0.00362544,  0.00356081,  0.00347655,  0.00341161,\n",
       "        0.00332704,  0.00326195,  0.0031772 ,  0.00311196,  0.00302693,\n",
       "        0.00296141,  0.00287596,  0.00281012,  0.00272423,  0.00265806,\n",
       "        0.00257178,  0.00250534,  0.00241854,  0.00235166,  0.00226429,\n",
       "        0.00219705,  0.00210933,  0.00204197,  0.00195324,  0.00188498,\n",
       "        0.0017958 ,  0.00172779,  0.00163676])"
      ]
     },
     "execution_count": 988,
     "metadata": {},
     "output_type": "execute_result"
    }
   ],
   "source": [
    "res"
   ]
  },
  {
   "cell_type": "code",
   "execution_count": null,
   "metadata": {
    "collapsed": true
   },
   "outputs": [],
   "source": []
  }
 ],
 "metadata": {
  "kernelspec": {
   "display_name": "Python 2",
   "language": "python",
   "name": "python2"
  },
  "language_info": {
   "codemirror_mode": {
    "name": "ipython",
    "version": 2
   },
   "file_extension": ".py",
   "mimetype": "text/x-python",
   "name": "python",
   "nbconvert_exporter": "python",
   "pygments_lexer": "ipython2",
   "version": "2.7.13"
  }
 },
 "nbformat": 4,
 "nbformat_minor": 2
}
